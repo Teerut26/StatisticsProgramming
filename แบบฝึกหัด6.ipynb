{
 "cells": [
  {
   "cell_type": "markdown",
   "metadata": {
    "id": "U3ArbMi8JHGD"
   },
   "source": [
    "# แบบฝึกหัด 6"
   ]
  },
  {
   "cell_type": "markdown",
   "metadata": {
    "id": "t9RQYuu-JUwP"
   },
   "source": [
    "---"
   ]
  },
  {
   "cell_type": "code",
   "execution_count": null,
   "metadata": {
    "id": "5LcuhePsgM1w"
   },
   "outputs": [],
   "source": [
    "import numpy as np\n",
    "import pandas as pd\n",
    "from scipy import stats"
   ]
  },
  {
   "cell_type": "markdown",
   "metadata": {
    "id": "ag3TNOoapF2I"
   },
   "source": [
    "6.1 จากการสำรวจโดยหน่วยงานของรัฐ ความน่าจะเป็นที่คนไทยจะมีบัตรเครดิตอย่างน้อย 1 บัตรเท่ากับ 0.6 หากสุ่มตัวอย่างคนไทยจำนวน\n",
    "1000 คน จงประมาณความน่าจะเป็นที่คนไทยอย่างน้อย 615 คน จากที่ถูกเลือกเป็นตัวอย่าง จะมีบัตร\n",
    "เครดิตอย่างน้อย 1 บัตร ด้วยการแจกแจงแบบปกติ"
   ]
  },
  {
   "cell_type": "code",
   "execution_count": null,
   "metadata": {
    "id": "eGMlvK2UXrtE"
   },
   "outputs": [],
   "source": [
    "#แสดงวิธีทำ"
   ]
  },
  {
   "cell_type": "markdown",
   "metadata": {
    "id": "RIDQz3PGqqY9"
   },
   "source": [
    "###   \n"
   ]
  },
  {
   "cell_type": "markdown",
   "metadata": {
    "id": "AdbMJYLPTRNk"
   },
   "source": [
    "6.2 บริษัทแห่งหนึ่งสุ่มเครื่อง server มา 22 เครื่อง พบว่ามีค่าบำรุงรักษาเฉลี่ยเครื่องละ 10000 บาทต่อปี และมีส่วนเบี่ยงเบนมาตราฐานของค่าบำรุงรักษา 5000 บาทต่อปี \n",
    "หากการวางแผนงบประมาณจะอ้างอิงจากค่าบำรุงรักษาโดยเฉลี่ยของ server จากทั้งบริษัท จงหาความน่าจะเป็นที่ค่าบำรุงรักษา server โดยเฉลี่ยทั้งบริษัทจะมีค่าน้อยกว่า 12000 บาท  \n",
    "หากกำหนดให้การแจกแจงของค่าบำรุงรักษาจากกลุ่มตัวอย่างเป็นแบบที"
   ]
  },
  {
   "cell_type": "code",
   "execution_count": null,
   "metadata": {
    "id": "7FhHdEZbn2QB"
   },
   "outputs": [],
   "source": [
    "#แสดงวิธีทำ"
   ]
  },
  {
   "cell_type": "markdown",
   "metadata": {
    "id": "eudS6wOyWTCb"
   },
   "source": [
    "###   \n"
   ]
  },
  {
   "cell_type": "markdown",
   "metadata": {
    "id": "BfdpCQDiWTCj"
   },
   "source": [
    "6.3 จากข้อ 6.2 จงหาช่วงของค่าบำรุงรักษาโดยเฉลี่ยของ server จากทั้งบริษัทที่ทำให้  \n",
    "P(-a < T < a) = 0.99  โดย a คำนวนณจากค่าสถิติของตัวอย่าง server ในข้อ 6.2"
   ]
  },
  {
   "cell_type": "code",
   "execution_count": null,
   "metadata": {
    "id": "YEBo5Tr3n22g"
   },
   "outputs": [],
   "source": [
    "#แสดงวิธีทำ"
   ]
  }
 ],
 "metadata": {
  "colab": {
   "provenance": []
  },
  "kernelspec": {
   "display_name": "Python 3 (ipykernel)",
   "language": "python",
   "name": "python3"
  },
  "language_info": {
   "codemirror_mode": {
    "name": "ipython",
    "version": 3
   },
   "file_extension": ".py",
   "mimetype": "text/x-python",
   "name": "python",
   "nbconvert_exporter": "python",
   "pygments_lexer": "ipython3",
   "version": "3.9.13"
  }
 },
 "nbformat": 4,
 "nbformat_minor": 4
}
