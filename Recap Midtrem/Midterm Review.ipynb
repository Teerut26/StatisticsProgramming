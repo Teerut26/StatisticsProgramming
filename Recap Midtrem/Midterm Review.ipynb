{
 "cells": [
  {
   "cell_type": "markdown",
   "id": "4d816494-1d69-42c3-89a8-bd3c63a04715",
   "metadata": {},
   "source": [
    "# ทบทวนก่อนสอบกลางภาค บทที่ 1 - 3 (เฉลย)"
   ]
  },
  {
   "cell_type": "markdown",
   "id": "1c764b09-c77f-4f1a-9fd5-38a0829e670c",
   "metadata": {},
   "source": [
    "---"
   ]
  },
  {
   "cell_type": "markdown",
   "id": "5a8374f8-2741-428b-89b9-f50865f1a640",
   "metadata": {},
   "source": [
    "## บทที่ 1 | Introduction"
   ]
  },
  {
   "cell_type": "markdown",
   "id": "c21a7de2-a68e-44ba-b493-4ff8d68c8590",
   "metadata": {},
   "source": [
    "### แบบทดสอบที่ 1"
   ]
  },
  {
   "cell_type": "markdown",
   "id": "58217596-713d-45d7-ac79-6152129bcb07",
   "metadata": {},
   "source": [
    "1.1 ข้อความต่อไปนี้ ข้อใดเป็นสถิติเชิงพรรณนาหรือสถิติเชิงอนุมาน"
   ]
  },
  {
   "cell_type": "markdown",
   "id": "ef4aa471-ce2b-4495-8e6c-7f4934929c8f",
   "metadata": {},
   "source": [
    "1. จากการสำรวจในแม่น้ำเจ้าพระยาพบปลาจำนวน 80 ชนิด โดยร้อยละ 15 ของปลาที่พบเป็นปลาฉลาม"
   ]
  },
  {
   "cell_type": "markdown",
   "id": "3eee1595-3346-47a8-944c-151df5e8b71b",
   "metadata": {},
   "source": [
    "<u>ตอบ</u>"
   ]
  },
  {
   "cell_type": "markdown",
   "id": "600ebea2-1c79-4993-bebc-06b9c4b2aebc",
   "metadata": {},
   "source": [
    "2. ผลจากการวิจัยพบว่าคนไทยที่กินของทอดเยอะๆ มีโอกาสที่จะเป็นโรคหัวใจ"
   ]
  },
  {
   "cell_type": "markdown",
   "id": "22160395-69b2-44ad-b63f-8d48194e6029",
   "metadata": {},
   "source": [
    "<u>ตอบ</u>"
   ]
  },
  {
   "cell_type": "markdown",
   "id": "4ba91863-5e85-4a33-96dc-0413a02ace1c",
   "metadata": {},
   "source": [
    "3. ขบวนรถไฟคันหนึ่งมีผู้โดยสารจำนวน 300 คน พบว่าเป็นเพศขายจำนวน 180 คน เพศหญิงจำนวน 120 คน ในการสุ่มผู้โดยสารมาจำนวน 150 คน พบว่ามีผู้โดยสารเพศชายจำนวน 50 คน ที่มีคู่สมรส และมีผู้โดยสารเพศหญิงที่มีคู่สมรสจำนวน 35 คน โดยสามารถสรุปค่าเฉลี่ยของผู้โดยสารที่มีคู่สมรสจากขบวนรถไฟนี้ได้อยู่ที่ 0.56"
   ]
  },
  {
   "cell_type": "markdown",
   "id": "e7275208-0e2d-426a-82ac-3c1216f6bc8e",
   "metadata": {},
   "source": [
    "<u>ตอบ</u>"
   ]
  },
  {
   "cell_type": "markdown",
   "id": "a780e07b-6108-4cf0-8530-9f36e74a88d3",
   "metadata": {},
   "source": [
    "4. ในการวิจัยการเปลี่ยนแปลงของสภาพภูมิอากาศของประเทศไทย ในช่วงฤดูร้อนพบว่าอุณหภูมิของประเทศไทยอยู่สูงกว่าค่าเฉลี่ยในปีก่อนหน้าถึง 1.7 เท่า โดยมีอุณหภูมิเฉลี่ยอยู่ที่ 43.2 ํC นักวิชาการคาดว่าในปีถัดๆ ไป จะมีอุณหภูมิเฉลี่ยสูงกว่าปีนี้ได้อีกเนื่องจากปรากฏการณ์เอลณีโญ"
   ]
  },
  {
   "cell_type": "markdown",
   "id": "19d0aa11-6347-4412-a0b0-5e99d84d22bf",
   "metadata": {},
   "source": [
    "<u>ตอบ</u>"
   ]
  },
  {
   "cell_type": "markdown",
   "id": "8177fcf4-362a-435e-b77f-e8fc096e9374",
   "metadata": {},
   "source": [
    "5. จากการพิจารณาผู้เช้าแข่งขัน osu! ภายในประเทศไทย พบว่าผู้เล่น osu! ภายในประเทศไทยมีค่าเฉลี่ยของอายุอยู่ที่ 18 ปี มีค่าส่วนเบี่ยงเบนมาตรฐานของอายุอยู่ที่ 5 ปี และในการแข่งขัน osu! Tournament ภายในประเทศไทยยังพบอีกว่า ผู้เล่นที่มีอายุมากกว่า 15 ปี จะเป็นผู้ที่เข้ารอบชิงชนะเลิศอยู่เสมอ"
   ]
  },
  {
   "cell_type": "markdown",
   "id": "4cbf1586-f850-4ac8-adeb-0dcd73f4ac4a",
   "metadata": {},
   "source": [
    "<u>ตอบ</u>"
   ]
  },
  {
   "cell_type": "markdown",
   "id": "aa64e518-72b5-454b-bc04-b8bf46140cda",
   "metadata": {},
   "source": [
    "---"
   ]
  },
  {
   "cell_type": "markdown",
   "id": "e551ec8b-8cf7-49bd-946f-367ab1e83a11",
   "metadata": {},
   "source": [
    "## แบบทดสอบที่ 2"
   ]
  },
  {
   "cell_type": "markdown",
   "id": "ff417cfb-e760-4225-819d-a0d245d39ce5",
   "metadata": {},
   "source": [
    "2.1 จงบอกว่าจากข้อความต่อไปนี้ ประชากรคืออะไร และกลุ่มตัวอย่างคืออะไร"
   ]
  },
  {
   "cell_type": "markdown",
   "id": "7688f270-817c-4291-a986-0797ff8090e9",
   "metadata": {},
   "source": [
    "1. การสำรวจผู้ใช้บริการรถยนต์สาธารณะภายในกรุงเทพมหานคร และปริมณฑล ในปีพ.ศ.2564"
   ]
  },
  {
   "cell_type": "markdown",
   "id": "b53220bd-a887-4478-94fa-c2b61e4b6997",
   "metadata": {},
   "source": [
    "<u>ประชากร</u> คือ \n",
    "<br><u>กลุ่มตัวอย่าง</u> คือ "
   ]
  },
  {
   "cell_type": "markdown",
   "id": "44460f11-2e50-4f74-87bc-b7765c348a07",
   "metadata": {},
   "source": [
    "2. ศึกษาการเจริญเติบโตของเด็กแรกเกิด จนถึงอายุ 12 ปี จำนวน 2,000 คน"
   ]
  },
  {
   "cell_type": "markdown",
   "id": "84dc7ec1-e75d-4db6-be30-b6b37dfa7cc6",
   "metadata": {},
   "source": [
    "<u>ประชากร</u> คือ\n",
    "<br><u>กลุ่มตัวอย่าง</u> คือ "
   ]
  },
  {
   "cell_type": "markdown",
   "id": "1b6ec623-5924-4487-962e-238c9a0d0bf0",
   "metadata": {},
   "source": [
    "3. การสำรวจผลการเลือกตั้งประจำเขตจตุจักร"
   ]
  },
  {
   "cell_type": "markdown",
   "id": "2a20dce0-d560-4402-b684-d40129c18cfb",
   "metadata": {},
   "source": [
    "<u>ประชากร</u> คือ \n",
    "<br><u>กลุ่มตัวอย่าง</u> คือ "
   ]
  },
  {
   "cell_type": "markdown",
   "id": "e3fe3705-a6e9-4434-b62b-41c3c8096ec8",
   "metadata": {},
   "source": [
    "2.2 จงบอกว่าข้อความต่อไปนี้เป็นการสำรวจประชากรหรือกลุ่มตัวอย่าง"
   ]
  },
  {
   "cell_type": "markdown",
   "id": "5339e6af-629e-4dfd-b711-cd34a997e9cd",
   "metadata": {},
   "source": [
    "1. การสำรวจผู้ขับขี่รถจักรยานยนต์ ภายในกรุุงเทพมหานคร จำนวน 300 คน"
   ]
  },
  {
   "cell_type": "markdown",
   "id": "7488e953-e31a-4708-b157-45deefdd1f96",
   "metadata": {},
   "source": [
    "<u>ตอบ</u> "
   ]
  },
  {
   "cell_type": "markdown",
   "id": "bb942f6a-a778-4ccc-a480-31c7edbc720e",
   "metadata": {},
   "source": [
    "2. การวิจัยหาจำนวนต้นข้าวที่มีเพลี้ย ภายในไร่แห่งหนึ่ง ซึ่งตั้งอยู่ในจังหวัดสุโขทัย"
   ]
  },
  {
   "cell_type": "markdown",
   "id": "2f58263c-8643-49e2-b472-9bd292bed64a",
   "metadata": {},
   "source": [
    "<u>ตอบ</u> "
   ]
  },
  {
   "cell_type": "markdown",
   "id": "33569d16-d34f-440a-afd5-234dcb59a698",
   "metadata": {},
   "source": [
    "3. การสำรวจอาชีพในอนาคตของนิสิตตณะวิทยาศาสตร์ มหาวิทยาลัยสงขลานครินทร์ ซึ่งเป็นจำนวนทั้งหมด 1,500 คน"
   ]
  },
  {
   "cell_type": "markdown",
   "id": "0cd235aa-f0c8-4efb-82ae-572387cb41ff",
   "metadata": {},
   "source": [
    "<u>ตอบ</u> "
   ]
  },
  {
   "cell_type": "markdown",
   "id": "7fcaaf82-e833-4d8c-8d03-c5231e5f80c4",
   "metadata": {},
   "source": [
    "4. การวิจัยค้นหาผู้ที่มีความเสี่ยงที่จะได้รับสารไซยาไนด์ จากการกินอาหารที่มีสารปนเปื้อน"
   ]
  },
  {
   "cell_type": "markdown",
   "id": "70851c7e-783c-4e6e-9d1e-726b3d9ec23a",
   "metadata": {},
   "source": [
    "<u>ตอบ</u> "
   ]
  },
  {
   "cell_type": "markdown",
   "id": "920e4d1d-3a6c-4df4-9723-9bd0ecf830f9",
   "metadata": {},
   "source": [
    "5. การศึกษาปริมาณรายได้ของคนในจังหวัดศรีสะเกษ จากหมู่บ้านหมู่บ้านหนึ่งในจังหวัดศรีสะเกษ"
   ]
  },
  {
   "cell_type": "markdown",
   "id": "e5522218-10ab-42f6-a8a3-6f15bcd96a01",
   "metadata": {},
   "source": [
    "<u>ตอบ</u> "
   ]
  },
  {
   "cell_type": "markdown",
   "id": "1e0b49e4-fc4c-4f95-bf10-e195fb105b7d",
   "metadata": {},
   "source": [
    "---"
   ]
  },
  {
   "cell_type": "markdown",
   "id": "83bc60b6-3216-47dd-b3f5-1fc15cdbc004",
   "metadata": {},
   "source": [
    "<b>พารามิเตอร์ (parameter)</b> คือค่าที่แสดงถึงคุณลักษณะของประชากร โดยทั่วไปมักไม่ทราบค่า\n",
    "<br><b>ค่าสถิติ (statistics)</b> คือค่าคงที่แสดงคุณลักษณะของตัวอย่าง เป็นค่าที่คำนวณได้จากตัวอย่าง"
   ]
  },
  {
   "cell_type": "markdown",
   "id": "021a3a5d-8a28-4a94-85c7-376b83cb2ed2",
   "metadata": {},
   "source": [
    "| ค่า | พารามิเตอร์ <br> (parameter) | ค่าสถิติ <br> (statistics) |\n",
    "| --- | :-: | :-: |\n",
    "| ค่าเฉลี่ย | 𝜇 | <i>x̄</i> |\n",
    "| ส่วนเบี่ยงเบนมาตรฐาน | 𝜎 | 𝑠 |\n",
    "| ความแปรปรวน | 𝜎&sup2; | 𝑠&sup2; |\n",
    "| ค่าสัดส่วน | 𝑃 | <i>p̂</i> |\n",
    "| สัมประสิทธิ์สหสัมพันธ์ | <i>ρ</i> | <i>r</i> |"
   ]
  },
  {
   "cell_type": "markdown",
   "id": "6577a6ce-e903-436e-bac4-6e721e6f8f00",
   "metadata": {},
   "source": [
    "---"
   ]
  },
  {
   "cell_type": "markdown",
   "id": "abd282bc-7811-4b26-ad61-a1ff018801cf",
   "metadata": {},
   "source": [
    "<br>"
   ]
  },
  {
   "cell_type": "markdown",
   "id": "1de56b52-2c13-4392-bcec-e13ae140d421",
   "metadata": {},
   "source": [
    "## บทที่ 2 | Sampling"
   ]
  },
  {
   "cell_type": "markdown",
   "id": "f0b9cf09-5240-4393-a490-57a431442a2a",
   "metadata": {},
   "source": [
    "### แบบทดสอบที่ 3"
   ]
  },
  {
   "cell_type": "markdown",
   "id": "112c4aca-0ee2-478e-8c56-1e2c7c07168b",
   "metadata": {},
   "source": [
    "จงบอกว่าการสำรวจ/วิจัยต่อไปนี้ใช้การสุ่มตัวอย่างแบบใด"
   ]
  },
  {
   "cell_type": "markdown",
   "id": "f777a578-ef0e-4868-bca9-25214c2b6eb3",
   "metadata": {},
   "source": [
    "1. การศึกษาปัญหาขยะภายในชุมชนของจังหวัดกรุงเทพมหานคร โดยสุ่มตัวอย่างชุมชนมา 50 ชุมชน โดยจาก 50 ชุมชนนั้น จะสุ่มตัวอย่างแบบ 2 ครัวเรือน เว้น 12 ครัวเรือนในแต่ละชุมชน"
   ]
  },
  {
   "cell_type": "markdown",
   "id": "f26faa0e-7f82-4825-a406-c8aa5e356c7b",
   "metadata": {},
   "source": [
    "<u>ตอบ</u> "
   ]
  },
  {
   "cell_type": "markdown",
   "id": "31c59eea-85c1-426c-a2cc-8a8f7998d553",
   "metadata": {},
   "source": [
    "2. การศึกษาค้นคว้าหาจำนวนผู้สูงอายุภายในครัวเรือน ในจังหวัดนครราชสีมา โดยเลือกตัวแทนหมู่บ้านมาจากในอำเภอพิมาย"
   ]
  },
  {
   "cell_type": "markdown",
   "id": "fd4c4fa4-21ff-466f-b715-55bf5ff7a5dc",
   "metadata": {},
   "source": [
    "<u>ตอบ</u> "
   ]
  },
  {
   "cell_type": "markdown",
   "id": "03254f0d-1020-42b3-aa16-1abdd969e4d6",
   "metadata": {},
   "source": [
    "3. การวิจัยความเข้มข้นของปริมาณฮอร์โมนที่หลั่งออกมาภายในร่างกายมนุษย์ โดยคัดเลือกผู้ที่มีอายุอยู่ในช่วงวัยรุ่นมาใช้ในการเก็บข้อมูลในงานวิจัยจำนวนทั้งสิ้น 500 คน"
   ]
  },
  {
   "cell_type": "markdown",
   "id": "18fc80cc-c264-43ad-a913-d3464121078e",
   "metadata": {},
   "source": [
    "<u>ตอบ</u> "
   ]
  },
  {
   "cell_type": "markdown",
   "id": "f8af1bc4-431f-4428-bafe-78c44cca520d",
   "metadata": {},
   "source": [
    "---"
   ]
  },
  {
   "cell_type": "markdown",
   "id": "3bfec078-c3df-49b6-94c5-993943c6ed53",
   "metadata": {},
   "source": [
    "<b>การจัดกลุ่มและนำเสนอข้อมูล</b>\n",
    "<br>หลังจากที่ได้รวบรวมข้อมูลมาแล้ว เพื่อให้ง่ายแก่การนำเสนอและวิเคราะห์ข้อมูลต่อไปควรนำข้อมูลผ่านกระบวนการดังต่อไปนี้\n",
    "<ul>\n",
    "<li>\n",
    "จัดโครงสร้างของข้อมูลให้เป็นระบบ\n",
    "</li>\n",
    "<li>\n",
    "จัดกลุ่มข้อมูลโดยอาจใช้การเรียงลำดับ\n",
    "</li>\n",
    "<li>\n",
    "ทำการแจกแจงความถี่\n",
    "</li>\n",
    "<li>\n",
    "แสดงกลุ่มและการแจกแจงความถี่ในรูปแบบกราฟิก\n",
    "</li>\n",
    "</ul>"
   ]
  },
  {
   "cell_type": "markdown",
   "id": "960510e6-990e-4404-a65d-a6df71ac5238",
   "metadata": {},
   "source": [
    "<b>การแจกแจงความถี่ (frequency distribution)</b>\n",
    "ตือการนำข้อมูลดิบ (raw data) มาจัดเรียงและสร้างตารางแจกแจงความถี่ (frequency table) และแสดงความถี่ในรูปแบบกราฟิกเพื่อทำให้\n",
    "ทราบลักษณะการกระจายของข้อมูล"
   ]
  },
  {
   "cell_type": "markdown",
   "id": "a9c3c081-4e38-4096-b6f2-4c4d0d0403ef",
   "metadata": {},
   "source": [
    "| ค่า | สูตร |\n",
    "| --- | :-: |\n",
    "| พิสัย (range) | ค่าสูงสุด - ค่าต่ำสุด |\n",
    "| ขอบล่าง (lower bound) | (ค่าน้อยที่สุดของอันตภาคชั้นนั้น + ค่ามากที่สุดของอันตภาคชั้นที่ต่ำกว่าหนึ่งชั้น) / 2 |\n",
    "| ขอบบน (upper bound) | (ค่าน้อยที่สุดของอันตภาคชั้นนั้น + ค่ามากที่สุดของอันตภาคชั้นที่สูงกว่าหนึ่งชั้น) / 2 |\n",
    "| ความกว้างของอันตรภาคชั้น (interval) | ขอบบน - ขอบล่าง |\n",
    "| จำนวนอันตรภาคชั้น (class interval) | &LeftCeiling;พิสัย / ความกว้างของอันตรภาคชั้น&RightCeiling; |"
   ]
  },
  {
   "cell_type": "markdown",
   "id": "acfb779d-5851-4211-a85b-ac82fdf197f1",
   "metadata": {},
   "source": [
    "---"
   ]
  },
  {
   "cell_type": "markdown",
   "id": "ce3f553c-ae25-4c8c-8918-16b3e92ca136",
   "metadata": {},
   "source": [
    "### แบบทดสอบที่ 4"
   ]
  },
  {
   "cell_type": "code",
   "execution_count": 1,
   "id": "56d658e0-c071-4ee9-8a0b-11f427ba4363",
   "metadata": {},
   "outputs": [],
   "source": [
    "import numpy as np\n",
    "import pandas as pd"
   ]
  },
  {
   "cell_type": "code",
   "execution_count": 2,
   "id": "bb70219c-7861-406f-a830-ec3b41109526",
   "metadata": {},
   "outputs": [],
   "source": [
    "# from google.colab import drive\n",
    "# drive.mount('/content/drive')"
   ]
  },
  {
   "cell_type": "code",
   "execution_count": 3,
   "id": "7b9fa33b-7881-41b8-b9c7-ac1ae03528b0",
   "metadata": {},
   "outputs": [
    {
     "data": {
      "text/html": [
       "<div>\n",
       "<style scoped>\n",
       "    .dataframe tbody tr th:only-of-type {\n",
       "        vertical-align: middle;\n",
       "    }\n",
       "\n",
       "    .dataframe tbody tr th {\n",
       "        vertical-align: top;\n",
       "    }\n",
       "\n",
       "    .dataframe thead th {\n",
       "        text-align: right;\n",
       "    }\n",
       "</style>\n",
       "<table border=\"1\" class=\"dataframe\">\n",
       "  <thead>\n",
       "    <tr style=\"text-align: right;\">\n",
       "      <th></th>\n",
       "      <th>Month</th>\n",
       "      <th>GEOCODE</th>\n",
       "      <th>TAMBON_T</th>\n",
       "      <th>TAMBON_E</th>\n",
       "      <th>AMPHOE_CODE</th>\n",
       "      <th>AMPHOE_T</th>\n",
       "      <th>AMPHOE_E</th>\n",
       "      <th>PROV_CODE</th>\n",
       "      <th>PROV_T</th>\n",
       "      <th>PROV_E</th>\n",
       "      <th>COUNT_17_YEAR</th>\n",
       "      <th>CRITERIA</th>\n",
       "      <th>RISK</th>\n",
       "    </tr>\n",
       "  </thead>\n",
       "  <tbody>\n",
       "    <tr>\n",
       "      <th>0</th>\n",
       "      <td>1</td>\n",
       "      <td>120501</td>\n",
       "      <td>ต.ไทรน้อย</td>\n",
       "      <td>Sai_Noi</td>\n",
       "      <td>1205</td>\n",
       "      <td>อ.ไทรน้อย</td>\n",
       "      <td>Sai_Noi_District</td>\n",
       "      <td>12</td>\n",
       "      <td>จ.นนทบุรี</td>\n",
       "      <td>Nonthaburi</td>\n",
       "      <td>1.0</td>\n",
       "      <td>1-3 ครั้งในรอบ 17 ปี</td>\n",
       "      <td>เสี่ยงต่ำ</td>\n",
       "    </tr>\n",
       "    <tr>\n",
       "      <th>1</th>\n",
       "      <td>1</td>\n",
       "      <td>120503</td>\n",
       "      <td>ต.หนองเพรางาย</td>\n",
       "      <td>Nong_Phrao_Ngai</td>\n",
       "      <td>1205</td>\n",
       "      <td>อ.ไทรน้อย</td>\n",
       "      <td>Sai_Noi_District</td>\n",
       "      <td>12</td>\n",
       "      <td>จ.นนทบุรี</td>\n",
       "      <td>Nonthaburi</td>\n",
       "      <td>1.0</td>\n",
       "      <td>1-3 ครั้งในรอบ 17 ปี</td>\n",
       "      <td>เสี่ยงต่ำ</td>\n",
       "    </tr>\n",
       "    <tr>\n",
       "      <th>2</th>\n",
       "      <td>1</td>\n",
       "      <td>120504</td>\n",
       "      <td>ต.ไทรใหญ่</td>\n",
       "      <td>Sai_Yai</td>\n",
       "      <td>1205</td>\n",
       "      <td>อ.ไทรน้อย</td>\n",
       "      <td>Sai_Noi_District</td>\n",
       "      <td>12</td>\n",
       "      <td>จ.นนทบุรี</td>\n",
       "      <td>Nonthaburi</td>\n",
       "      <td>1.0</td>\n",
       "      <td>1-3 ครั้งในรอบ 17 ปี</td>\n",
       "      <td>เสี่ยงต่ำ</td>\n",
       "    </tr>\n",
       "    <tr>\n",
       "      <th>3</th>\n",
       "      <td>1</td>\n",
       "      <td>120505</td>\n",
       "      <td>ต.ขุนศรี</td>\n",
       "      <td>Khun_Si</td>\n",
       "      <td>1205</td>\n",
       "      <td>อ.ไทรน้อย</td>\n",
       "      <td>Sai_Noi_District</td>\n",
       "      <td>12</td>\n",
       "      <td>จ.นนทบุรี</td>\n",
       "      <td>Nonthaburi</td>\n",
       "      <td>1.0</td>\n",
       "      <td>1-3 ครั้งในรอบ 17 ปี</td>\n",
       "      <td>เสี่ยงต่ำ</td>\n",
       "    </tr>\n",
       "    <tr>\n",
       "      <th>4</th>\n",
       "      <td>1</td>\n",
       "      <td>120507</td>\n",
       "      <td>ต.ทวีวัฒนา</td>\n",
       "      <td>Thawi_Watthana</td>\n",
       "      <td>1205</td>\n",
       "      <td>อ.ไทรน้อย</td>\n",
       "      <td>Sai_Noi_District</td>\n",
       "      <td>12</td>\n",
       "      <td>จ.นนทบุรี</td>\n",
       "      <td>Nonthaburi</td>\n",
       "      <td>1.0</td>\n",
       "      <td>1-3 ครั้งในรอบ 17 ปี</td>\n",
       "      <td>เสี่ยงต่ำ</td>\n",
       "    </tr>\n",
       "  </tbody>\n",
       "</table>\n",
       "</div>"
      ],
      "text/plain": [
       "   Month  GEOCODE       TAMBON_T         TAMBON_E  AMPHOE_CODE   AMPHOE_T  \\\n",
       "0      1   120501      ต.ไทรน้อย          Sai_Noi         1205  อ.ไทรน้อย   \n",
       "1      1   120503  ต.หนองเพรางาย  Nong_Phrao_Ngai         1205  อ.ไทรน้อย   \n",
       "2      1   120504      ต.ไทรใหญ่          Sai_Yai         1205  อ.ไทรน้อย   \n",
       "3      1   120505       ต.ขุนศรี          Khun_Si         1205  อ.ไทรน้อย   \n",
       "4      1   120507     ต.ทวีวัฒนา   Thawi_Watthana         1205  อ.ไทรน้อย   \n",
       "\n",
       "           AMPHOE_E  PROV_CODE     PROV_T      PROV_E  COUNT_17_YEAR  \\\n",
       "0  Sai_Noi_District         12  จ.นนทบุรี  Nonthaburi            1.0   \n",
       "1  Sai_Noi_District         12  จ.นนทบุรี  Nonthaburi            1.0   \n",
       "2  Sai_Noi_District         12  จ.นนทบุรี  Nonthaburi            1.0   \n",
       "3  Sai_Noi_District         12  จ.นนทบุรี  Nonthaburi            1.0   \n",
       "4  Sai_Noi_District         12  จ.นนทบุรี  Nonthaburi            1.0   \n",
       "\n",
       "               CRITERIA       RISK  \n",
       "0  1-3 ครั้งในรอบ 17 ปี  เสี่ยงต่ำ  \n",
       "1  1-3 ครั้งในรอบ 17 ปี  เสี่ยงต่ำ  \n",
       "2  1-3 ครั้งในรอบ 17 ปี  เสี่ยงต่ำ  \n",
       "3  1-3 ครั้งในรอบ 17 ปี  เสี่ยงต่ำ  \n",
       "4  1-3 ครั้งในรอบ 17 ปี  เสี่ยงต่ำ  "
      ]
     },
     "execution_count": 3,
     "metadata": {},
     "output_type": "execute_result"
    }
   ],
   "source": [
    "df = pd.read_csv(\"monthly-flood-risk-area.csv\")\n",
    "df['PROV_E'] = [s.replace(\" \", \"_\") for s in df['PROV_E']]\n",
    "df['TAMBON_E'] = [s.replace(\" \", \"_\") for s in df['TAMBON_E']]\n",
    "df['AMPHOE_E'] = [s.replace(\" \", \"_\") for s in df['AMPHOE_E']]\n",
    "df.head()"
   ]
  },
  {
   "cell_type": "markdown",
   "id": "ef954f1e-a21d-47bd-bc4f-3ba0702d6b3f",
   "metadata": {},
   "source": [
    "<br>ให้แสดงวิธีสร้างคอลัมน์เพิ่มที่มือชื่อว่า PROV_CUT โดยคอลัมน์ที่เพิ่มมานี้ จะเก็บข้อมูลของตัวอักษรที่ปรากฏในคอลัมน์ PROV_E โดยมีเงื่อนไขคือ หากใน COUT 17 YEAR เป็นตัวเลขใด จะเป็นการตัดให้ชื่อจังหวัดใน PROV_E เหลือตามตัวอักษรตัวเลขนั้นๆ เช่น\n",
    "<ul>\n",
    "<li>\n",
    "หากในคอลัมน์ COUT_17_YEAR ปรากฏเลข 1 และในคอลัมน์ PROV_E คือ \"Nonthaburi\" ในคอลัมน์ที่สร้างจะบันทึก \"N\"\n",
    "</li>\n",
    "<li>\n",
    "หากในคอลัมน์ COUT_17_YEAR ปรากฏเลข 7 และในคอลัมน์ PROV_E คือ \"Phra_Nakhon_Si_Ayudhya\" ในคอลัมน์ที่สร้างจะบันทึก \"Phra_Na\"\n",
    "</li>\n",
    "<li>\n",
    "หากในคอลัมน์ COUT_17_YEAR ปรากฏ NaN และในคอลัมน์ PROV_E คือ \"Lopburi\" ในคอลัมน์ที่สร้างจะบันทึกเหมือนเดิมคือ \"NaN\"\n",
    "</li>\n",
    "<li>\n",
    "หากในคอลัมน์ COUT_17_YEAR ปรากฏ 30 และในคอลัมน์ PROV_E คือ \"Lopburi\" ในคอลัมน์ที่สร้างจะบันทึกเหมือนเดิมคือ \"NaN\"\n",
    "</li>\n",
    "<ul>"
   ]
  },
  {
   "cell_type": "code",
   "execution_count": 4,
   "id": "e75d7ba1-4da8-4b8e-8b7d-f59021925bba",
   "metadata": {},
   "outputs": [],
   "source": [
    "#your code\n"
   ]
  },
  {
   "cell_type": "markdown",
   "id": "d0187274-7c8d-4729-8635-eec26fa9a0f2",
   "metadata": {},
   "source": [
    "1. ในแต่ละชุดตัวอักษรในคอลัมน์ PROV_CUT มีจำนวนเป็นเท่าใด"
   ]
  },
  {
   "cell_type": "code",
   "execution_count": 5,
   "id": "dcf287f8-6067-4ad1-bd92-adc4fb24bd65",
   "metadata": {},
   "outputs": [],
   "source": [
    "#your code\n"
   ]
  },
  {
   "cell_type": "markdown",
   "id": "97fabf45-d9bd-4d4c-af2a-3b7431b2ab48",
   "metadata": {},
   "source": [
    "2. ในแต่ละจังหวัดในคอลัมน์ PROV_E มีพื้นที่ความเสี่ยงต่ำ เสี่ยงปานกลาง และเสี่ยงสูงจังหวัดละกี่พื้นที่ และจังหวัดใดที่มีพื้นที่ที่มีความเสี่ยงต่ำเป็นส่วนใหญ่มากที่สุด"
   ]
  },
  {
   "cell_type": "code",
   "execution_count": 6,
   "id": "e9104807-4eb9-43d1-98ea-fce2c4f33bea",
   "metadata": {},
   "outputs": [],
   "source": [
    "#your code\n"
   ]
  },
  {
   "cell_type": "code",
   "execution_count": 7,
   "id": "85ba2488-8499-4a9c-97ca-59e0a3b3345f",
   "metadata": {},
   "outputs": [],
   "source": [
    "#your code\n"
   ]
  },
  {
   "cell_type": "markdown",
   "id": "1afff6e1-af95-4ce8-8230-4fa24f95fcf1",
   "metadata": {},
   "source": [
    "3. จังหวัดใดมีค่าเฉลี่ยเป็นจำนวนปีที่เกิดน้ำท่วมของการเกิดน้ำท่วมภายใน 17 ปีที่ผ่านมาสูงที่สุด"
   ]
  },
  {
   "cell_type": "code",
   "execution_count": 8,
   "id": "21a7e848-ae0a-4e79-b10c-9876e870f39e",
   "metadata": {},
   "outputs": [],
   "source": [
    "#your code\n"
   ]
  },
  {
   "cell_type": "markdown",
   "id": "759eca84-8807-412e-8b83-b2883b8ba2a3",
   "metadata": {},
   "source": [
    "4. อำเภอของจังหวัดใดมีค่าเฉลี่ยเป็นจำนวนปีที่เกิดน้ำท่วมของการเกิดน้ำท่วมภายใน 17 ปีที่ผ่านมาสูงที่สุด"
   ]
  },
  {
   "cell_type": "code",
   "execution_count": 9,
   "id": "44db1911-cf9f-4e14-b163-262b685488b0",
   "metadata": {},
   "outputs": [],
   "source": [
    "#your code\n"
   ]
  },
  {
   "cell_type": "markdown",
   "id": "ab23f5bd-0a9a-48f7-a453-d0041285daa8",
   "metadata": {},
   "source": [
    "---"
   ]
  },
  {
   "cell_type": "markdown",
   "id": "798e9afd-f241-499b-af96-2a5d28422c51",
   "metadata": {},
   "source": [
    "<br>"
   ]
  },
  {
   "cell_type": "markdown",
   "id": "69c2aa72-c788-4451-9df6-fded416ff9c8",
   "metadata": {},
   "source": [
    "## บทที่ 3 | Basic Data Analysis"
   ]
  },
  {
   "cell_type": "markdown",
   "id": "4a0b878f-02dd-4ca8-aa58-ae8a899fc0b5",
   "metadata": {},
   "source": [
    "## แบบทดสอบที่ 5"
   ]
  },
  {
   "cell_type": "code",
   "execution_count": 10,
   "id": "910eb734-223a-446c-9753-59164a80eb6b",
   "metadata": {},
   "outputs": [],
   "source": [
    "import numpy as np\n",
    "import pandas as pd\n",
    "import statistics"
   ]
  },
  {
   "cell_type": "code",
   "execution_count": 11,
   "id": "f96243b5-2d97-4135-a993-31883c3eaf34",
   "metadata": {},
   "outputs": [],
   "source": [
    "# from google.colab import drive\n",
    "# drive.mount('/content/drive')"
   ]
  },
  {
   "cell_type": "code",
   "execution_count": 12,
   "id": "8466b876-2c73-40fb-9bc4-bc962a50f488",
   "metadata": {},
   "outputs": [
    {
     "data": {
      "text/html": [
       "<div>\n",
       "<style scoped>\n",
       "    .dataframe tbody tr th:only-of-type {\n",
       "        vertical-align: middle;\n",
       "    }\n",
       "\n",
       "    .dataframe tbody tr th {\n",
       "        vertical-align: top;\n",
       "    }\n",
       "\n",
       "    .dataframe thead th {\n",
       "        text-align: right;\n",
       "    }\n",
       "</style>\n",
       "<table border=\"1\" class=\"dataframe\">\n",
       "  <thead>\n",
       "    <tr style=\"text-align: right;\">\n",
       "      <th></th>\n",
       "      <th>Income / Year</th>\n",
       "      <th>num_family</th>\n",
       "    </tr>\n",
       "  </thead>\n",
       "  <tbody>\n",
       "    <tr>\n",
       "      <th>0</th>\n",
       "      <td>50001-150000</td>\n",
       "      <td>270</td>\n",
       "    </tr>\n",
       "    <tr>\n",
       "      <th>1</th>\n",
       "      <td>150001-250000</td>\n",
       "      <td>73</td>\n",
       "    </tr>\n",
       "    <tr>\n",
       "      <th>2</th>\n",
       "      <td>250001-350000</td>\n",
       "      <td>542</td>\n",
       "    </tr>\n",
       "    <tr>\n",
       "      <th>3</th>\n",
       "      <td>350001-450000</td>\n",
       "      <td>198</td>\n",
       "    </tr>\n",
       "    <tr>\n",
       "      <th>4</th>\n",
       "      <td>450001-550000</td>\n",
       "      <td>327</td>\n",
       "    </tr>\n",
       "    <tr>\n",
       "      <th>5</th>\n",
       "      <td>550001-650000</td>\n",
       "      <td>51</td>\n",
       "    </tr>\n",
       "    <tr>\n",
       "      <th>6</th>\n",
       "      <td>650001-750000</td>\n",
       "      <td>8</td>\n",
       "    </tr>\n",
       "  </tbody>\n",
       "</table>\n",
       "</div>"
      ],
      "text/plain": [
       "   Income / Year  num_family\n",
       "0   50001-150000         270\n",
       "1  150001-250000          73\n",
       "2  250001-350000         542\n",
       "3  350001-450000         198\n",
       "4  450001-550000         327\n",
       "5  550001-650000          51\n",
       "6  650001-750000           8"
      ]
     },
     "execution_count": 12,
     "metadata": {},
     "output_type": "execute_result"
    }
   ],
   "source": [
    "df_ic = pd.read_csv(\"income.csv\")\n",
    "df_ic.head(25000)"
   ]
  },
  {
   "cell_type": "markdown",
   "id": "97e7164f-a412-4a27-b653-d8236456fc7e",
   "metadata": {},
   "source": [
    "1. จงแสดงวิธีหาค่ามัธยฐาน, ฐานนิยม, ค่าเฉลี่ย, Q1, Q3, P55, D2, พิสัย, ส่วนเบี่ยงเบนควอร์ไทล์, ส่วนเบี่ยงเบนมาตราฐานและความแปรปรวน, และสัมประสิทธิ์ของการแปรผันของรายได้"
   ]
  },
  {
   "cell_type": "code",
   "execution_count": 13,
   "id": "16d85fac-1bb9-4aea-a36d-69a0c03e6977",
   "metadata": {},
   "outputs": [],
   "source": [
    "#your code\n"
   ]
  },
  {
   "cell_type": "markdown",
   "id": "65bb6f19-e0dd-4793-9fa5-8c981a7de051",
   "metadata": {},
   "source": [
    "ตำแหน่งของมัธยฐานคิอ"
   ]
  },
  {
   "cell_type": "code",
   "execution_count": 14,
   "id": "7d368dcc-c1cb-4836-99d4-e02d5333e068",
   "metadata": {},
   "outputs": [],
   "source": [
    "#your code\n"
   ]
  },
  {
   "cell_type": "markdown",
   "id": "453806e7-347d-4b8e-9aec-e5d0a46ec161",
   "metadata": {},
   "source": [
    "มัธยฐาน คือ"
   ]
  },
  {
   "cell_type": "code",
   "execution_count": 15,
   "id": "4b42c0c0-e730-4967-bff5-8d8397bf3a6a",
   "metadata": {},
   "outputs": [],
   "source": [
    "#your code\n"
   ]
  },
  {
   "cell_type": "markdown",
   "id": "cb0a0799-dd09-43c8-b819-80570a04d4a4",
   "metadata": {},
   "source": [
    "ฐานนิยมคือ"
   ]
  },
  {
   "cell_type": "code",
   "execution_count": 16,
   "id": "fd9896df-b71c-4cb4-a4f4-e4321363bf3f",
   "metadata": {},
   "outputs": [],
   "source": [
    "#your code\n"
   ]
  },
  {
   "cell_type": "markdown",
   "id": "d80e3b1d-e1c8-4ebc-957e-d672affcf794",
   "metadata": {},
   "source": [
    "ค่าเฉลี่ยคือ"
   ]
  },
  {
   "cell_type": "code",
   "execution_count": 17,
   "id": "c56a29d2-8359-4e4e-9aa9-fb7d320033cb",
   "metadata": {},
   "outputs": [],
   "source": [
    "#your code\n"
   ]
  },
  {
   "cell_type": "markdown",
   "id": "20e5293a-b57b-4ee3-8025-20b161254d47",
   "metadata": {},
   "source": [
    "ตำแหน่งของ Q1 คิอ"
   ]
  },
  {
   "cell_type": "code",
   "execution_count": 18,
   "id": "ea4bcc76-fde4-443c-8935-c3642a16e9a6",
   "metadata": {},
   "outputs": [],
   "source": [
    "#your code\n"
   ]
  },
  {
   "cell_type": "markdown",
   "id": "7fe43f69-1e0c-4929-a5d8-453c6ba914c0",
   "metadata": {},
   "source": [
    "ตำแหน่งของ Q3 คิอ"
   ]
  },
  {
   "cell_type": "code",
   "execution_count": 19,
   "id": "59b31cc6-c3d8-4431-aad6-1d6459832517",
   "metadata": {},
   "outputs": [],
   "source": [
    "#your code\n"
   ]
  },
  {
   "cell_type": "markdown",
   "id": "b07e9dea-aaa9-44ad-aacd-83366a0b3536",
   "metadata": {},
   "source": [
    "ตำแหน่งของ P55 คือ"
   ]
  },
  {
   "cell_type": "code",
   "execution_count": 20,
   "id": "801a088a-d6e5-47f8-95ce-021784f8b61c",
   "metadata": {},
   "outputs": [],
   "source": [
    "#your code\n"
   ]
  },
  {
   "cell_type": "markdown",
   "id": "626e5755-d5de-4eae-a58f-a700ca88864f",
   "metadata": {},
   "source": [
    "ตำแหน่งของ D2 คือ"
   ]
  },
  {
   "cell_type": "code",
   "execution_count": 21,
   "id": "e333d153-feec-46a1-bba8-620cbd4cea0b",
   "metadata": {},
   "outputs": [],
   "source": [
    "#your code\n"
   ]
  },
  {
   "cell_type": "markdown",
   "id": "bc04ffac-9e6f-4cff-9e2b-9b78770599ee",
   "metadata": {},
   "source": [
    "Q1 คือ"
   ]
  },
  {
   "cell_type": "code",
   "execution_count": 22,
   "id": "186a7801-c4ca-49af-a694-7950bbb10dca",
   "metadata": {},
   "outputs": [],
   "source": [
    "#your code\n"
   ]
  },
  {
   "cell_type": "markdown",
   "id": "c943679e-60c6-4ed5-9db4-c5e13b06a7a0",
   "metadata": {},
   "source": [
    "Q3 คือ"
   ]
  },
  {
   "cell_type": "code",
   "execution_count": 23,
   "id": "4b59095f-30f3-4b6c-9619-c429369c37f6",
   "metadata": {},
   "outputs": [],
   "source": [
    "#your code\n"
   ]
  },
  {
   "cell_type": "markdown",
   "id": "d1b2cc77-0837-444f-b8c2-df8f51498cc8",
   "metadata": {},
   "source": [
    "P55 คือ"
   ]
  },
  {
   "cell_type": "code",
   "execution_count": 24,
   "id": "aecee1c8-fee6-464d-a9f5-659fa0ca5e8c",
   "metadata": {},
   "outputs": [],
   "source": [
    "#your code\n"
   ]
  },
  {
   "cell_type": "markdown",
   "id": "90df54de-2ef8-49f2-9138-86ebbfb37efc",
   "metadata": {},
   "source": [
    "D2 คือ"
   ]
  },
  {
   "cell_type": "code",
   "execution_count": 25,
   "id": "c41defe2-b030-4c9d-a0d7-4db48fe67241",
   "metadata": {},
   "outputs": [],
   "source": [
    "#your code\n"
   ]
  },
  {
   "cell_type": "markdown",
   "id": "5939ca2b-3b3b-4d0c-93ef-70f3eebf1d26",
   "metadata": {},
   "source": [
    "พิสัย คือ"
   ]
  },
  {
   "cell_type": "code",
   "execution_count": 26,
   "id": "58de06d3-b211-4e99-80a0-c19990b8f0ef",
   "metadata": {},
   "outputs": [],
   "source": [
    "#your code\n"
   ]
  },
  {
   "cell_type": "markdown",
   "id": "a1272ce9-0d27-4de8-8a7a-14e067c10933",
   "metadata": {},
   "source": [
    "ส่วนเบี่ยงเบนควอร์ไทล์ คือ"
   ]
  },
  {
   "cell_type": "code",
   "execution_count": 27,
   "id": "451b4d06-53fe-4c22-bc05-3a40daaa7c58",
   "metadata": {},
   "outputs": [],
   "source": [
    "#your code\n"
   ]
  },
  {
   "cell_type": "markdown",
   "id": "9c6c093d-9c4a-483d-9422-ef706ec458d7",
   "metadata": {},
   "source": [
    "ส่วนเบี่ยงเบนมาตรฐาน คือ"
   ]
  },
  {
   "cell_type": "code",
   "execution_count": 28,
   "id": "eb0e1a75-ccb0-4aa4-9ac6-05235ed35aff",
   "metadata": {},
   "outputs": [],
   "source": [
    "#your code\n"
   ]
  },
  {
   "cell_type": "markdown",
   "id": "e75c9126-8199-4de5-b56d-293d3d4d98a3",
   "metadata": {},
   "source": [
    "ความแปรปรวน คือ"
   ]
  },
  {
   "cell_type": "code",
   "execution_count": 29,
   "id": "fb6b61d7-89d8-4ba2-ac65-552787a2e1b4",
   "metadata": {},
   "outputs": [],
   "source": [
    "#your code\n"
   ]
  },
  {
   "cell_type": "markdown",
   "id": "7354aabd-8181-4474-ae84-e753d1cafc6f",
   "metadata": {},
   "source": [
    "สัมประสิทธิ์การแปรผัน คือ"
   ]
  },
  {
   "cell_type": "code",
   "execution_count": 30,
   "id": "be28a41d-e5c6-4f62-8be8-7622f9a92835",
   "metadata": {},
   "outputs": [],
   "source": [
    "#your code\n"
   ]
  },
  {
   "cell_type": "markdown",
   "id": "951e1224-57ad-461a-8c81-da76766d5c1e",
   "metadata": {},
   "source": [
    "2. บริษัทแห่งหนึ่งได้ทำการทดสอบความสว่างของหลอดไฟ จำนวน 50 หลอด และทำการวัดค่าในหน่วย กิโลลูเมน ได้ผลดังนี้\n",
    "20.1, 38.5, 39.2, 41.8, 32.4, 18.0, 17.5, 25.9, 45.5, 57.8,\n",
    "22.5, 50.2, 30.8, 43.1, 50.5, 35.5, 27.4, 29.2, 55.5, 10.2,\n",
    "32.2, 27.8, 33.8, 53.4, 25.5, 30.4, 36.1, 49.3, 18.6, 50.0\n",
    "จงคำนวณหาค่าเฉลี่ย, ส่วนเบี่ยงเบนมาตราฐาน, ฐานนิยม, Q2.5, D9, P38 ของค่า กิโลลูเมน ที่ได้จากการทดสอบ"
   ]
  },
  {
   "cell_type": "code",
   "execution_count": 31,
   "id": "ce05a00a-ef29-4fb6-894a-198660d81216",
   "metadata": {},
   "outputs": [],
   "source": [
    "klumen = [20.1, 38.5, 39.2, 41.8, 32.4, 18.0, 17.5, 25.9, 45.5, 57.8,\n",
    "22.5, 50.2, 30.8, 43.1, 50.5, 35.5, 27.4, 29.2, 55.5, 10.2,\n",
    "32.2, 27.8, 33.8, 53.4, 25.5, 30.4, 36.1, 49.3, 18.6, 50.0]"
   ]
  },
  {
   "cell_type": "markdown",
   "id": "9ca42c0b-bef7-4021-9ade-34f1fdecc410",
   "metadata": {},
   "source": [
    "ค่าเฉลี่ย คือ"
   ]
  },
  {
   "cell_type": "code",
   "execution_count": 32,
   "id": "22fd8914-e5d0-47b6-8f24-b9d70b4ab1dd",
   "metadata": {},
   "outputs": [],
   "source": [
    "#your code\n"
   ]
  },
  {
   "cell_type": "markdown",
   "id": "46e04d2b-b768-4f96-9287-89bb3bf3e32b",
   "metadata": {},
   "source": [
    "ส่วนเบี่ยงเบนมาตราฐาน คือ"
   ]
  },
  {
   "cell_type": "code",
   "execution_count": 33,
   "id": "2c8a45ee-f07f-4355-99b5-09e49698222d",
   "metadata": {},
   "outputs": [],
   "source": [
    "#your code\n"
   ]
  },
  {
   "cell_type": "markdown",
   "id": "5875d035-c3ed-48a0-ab5e-32ae2d19aabd",
   "metadata": {},
   "source": [
    "ฐานนิยม คือ "
   ]
  },
  {
   "cell_type": "code",
   "execution_count": 39,
   "id": "8a9b8290-ae49-4eb7-b50d-bb811b154670",
   "metadata": {},
   "outputs": [],
   "source": [
    "#your code\n"
   ]
  },
  {
   "cell_type": "markdown",
   "id": "fbe8d9c9-03c3-4dc7-a752-b436a27f98e9",
   "metadata": {},
   "source": [
    "Q2.5 คือ"
   ]
  },
  {
   "cell_type": "code",
   "execution_count": 40,
   "id": "3a8e70b4-1796-4bd4-8077-e7e56aad4d57",
   "metadata": {},
   "outputs": [],
   "source": [
    "#your code\n"
   ]
  },
  {
   "cell_type": "markdown",
   "id": "bcb05444-d77e-4a1c-9f96-9705640f2b1e",
   "metadata": {},
   "source": [
    "D9 คือ"
   ]
  },
  {
   "cell_type": "code",
   "execution_count": 37,
   "id": "e8601074-b558-450f-93fc-80cb6cf9ca5b",
   "metadata": {},
   "outputs": [],
   "source": [
    "#your code\n"
   ]
  },
  {
   "cell_type": "markdown",
   "id": "c6625a1b-6105-43e3-9db5-ffac37731dfa",
   "metadata": {},
   "source": [
    "P38 คือ"
   ]
  },
  {
   "cell_type": "code",
   "execution_count": 38,
   "id": "94d74a02-cb96-4f85-9dc9-27f51c3e22d7",
   "metadata": {},
   "outputs": [],
   "source": [
    "#your code\n"
   ]
  },
  {
   "cell_type": "markdown",
   "id": "90ecd881-3e18-43f9-862b-c628dfd927e4",
   "metadata": {},
   "source": [
    "---"
   ]
  }
 ],
 "metadata": {
  "kernelspec": {
   "display_name": "Python 3 (ipykernel)",
   "language": "python",
   "name": "python3"
  },
  "language_info": {
   "codemirror_mode": {
    "name": "ipython",
    "version": 3
   },
   "file_extension": ".py",
   "mimetype": "text/x-python",
   "name": "python",
   "nbconvert_exporter": "python",
   "pygments_lexer": "ipython3",
   "version": "3.9.13"
  }
 },
 "nbformat": 4,
 "nbformat_minor": 5
}
