{
 "cells": [
  {
   "cell_type": "markdown",
   "id": "2c39f2d8-7886-423f-a4f4-7f5c504b7ee8",
   "metadata": {
    "id": "2c39f2d8-7886-423f-a4f4-7f5c504b7ee8"
   },
   "source": [
    "## การวิเคราะห์ข้อมูลเบื้องต้น"
   ]
  },
  {
   "cell_type": "markdown",
   "id": "67f31959-a73a-408f-bdf4-cfe8fb02fe5a",
   "metadata": {
    "id": "67f31959-a73a-408f-bdf4-cfe8fb02fe5a"
   },
   "source": [
    "---"
   ]
  },
  {
   "cell_type": "code",
   "execution_count": 1,
   "id": "01caccc8-b244-46c8-a4de-a5037a644ce8",
   "metadata": {
    "id": "01caccc8-b244-46c8-a4de-a5037a644ce8"
   },
   "outputs": [],
   "source": [
    "import numpy as np\n",
    "import pandas as pd\n",
    "import statistics"
   ]
  },
  {
   "cell_type": "code",
   "execution_count": null,
   "id": "V_QC_2Pjb7iO",
   "metadata": {
    "colab": {
     "base_uri": "https://localhost:8080/"
    },
    "id": "V_QC_2Pjb7iO",
    "outputId": "f7671865-9ebf-483b-cd1a-9ead50b872ad"
   },
   "outputs": [
    {
     "name": "stdout",
     "output_type": "stream",
     "text": [
      "Mounted at /content/drive\n"
     ]
    }
   ],
   "source": [
    "from google.colab import drive\n",
    "drive.mount('/content/drive')"
   ]
  },
  {
   "cell_type": "markdown",
   "id": "d82a6214-ac93-4612-9e78-41811dadc608",
   "metadata": {
    "id": "d82a6214-ac93-4612-9e78-41811dadc608",
    "tags": []
   },
   "source": [
    "####  \n",
    "#### 4.1 ได้ทำการสุ่มตัวอย่างผู้ป่วยในแผนกหนึ่งจำนวน 10 คนและวัดส่วนสูง ได้ค่าดัง heights จงหาค่าเฉลี่ยส่วนสูง"
   ]
  },
  {
   "cell_type": "code",
   "execution_count": null,
   "id": "ae649729-ce66-470d-bce0-e42f64ded1c3",
   "metadata": {
    "id": "ae649729-ce66-470d-bce0-e42f64ded1c3"
   },
   "outputs": [],
   "source": [
    "heights = [172, 154, 165, 159, 173, 177, 180, 169, 158, 175]"
   ]
  },
  {
   "cell_type": "markdown",
   "id": "25ef94a3-a079-42ee-bbda-a43b4e198a28",
   "metadata": {
    "id": "25ef94a3-a079-42ee-bbda-a43b4e198a28"
   },
   "source": [
    "\\\n",
    "ใช้ built-in function sum และ len"
   ]
  },
  {
   "cell_type": "code",
   "execution_count": null,
   "id": "5dc5fdb4-23b3-4dfc-9e76-d2c9b63d0e47",
   "metadata": {
    "colab": {
     "base_uri": "https://localhost:8080/"
    },
    "id": "5dc5fdb4-23b3-4dfc-9e76-d2c9b63d0e47",
    "outputId": "85f7599d-b414-49d3-97cc-037ccb1884ba"
   },
   "outputs": [
    {
     "data": {
      "text/plain": [
       "168.2"
      ]
     },
     "execution_count": 4,
     "metadata": {},
     "output_type": "execute_result"
    }
   ],
   "source": [
    "sum(heights)/len(heights)"
   ]
  },
  {
   "cell_type": "markdown",
   "id": "f02ba188-37ff-4179-9b6c-4cb15bfc57aa",
   "metadata": {
    "id": "f02ba188-37ff-4179-9b6c-4cb15bfc57aa"
   },
   "source": [
    "\\\n",
    "ใช้ numpy.mean()"
   ]
  },
  {
   "cell_type": "code",
   "execution_count": null,
   "id": "df7fa960-1356-4ed6-a876-ad34e5bae39a",
   "metadata": {
    "colab": {
     "base_uri": "https://localhost:8080/"
    },
    "id": "df7fa960-1356-4ed6-a876-ad34e5bae39a",
    "outputId": "b98e4397-2079-4346-aeb3-4c39a8197059"
   },
   "outputs": [
    {
     "data": {
      "text/plain": [
       "168.2"
      ]
     },
     "execution_count": 5,
     "metadata": {},
     "output_type": "execute_result"
    }
   ],
   "source": [
    "np.mean(heights)"
   ]
  },
  {
   "cell_type": "markdown",
   "id": "18903778-539f-4e6b-97d7-f856f66b5e58",
   "metadata": {
    "id": "18903778-539f-4e6b-97d7-f856f66b5e58"
   },
   "source": [
    "\\\n",
    "ใช้ statistics.mean()"
   ]
  },
  {
   "cell_type": "code",
   "execution_count": null,
   "id": "661c228d-2608-4fb0-b150-45454d372556",
   "metadata": {
    "colab": {
     "base_uri": "https://localhost:8080/"
    },
    "id": "661c228d-2608-4fb0-b150-45454d372556",
    "outputId": "f05236fa-f911-4309-cc9a-e248212586b1"
   },
   "outputs": [
    {
     "data": {
      "text/plain": [
       "168.2"
      ]
     },
     "execution_count": 6,
     "metadata": {},
     "output_type": "execute_result"
    }
   ],
   "source": [
    "statistics.mean(heights)"
   ]
  },
  {
   "cell_type": "markdown",
   "id": "QbFuM26rbb1f",
   "metadata": {
    "id": "QbFuM26rbb1f"
   },
   "source": [
    "---"
   ]
  },
  {
   "cell_type": "markdown",
   "id": "fd32bcf5-315a-43bb-af22-018937924805",
   "metadata": {
    "id": "fd32bcf5-315a-43bb-af22-018937924805",
    "tags": []
   },
   "source": [
    "####  \n",
    "#### 4.2 ตารางแจกแจงความถี่แสดงเวลาที่รถยนต์ซึ่งถูกสุ่มเป็นตัวอย่างจำนวน 40 คันใช้ในการรอสัญญาณไฟจราจร ก่อนที่จะผ่านสี่แยกหลักสี่ มีข้อมูลดังปรากฏในไฟล์ 'ex3_2_traffic.csv' จงหาเวลาเฉลี่ยที่รถยนต์ 40 คันใช้ในการรอสัญญาณไฟจราจร"
   ]
  },
  {
   "cell_type": "code",
   "execution_count": 3,
   "id": "97afd342-af9e-4d28-9422-fe3aa59befc6",
   "metadata": {
    "colab": {
     "base_uri": "https://localhost:8080/",
     "height": 238
    },
    "id": "97afd342-af9e-4d28-9422-fe3aa59befc6",
    "outputId": "5225f7ca-801b-4fee-e2ab-36de11da5dd4"
   },
   "outputs": [
    {
     "data": {
      "text/html": [
       "<div>\n",
       "<style scoped>\n",
       "    .dataframe tbody tr th:only-of-type {\n",
       "        vertical-align: middle;\n",
       "    }\n",
       "\n",
       "    .dataframe tbody tr th {\n",
       "        vertical-align: top;\n",
       "    }\n",
       "\n",
       "    .dataframe thead th {\n",
       "        text-align: right;\n",
       "    }\n",
       "</style>\n",
       "<table border=\"1\" class=\"dataframe\">\n",
       "  <thead>\n",
       "    <tr style=\"text-align: right;\">\n",
       "      <th></th>\n",
       "      <th>เวลาที่รอ (นาที)</th>\n",
       "      <th>ความถี่ (f)</th>\n",
       "    </tr>\n",
       "  </thead>\n",
       "  <tbody>\n",
       "    <tr>\n",
       "      <th>0</th>\n",
       "      <td>11-15</td>\n",
       "      <td>5</td>\n",
       "    </tr>\n",
       "    <tr>\n",
       "      <th>1</th>\n",
       "      <td>16-20</td>\n",
       "      <td>4</td>\n",
       "    </tr>\n",
       "    <tr>\n",
       "      <th>2</th>\n",
       "      <td>21-25</td>\n",
       "      <td>10</td>\n",
       "    </tr>\n",
       "    <tr>\n",
       "      <th>3</th>\n",
       "      <td>26-30</td>\n",
       "      <td>8</td>\n",
       "    </tr>\n",
       "    <tr>\n",
       "      <th>4</th>\n",
       "      <td>31-35</td>\n",
       "      <td>6</td>\n",
       "    </tr>\n",
       "    <tr>\n",
       "      <th>5</th>\n",
       "      <td>36-40</td>\n",
       "      <td>7</td>\n",
       "    </tr>\n",
       "  </tbody>\n",
       "</table>\n",
       "</div>"
      ],
      "text/plain": [
       "  เวลาที่รอ (นาที)  ความถี่ (f)\n",
       "0            11-15            5\n",
       "1            16-20            4\n",
       "2            21-25           10\n",
       "3            26-30            8\n",
       "4            31-35            6\n",
       "5            36-40            7"
      ]
     },
     "execution_count": 3,
     "metadata": {},
     "output_type": "execute_result"
    }
   ],
   "source": [
    "df_traffic = pd.read_csv('data/ex4_2_traffic.csv')\n",
    "df_traffic"
   ]
  },
  {
   "cell_type": "markdown",
   "id": "e9f48f9e-c0c2-4d2c-8d46-5c16bae3e634",
   "metadata": {
    "id": "e9f48f9e-c0c2-4d2c-8d46-5c16bae3e634"
   },
   "source": [
    "\\\n",
    "ก่อนอื่นต้องหาค่ากึ่งกลาง ของแต่ละช่วงเวลาที่รอ เพื่อให้สะดวกในการแสดงผลเราจะแสดงค่ากึ่งกลางเป็นคอลัมน์ใหม่"
   ]
  },
  {
   "cell_type": "markdown",
   "id": "6bb5720f-6331-4a58-8c36-dcba04bee08b",
   "metadata": {
    "id": "6bb5720f-6331-4a58-8c36-dcba04bee08b"
   },
   "source": [
    "แต่คอลัมน์ช่วงเวลายังเป็น String ของช่วงเวลา เราต้องทำการแยก ขอบเขตบนและขอบเขตล่าง และแปลงค่าให้เป็น int/double"
   ]
  },
  {
   "cell_type": "code",
   "execution_count": 6,
   "id": "d994f928-98c9-4f82-8f58-a9bf00ae04f1",
   "metadata": {
    "colab": {
     "base_uri": "https://localhost:8080/",
     "height": 238
    },
    "id": "d994f928-98c9-4f82-8f58-a9bf00ae04f1",
    "outputId": "94a05c22-2ea9-4bae-acff-692af92ff722"
   },
   "outputs": [
    {
     "data": {
      "text/html": [
       "<div>\n",
       "<style scoped>\n",
       "    .dataframe tbody tr th:only-of-type {\n",
       "        vertical-align: middle;\n",
       "    }\n",
       "\n",
       "    .dataframe tbody tr th {\n",
       "        vertical-align: top;\n",
       "    }\n",
       "\n",
       "    .dataframe thead th {\n",
       "        text-align: right;\n",
       "    }\n",
       "</style>\n",
       "<table border=\"1\" class=\"dataframe\">\n",
       "  <thead>\n",
       "    <tr style=\"text-align: right;\">\n",
       "      <th></th>\n",
       "      <th>0</th>\n",
       "      <th>1</th>\n",
       "    </tr>\n",
       "  </thead>\n",
       "  <tbody>\n",
       "    <tr>\n",
       "      <th>0</th>\n",
       "      <td>11</td>\n",
       "      <td>15</td>\n",
       "    </tr>\n",
       "    <tr>\n",
       "      <th>1</th>\n",
       "      <td>16</td>\n",
       "      <td>20</td>\n",
       "    </tr>\n",
       "    <tr>\n",
       "      <th>2</th>\n",
       "      <td>21</td>\n",
       "      <td>25</td>\n",
       "    </tr>\n",
       "    <tr>\n",
       "      <th>3</th>\n",
       "      <td>26</td>\n",
       "      <td>30</td>\n",
       "    </tr>\n",
       "    <tr>\n",
       "      <th>4</th>\n",
       "      <td>31</td>\n",
       "      <td>35</td>\n",
       "    </tr>\n",
       "    <tr>\n",
       "      <th>5</th>\n",
       "      <td>36</td>\n",
       "      <td>40</td>\n",
       "    </tr>\n",
       "  </tbody>\n",
       "</table>\n",
       "</div>"
      ],
      "text/plain": [
       "    0   1\n",
       "0  11  15\n",
       "1  16  20\n",
       "2  21  25\n",
       "3  26  30\n",
       "4  31  35\n",
       "5  36  40"
      ]
     },
     "execution_count": 6,
     "metadata": {},
     "output_type": "execute_result"
    }
   ],
   "source": [
    "boundary = df_traffic['เวลาที่รอ (นาที)'].str.split('-', expand=True).astype(int)\n",
    "boundary"
   ]
  },
  {
   "cell_type": "code",
   "execution_count": 5,
   "id": "543fb827-36aa-4823-a8b8-dce262b16e3b",
   "metadata": {
    "colab": {
     "base_uri": "https://localhost:8080/",
     "height": 238
    },
    "id": "543fb827-36aa-4823-a8b8-dce262b16e3b",
    "outputId": "d9aef4b4-5a29-4445-fda7-30af6ed6635d"
   },
   "outputs": [
    {
     "data": {
      "text/html": [
       "<div>\n",
       "<style scoped>\n",
       "    .dataframe tbody tr th:only-of-type {\n",
       "        vertical-align: middle;\n",
       "    }\n",
       "\n",
       "    .dataframe tbody tr th {\n",
       "        vertical-align: top;\n",
       "    }\n",
       "\n",
       "    .dataframe thead th {\n",
       "        text-align: right;\n",
       "    }\n",
       "</style>\n",
       "<table border=\"1\" class=\"dataframe\">\n",
       "  <thead>\n",
       "    <tr style=\"text-align: right;\">\n",
       "      <th></th>\n",
       "      <th>เวลาที่รอ (นาที)</th>\n",
       "      <th>ความถี่ (f)</th>\n",
       "      <th>ค่ากึ่งกลาง (x)</th>\n",
       "    </tr>\n",
       "  </thead>\n",
       "  <tbody>\n",
       "    <tr>\n",
       "      <th>0</th>\n",
       "      <td>11-15</td>\n",
       "      <td>5</td>\n",
       "      <td>13.0</td>\n",
       "    </tr>\n",
       "    <tr>\n",
       "      <th>1</th>\n",
       "      <td>16-20</td>\n",
       "      <td>4</td>\n",
       "      <td>18.0</td>\n",
       "    </tr>\n",
       "    <tr>\n",
       "      <th>2</th>\n",
       "      <td>21-25</td>\n",
       "      <td>10</td>\n",
       "      <td>23.0</td>\n",
       "    </tr>\n",
       "    <tr>\n",
       "      <th>3</th>\n",
       "      <td>26-30</td>\n",
       "      <td>8</td>\n",
       "      <td>28.0</td>\n",
       "    </tr>\n",
       "    <tr>\n",
       "      <th>4</th>\n",
       "      <td>31-35</td>\n",
       "      <td>6</td>\n",
       "      <td>33.0</td>\n",
       "    </tr>\n",
       "    <tr>\n",
       "      <th>5</th>\n",
       "      <td>36-40</td>\n",
       "      <td>7</td>\n",
       "      <td>38.0</td>\n",
       "    </tr>\n",
       "  </tbody>\n",
       "</table>\n",
       "</div>"
      ],
      "text/plain": [
       "  เวลาที่รอ (นาที)  ความถี่ (f)  ค่ากึ่งกลาง (x)\n",
       "0            11-15            5             13.0\n",
       "1            16-20            4             18.0\n",
       "2            21-25           10             23.0\n",
       "3            26-30            8             28.0\n",
       "4            31-35            6             33.0\n",
       "5            36-40            7             38.0"
      ]
     },
     "execution_count": 5,
     "metadata": {},
     "output_type": "execute_result"
    }
   ],
   "source": [
    "df_traffic['ค่ากึ่งกลาง (x)'] = (boundary[0]+boundary[1])/2\n",
    "df_traffic"
   ]
  },
  {
   "cell_type": "markdown",
   "id": "9c0bd5f6-bb03-4efc-a947-2a3c6ef4b0d3",
   "metadata": {
    "id": "9c0bd5f6-bb03-4efc-a947-2a3c6ef4b0d3"
   },
   "source": [
    "\\\n",
    "คำนวณค่ากึ่งกลางคูณด้วยความถี่ (fx)"
   ]
  },
  {
   "cell_type": "code",
   "execution_count": 7,
   "id": "05f52475-8f43-48ca-ab8f-f43e5e0be1df",
   "metadata": {
    "colab": {
     "base_uri": "https://localhost:8080/",
     "height": 238
    },
    "id": "05f52475-8f43-48ca-ab8f-f43e5e0be1df",
    "outputId": "20fe1be9-6fe5-4c2c-a61f-bd5fe1de3a54"
   },
   "outputs": [
    {
     "data": {
      "text/html": [
       "<div>\n",
       "<style scoped>\n",
       "    .dataframe tbody tr th:only-of-type {\n",
       "        vertical-align: middle;\n",
       "    }\n",
       "\n",
       "    .dataframe tbody tr th {\n",
       "        vertical-align: top;\n",
       "    }\n",
       "\n",
       "    .dataframe thead th {\n",
       "        text-align: right;\n",
       "    }\n",
       "</style>\n",
       "<table border=\"1\" class=\"dataframe\">\n",
       "  <thead>\n",
       "    <tr style=\"text-align: right;\">\n",
       "      <th></th>\n",
       "      <th>เวลาที่รอ (นาที)</th>\n",
       "      <th>ความถี่ (f)</th>\n",
       "      <th>ค่ากึ่งกลาง (x)</th>\n",
       "      <th>fx</th>\n",
       "    </tr>\n",
       "  </thead>\n",
       "  <tbody>\n",
       "    <tr>\n",
       "      <th>0</th>\n",
       "      <td>11-15</td>\n",
       "      <td>5</td>\n",
       "      <td>13.0</td>\n",
       "      <td>65.0</td>\n",
       "    </tr>\n",
       "    <tr>\n",
       "      <th>1</th>\n",
       "      <td>16-20</td>\n",
       "      <td>4</td>\n",
       "      <td>18.0</td>\n",
       "      <td>72.0</td>\n",
       "    </tr>\n",
       "    <tr>\n",
       "      <th>2</th>\n",
       "      <td>21-25</td>\n",
       "      <td>10</td>\n",
       "      <td>23.0</td>\n",
       "      <td>230.0</td>\n",
       "    </tr>\n",
       "    <tr>\n",
       "      <th>3</th>\n",
       "      <td>26-30</td>\n",
       "      <td>8</td>\n",
       "      <td>28.0</td>\n",
       "      <td>224.0</td>\n",
       "    </tr>\n",
       "    <tr>\n",
       "      <th>4</th>\n",
       "      <td>31-35</td>\n",
       "      <td>6</td>\n",
       "      <td>33.0</td>\n",
       "      <td>198.0</td>\n",
       "    </tr>\n",
       "    <tr>\n",
       "      <th>5</th>\n",
       "      <td>36-40</td>\n",
       "      <td>7</td>\n",
       "      <td>38.0</td>\n",
       "      <td>266.0</td>\n",
       "    </tr>\n",
       "  </tbody>\n",
       "</table>\n",
       "</div>"
      ],
      "text/plain": [
       "  เวลาที่รอ (นาที)  ความถี่ (f)  ค่ากึ่งกลาง (x)     fx\n",
       "0            11-15            5             13.0   65.0\n",
       "1            16-20            4             18.0   72.0\n",
       "2            21-25           10             23.0  230.0\n",
       "3            26-30            8             28.0  224.0\n",
       "4            31-35            6             33.0  198.0\n",
       "5            36-40            7             38.0  266.0"
      ]
     },
     "execution_count": 7,
     "metadata": {},
     "output_type": "execute_result"
    }
   ],
   "source": [
    "df_traffic['fx'] = df_traffic['ความถี่ (f)']*df_traffic['ค่ากึ่งกลาง (x)']\n",
    "df_traffic"
   ]
  },
  {
   "cell_type": "markdown",
   "id": "0cd31e3f-2242-47d6-ae85-817fa8e0a189",
   "metadata": {
    "id": "0cd31e3f-2242-47d6-ae85-817fa8e0a189"
   },
   "source": [
    "\\\n",
    "คำนวณเวลาเฉลี่ยที่รถยนต์ 40 คันใช้ในการรอสัญญาณไฟจราจร"
   ]
  },
  {
   "cell_type": "code",
   "execution_count": 8,
   "id": "d2ca154b-3d26-4c69-a628-dfe2170c5e88",
   "metadata": {
    "colab": {
     "base_uri": "https://localhost:8080/"
    },
    "id": "d2ca154b-3d26-4c69-a628-dfe2170c5e88",
    "outputId": "f91446b9-c5e1-4bac-d213-14bcbb8cb00c"
   },
   "outputs": [
    {
     "data": {
      "text/plain": [
       "26.375"
      ]
     },
     "execution_count": 8,
     "metadata": {},
     "output_type": "execute_result"
    }
   ],
   "source": [
    "df_traffic['fx'].sum() / 40"
   ]
  },
  {
   "cell_type": "markdown",
   "id": "pttEJnSxc6Ba",
   "metadata": {
    "id": "pttEJnSxc6Ba"
   },
   "source": [
    "---"
   ]
  },
  {
   "cell_type": "markdown",
   "id": "088446a1-a19c-4630-8e7d-86c2786a939f",
   "metadata": {
    "id": "088446a1-a19c-4630-8e7d-86c2786a939f",
    "tags": []
   },
   "source": [
    "####  \n",
    "#### 4.3 ในการสอบวิชาการเขียนโปรแกรมครั้งหนึ่งมีนักศึกษาเข้าสอบ 3 กลุ่ม โดยที่ <br>กลุ่ม 1 มีนิสิตเข้าสอบ 50 คน มีคะแนนเฉลี่ย 58 คะแนน<br>กลุ่ม 2 มีนิสิตเข้าสอบ 40 คน มีคะแนนเฉลี่ย 70 คะแนน<br>กลุ่ม 3 มีนิสิตเข้าสอบ 60 คน มีคะแนนเฉลี่ย 52 คะแนน<br>จงหาค่าเฉลี่ยรวมของคะแนนสอบของนิสิตที่เรียนวิชาการเขียนโปรแกรม  "
   ]
  },
  {
   "cell_type": "code",
   "execution_count": 10,
   "id": "4867a424-f43e-451a-b025-aa347eb07a2e",
   "metadata": {
    "colab": {
     "base_uri": "https://localhost:8080/",
     "height": 143
    },
    "id": "4867a424-f43e-451a-b025-aa347eb07a2e",
    "outputId": "1176f762-86e6-4740-a8c8-3b528c0ef895"
   },
   "outputs": [
    {
     "data": {
      "text/html": [
       "<div>\n",
       "<style scoped>\n",
       "    .dataframe tbody tr th:only-of-type {\n",
       "        vertical-align: middle;\n",
       "    }\n",
       "\n",
       "    .dataframe tbody tr th {\n",
       "        vertical-align: top;\n",
       "    }\n",
       "\n",
       "    .dataframe thead th {\n",
       "        text-align: right;\n",
       "    }\n",
       "</style>\n",
       "<table border=\"1\" class=\"dataframe\">\n",
       "  <thead>\n",
       "    <tr style=\"text-align: right;\">\n",
       "      <th></th>\n",
       "      <th>section</th>\n",
       "      <th>num_student</th>\n",
       "      <th>avg_score</th>\n",
       "    </tr>\n",
       "  </thead>\n",
       "  <tbody>\n",
       "    <tr>\n",
       "      <th>0</th>\n",
       "      <td>1</td>\n",
       "      <td>50</td>\n",
       "      <td>58</td>\n",
       "    </tr>\n",
       "    <tr>\n",
       "      <th>1</th>\n",
       "      <td>2</td>\n",
       "      <td>40</td>\n",
       "      <td>70</td>\n",
       "    </tr>\n",
       "    <tr>\n",
       "      <th>2</th>\n",
       "      <td>3</td>\n",
       "      <td>60</td>\n",
       "      <td>52</td>\n",
       "    </tr>\n",
       "  </tbody>\n",
       "</table>\n",
       "</div>"
      ],
      "text/plain": [
       "   section  num_student  avg_score\n",
       "0        1           50         58\n",
       "1        2           40         70\n",
       "2        3           60         52"
      ]
     },
     "execution_count": 10,
     "metadata": {},
     "output_type": "execute_result"
    }
   ],
   "source": [
    "df_prog = pd.read_csv(\"data/ex4_3_programming.csv\")\n",
    "df_prog"
   ]
  },
  {
   "cell_type": "markdown",
   "id": "6f388d95-822b-4f32-b1c8-f54ee43b9286",
   "metadata": {
    "id": "6f388d95-822b-4f32-b1c8-f54ee43b9286"
   },
   "source": [
    "หาค่าเฉลี่ยรวมของคะแนนสอบของนิสิตที่เรียนวิชาการเขียนโปรแกรม"
   ]
  },
  {
   "cell_type": "code",
   "execution_count": 11,
   "id": "3c49dceb-bb84-4458-a391-d7fcdd5364b3",
   "metadata": {
    "colab": {
     "base_uri": "https://localhost:8080/"
    },
    "id": "3c49dceb-bb84-4458-a391-d7fcdd5364b3",
    "outputId": "f67b235d-fdbe-474a-9b11-3ff81a4a6ca6"
   },
   "outputs": [
    {
     "data": {
      "text/plain": [
       "58.8"
      ]
     },
     "execution_count": 11,
     "metadata": {},
     "output_type": "execute_result"
    }
   ],
   "source": [
    "sum(df_prog.num_student*df_prog.avg_score)/df_prog.num_student.sum()"
   ]
  },
  {
   "cell_type": "markdown",
   "id": "nfGqAXlAdeYu",
   "metadata": {
    "id": "nfGqAXlAdeYu"
   },
   "source": [
    "---"
   ]
  },
  {
   "cell_type": "markdown",
   "id": "2fd01e27-9e42-4f31-b9c9-a7e29fe89f31",
   "metadata": {
    "id": "2fd01e27-9e42-4f31-b9c9-a7e29fe89f31"
   },
   "source": [
    "####  \n",
    "#### 4.4 ทำการสำรวจรายได้ของผู้ที่มาใช้บริการธนาคารแห่งหนึ่งจำนวน 11 คน ได้ข้อมูลดังนี้"
   ]
  },
  {
   "cell_type": "code",
   "execution_count": 12,
   "id": "657f017f-4e8c-4e7c-8888-852042a6b61c",
   "metadata": {
    "id": "657f017f-4e8c-4e7c-8888-852042a6b61c"
   },
   "outputs": [],
   "source": [
    "income = [25000, 32000, 45000, 22000, 18000, 34000, 27000, 90000, 97000, 38000, 75000]"
   ]
  },
  {
   "cell_type": "code",
   "execution_count": 13,
   "id": "4547afd7-9afa-4fb6-9ae3-5d0a93aac151",
   "metadata": {
    "colab": {
     "base_uri": "https://localhost:8080/"
    },
    "id": "4547afd7-9afa-4fb6-9ae3-5d0a93aac151",
    "outputId": "28056a2a-0922-4bcd-bf15-e1838de2cc07"
   },
   "outputs": [
    {
     "data": {
      "text/plain": [
       "11"
      ]
     },
     "execution_count": 13,
     "metadata": {},
     "output_type": "execute_result"
    }
   ],
   "source": [
    "len(income)"
   ]
  },
  {
   "cell_type": "markdown",
   "id": "30202243-f1d9-4943-aab0-ce8073f90b47",
   "metadata": {
    "id": "30202243-f1d9-4943-aab0-ce8073f90b47"
   },
   "source": [
    "\\\n",
    "ลองเรียงลำดับข้อมูล"
   ]
  },
  {
   "cell_type": "code",
   "execution_count": null,
   "id": "cb37ff50-7c6b-4687-8e20-60ed1b24d917",
   "metadata": {
    "colab": {
     "base_uri": "https://localhost:8080/"
    },
    "id": "cb37ff50-7c6b-4687-8e20-60ed1b24d917",
    "outputId": "e21ef13b-0d05-4975-cc5f-ed02f824a9f6"
   },
   "outputs": [
    {
     "data": {
      "text/plain": [
       "[18000, 22000, 25000, 27000, 32000, 34000, 38000, 45000, 75000, 90000, 97000]"
      ]
     },
     "execution_count": 16,
     "metadata": {},
     "output_type": "execute_result"
    }
   ],
   "source": [
    "sorted(income)"
   ]
  },
  {
   "cell_type": "markdown",
   "id": "ab60ced5-9d52-403a-8b8a-656b4c460684",
   "metadata": {
    "id": "ab60ced5-9d52-403a-8b8a-656b4c460684"
   },
   "source": [
    "\\\n",
    "หาค่า median"
   ]
  },
  {
   "cell_type": "markdown",
   "id": "d8nEfHS9ex3_",
   "metadata": {
    "id": "d8nEfHS9ex3_"
   },
   "source": [
    "ใช้การคำนวนตามสูตร:"
   ]
  },
  {
   "cell_type": "code",
   "execution_count": null,
   "id": "5dd03994-140f-4e3a-b46d-7d03290eca8e",
   "metadata": {
    "colab": {
     "base_uri": "https://localhost:8080/"
    },
    "id": "5dd03994-140f-4e3a-b46d-7d03290eca8e",
    "outputId": "a5d11427-5ede-4183-eb30-d757b520126b"
   },
   "outputs": [
    {
     "data": {
      "text/plain": [
       "34000"
      ]
     },
     "execution_count": 17,
     "metadata": {},
     "output_type": "execute_result"
    }
   ],
   "source": [
    "sorted(income)[(int)((len(income)+1)/2)-1]"
   ]
  },
  {
   "cell_type": "markdown",
   "id": "hwzvHHSWfOGs",
   "metadata": {
    "id": "hwzvHHSWfOGs"
   },
   "source": [
    "ใช้ statistics.median:"
   ]
  },
  {
   "cell_type": "code",
   "execution_count": null,
   "id": "c5cdc8b8-212c-4cea-baea-ba0da34231de",
   "metadata": {
    "colab": {
     "base_uri": "https://localhost:8080/"
    },
    "id": "c5cdc8b8-212c-4cea-baea-ba0da34231de",
    "outputId": "3898fd3e-7d5e-4d87-e101-eb4eec5dcb8c"
   },
   "outputs": [
    {
     "data": {
      "text/plain": [
       "34000"
      ]
     },
     "execution_count": 18,
     "metadata": {},
     "output_type": "execute_result"
    }
   ],
   "source": [
    "statistics.median(income)"
   ]
  },
  {
   "cell_type": "markdown",
   "id": "0XZV5Z_cfdgv",
   "metadata": {
    "id": "0XZV5Z_cfdgv"
   },
   "source": [
    "ใช้ np.median:"
   ]
  },
  {
   "cell_type": "code",
   "execution_count": 14,
   "id": "67fb652f-fdc1-4043-998c-465991283b94",
   "metadata": {
    "colab": {
     "base_uri": "https://localhost:8080/"
    },
    "id": "67fb652f-fdc1-4043-998c-465991283b94",
    "outputId": "ae4b4792-de6d-4b51-997f-e5952f9b44e5"
   },
   "outputs": [
    {
     "data": {
      "text/plain": [
       "34000.0"
      ]
     },
     "execution_count": 14,
     "metadata": {},
     "output_type": "execute_result"
    }
   ],
   "source": [
    "np.median(income)"
   ]
  },
  {
   "cell_type": "markdown",
   "id": "43541885-2a1c-4377-8819-a7dd55060819",
   "metadata": {
    "id": "43541885-2a1c-4377-8819-a7dd55060819"
   },
   "source": [
    "\\\n",
    "หาค่า mean:"
   ]
  },
  {
   "cell_type": "code",
   "execution_count": null,
   "id": "810921d7-ff9f-4255-a2d5-4fe6b9507784",
   "metadata": {
    "colab": {
     "base_uri": "https://localhost:8080/"
    },
    "id": "810921d7-ff9f-4255-a2d5-4fe6b9507784",
    "outputId": "8feaa85c-e2fd-42bd-a9d8-1d613a212c70"
   },
   "outputs": [
    {
     "data": {
      "text/plain": [
       "45727.27272727273"
      ]
     },
     "execution_count": 74,
     "metadata": {},
     "output_type": "execute_result"
    }
   ],
   "source": [
    "np.mean(income)"
   ]
  },
  {
   "cell_type": "markdown",
   "id": "gSujcHAsflIJ",
   "metadata": {
    "id": "gSujcHAsflIJ"
   },
   "source": [
    "---"
   ]
  },
  {
   "cell_type": "markdown",
   "id": "5b9a77b0-c7f4-40a2-b283-34e33be83aa2",
   "metadata": {
    "id": "5b9a77b0-c7f4-40a2-b283-34e33be83aa2"
   },
   "source": [
    "####  \n",
    "#### 4.5 สุ่มนิสิตมา 10 คน พบว่ามี GPA ดังนี้  3.5, 2.4, 3.3, 2.7, 3.6, 3.9, 3.0, 2.8, 3.1, 2.9<br>มัธยฐาน GPA ของตัวอย่างมีค่าเท่าใด?"
   ]
  },
  {
   "cell_type": "code",
   "execution_count": null,
   "id": "bf9a3efc-6d97-4a68-a092-12b04e43d6e0",
   "metadata": {
    "id": "bf9a3efc-6d97-4a68-a092-12b04e43d6e0"
   },
   "outputs": [],
   "source": [
    "gpa = [3.5, 2.4, 3.3, 2.7, 3.6, 3.9, 3.0, 2.8, 3.1, 2.9] "
   ]
  },
  {
   "cell_type": "markdown",
   "id": "de9f379b-9367-4755-8974-39ea6e6f7b75",
   "metadata": {
    "id": "de9f379b-9367-4755-8974-39ea6e6f7b75"
   },
   "source": [
    "\\\n",
    "ขนาดเป็นเลขคู่"
   ]
  },
  {
   "cell_type": "code",
   "execution_count": null,
   "id": "7da62d41-b11e-4574-81b8-e9e75f4f6aae",
   "metadata": {
    "colab": {
     "base_uri": "https://localhost:8080/"
    },
    "id": "7da62d41-b11e-4574-81b8-e9e75f4f6aae",
    "outputId": "4ba21cb6-e6ef-4dc4-8af8-19f5b7ee60c0"
   },
   "outputs": [
    {
     "data": {
      "text/plain": [
       "10"
      ]
     },
     "execution_count": 20,
     "metadata": {},
     "output_type": "execute_result"
    }
   ],
   "source": [
    "len(gpa)"
   ]
  },
  {
   "cell_type": "code",
   "execution_count": null,
   "id": "d856a388-937c-4283-b743-d4b47b8bc532",
   "metadata": {
    "colab": {
     "base_uri": "https://localhost:8080/"
    },
    "id": "d856a388-937c-4283-b743-d4b47b8bc532",
    "outputId": "8705073e-f541-4b65-94cb-c0d8a3d5f126"
   },
   "outputs": [
    {
     "data": {
      "text/plain": [
       "3.05"
      ]
     },
     "execution_count": 21,
     "metadata": {},
     "output_type": "execute_result"
    }
   ],
   "source": [
    "np.median(gpa)"
   ]
  },
  {
   "cell_type": "markdown",
   "id": "WhphcuPdfq4p",
   "metadata": {
    "id": "WhphcuPdfq4p"
   },
   "source": [
    "---"
   ]
  },
  {
   "cell_type": "markdown",
   "id": "2b1168f2-6b80-48a3-b66d-fa6621df08af",
   "metadata": {
    "id": "2b1168f2-6b80-48a3-b66d-fa6621df08af"
   },
   "source": [
    "#### 4.6 ตาราง \"ex3_6_visitor.csv\" แสดงระยะเวลา (หน่วย: วัน) ที่นักท่องเที่ยวชาวต่างประเทศที่ถูกสุ่มเป็นตัวอย่างจำนวน 36 คน ใช้เวลาท่องเที่ยวในประเทศไทยในช่วง 1 ปี มีดังตาราง จงหามัธยฐานของระยะเวลาที่นักท่องเที่ยวชาวต่างประเทศใช้ท่องเที่ยวในประเทศไทย"
   ]
  },
  {
   "cell_type": "code",
   "execution_count": 15,
   "id": "02a3e42e-52b9-4f4c-b26a-c2c59606607a",
   "metadata": {
    "colab": {
     "base_uri": "https://localhost:8080/",
     "height": 269
    },
    "id": "02a3e42e-52b9-4f4c-b26a-c2c59606607a",
    "outputId": "35005c32-1843-44a1-b438-eccdd1af85d1"
   },
   "outputs": [
    {
     "data": {
      "text/html": [
       "<div>\n",
       "<style scoped>\n",
       "    .dataframe tbody tr th:only-of-type {\n",
       "        vertical-align: middle;\n",
       "    }\n",
       "\n",
       "    .dataframe tbody tr th {\n",
       "        vertical-align: top;\n",
       "    }\n",
       "\n",
       "    .dataframe thead th {\n",
       "        text-align: right;\n",
       "    }\n",
       "</style>\n",
       "<table border=\"1\" class=\"dataframe\">\n",
       "  <thead>\n",
       "    <tr style=\"text-align: right;\">\n",
       "      <th></th>\n",
       "      <th>duration</th>\n",
       "      <th>num_visitor</th>\n",
       "    </tr>\n",
       "  </thead>\n",
       "  <tbody>\n",
       "    <tr>\n",
       "      <th>0</th>\n",
       "      <td>1-7</td>\n",
       "      <td>4</td>\n",
       "    </tr>\n",
       "    <tr>\n",
       "      <th>1</th>\n",
       "      <td>8-14</td>\n",
       "      <td>6</td>\n",
       "    </tr>\n",
       "    <tr>\n",
       "      <th>2</th>\n",
       "      <td>15-21</td>\n",
       "      <td>5</td>\n",
       "    </tr>\n",
       "    <tr>\n",
       "      <th>3</th>\n",
       "      <td>22-28</td>\n",
       "      <td>10</td>\n",
       "    </tr>\n",
       "    <tr>\n",
       "      <th>4</th>\n",
       "      <td>29-35</td>\n",
       "      <td>6</td>\n",
       "    </tr>\n",
       "    <tr>\n",
       "      <th>5</th>\n",
       "      <td>36-42</td>\n",
       "      <td>4</td>\n",
       "    </tr>\n",
       "    <tr>\n",
       "      <th>6</th>\n",
       "      <td>43-49</td>\n",
       "      <td>1</td>\n",
       "    </tr>\n",
       "  </tbody>\n",
       "</table>\n",
       "</div>"
      ],
      "text/plain": [
       "  duration  num_visitor\n",
       "0      1-7            4\n",
       "1     8-14            6\n",
       "2    15-21            5\n",
       "3    22-28           10\n",
       "4    29-35            6\n",
       "5    36-42            4\n",
       "6    43-49            1"
      ]
     },
     "execution_count": 15,
     "metadata": {},
     "output_type": "execute_result"
    }
   ],
   "source": [
    "df_visit = pd.read_csv(\"data/ex4_6_visitor.csv\")\n",
    "df_visit"
   ]
  },
  {
   "cell_type": "markdown",
   "id": "89b0c3da-8d66-4c20-95c3-ad66d47ceb45",
   "metadata": {
    "id": "89b0c3da-8d66-4c20-95c3-ad66d47ceb45"
   },
   "source": [
    "\\\n",
    "แปลง duration ให้เป็น 2 columns เพื่อให้สามารถนำตัวเลขไปใช้คำนวณได้:"
   ]
  },
  {
   "cell_type": "code",
   "execution_count": null,
   "id": "199efb24-2983-4346-97e2-c832990f32c7",
   "metadata": {
    "colab": {
     "base_uri": "https://localhost:8080/",
     "height": 269
    },
    "id": "199efb24-2983-4346-97e2-c832990f32c7",
    "outputId": "5e59f5cb-0403-432b-e91a-b522f1962585"
   },
   "outputs": [
    {
     "data": {
      "text/html": [
       "\n",
       "  <div id=\"df-a41fea07-fd70-4cdf-8f95-ec96b6b1dbde\">\n",
       "    <div class=\"colab-df-container\">\n",
       "      <div>\n",
       "<style scoped>\n",
       "    .dataframe tbody tr th:only-of-type {\n",
       "        vertical-align: middle;\n",
       "    }\n",
       "\n",
       "    .dataframe tbody tr th {\n",
       "        vertical-align: top;\n",
       "    }\n",
       "\n",
       "    .dataframe thead th {\n",
       "        text-align: right;\n",
       "    }\n",
       "</style>\n",
       "<table border=\"1\" class=\"dataframe\">\n",
       "  <thead>\n",
       "    <tr style=\"text-align: right;\">\n",
       "      <th></th>\n",
       "      <th>duration</th>\n",
       "      <th>num_visitor</th>\n",
       "      <th>num_visitor_cum</th>\n",
       "      <th>du_from</th>\n",
       "      <th>du_to</th>\n",
       "    </tr>\n",
       "  </thead>\n",
       "  <tbody>\n",
       "    <tr>\n",
       "      <th>0</th>\n",
       "      <td>1-7</td>\n",
       "      <td>4</td>\n",
       "      <td>4</td>\n",
       "      <td>1</td>\n",
       "      <td>7</td>\n",
       "    </tr>\n",
       "    <tr>\n",
       "      <th>1</th>\n",
       "      <td>8-14</td>\n",
       "      <td>6</td>\n",
       "      <td>10</td>\n",
       "      <td>8</td>\n",
       "      <td>14</td>\n",
       "    </tr>\n",
       "    <tr>\n",
       "      <th>2</th>\n",
       "      <td>15-21</td>\n",
       "      <td>5</td>\n",
       "      <td>15</td>\n",
       "      <td>15</td>\n",
       "      <td>21</td>\n",
       "    </tr>\n",
       "    <tr>\n",
       "      <th>3</th>\n",
       "      <td>22-28</td>\n",
       "      <td>10</td>\n",
       "      <td>25</td>\n",
       "      <td>22</td>\n",
       "      <td>28</td>\n",
       "    </tr>\n",
       "    <tr>\n",
       "      <th>4</th>\n",
       "      <td>29-35</td>\n",
       "      <td>6</td>\n",
       "      <td>31</td>\n",
       "      <td>29</td>\n",
       "      <td>35</td>\n",
       "    </tr>\n",
       "    <tr>\n",
       "      <th>5</th>\n",
       "      <td>36-42</td>\n",
       "      <td>4</td>\n",
       "      <td>35</td>\n",
       "      <td>36</td>\n",
       "      <td>42</td>\n",
       "    </tr>\n",
       "    <tr>\n",
       "      <th>6</th>\n",
       "      <td>43-49</td>\n",
       "      <td>1</td>\n",
       "      <td>36</td>\n",
       "      <td>43</td>\n",
       "      <td>49</td>\n",
       "    </tr>\n",
       "  </tbody>\n",
       "</table>\n",
       "</div>\n",
       "      <button class=\"colab-df-convert\" onclick=\"convertToInteractive('df-a41fea07-fd70-4cdf-8f95-ec96b6b1dbde')\"\n",
       "              title=\"Convert this dataframe to an interactive table.\"\n",
       "              style=\"display:none;\">\n",
       "        \n",
       "  <svg xmlns=\"http://www.w3.org/2000/svg\" height=\"24px\"viewBox=\"0 0 24 24\"\n",
       "       width=\"24px\">\n",
       "    <path d=\"M0 0h24v24H0V0z\" fill=\"none\"/>\n",
       "    <path d=\"M18.56 5.44l.94 2.06.94-2.06 2.06-.94-2.06-.94-.94-2.06-.94 2.06-2.06.94zm-11 1L8.5 8.5l.94-2.06 2.06-.94-2.06-.94L8.5 2.5l-.94 2.06-2.06.94zm10 10l.94 2.06.94-2.06 2.06-.94-2.06-.94-.94-2.06-.94 2.06-2.06.94z\"/><path d=\"M17.41 7.96l-1.37-1.37c-.4-.4-.92-.59-1.43-.59-.52 0-1.04.2-1.43.59L10.3 9.45l-7.72 7.72c-.78.78-.78 2.05 0 2.83L4 21.41c.39.39.9.59 1.41.59.51 0 1.02-.2 1.41-.59l7.78-7.78 2.81-2.81c.8-.78.8-2.07 0-2.86zM5.41 20L4 18.59l7.72-7.72 1.47 1.35L5.41 20z\"/>\n",
       "  </svg>\n",
       "      </button>\n",
       "      \n",
       "  <style>\n",
       "    .colab-df-container {\n",
       "      display:flex;\n",
       "      flex-wrap:wrap;\n",
       "      gap: 12px;\n",
       "    }\n",
       "\n",
       "    .colab-df-convert {\n",
       "      background-color: #E8F0FE;\n",
       "      border: none;\n",
       "      border-radius: 50%;\n",
       "      cursor: pointer;\n",
       "      display: none;\n",
       "      fill: #1967D2;\n",
       "      height: 32px;\n",
       "      padding: 0 0 0 0;\n",
       "      width: 32px;\n",
       "    }\n",
       "\n",
       "    .colab-df-convert:hover {\n",
       "      background-color: #E2EBFA;\n",
       "      box-shadow: 0px 1px 2px rgba(60, 64, 67, 0.3), 0px 1px 3px 1px rgba(60, 64, 67, 0.15);\n",
       "      fill: #174EA6;\n",
       "    }\n",
       "\n",
       "    [theme=dark] .colab-df-convert {\n",
       "      background-color: #3B4455;\n",
       "      fill: #D2E3FC;\n",
       "    }\n",
       "\n",
       "    [theme=dark] .colab-df-convert:hover {\n",
       "      background-color: #434B5C;\n",
       "      box-shadow: 0px 1px 3px 1px rgba(0, 0, 0, 0.15);\n",
       "      filter: drop-shadow(0px 1px 2px rgba(0, 0, 0, 0.3));\n",
       "      fill: #FFFFFF;\n",
       "    }\n",
       "  </style>\n",
       "\n",
       "      <script>\n",
       "        const buttonEl =\n",
       "          document.querySelector('#df-a41fea07-fd70-4cdf-8f95-ec96b6b1dbde button.colab-df-convert');\n",
       "        buttonEl.style.display =\n",
       "          google.colab.kernel.accessAllowed ? 'block' : 'none';\n",
       "\n",
       "        async function convertToInteractive(key) {\n",
       "          const element = document.querySelector('#df-a41fea07-fd70-4cdf-8f95-ec96b6b1dbde');\n",
       "          const dataTable =\n",
       "            await google.colab.kernel.invokeFunction('convertToInteractive',\n",
       "                                                     [key], {});\n",
       "          if (!dataTable) return;\n",
       "\n",
       "          const docLinkHtml = 'Like what you see? Visit the ' +\n",
       "            '<a target=\"_blank\" href=https://colab.research.google.com/notebooks/data_table.ipynb>data table notebook</a>'\n",
       "            + ' to learn more about interactive tables.';\n",
       "          element.innerHTML = '';\n",
       "          dataTable['output_type'] = 'display_data';\n",
       "          await google.colab.output.renderOutput(dataTable, element);\n",
       "          const docLink = document.createElement('div');\n",
       "          docLink.innerHTML = docLinkHtml;\n",
       "          element.appendChild(docLink);\n",
       "        }\n",
       "      </script>\n",
       "    </div>\n",
       "  </div>\n",
       "  "
      ],
      "text/plain": [
       "  duration  num_visitor  num_visitor_cum  du_from  du_to\n",
       "0      1-7            4                4        1      7\n",
       "1     8-14            6               10        8     14\n",
       "2    15-21            5               15       15     21\n",
       "3    22-28           10               25       22     28\n",
       "4    29-35            6               31       29     35\n",
       "5    36-42            4               35       36     42\n",
       "6    43-49            1               36       43     49"
      ]
     },
     "execution_count": 27,
     "metadata": {},
     "output_type": "execute_result"
    }
   ],
   "source": [
    "df_visit[['du_from', 'du_to']] = df_visit.duration.str.split('-', expand=True)\n",
    "df_visit = df_visit.astype({'du_from': int, 'du_to': int})\n",
    "df_visit"
   ]
  },
  {
   "cell_type": "markdown",
   "id": "e1ffcc76-63f8-4159-9e11-9897c551b8dc",
   "metadata": {
    "id": "e1ffcc76-63f8-4159-9e11-9897c551b8dc"
   },
   "source": [
    "\\\n",
    "สร้าง column ความถี่สะสมของจำนวนนักท่องเที่ยว:"
   ]
  },
  {
   "cell_type": "code",
   "execution_count": null,
   "id": "44b4eba2-8224-4fbd-99c8-b330b0978232",
   "metadata": {
    "colab": {
     "base_uri": "https://localhost:8080/",
     "height": 269
    },
    "id": "44b4eba2-8224-4fbd-99c8-b330b0978232",
    "outputId": "11a7bcc6-fa39-471c-916c-34f0c80d27c4"
   },
   "outputs": [
    {
     "data": {
      "text/html": [
       "\n",
       "  <div id=\"df-c64f03cf-5bb9-4176-97d2-b16488cbfe31\">\n",
       "    <div class=\"colab-df-container\">\n",
       "      <div>\n",
       "<style scoped>\n",
       "    .dataframe tbody tr th:only-of-type {\n",
       "        vertical-align: middle;\n",
       "    }\n",
       "\n",
       "    .dataframe tbody tr th {\n",
       "        vertical-align: top;\n",
       "    }\n",
       "\n",
       "    .dataframe thead th {\n",
       "        text-align: right;\n",
       "    }\n",
       "</style>\n",
       "<table border=\"1\" class=\"dataframe\">\n",
       "  <thead>\n",
       "    <tr style=\"text-align: right;\">\n",
       "      <th></th>\n",
       "      <th>duration</th>\n",
       "      <th>num_visitor</th>\n",
       "      <th>num_visitor_cum</th>\n",
       "    </tr>\n",
       "  </thead>\n",
       "  <tbody>\n",
       "    <tr>\n",
       "      <th>0</th>\n",
       "      <td>1-7</td>\n",
       "      <td>4</td>\n",
       "      <td>4</td>\n",
       "    </tr>\n",
       "    <tr>\n",
       "      <th>1</th>\n",
       "      <td>8-14</td>\n",
       "      <td>6</td>\n",
       "      <td>10</td>\n",
       "    </tr>\n",
       "    <tr>\n",
       "      <th>2</th>\n",
       "      <td>15-21</td>\n",
       "      <td>5</td>\n",
       "      <td>15</td>\n",
       "    </tr>\n",
       "    <tr>\n",
       "      <th>3</th>\n",
       "      <td>22-28</td>\n",
       "      <td>10</td>\n",
       "      <td>25</td>\n",
       "    </tr>\n",
       "    <tr>\n",
       "      <th>4</th>\n",
       "      <td>29-35</td>\n",
       "      <td>6</td>\n",
       "      <td>31</td>\n",
       "    </tr>\n",
       "    <tr>\n",
       "      <th>5</th>\n",
       "      <td>36-42</td>\n",
       "      <td>4</td>\n",
       "      <td>35</td>\n",
       "    </tr>\n",
       "    <tr>\n",
       "      <th>6</th>\n",
       "      <td>43-49</td>\n",
       "      <td>1</td>\n",
       "      <td>36</td>\n",
       "    </tr>\n",
       "  </tbody>\n",
       "</table>\n",
       "</div>\n",
       "      <button class=\"colab-df-convert\" onclick=\"convertToInteractive('df-c64f03cf-5bb9-4176-97d2-b16488cbfe31')\"\n",
       "              title=\"Convert this dataframe to an interactive table.\"\n",
       "              style=\"display:none;\">\n",
       "        \n",
       "  <svg xmlns=\"http://www.w3.org/2000/svg\" height=\"24px\"viewBox=\"0 0 24 24\"\n",
       "       width=\"24px\">\n",
       "    <path d=\"M0 0h24v24H0V0z\" fill=\"none\"/>\n",
       "    <path d=\"M18.56 5.44l.94 2.06.94-2.06 2.06-.94-2.06-.94-.94-2.06-.94 2.06-2.06.94zm-11 1L8.5 8.5l.94-2.06 2.06-.94-2.06-.94L8.5 2.5l-.94 2.06-2.06.94zm10 10l.94 2.06.94-2.06 2.06-.94-2.06-.94-.94-2.06-.94 2.06-2.06.94z\"/><path d=\"M17.41 7.96l-1.37-1.37c-.4-.4-.92-.59-1.43-.59-.52 0-1.04.2-1.43.59L10.3 9.45l-7.72 7.72c-.78.78-.78 2.05 0 2.83L4 21.41c.39.39.9.59 1.41.59.51 0 1.02-.2 1.41-.59l7.78-7.78 2.81-2.81c.8-.78.8-2.07 0-2.86zM5.41 20L4 18.59l7.72-7.72 1.47 1.35L5.41 20z\"/>\n",
       "  </svg>\n",
       "      </button>\n",
       "      \n",
       "  <style>\n",
       "    .colab-df-container {\n",
       "      display:flex;\n",
       "      flex-wrap:wrap;\n",
       "      gap: 12px;\n",
       "    }\n",
       "\n",
       "    .colab-df-convert {\n",
       "      background-color: #E8F0FE;\n",
       "      border: none;\n",
       "      border-radius: 50%;\n",
       "      cursor: pointer;\n",
       "      display: none;\n",
       "      fill: #1967D2;\n",
       "      height: 32px;\n",
       "      padding: 0 0 0 0;\n",
       "      width: 32px;\n",
       "    }\n",
       "\n",
       "    .colab-df-convert:hover {\n",
       "      background-color: #E2EBFA;\n",
       "      box-shadow: 0px 1px 2px rgba(60, 64, 67, 0.3), 0px 1px 3px 1px rgba(60, 64, 67, 0.15);\n",
       "      fill: #174EA6;\n",
       "    }\n",
       "\n",
       "    [theme=dark] .colab-df-convert {\n",
       "      background-color: #3B4455;\n",
       "      fill: #D2E3FC;\n",
       "    }\n",
       "\n",
       "    [theme=dark] .colab-df-convert:hover {\n",
       "      background-color: #434B5C;\n",
       "      box-shadow: 0px 1px 3px 1px rgba(0, 0, 0, 0.15);\n",
       "      filter: drop-shadow(0px 1px 2px rgba(0, 0, 0, 0.3));\n",
       "      fill: #FFFFFF;\n",
       "    }\n",
       "  </style>\n",
       "\n",
       "      <script>\n",
       "        const buttonEl =\n",
       "          document.querySelector('#df-c64f03cf-5bb9-4176-97d2-b16488cbfe31 button.colab-df-convert');\n",
       "        buttonEl.style.display =\n",
       "          google.colab.kernel.accessAllowed ? 'block' : 'none';\n",
       "\n",
       "        async function convertToInteractive(key) {\n",
       "          const element = document.querySelector('#df-c64f03cf-5bb9-4176-97d2-b16488cbfe31');\n",
       "          const dataTable =\n",
       "            await google.colab.kernel.invokeFunction('convertToInteractive',\n",
       "                                                     [key], {});\n",
       "          if (!dataTable) return;\n",
       "\n",
       "          const docLinkHtml = 'Like what you see? Visit the ' +\n",
       "            '<a target=\"_blank\" href=https://colab.research.google.com/notebooks/data_table.ipynb>data table notebook</a>'\n",
       "            + ' to learn more about interactive tables.';\n",
       "          element.innerHTML = '';\n",
       "          dataTable['output_type'] = 'display_data';\n",
       "          await google.colab.output.renderOutput(dataTable, element);\n",
       "          const docLink = document.createElement('div');\n",
       "          docLink.innerHTML = docLinkHtml;\n",
       "          element.appendChild(docLink);\n",
       "        }\n",
       "      </script>\n",
       "    </div>\n",
       "  </div>\n",
       "  "
      ],
      "text/plain": [
       "  duration  num_visitor  num_visitor_cum\n",
       "0      1-7            4                4\n",
       "1     8-14            6               10\n",
       "2    15-21            5               15\n",
       "3    22-28           10               25\n",
       "4    29-35            6               31\n",
       "5    36-42            4               35\n",
       "6    43-49            1               36"
      ]
     },
     "execution_count": 23,
     "metadata": {},
     "output_type": "execute_result"
    }
   ],
   "source": [
    "df_visit['num_visitor_cum'] = df_visit.num_visitor.cumsum()\n",
    "df_visit"
   ]
  },
  {
   "cell_type": "markdown",
   "id": "af80073f-7855-4f44-b64a-cd1fc6923b0d",
   "metadata": {
    "id": "af80073f-7855-4f44-b64a-cd1fc6923b0d"
   },
   "source": [
    "\\\n",
    "หาตำแหน่งของ median:"
   ]
  },
  {
   "cell_type": "code",
   "execution_count": null,
   "id": "fee7bd89-4beb-4a1a-bc40-5ce80511556a",
   "metadata": {
    "colab": {
     "base_uri": "https://localhost:8080/"
    },
    "id": "fee7bd89-4beb-4a1a-bc40-5ce80511556a",
    "outputId": "4a3a94da-77d2-4fc7-9f7d-5efdce90f1f7"
   },
   "outputs": [
    {
     "data": {
      "text/plain": [
       "18.0"
      ]
     },
     "execution_count": 24,
     "metadata": {},
     "output_type": "execute_result"
    }
   ],
   "source": [
    "med_pos = df_visit.num_visitor.sum()/2\n",
    "med_pos"
   ]
  },
  {
   "cell_type": "code",
   "execution_count": null,
   "id": "48f5e0f4-59d9-416f-ad78-95b92b62c640",
   "metadata": {
    "colab": {
     "base_uri": "https://localhost:8080/"
    },
    "id": "48f5e0f4-59d9-416f-ad78-95b92b62c640",
    "outputId": "09395528-1bb1-476e-a639-4b2b2dc00c3b"
   },
   "outputs": [
    {
     "data": {
      "text/plain": [
       "3"
      ]
     },
     "execution_count": 25,
     "metadata": {},
     "output_type": "execute_result"
    }
   ],
   "source": [
    "for i in df_visit.index:\n",
    "    if df_visit.num_visitor_cum[i] >= med_pos:\n",
    "        e=i\n",
    "        break\n",
    "e"
   ]
  },
  {
   "cell_type": "markdown",
   "id": "00ba46c4-15c5-4015-a6be-fcdb45068ca0",
   "metadata": {
    "id": "00ba46c4-15c5-4015-a6be-fcdb45068ca0"
   },
   "source": [
    "\\\n",
    "ซึ่งจะอยู่ในชั้นที่ 4 (index 3) มีระยะเวลา 22-28  \n",
    "หาขอบเขตล่าง:"
   ]
  },
  {
   "cell_type": "code",
   "execution_count": null,
   "id": "28b443d3-95df-4555-8be3-a0d76edf9a19",
   "metadata": {
    "colab": {
     "base_uri": "https://localhost:8080/"
    },
    "id": "28b443d3-95df-4555-8be3-a0d76edf9a19",
    "outputId": "2f344573-b6e2-47ba-b8d8-5341f62e9fe3"
   },
   "outputs": [
    {
     "data": {
      "text/plain": [
       "21.5"
      ]
     },
     "execution_count": 28,
     "metadata": {},
     "output_type": "execute_result"
    }
   ],
   "source": [
    "lower = (df_visit.du_from[e]+df_visit.du_to[e-1])/2\n",
    "lower"
   ]
  },
  {
   "cell_type": "markdown",
   "id": "4ceb5df6-b603-457c-af76-6412cfdeec0e",
   "metadata": {
    "id": "4ceb5df6-b603-457c-af76-6412cfdeec0e"
   },
   "source": [
    "\\\n",
    "หาค่า median"
   ]
  },
  {
   "cell_type": "code",
   "execution_count": null,
   "id": "79a95901-3f8a-477c-92bf-5b1304b2087b",
   "metadata": {
    "colab": {
     "base_uri": "https://localhost:8080/"
    },
    "id": "79a95901-3f8a-477c-92bf-5b1304b2087b",
    "outputId": "3ecd6abf-eefa-490a-c2b7-e7d1a7243f2d"
   },
   "outputs": [
    {
     "data": {
      "text/plain": [
       "23.6"
      ]
     },
     "execution_count": 29,
     "metadata": {},
     "output_type": "execute_result"
    }
   ],
   "source": [
    "lower+( (med_pos - df_visit.num_visitor_cum[e-1]) / df_visit.num_visitor[e])*7"
   ]
  },
  {
   "cell_type": "markdown",
   "id": "OR2Ocb2jfuCw",
   "metadata": {
    "id": "OR2Ocb2jfuCw"
   },
   "source": [
    "---"
   ]
  },
  {
   "cell_type": "markdown",
   "id": "57647078-ff4f-45f9-80f5-527c46403b98",
   "metadata": {
    "id": "57647078-ff4f-45f9-80f5-527c46403b98"
   },
   "source": [
    "####  \n",
    "#### 4.7 หาฐานนิยมของข้อมูลแต่ละชุดต่อไปนี้\n",
    "&emsp;**1) 9, 2, 3, 5, 7, 2, 1, 5, 2**"
   ]
  },
  {
   "cell_type": "code",
   "execution_count": null,
   "id": "209b0905-b369-4070-b8bb-2a72f5fe3c91",
   "metadata": {
    "colab": {
     "base_uri": "https://localhost:8080/"
    },
    "id": "209b0905-b369-4070-b8bb-2a72f5fe3c91",
    "outputId": "0373090c-47d0-400f-aeea-eb5f9b601960"
   },
   "outputs": [
    {
     "data": {
      "text/plain": [
       "[2]"
      ]
     },
     "execution_count": 33,
     "metadata": {},
     "output_type": "execute_result"
    }
   ],
   "source": [
    "data = [9, 2, 3, 5, 7, 2, 1, 5, 2]\n",
    "statistics.mode(data)"
   ]
  },
  {
   "cell_type": "markdown",
   "id": "d1e80ae5-8c05-45ab-b1ec-5dfa6bc52381",
   "metadata": {
    "id": "d1e80ae5-8c05-45ab-b1ec-5dfa6bc52381"
   },
   "source": [
    "&emsp;**2) 3, 5, 5, 8, 7, 3, 2**"
   ]
  },
  {
   "cell_type": "code",
   "execution_count": 16,
   "id": "9a411ad0-7086-49fe-84df-84dc345830c4",
   "metadata": {
    "colab": {
     "base_uri": "https://localhost:8080/"
    },
    "id": "9a411ad0-7086-49fe-84df-84dc345830c4",
    "outputId": "7eae4843-7f89-431e-bf7e-f8e64595df57"
   },
   "outputs": [
    {
     "data": {
      "text/plain": [
       "3"
      ]
     },
     "execution_count": 16,
     "metadata": {},
     "output_type": "execute_result"
    }
   ],
   "source": [
    "data = [3, 5, 5, 8, 7, 3, 2]\n",
    "statistics.mode(data)"
   ]
  },
  {
   "cell_type": "markdown",
   "id": "baa6c3a0-eb22-40b8-8930-aecb96f9ef2a",
   "metadata": {
    "id": "baa6c3a0-eb22-40b8-8930-aecb96f9ef2a"
   },
   "source": [
    "ผลที่แสดงขาด 5 ไป ต้องใช้ multimode"
   ]
  },
  {
   "cell_type": "code",
   "execution_count": 17,
   "id": "c362f5c9-a0cb-4d20-be44-4d697e2e6753",
   "metadata": {
    "colab": {
     "base_uri": "https://localhost:8080/"
    },
    "id": "c362f5c9-a0cb-4d20-be44-4d697e2e6753",
    "outputId": "b8c61202-9083-4799-c662-4681f15209a3",
    "tags": []
   },
   "outputs": [
    {
     "data": {
      "text/plain": [
       "[3, 5]"
      ]
     },
     "execution_count": 17,
     "metadata": {},
     "output_type": "execute_result"
    }
   ],
   "source": [
    "statistics.multimode(data)"
   ]
  },
  {
   "cell_type": "markdown",
   "id": "67d7660c-11dc-4312-8fc2-7168412f06da",
   "metadata": {
    "id": "67d7660c-11dc-4312-8fc2-7168412f06da"
   },
   "source": [
    "&emsp;**3) 1, 2, 3, 4, 5**"
   ]
  },
  {
   "cell_type": "code",
   "execution_count": 18,
   "id": "d1194af9-f21c-45a5-94c9-f276b9ae6308",
   "metadata": {
    "colab": {
     "base_uri": "https://localhost:8080/"
    },
    "id": "d1194af9-f21c-45a5-94c9-f276b9ae6308",
    "outputId": "dda210bd-0806-4ab3-f70a-a9636aff90d3"
   },
   "outputs": [
    {
     "data": {
      "text/plain": [
       "[1, 2, 3, 4, 5]"
      ]
     },
     "execution_count": 18,
     "metadata": {},
     "output_type": "execute_result"
    }
   ],
   "source": [
    "data = [1, 2, 3, 4, 5]\n",
    "statistics.multimode(data)"
   ]
  },
  {
   "cell_type": "code",
   "execution_count": 19,
   "id": "e407cb53-46b7-433a-99b0-5abdef685ce9",
   "metadata": {
    "colab": {
     "base_uri": "https://localhost:8080/"
    },
    "id": "e407cb53-46b7-433a-99b0-5abdef685ce9",
    "outputId": "c32b0c15-6869-47c7-f340-f1f51804f10f"
   },
   "outputs": [
    {
     "data": {
      "text/plain": [
       "1"
      ]
     },
     "execution_count": 19,
     "metadata": {},
     "output_type": "execute_result"
    }
   ],
   "source": [
    "statistics.mode(data)"
   ]
  },
  {
   "cell_type": "markdown",
   "id": "e0732bd3-b384-4fed-8809-865455fb2dff",
   "metadata": {
    "id": "e0732bd3-b384-4fed-8809-865455fb2dff"
   },
   "source": [
    "การใช้ทั้ง mode() และ multimode() จึงต้องระวัง วิธีการหนึ่งคือตรวจสอบว่าจำนวนของข้อมูลเริ่มต้นและข้อมูลที่ตัดข้อมูลซ้ำออกไปแล้วเท่ากันหรือไม่ หากเท่ากันแสดงว่าข้อมูลนั้นไม่มี mode"
   ]
  },
  {
   "cell_type": "code",
   "execution_count": null,
   "id": "58a94599-e33b-450b-b993-da55633fcf29",
   "metadata": {
    "colab": {
     "base_uri": "https://localhost:8080/"
    },
    "id": "58a94599-e33b-450b-b993-da55633fcf29",
    "outputId": "293fcd0e-f369-48dc-e57d-13a0f8eef128"
   },
   "outputs": [
    {
     "data": {
      "text/plain": [
       "True"
      ]
     },
     "execution_count": 37,
     "metadata": {},
     "output_type": "execute_result"
    }
   ],
   "source": [
    "len(data) == len(np.unique(data))"
   ]
  },
  {
   "cell_type": "markdown",
   "id": "6f9db1c1-1a30-4f78-9911-d3201eb68d1e",
   "metadata": {
    "id": "6f9db1c1-1a30-4f78-9911-d3201eb68d1e"
   },
   "source": [
    "&emsp;**4) ข้อมูลได้จากการสำรวจความชอบอาหารชนิดหนึ่ง (ชอบ เฉยๆ ไม่ชอบ):**  \n",
    "&emsp;**ชอบ ไม่ชอบ ชอบ ชอบ ไม่ชอบ เฉยๆ ชอบ**"
   ]
  },
  {
   "cell_type": "code",
   "execution_count": null,
   "id": "3263adf3-f743-49c2-af48-3dadfbb86938",
   "metadata": {
    "colab": {
     "base_uri": "https://localhost:8080/",
     "height": 35
    },
    "id": "3263adf3-f743-49c2-af48-3dadfbb86938",
    "outputId": "01410784-3c51-4f84-f7c8-5bebc8861872"
   },
   "outputs": [
    {
     "data": {
      "application/vnd.google.colaboratory.intrinsic+json": {
       "type": "string"
      },
      "text/plain": [
       "'ชอบ'"
      ]
     },
     "execution_count": 38,
     "metadata": {},
     "output_type": "execute_result"
    }
   ],
   "source": [
    "data = ['ชอบ', 'ไม่ชอบ', 'ชอบ', 'ชอบ', 'ไม่ชอบ', 'เฉยๆ', 'ชอบ']\n",
    "statistics.mode(data)"
   ]
  },
  {
   "cell_type": "markdown",
   "id": "IbtVSUNWf0gv",
   "metadata": {
    "id": "IbtVSUNWf0gv"
   },
   "source": [
    "---"
   ]
  },
  {
   "cell_type": "markdown",
   "id": "5a810657-4758-466b-ab9c-4cdab59a25ea",
   "metadata": {
    "id": "5a810657-4758-466b-ab9c-4cdab59a25ea",
    "tags": []
   },
   "source": [
    "####  \n",
    "#### 4.8 ตาราง \"ex3_6_visitor.csv\" แสดงระยะเวลา (หน่วย: วัน) ที่นักท่องเที่ยวชาวต่างประเทศที่ถูกสุ่มเป็นตัวอย่างจำนวน 36 คน ใช้เวลาท่องเที่ยวในประเทศไทยในช่วง 1 ปี มีดังตาราง จงหาฐานนิยมของระยะเวลาที่นักท่องเที่ยวชาวต่างประเทศใช้ท่องเที่ยวในประเทศไทย"
   ]
  },
  {
   "cell_type": "code",
   "execution_count": 20,
   "id": "fda702d6-76b4-4dbd-b3dc-80e91b688d9b",
   "metadata": {
    "colab": {
     "base_uri": "https://localhost:8080/",
     "height": 269
    },
    "id": "fda702d6-76b4-4dbd-b3dc-80e91b688d9b",
    "outputId": "5f30652b-30c2-41af-9aa5-af4e108b1091"
   },
   "outputs": [
    {
     "data": {
      "text/html": [
       "<div>\n",
       "<style scoped>\n",
       "    .dataframe tbody tr th:only-of-type {\n",
       "        vertical-align: middle;\n",
       "    }\n",
       "\n",
       "    .dataframe tbody tr th {\n",
       "        vertical-align: top;\n",
       "    }\n",
       "\n",
       "    .dataframe thead th {\n",
       "        text-align: right;\n",
       "    }\n",
       "</style>\n",
       "<table border=\"1\" class=\"dataframe\">\n",
       "  <thead>\n",
       "    <tr style=\"text-align: right;\">\n",
       "      <th></th>\n",
       "      <th>duration</th>\n",
       "      <th>num_visitor</th>\n",
       "    </tr>\n",
       "  </thead>\n",
       "  <tbody>\n",
       "    <tr>\n",
       "      <th>0</th>\n",
       "      <td>1-7</td>\n",
       "      <td>4</td>\n",
       "    </tr>\n",
       "    <tr>\n",
       "      <th>1</th>\n",
       "      <td>8-14</td>\n",
       "      <td>6</td>\n",
       "    </tr>\n",
       "    <tr>\n",
       "      <th>2</th>\n",
       "      <td>15-21</td>\n",
       "      <td>5</td>\n",
       "    </tr>\n",
       "    <tr>\n",
       "      <th>3</th>\n",
       "      <td>22-28</td>\n",
       "      <td>10</td>\n",
       "    </tr>\n",
       "    <tr>\n",
       "      <th>4</th>\n",
       "      <td>29-35</td>\n",
       "      <td>6</td>\n",
       "    </tr>\n",
       "    <tr>\n",
       "      <th>5</th>\n",
       "      <td>36-42</td>\n",
       "      <td>4</td>\n",
       "    </tr>\n",
       "    <tr>\n",
       "      <th>6</th>\n",
       "      <td>43-49</td>\n",
       "      <td>1</td>\n",
       "    </tr>\n",
       "  </tbody>\n",
       "</table>\n",
       "</div>"
      ],
      "text/plain": [
       "  duration  num_visitor\n",
       "0      1-7            4\n",
       "1     8-14            6\n",
       "2    15-21            5\n",
       "3    22-28           10\n",
       "4    29-35            6\n",
       "5    36-42            4\n",
       "6    43-49            1"
      ]
     },
     "execution_count": 20,
     "metadata": {},
     "output_type": "execute_result"
    }
   ],
   "source": [
    "df_visit = pd.read_csv(\"data/ex4_6_visitor.csv\")\n",
    "df_visit"
   ]
  },
  {
   "cell_type": "markdown",
   "id": "f8bb9d3e-eb8b-405f-8da0-544052b767e5",
   "metadata": {
    "id": "f8bb9d3e-eb8b-405f-8da0-544052b767e5"
   },
   "source": [
    "\\\n",
    "แปลง duration ให้เป็น 2 columns เพื่อให้สามารถนำตัวเลขไปใช้คำนวณได้"
   ]
  },
  {
   "cell_type": "code",
   "execution_count": 21,
   "id": "ae404ff6-a611-4701-8d98-9cf0197aade7",
   "metadata": {
    "colab": {
     "base_uri": "https://localhost:8080/",
     "height": 269
    },
    "id": "ae404ff6-a611-4701-8d98-9cf0197aade7",
    "outputId": "44240036-67dc-4790-975a-1e8ea00528f9"
   },
   "outputs": [
    {
     "data": {
      "text/html": [
       "<div>\n",
       "<style scoped>\n",
       "    .dataframe tbody tr th:only-of-type {\n",
       "        vertical-align: middle;\n",
       "    }\n",
       "\n",
       "    .dataframe tbody tr th {\n",
       "        vertical-align: top;\n",
       "    }\n",
       "\n",
       "    .dataframe thead th {\n",
       "        text-align: right;\n",
       "    }\n",
       "</style>\n",
       "<table border=\"1\" class=\"dataframe\">\n",
       "  <thead>\n",
       "    <tr style=\"text-align: right;\">\n",
       "      <th></th>\n",
       "      <th>duration</th>\n",
       "      <th>num_visitor</th>\n",
       "      <th>du_from</th>\n",
       "      <th>du_to</th>\n",
       "    </tr>\n",
       "  </thead>\n",
       "  <tbody>\n",
       "    <tr>\n",
       "      <th>0</th>\n",
       "      <td>1-7</td>\n",
       "      <td>4</td>\n",
       "      <td>1</td>\n",
       "      <td>7</td>\n",
       "    </tr>\n",
       "    <tr>\n",
       "      <th>1</th>\n",
       "      <td>8-14</td>\n",
       "      <td>6</td>\n",
       "      <td>8</td>\n",
       "      <td>14</td>\n",
       "    </tr>\n",
       "    <tr>\n",
       "      <th>2</th>\n",
       "      <td>15-21</td>\n",
       "      <td>5</td>\n",
       "      <td>15</td>\n",
       "      <td>21</td>\n",
       "    </tr>\n",
       "    <tr>\n",
       "      <th>3</th>\n",
       "      <td>22-28</td>\n",
       "      <td>10</td>\n",
       "      <td>22</td>\n",
       "      <td>28</td>\n",
       "    </tr>\n",
       "    <tr>\n",
       "      <th>4</th>\n",
       "      <td>29-35</td>\n",
       "      <td>6</td>\n",
       "      <td>29</td>\n",
       "      <td>35</td>\n",
       "    </tr>\n",
       "    <tr>\n",
       "      <th>5</th>\n",
       "      <td>36-42</td>\n",
       "      <td>4</td>\n",
       "      <td>36</td>\n",
       "      <td>42</td>\n",
       "    </tr>\n",
       "    <tr>\n",
       "      <th>6</th>\n",
       "      <td>43-49</td>\n",
       "      <td>1</td>\n",
       "      <td>43</td>\n",
       "      <td>49</td>\n",
       "    </tr>\n",
       "  </tbody>\n",
       "</table>\n",
       "</div>"
      ],
      "text/plain": [
       "  duration  num_visitor  du_from  du_to\n",
       "0      1-7            4        1      7\n",
       "1     8-14            6        8     14\n",
       "2    15-21            5       15     21\n",
       "3    22-28           10       22     28\n",
       "4    29-35            6       29     35\n",
       "5    36-42            4       36     42\n",
       "6    43-49            1       43     49"
      ]
     },
     "execution_count": 21,
     "metadata": {},
     "output_type": "execute_result"
    }
   ],
   "source": [
    "df_visit[['du_from', 'du_to']] = df_visit.duration.str.split('-', expand=True)\n",
    "df_visit = df_visit.astype({'du_from': int, 'du_to': int})\n",
    "df_visit"
   ]
  },
  {
   "cell_type": "markdown",
   "id": "e7b4964d-9b28-42a1-85f6-d8d2f9319857",
   "metadata": {
    "id": "e7b4964d-9b28-42a1-85f6-d8d2f9319857"
   },
   "source": [
    "\\\n",
    "หาชั้นที่ mode อยู่"
   ]
  },
  {
   "cell_type": "code",
   "execution_count": null,
   "id": "c463283d-e542-4b26-b261-c93299af51b3",
   "metadata": {
    "colab": {
     "base_uri": "https://localhost:8080/"
    },
    "id": "c463283d-e542-4b26-b261-c93299af51b3",
    "outputId": "466d143a-9118-4d48-997e-25b9ad9439e1"
   },
   "outputs": [
    {
     "data": {
      "text/plain": [
       "3"
      ]
     },
     "execution_count": 40,
     "metadata": {},
     "output_type": "execute_result"
    }
   ],
   "source": [
    "e = np.argmax(df_visit.num_visitor)\n",
    "e"
   ]
  },
  {
   "cell_type": "markdown",
   "id": "17aa181a-c040-4e9d-8d65-af1af16722fb",
   "metadata": {
    "id": "17aa181a-c040-4e9d-8d65-af1af16722fb"
   },
   "source": [
    "\\\n",
    "ซึ่งจะอยู่ในชั้นที่ 4 (index 3) มีระยะเวลา 22-28  \n",
    "หาขอบเขตล่าง"
   ]
  },
  {
   "cell_type": "code",
   "execution_count": null,
   "id": "761d3683-6ca1-48d6-9be2-969484c4bb63",
   "metadata": {
    "colab": {
     "base_uri": "https://localhost:8080/"
    },
    "id": "761d3683-6ca1-48d6-9be2-969484c4bb63",
    "outputId": "2fee0938-87e3-4a18-fcc5-fb8015bcc406"
   },
   "outputs": [
    {
     "data": {
      "text/plain": [
       "21.5"
      ]
     },
     "execution_count": 41,
     "metadata": {},
     "output_type": "execute_result"
    }
   ],
   "source": [
    "lower = (df_visit.du_from[e]+df_visit.du_to[e-1])/2\n",
    "lower"
   ]
  },
  {
   "cell_type": "markdown",
   "id": "97af088d-c56d-4953-beb5-2abaab890f58",
   "metadata": {
    "id": "97af088d-c56d-4953-beb5-2abaab890f58"
   },
   "source": [
    "\\\n",
    "หาค่า mode"
   ]
  },
  {
   "cell_type": "code",
   "execution_count": null,
   "id": "3bac0aaf-2be7-4155-b2a4-6dc7d4223d26",
   "metadata": {
    "colab": {
     "base_uri": "https://localhost:8080/"
    },
    "id": "3bac0aaf-2be7-4155-b2a4-6dc7d4223d26",
    "outputId": "5d1925be-79db-4ab0-9dc8-86f13a96a865"
   },
   "outputs": [
    {
     "data": {
      "text/plain": [
       "24.68181818181818"
      ]
     },
     "execution_count": 42,
     "metadata": {},
     "output_type": "execute_result"
    }
   ],
   "source": [
    "lower + ( df_visit.num_visitor[e-1]/(df_visit.num_visitor[e-1]+df_visit.num_visitor[e+1]) )*7"
   ]
  },
  {
   "cell_type": "markdown",
   "id": "a8opXjN7f3HN",
   "metadata": {
    "id": "a8opXjN7f3HN"
   },
   "source": [
    "---"
   ]
  },
  {
   "cell_type": "markdown",
   "id": "e8931b0e-1fad-41f0-800b-146639355fb0",
   "metadata": {
    "id": "e8931b0e-1fad-41f0-800b-146639355fb0"
   },
   "source": [
    "#### 4.9 สุ่มตัวอย่างนิสิตจำนวน 10 คน และสอบถามถึงจำนวนครั้งในการไปใช้บริการร้านสะดวกซื้อในหนึ่งสัปดาห์ ได้ข้อมูลมาดังนี้ 10, 5, 3, 9, 17, 15, 9, 2, 7, 8   จงคำนวณค่า Q<sub>1</sub> และ D<sub>7</sub>"
   ]
  },
  {
   "cell_type": "code",
   "execution_count": 24,
   "id": "c03edcae-0cca-486c-81bd-38a02fa10c4a",
   "metadata": {
    "id": "c03edcae-0cca-486c-81bd-38a02fa10c4a"
   },
   "outputs": [],
   "source": [
    "conv = [10, 5, 3, 9, 17, 15, 9, 2, 7, 8]"
   ]
  },
  {
   "cell_type": "code",
   "execution_count": 25,
   "id": "06400712-5533-4356-bd83-191cdcc74599",
   "metadata": {
    "colab": {
     "base_uri": "https://localhost:8080/"
    },
    "id": "06400712-5533-4356-bd83-191cdcc74599",
    "outputId": "54f34489-acbe-41b6-9c99-375c4289453f"
   },
   "outputs": [
    {
     "data": {
      "text/plain": [
       "[2, 3, 5, 7, 8, 9, 9, 10, 15, 17]"
      ]
     },
     "execution_count": 25,
     "metadata": {},
     "output_type": "execute_result"
    }
   ],
   "source": [
    "conv.sort()\n",
    "conv"
   ]
  },
  {
   "cell_type": "code",
   "execution_count": 26,
   "id": "wVECC43eYvj9",
   "metadata": {
    "colab": {
     "base_uri": "https://localhost:8080/",
     "height": 236
    },
    "id": "wVECC43eYvj9",
    "outputId": "ff594f1f-55fc-42bb-edf7-bd846c17477b"
   },
   "outputs": [
    {
     "data": {
      "text/plain": [
       "4.5"
      ]
     },
     "execution_count": 26,
     "metadata": {},
     "output_type": "execute_result"
    }
   ],
   "source": [
    "#หากรันใน colab คำสั่งต่อไปนี้จะยังทำงานไม่ได้ เนื่องจากใน colab ยังเป็น numpy version เก่า\n",
    "#numpy version > 1.22 ได้มีการปรับปรุงฟังก์ชันนี้\n",
    "#https://numpy.org/doc/stable/reference/generated/numpy.percentile.html\n",
    "np.percentile(conv,25, method='weibull')"
   ]
  },
  {
   "cell_type": "code",
   "execution_count": 27,
   "id": "1d325df7",
   "metadata": {},
   "outputs": [
    {
     "ename": "ValueError",
     "evalue": "Quantiles must be in the range [0, 1]",
     "output_type": "error",
     "traceback": [
      "\u001b[0;31m---------------------------------------------------------------------------\u001b[0m",
      "\u001b[0;31mValueError\u001b[0m                                Traceback (most recent call last)",
      "Cell \u001b[0;32mIn [27], line 1\u001b[0m\n\u001b[0;32m----> 1\u001b[0m np\u001b[39m.\u001b[39;49mquantile(conv,\u001b[39m2\u001b[39;49m, method\u001b[39m=\u001b[39;49m\u001b[39m'\u001b[39;49m\u001b[39mweibull\u001b[39;49m\u001b[39m'\u001b[39;49m)\n",
      "File \u001b[0;32m<__array_function__ internals>:180\u001b[0m, in \u001b[0;36mquantile\u001b[0;34m(*args, **kwargs)\u001b[0m\n",
      "File \u001b[0;32m/opt/homebrew/anaconda3/envs/ProgStat_Py3.9/lib/python3.9/site-packages/numpy/lib/function_base.py:4411\u001b[0m, in \u001b[0;36mquantile\u001b[0;34m(a, q, axis, out, overwrite_input, method, keepdims, interpolation)\u001b[0m\n\u001b[1;32m   4409\u001b[0m q \u001b[39m=\u001b[39m np\u001b[39m.\u001b[39masanyarray(q)\n\u001b[1;32m   4410\u001b[0m \u001b[39mif\u001b[39;00m \u001b[39mnot\u001b[39;00m _quantile_is_valid(q):\n\u001b[0;32m-> 4411\u001b[0m     \u001b[39mraise\u001b[39;00m \u001b[39mValueError\u001b[39;00m(\u001b[39m\"\u001b[39m\u001b[39mQuantiles must be in the range [0, 1]\u001b[39m\u001b[39m\"\u001b[39m)\n\u001b[1;32m   4412\u001b[0m \u001b[39mreturn\u001b[39;00m _quantile_unchecked(\n\u001b[1;32m   4413\u001b[0m     a, q, axis, out, overwrite_input, method, keepdims)\n",
      "\u001b[0;31mValueError\u001b[0m: Quantiles must be in the range [0, 1]"
     ]
    }
   ],
   "source": [
    "np.quantile(conv,2, method='weibull')"
   ]
  },
  {
   "cell_type": "code",
   "execution_count": null,
   "id": "4EPeE26qWY_Z",
   "metadata": {
    "colab": {
     "base_uri": "https://localhost:8080/"
    },
    "id": "4EPeE26qWY_Z",
    "outputId": "cdef5c89-da03-430d-e6ef-f6597b88a5d3"
   },
   "outputs": [
    {
     "name": "stdout",
     "output_type": "stream",
     "text": [
      "1.21.6\n"
     ]
    }
   ],
   "source": [
    "#ตรวจสอบ numpy version ใน colab\n",
    "print(np.__version__)"
   ]
  },
  {
   "cell_type": "code",
   "execution_count": 28,
   "id": "204f3385-4032-457c-9d64-04bf242e65c6",
   "metadata": {
    "colab": {
     "base_uri": "https://localhost:8080/",
     "height": 201
    },
    "id": "204f3385-4032-457c-9d64-04bf242e65c6",
    "outputId": "91918312-6c1f-427f-b8e7-b1d4421cb62d"
   },
   "outputs": [
    {
     "data": {
      "text/plain": [
       "9.7"
      ]
     },
     "execution_count": 28,
     "metadata": {},
     "output_type": "execute_result"
    }
   ],
   "source": [
    "np.percentile(conv,70, method='weibull')"
   ]
  },
  {
   "cell_type": "markdown",
   "id": "f3nxh-6nf5N1",
   "metadata": {
    "id": "f3nxh-6nf5N1"
   },
   "source": [
    "---"
   ]
  },
  {
   "cell_type": "markdown",
   "id": "da1910b0-aae5-4251-b500-2961387cbece",
   "metadata": {
    "id": "da1910b0-aae5-4251-b500-2961387cbece"
   },
   "source": [
    "#### 4.10 จงคำนวณค่าของ Q<sub>3</sub>, D<sub>3</sub> และ P<sub>60</sub> จากตารางแสดงระยะเวลาที่ครบกำหนดของการลงทุนระยะสั้นที่บริษัทต่างๆ จำนวน 40 บริษัทกำหนดไว้ดังตาราง 'ex3_10_investment.csv'\n"
   ]
  },
  {
   "cell_type": "code",
   "execution_count": 29,
   "id": "4494db17-0c7b-4dff-a7c5-82872aba411a",
   "metadata": {
    "colab": {
     "base_uri": "https://localhost:8080/",
     "height": 269
    },
    "id": "4494db17-0c7b-4dff-a7c5-82872aba411a",
    "outputId": "7c2c2350-8df9-446a-98a6-f231f6116e9d",
    "tags": []
   },
   "outputs": [
    {
     "data": {
      "text/html": [
       "<div>\n",
       "<style scoped>\n",
       "    .dataframe tbody tr th:only-of-type {\n",
       "        vertical-align: middle;\n",
       "    }\n",
       "\n",
       "    .dataframe tbody tr th {\n",
       "        vertical-align: top;\n",
       "    }\n",
       "\n",
       "    .dataframe thead th {\n",
       "        text-align: right;\n",
       "    }\n",
       "</style>\n",
       "<table border=\"1\" class=\"dataframe\">\n",
       "  <thead>\n",
       "    <tr style=\"text-align: right;\">\n",
       "      <th></th>\n",
       "      <th>duration</th>\n",
       "      <th>num_company</th>\n",
       "    </tr>\n",
       "  </thead>\n",
       "  <tbody>\n",
       "    <tr>\n",
       "      <th>0</th>\n",
       "      <td>30-39</td>\n",
       "      <td>3</td>\n",
       "    </tr>\n",
       "    <tr>\n",
       "      <th>1</th>\n",
       "      <td>40-49</td>\n",
       "      <td>1</td>\n",
       "    </tr>\n",
       "    <tr>\n",
       "      <th>2</th>\n",
       "      <td>50-59</td>\n",
       "      <td>8</td>\n",
       "    </tr>\n",
       "    <tr>\n",
       "      <th>3</th>\n",
       "      <td>60-69</td>\n",
       "      <td>10</td>\n",
       "    </tr>\n",
       "    <tr>\n",
       "      <th>4</th>\n",
       "      <td>70-79</td>\n",
       "      <td>7</td>\n",
       "    </tr>\n",
       "    <tr>\n",
       "      <th>5</th>\n",
       "      <td>80-89</td>\n",
       "      <td>7</td>\n",
       "    </tr>\n",
       "    <tr>\n",
       "      <th>6</th>\n",
       "      <td>90-99</td>\n",
       "      <td>4</td>\n",
       "    </tr>\n",
       "  </tbody>\n",
       "</table>\n",
       "</div>"
      ],
      "text/plain": [
       "  duration  num_company\n",
       "0    30-39            3\n",
       "1    40-49            1\n",
       "2    50-59            8\n",
       "3    60-69           10\n",
       "4    70-79            7\n",
       "5    80-89            7\n",
       "6    90-99            4"
      ]
     },
     "execution_count": 29,
     "metadata": {},
     "output_type": "execute_result"
    }
   ],
   "source": [
    "df_invest = pd.read_csv(\"data/ex4_10_investment.csv\")\n",
    "df_invest"
   ]
  },
  {
   "cell_type": "markdown",
   "id": "ca45e778-9d11-4791-b8ee-a2ba03a3c46d",
   "metadata": {
    "id": "ca45e778-9d11-4791-b8ee-a2ba03a3c46d"
   },
   "source": [
    "\\\n",
    "สร้าง column ความถี่สะสมของจำนวนบริษัท"
   ]
  },
  {
   "cell_type": "code",
   "execution_count": null,
   "id": "fdf7aabf-7813-4ec3-b34e-756eae268dea",
   "metadata": {
    "colab": {
     "base_uri": "https://localhost:8080/",
     "height": 269
    },
    "id": "fdf7aabf-7813-4ec3-b34e-756eae268dea",
    "outputId": "63717eff-002e-4187-e529-0996bbf55c9b"
   },
   "outputs": [
    {
     "data": {
      "text/html": [
       "\n",
       "  <div id=\"df-7a000de5-6bdb-40e9-9a10-c8cdd806b11b\">\n",
       "    <div class=\"colab-df-container\">\n",
       "      <div>\n",
       "<style scoped>\n",
       "    .dataframe tbody tr th:only-of-type {\n",
       "        vertical-align: middle;\n",
       "    }\n",
       "\n",
       "    .dataframe tbody tr th {\n",
       "        vertical-align: top;\n",
       "    }\n",
       "\n",
       "    .dataframe thead th {\n",
       "        text-align: right;\n",
       "    }\n",
       "</style>\n",
       "<table border=\"1\" class=\"dataframe\">\n",
       "  <thead>\n",
       "    <tr style=\"text-align: right;\">\n",
       "      <th></th>\n",
       "      <th>duration</th>\n",
       "      <th>num_company</th>\n",
       "      <th>num_company_cum</th>\n",
       "    </tr>\n",
       "  </thead>\n",
       "  <tbody>\n",
       "    <tr>\n",
       "      <th>0</th>\n",
       "      <td>30-39</td>\n",
       "      <td>3</td>\n",
       "      <td>3</td>\n",
       "    </tr>\n",
       "    <tr>\n",
       "      <th>1</th>\n",
       "      <td>40-49</td>\n",
       "      <td>1</td>\n",
       "      <td>4</td>\n",
       "    </tr>\n",
       "    <tr>\n",
       "      <th>2</th>\n",
       "      <td>50-59</td>\n",
       "      <td>8</td>\n",
       "      <td>12</td>\n",
       "    </tr>\n",
       "    <tr>\n",
       "      <th>3</th>\n",
       "      <td>60-69</td>\n",
       "      <td>10</td>\n",
       "      <td>22</td>\n",
       "    </tr>\n",
       "    <tr>\n",
       "      <th>4</th>\n",
       "      <td>70-79</td>\n",
       "      <td>7</td>\n",
       "      <td>29</td>\n",
       "    </tr>\n",
       "    <tr>\n",
       "      <th>5</th>\n",
       "      <td>80-89</td>\n",
       "      <td>7</td>\n",
       "      <td>36</td>\n",
       "    </tr>\n",
       "    <tr>\n",
       "      <th>6</th>\n",
       "      <td>90-99</td>\n",
       "      <td>4</td>\n",
       "      <td>40</td>\n",
       "    </tr>\n",
       "  </tbody>\n",
       "</table>\n",
       "</div>\n",
       "      <button class=\"colab-df-convert\" onclick=\"convertToInteractive('df-7a000de5-6bdb-40e9-9a10-c8cdd806b11b')\"\n",
       "              title=\"Convert this dataframe to an interactive table.\"\n",
       "              style=\"display:none;\">\n",
       "        \n",
       "  <svg xmlns=\"http://www.w3.org/2000/svg\" height=\"24px\"viewBox=\"0 0 24 24\"\n",
       "       width=\"24px\">\n",
       "    <path d=\"M0 0h24v24H0V0z\" fill=\"none\"/>\n",
       "    <path d=\"M18.56 5.44l.94 2.06.94-2.06 2.06-.94-2.06-.94-.94-2.06-.94 2.06-2.06.94zm-11 1L8.5 8.5l.94-2.06 2.06-.94-2.06-.94L8.5 2.5l-.94 2.06-2.06.94zm10 10l.94 2.06.94-2.06 2.06-.94-2.06-.94-.94-2.06-.94 2.06-2.06.94z\"/><path d=\"M17.41 7.96l-1.37-1.37c-.4-.4-.92-.59-1.43-.59-.52 0-1.04.2-1.43.59L10.3 9.45l-7.72 7.72c-.78.78-.78 2.05 0 2.83L4 21.41c.39.39.9.59 1.41.59.51 0 1.02-.2 1.41-.59l7.78-7.78 2.81-2.81c.8-.78.8-2.07 0-2.86zM5.41 20L4 18.59l7.72-7.72 1.47 1.35L5.41 20z\"/>\n",
       "  </svg>\n",
       "      </button>\n",
       "      \n",
       "  <style>\n",
       "    .colab-df-container {\n",
       "      display:flex;\n",
       "      flex-wrap:wrap;\n",
       "      gap: 12px;\n",
       "    }\n",
       "\n",
       "    .colab-df-convert {\n",
       "      background-color: #E8F0FE;\n",
       "      border: none;\n",
       "      border-radius: 50%;\n",
       "      cursor: pointer;\n",
       "      display: none;\n",
       "      fill: #1967D2;\n",
       "      height: 32px;\n",
       "      padding: 0 0 0 0;\n",
       "      width: 32px;\n",
       "    }\n",
       "\n",
       "    .colab-df-convert:hover {\n",
       "      background-color: #E2EBFA;\n",
       "      box-shadow: 0px 1px 2px rgba(60, 64, 67, 0.3), 0px 1px 3px 1px rgba(60, 64, 67, 0.15);\n",
       "      fill: #174EA6;\n",
       "    }\n",
       "\n",
       "    [theme=dark] .colab-df-convert {\n",
       "      background-color: #3B4455;\n",
       "      fill: #D2E3FC;\n",
       "    }\n",
       "\n",
       "    [theme=dark] .colab-df-convert:hover {\n",
       "      background-color: #434B5C;\n",
       "      box-shadow: 0px 1px 3px 1px rgba(0, 0, 0, 0.15);\n",
       "      filter: drop-shadow(0px 1px 2px rgba(0, 0, 0, 0.3));\n",
       "      fill: #FFFFFF;\n",
       "    }\n",
       "  </style>\n",
       "\n",
       "      <script>\n",
       "        const buttonEl =\n",
       "          document.querySelector('#df-7a000de5-6bdb-40e9-9a10-c8cdd806b11b button.colab-df-convert');\n",
       "        buttonEl.style.display =\n",
       "          google.colab.kernel.accessAllowed ? 'block' : 'none';\n",
       "\n",
       "        async function convertToInteractive(key) {\n",
       "          const element = document.querySelector('#df-7a000de5-6bdb-40e9-9a10-c8cdd806b11b');\n",
       "          const dataTable =\n",
       "            await google.colab.kernel.invokeFunction('convertToInteractive',\n",
       "                                                     [key], {});\n",
       "          if (!dataTable) return;\n",
       "\n",
       "          const docLinkHtml = 'Like what you see? Visit the ' +\n",
       "            '<a target=\"_blank\" href=https://colab.research.google.com/notebooks/data_table.ipynb>data table notebook</a>'\n",
       "            + ' to learn more about interactive tables.';\n",
       "          element.innerHTML = '';\n",
       "          dataTable['output_type'] = 'display_data';\n",
       "          await google.colab.output.renderOutput(dataTable, element);\n",
       "          const docLink = document.createElement('div');\n",
       "          docLink.innerHTML = docLinkHtml;\n",
       "          element.appendChild(docLink);\n",
       "        }\n",
       "      </script>\n",
       "    </div>\n",
       "  </div>\n",
       "  "
      ],
      "text/plain": [
       "  duration  num_company  num_company_cum\n",
       "0    30-39            3                3\n",
       "1    40-49            1                4\n",
       "2    50-59            8               12\n",
       "3    60-69           10               22\n",
       "4    70-79            7               29\n",
       "5    80-89            7               36\n",
       "6    90-99            4               40"
      ]
     },
     "execution_count": 46,
     "metadata": {},
     "output_type": "execute_result"
    }
   ],
   "source": [
    "df_invest['num_company_cum'] = df_invest.num_company.cumsum()\n",
    "df_invest"
   ]
  },
  {
   "cell_type": "markdown",
   "id": "71b700b1-6ca0-4dc5-b428-e9d2457bc60f",
   "metadata": {
    "id": "71b700b1-6ca0-4dc5-b428-e9d2457bc60f"
   },
   "source": [
    "\\\n",
    "แปลง duration ให้เป็น 2 columns เพื่อให้สามารถนำตัวเลขไปใช้คำนวณได้"
   ]
  },
  {
   "cell_type": "code",
   "execution_count": null,
   "id": "04cc8d33-e92b-4cca-b90c-262dc380e161",
   "metadata": {
    "colab": {
     "base_uri": "https://localhost:8080/",
     "height": 269
    },
    "id": "04cc8d33-e92b-4cca-b90c-262dc380e161",
    "outputId": "1bf9268d-2c8f-4d71-c8dc-33f38b7c060d"
   },
   "outputs": [
    {
     "data": {
      "text/html": [
       "\n",
       "  <div id=\"df-f1e6a04f-8cd9-4061-9542-07f00dff07c3\">\n",
       "    <div class=\"colab-df-container\">\n",
       "      <div>\n",
       "<style scoped>\n",
       "    .dataframe tbody tr th:only-of-type {\n",
       "        vertical-align: middle;\n",
       "    }\n",
       "\n",
       "    .dataframe tbody tr th {\n",
       "        vertical-align: top;\n",
       "    }\n",
       "\n",
       "    .dataframe thead th {\n",
       "        text-align: right;\n",
       "    }\n",
       "</style>\n",
       "<table border=\"1\" class=\"dataframe\">\n",
       "  <thead>\n",
       "    <tr style=\"text-align: right;\">\n",
       "      <th></th>\n",
       "      <th>duration</th>\n",
       "      <th>num_company</th>\n",
       "      <th>num_company_cum</th>\n",
       "      <th>du_from</th>\n",
       "      <th>du_to</th>\n",
       "    </tr>\n",
       "  </thead>\n",
       "  <tbody>\n",
       "    <tr>\n",
       "      <th>0</th>\n",
       "      <td>30-39</td>\n",
       "      <td>3</td>\n",
       "      <td>3</td>\n",
       "      <td>30</td>\n",
       "      <td>39</td>\n",
       "    </tr>\n",
       "    <tr>\n",
       "      <th>1</th>\n",
       "      <td>40-49</td>\n",
       "      <td>1</td>\n",
       "      <td>4</td>\n",
       "      <td>40</td>\n",
       "      <td>49</td>\n",
       "    </tr>\n",
       "    <tr>\n",
       "      <th>2</th>\n",
       "      <td>50-59</td>\n",
       "      <td>8</td>\n",
       "      <td>12</td>\n",
       "      <td>50</td>\n",
       "      <td>59</td>\n",
       "    </tr>\n",
       "    <tr>\n",
       "      <th>3</th>\n",
       "      <td>60-69</td>\n",
       "      <td>10</td>\n",
       "      <td>22</td>\n",
       "      <td>60</td>\n",
       "      <td>69</td>\n",
       "    </tr>\n",
       "    <tr>\n",
       "      <th>4</th>\n",
       "      <td>70-79</td>\n",
       "      <td>7</td>\n",
       "      <td>29</td>\n",
       "      <td>70</td>\n",
       "      <td>79</td>\n",
       "    </tr>\n",
       "    <tr>\n",
       "      <th>5</th>\n",
       "      <td>80-89</td>\n",
       "      <td>7</td>\n",
       "      <td>36</td>\n",
       "      <td>80</td>\n",
       "      <td>89</td>\n",
       "    </tr>\n",
       "    <tr>\n",
       "      <th>6</th>\n",
       "      <td>90-99</td>\n",
       "      <td>4</td>\n",
       "      <td>40</td>\n",
       "      <td>90</td>\n",
       "      <td>99</td>\n",
       "    </tr>\n",
       "  </tbody>\n",
       "</table>\n",
       "</div>\n",
       "      <button class=\"colab-df-convert\" onclick=\"convertToInteractive('df-f1e6a04f-8cd9-4061-9542-07f00dff07c3')\"\n",
       "              title=\"Convert this dataframe to an interactive table.\"\n",
       "              style=\"display:none;\">\n",
       "        \n",
       "  <svg xmlns=\"http://www.w3.org/2000/svg\" height=\"24px\"viewBox=\"0 0 24 24\"\n",
       "       width=\"24px\">\n",
       "    <path d=\"M0 0h24v24H0V0z\" fill=\"none\"/>\n",
       "    <path d=\"M18.56 5.44l.94 2.06.94-2.06 2.06-.94-2.06-.94-.94-2.06-.94 2.06-2.06.94zm-11 1L8.5 8.5l.94-2.06 2.06-.94-2.06-.94L8.5 2.5l-.94 2.06-2.06.94zm10 10l.94 2.06.94-2.06 2.06-.94-2.06-.94-.94-2.06-.94 2.06-2.06.94z\"/><path d=\"M17.41 7.96l-1.37-1.37c-.4-.4-.92-.59-1.43-.59-.52 0-1.04.2-1.43.59L10.3 9.45l-7.72 7.72c-.78.78-.78 2.05 0 2.83L4 21.41c.39.39.9.59 1.41.59.51 0 1.02-.2 1.41-.59l7.78-7.78 2.81-2.81c.8-.78.8-2.07 0-2.86zM5.41 20L4 18.59l7.72-7.72 1.47 1.35L5.41 20z\"/>\n",
       "  </svg>\n",
       "      </button>\n",
       "      \n",
       "  <style>\n",
       "    .colab-df-container {\n",
       "      display:flex;\n",
       "      flex-wrap:wrap;\n",
       "      gap: 12px;\n",
       "    }\n",
       "\n",
       "    .colab-df-convert {\n",
       "      background-color: #E8F0FE;\n",
       "      border: none;\n",
       "      border-radius: 50%;\n",
       "      cursor: pointer;\n",
       "      display: none;\n",
       "      fill: #1967D2;\n",
       "      height: 32px;\n",
       "      padding: 0 0 0 0;\n",
       "      width: 32px;\n",
       "    }\n",
       "\n",
       "    .colab-df-convert:hover {\n",
       "      background-color: #E2EBFA;\n",
       "      box-shadow: 0px 1px 2px rgba(60, 64, 67, 0.3), 0px 1px 3px 1px rgba(60, 64, 67, 0.15);\n",
       "      fill: #174EA6;\n",
       "    }\n",
       "\n",
       "    [theme=dark] .colab-df-convert {\n",
       "      background-color: #3B4455;\n",
       "      fill: #D2E3FC;\n",
       "    }\n",
       "\n",
       "    [theme=dark] .colab-df-convert:hover {\n",
       "      background-color: #434B5C;\n",
       "      box-shadow: 0px 1px 3px 1px rgba(0, 0, 0, 0.15);\n",
       "      filter: drop-shadow(0px 1px 2px rgba(0, 0, 0, 0.3));\n",
       "      fill: #FFFFFF;\n",
       "    }\n",
       "  </style>\n",
       "\n",
       "      <script>\n",
       "        const buttonEl =\n",
       "          document.querySelector('#df-f1e6a04f-8cd9-4061-9542-07f00dff07c3 button.colab-df-convert');\n",
       "        buttonEl.style.display =\n",
       "          google.colab.kernel.accessAllowed ? 'block' : 'none';\n",
       "\n",
       "        async function convertToInteractive(key) {\n",
       "          const element = document.querySelector('#df-f1e6a04f-8cd9-4061-9542-07f00dff07c3');\n",
       "          const dataTable =\n",
       "            await google.colab.kernel.invokeFunction('convertToInteractive',\n",
       "                                                     [key], {});\n",
       "          if (!dataTable) return;\n",
       "\n",
       "          const docLinkHtml = 'Like what you see? Visit the ' +\n",
       "            '<a target=\"_blank\" href=https://colab.research.google.com/notebooks/data_table.ipynb>data table notebook</a>'\n",
       "            + ' to learn more about interactive tables.';\n",
       "          element.innerHTML = '';\n",
       "          dataTable['output_type'] = 'display_data';\n",
       "          await google.colab.output.renderOutput(dataTable, element);\n",
       "          const docLink = document.createElement('div');\n",
       "          docLink.innerHTML = docLinkHtml;\n",
       "          element.appendChild(docLink);\n",
       "        }\n",
       "      </script>\n",
       "    </div>\n",
       "  </div>\n",
       "  "
      ],
      "text/plain": [
       "  duration  num_company  num_company_cum  du_from  du_to\n",
       "0    30-39            3                3       30     39\n",
       "1    40-49            1                4       40     49\n",
       "2    50-59            8               12       50     59\n",
       "3    60-69           10               22       60     69\n",
       "4    70-79            7               29       70     79\n",
       "5    80-89            7               36       80     89\n",
       "6    90-99            4               40       90     99"
      ]
     },
     "execution_count": 50,
     "metadata": {},
     "output_type": "execute_result"
    }
   ],
   "source": [
    "df_invest[['du_from', 'du_to']] = df_invest.duration.str.split('-', expand=True)\n",
    "df_invest = df_invest.astype({'du_from': int, 'du_to': int})\n",
    "df_invest"
   ]
  },
  {
   "cell_type": "markdown",
   "id": "a09f0e62-b173-438f-a4c4-d09937befb9e",
   "metadata": {
    "id": "a09f0e62-b173-438f-a4c4-d09937befb9e"
   },
   "source": [
    "&emsp;**1) Q<sub>3</sub>**"
   ]
  },
  {
   "cell_type": "markdown",
   "id": "5df61489-5e4e-495b-8042-317a523cdad6",
   "metadata": {
    "id": "5df61489-5e4e-495b-8042-317a523cdad6"
   },
   "source": [
    "หาชั้นที่ Q<sub>3</sub> อยู่"
   ]
  },
  {
   "cell_type": "code",
   "execution_count": null,
   "id": "fb0ec2d5-dbfa-4718-83a4-67034e124d34",
   "metadata": {
    "id": "fb0ec2d5-dbfa-4718-83a4-67034e124d34"
   },
   "outputs": [],
   "source": [
    "n = 40"
   ]
  },
  {
   "cell_type": "code",
   "execution_count": null,
   "id": "1675bf8b-7936-4349-aa0f-335acc733542",
   "metadata": {
    "colab": {
     "base_uri": "https://localhost:8080/"
    },
    "id": "1675bf8b-7936-4349-aa0f-335acc733542",
    "outputId": "da9d09c0-a69a-4d60-c09a-2010524aebbe"
   },
   "outputs": [
    {
     "data": {
      "text/plain": [
       "30.0"
      ]
     },
     "execution_count": 48,
     "metadata": {},
     "output_type": "execute_result"
    }
   ],
   "source": [
    "q3_pos = n*3/4\n",
    "q3_pos"
   ]
  },
  {
   "cell_type": "markdown",
   "id": "cc007fc6-04b4-4716-be9e-fad957d3c151",
   "metadata": {
    "id": "cc007fc6-04b4-4716-be9e-fad957d3c151"
   },
   "source": [
    "ดังนั้นอยู่ชั้นที่ 6 (index 5) e=5  \n",
    "หาค่าขอบเขตล่าง L  "
   ]
  },
  {
   "cell_type": "code",
   "execution_count": null,
   "id": "abf99fb1-b3fd-4301-b9ac-688aae3973b5",
   "metadata": {
    "colab": {
     "base_uri": "https://localhost:8080/"
    },
    "id": "abf99fb1-b3fd-4301-b9ac-688aae3973b5",
    "outputId": "62643843-64c5-406d-be44-a1083953f65b"
   },
   "outputs": [
    {
     "data": {
      "text/plain": [
       "79.5"
      ]
     },
     "execution_count": 51,
     "metadata": {},
     "output_type": "execute_result"
    }
   ],
   "source": [
    "e = 5\n",
    "lower = (df_invest.du_to[e-1]+df_invest.du_from[e]) / 2\n",
    "lower"
   ]
  },
  {
   "cell_type": "markdown",
   "id": "154ec464-6e44-43c9-a2ab-089fbdc70e87",
   "metadata": {
    "id": "154ec464-6e44-43c9-a2ab-089fbdc70e87"
   },
   "source": [
    "หาค่า Q<sub>3</sub>  "
   ]
  },
  {
   "cell_type": "code",
   "execution_count": null,
   "id": "d0b47c5a-9c55-4c63-91d2-d82c7d01884a",
   "metadata": {
    "colab": {
     "base_uri": "https://localhost:8080/"
    },
    "id": "d0b47c5a-9c55-4c63-91d2-d82c7d01884a",
    "outputId": "2e59a0a2-7ead-4fb3-e67a-1176ef348783"
   },
   "outputs": [
    {
     "data": {
      "text/plain": [
       "80.92857142857143"
      ]
     },
     "execution_count": 54,
     "metadata": {},
     "output_type": "execute_result"
    }
   ],
   "source": [
    "lower+( (q3_pos-df_invest.num_company_cum[e-1])/df_invest.num_company[e] )*10"
   ]
  },
  {
   "cell_type": "markdown",
   "id": "908f1bda-f2f5-4428-bad5-2f11c6bd7670",
   "metadata": {
    "id": "908f1bda-f2f5-4428-bad5-2f11c6bd7670"
   },
   "source": [
    "&emsp;**2) D<sub>3</sub>**"
   ]
  },
  {
   "cell_type": "code",
   "execution_count": null,
   "id": "c782ad08-8beb-47ff-ada5-5068fa025f88",
   "metadata": {
    "colab": {
     "base_uri": "https://localhost:8080/"
    },
    "id": "c782ad08-8beb-47ff-ada5-5068fa025f88",
    "outputId": "67406238-7e42-40e2-8e11-7c5111d1169f"
   },
   "outputs": [
    {
     "data": {
      "text/plain": [
       "12.0"
      ]
     },
     "execution_count": 53,
     "metadata": {},
     "output_type": "execute_result"
    }
   ],
   "source": [
    "D3_pos = n*3/10\n",
    "D3_pos"
   ]
  },
  {
   "cell_type": "markdown",
   "id": "9bd534d9-63ba-4ec4-9ffd-4c9538c455b1",
   "metadata": {
    "id": "9bd534d9-63ba-4ec4-9ffd-4c9538c455b1"
   },
   "source": [
    "ดังนั้นอยู่ชั้นที่ 3 (index 2) e=2  \n",
    "หาค่าขอบเขตล่าง L  "
   ]
  },
  {
   "cell_type": "code",
   "execution_count": null,
   "id": "bfd979db-192b-4d91-a539-fe577790829f",
   "metadata": {
    "colab": {
     "base_uri": "https://localhost:8080/"
    },
    "id": "bfd979db-192b-4d91-a539-fe577790829f",
    "outputId": "908bf477-1e71-42e6-f0aa-e008e0a84328"
   },
   "outputs": [
    {
     "data": {
      "text/plain": [
       "49.5"
      ]
     },
     "execution_count": 107,
     "metadata": {},
     "output_type": "execute_result"
    }
   ],
   "source": [
    "e = 2\n",
    "lower = (df_invest.du_to[e-1]+df_invest.du_from[e]) / 2\n",
    "lower"
   ]
  },
  {
   "cell_type": "markdown",
   "id": "b6a44baa-5ae6-4038-b472-4102e9070ef5",
   "metadata": {
    "id": "b6a44baa-5ae6-4038-b472-4102e9070ef5"
   },
   "source": [
    "หาค่า D<sub>3</sub>  "
   ]
  },
  {
   "cell_type": "code",
   "execution_count": null,
   "id": "40ebdbe7-111c-4c8e-a357-a9848bdca604",
   "metadata": {
    "colab": {
     "base_uri": "https://localhost:8080/"
    },
    "id": "40ebdbe7-111c-4c8e-a357-a9848bdca604",
    "outputId": "7b1c8d25-fd81-48a0-b41a-6f3f50c7254a"
   },
   "outputs": [
    {
     "data": {
      "text/plain": [
       "59.5"
      ]
     },
     "execution_count": 108,
     "metadata": {},
     "output_type": "execute_result"
    }
   ],
   "source": [
    "lower+( (D3_pos-df_invest.num_company_cum[e-1])/df_invest.num_company[e] )*10"
   ]
  },
  {
   "cell_type": "markdown",
   "id": "eb2eb4d3-4c93-4ee4-8a35-b534429d6534",
   "metadata": {
    "id": "eb2eb4d3-4c93-4ee4-8a35-b534429d6534"
   },
   "source": [
    "&emsp;**3) P<sub>60</sub>**"
   ]
  },
  {
   "cell_type": "code",
   "execution_count": null,
   "id": "a61777c7-fe63-4ad6-b7e7-0c1ae3c89998",
   "metadata": {
    "colab": {
     "base_uri": "https://localhost:8080/"
    },
    "id": "a61777c7-fe63-4ad6-b7e7-0c1ae3c89998",
    "outputId": "ac472e7d-ebee-400d-e87e-f24c1be1389d"
   },
   "outputs": [
    {
     "data": {
      "text/plain": [
       "24.0"
      ]
     },
     "execution_count": 55,
     "metadata": {},
     "output_type": "execute_result"
    }
   ],
   "source": [
    "P60_pos = n*60/100\n",
    "P60_pos"
   ]
  },
  {
   "cell_type": "markdown",
   "id": "de027ba9-d061-4b17-baa4-f613c53fc92f",
   "metadata": {
    "id": "de027ba9-d061-4b17-baa4-f613c53fc92f"
   },
   "source": [
    "ดังนั้นอยู่ชั้นที่ 5 (index 2) e=4  \n",
    "หาค่าขอบเขตล่าง L  "
   ]
  },
  {
   "cell_type": "code",
   "execution_count": null,
   "id": "9903b37a-11e3-4071-adb6-a590e7c5f083",
   "metadata": {
    "colab": {
     "base_uri": "https://localhost:8080/"
    },
    "id": "9903b37a-11e3-4071-adb6-a590e7c5f083",
    "outputId": "997379c1-97d3-41df-ff2d-51f1bdef75fa"
   },
   "outputs": [
    {
     "data": {
      "text/plain": [
       "69.5"
      ]
     },
     "execution_count": 56,
     "metadata": {},
     "output_type": "execute_result"
    }
   ],
   "source": [
    "e = 4\n",
    "lower = (df_invest.du_to[e-1]+df_invest.du_from[e]) / 2\n",
    "lower"
   ]
  },
  {
   "cell_type": "markdown",
   "id": "d3786ed7-ba07-43b8-ac97-4c5be7496aee",
   "metadata": {
    "id": "d3786ed7-ba07-43b8-ac97-4c5be7496aee"
   },
   "source": [
    "หาค่า P<sub>60</sub>  "
   ]
  },
  {
   "cell_type": "code",
   "execution_count": null,
   "id": "43178608-ec45-47b4-9146-9943956815d8",
   "metadata": {
    "colab": {
     "base_uri": "https://localhost:8080/"
    },
    "id": "43178608-ec45-47b4-9146-9943956815d8",
    "outputId": "0111c531-5c25-4640-aad3-434a3245285f"
   },
   "outputs": [
    {
     "data": {
      "text/plain": [
       "72.35714285714286"
      ]
     },
     "execution_count": 57,
     "metadata": {},
     "output_type": "execute_result"
    }
   ],
   "source": [
    "lower+( (P60_pos-df_invest.num_company_cum[e-1])/df_invest.num_company[e] )*10"
   ]
  },
  {
   "cell_type": "markdown",
   "id": "Iqm0Zc3nf7Bm",
   "metadata": {
    "id": "Iqm0Zc3nf7Bm"
   },
   "source": [
    "---"
   ]
  },
  {
   "cell_type": "markdown",
   "id": "70940e88-15ac-401c-bd50-2c69003375f8",
   "metadata": {
    "id": "70940e88-15ac-401c-bd50-2c69003375f8"
   },
   "source": [
    "#### 4.11 ทำการสุ่มเลือกนิสิต 7 คน ซึ่งเรียนในหลักสูตรของภาควิชาวิทยาการคอมพิวเตอร์แล้วทำการสอบถามค่าใช้จ่ายที่ใช้ในแต่ละวันได้ผลดังนี้ 300, 250, 150, 120, 240, 180, 250 จงคำนวณค่าพิสัย"
   ]
  },
  {
   "cell_type": "code",
   "execution_count": null,
   "id": "750fd1d5-308b-44e8-922f-f5d663ebbfef",
   "metadata": {
    "id": "750fd1d5-308b-44e8-922f-f5d663ebbfef"
   },
   "outputs": [],
   "source": [
    "expense = [300, 250, 150, 120, 240, 180, 250]"
   ]
  },
  {
   "cell_type": "markdown",
   "id": "be854c37-f58b-4e6a-ac09-12cabe8c45db",
   "metadata": {
    "id": "be854c37-f58b-4e6a-ac09-12cabe8c45db"
   },
   "source": [
    "หาพิสัย"
   ]
  },
  {
   "cell_type": "code",
   "execution_count": null,
   "id": "e48be8e2-36f2-4b78-ba30-5f5297311b94",
   "metadata": {
    "colab": {
     "base_uri": "https://localhost:8080/"
    },
    "id": "e48be8e2-36f2-4b78-ba30-5f5297311b94",
    "outputId": "d66fd727-d123-4481-dd74-066a16cf073a"
   },
   "outputs": [
    {
     "data": {
      "text/plain": [
       "180"
      ]
     },
     "execution_count": 113,
     "metadata": {},
     "output_type": "execute_result"
    }
   ],
   "source": [
    "max(expense) - min(expense)"
   ]
  },
  {
   "cell_type": "markdown",
   "id": "6K5vg4BQf9Dt",
   "metadata": {
    "id": "6K5vg4BQf9Dt"
   },
   "source": [
    "---"
   ]
  },
  {
   "cell_type": "markdown",
   "id": "e8684833-02d7-4d13-ba8b-df114b9d50ce",
   "metadata": {
    "id": "e8684833-02d7-4d13-ba8b-df114b9d50ce"
   },
   "source": [
    "#### 4.12 สุ่มตัวอย่างนิสิตจำนวน 10 คน และสอบถามถึงจำนวนครั้งในการไปใช้บริการร้านสะดวกซื้อในหนึ่งสัปดาห์ ได้ข้อมูลมาดังนี้ 10, 5, 3, 9, 17, 15, 9, 2, 7, 8   จงคำนวณค่า Q1 และ D7ทำการสุ่มเลือกนิสิต 7 คน ซึ่งเรียนในหลักสูตรของภาควิชาวิทยาการคอมพิวเตอร์แล้วทำการสอบถามค่าใช้จ่ายที่ใช้ในแต่ละวันได้ผลดังนี้ 300, 250, 150, 120, 240, 180, 250 จงคำนวณค่าส่วนเบี่ยงเบนมาตรฐานและความแปรปรวน"
   ]
  },
  {
   "cell_type": "code",
   "execution_count": null,
   "id": "b82f7941-55f9-4a3f-a0af-1a344a68f2c6",
   "metadata": {
    "id": "b82f7941-55f9-4a3f-a0af-1a344a68f2c6"
   },
   "outputs": [],
   "source": [
    "cost = [300, 250, 150, 120, 240, 180, 250]"
   ]
  },
  {
   "cell_type": "markdown",
   "id": "97ba73ed-3f1e-4624-81b6-cd3cd0ccd06e",
   "metadata": {
    "id": "97ba73ed-3f1e-4624-81b6-cd3cd0ccd06e"
   },
   "source": [
    "\\\n",
    "หาค่าส่วนเบี่ยงเบนมาตรฐาน"
   ]
  },
  {
   "cell_type": "code",
   "execution_count": null,
   "id": "ce3c7d1b-26d9-4a7b-a88e-97cc74e0f16c",
   "metadata": {
    "colab": {
     "base_uri": "https://localhost:8080/"
    },
    "id": "ce3c7d1b-26d9-4a7b-a88e-97cc74e0f16c",
    "outputId": "d92f0bd9-2a0d-4e18-9004-d0bfd79a1743"
   },
   "outputs": [
    {
     "data": {
      "text/plain": [
       "64.21689437998013"
      ]
     },
     "execution_count": 59,
     "metadata": {},
     "output_type": "execute_result"
    }
   ],
   "source": [
    "np.std(cost, ddof=1)"
   ]
  },
  {
   "cell_type": "markdown",
   "id": "c996870f-bed8-489d-af9a-b0e6ffa1ad68",
   "metadata": {
    "id": "c996870f-bed8-489d-af9a-b0e6ffa1ad68"
   },
   "source": [
    "***Note:***  \n",
    "การใช้ ddof = 1 จะหมายถึงตามสูตรหารด้วย n-1 (degree of freedom ของตัวอย่าง)  \n",
    "หากไม่กำหนดค่า default คือ 0 จะหมายถึงตามสูตรหารด้วย n (degree of freedom ของประชากร)"
   ]
  },
  {
   "cell_type": "markdown",
   "id": "2a3f26a8-2146-4968-bf0c-d25dd67dce9a",
   "metadata": {
    "id": "2a3f26a8-2146-4968-bf0c-d25dd67dce9a"
   },
   "source": [
    "\\\n",
    "หาค่าความแปรปรวน"
   ]
  },
  {
   "cell_type": "code",
   "execution_count": null,
   "id": "97e7c401-5687-415e-90e7-23fccd4e1a0b",
   "metadata": {
    "colab": {
     "base_uri": "https://localhost:8080/"
    },
    "id": "97e7c401-5687-415e-90e7-23fccd4e1a0b",
    "outputId": "4d4d1779-d608-47cd-cee5-00748693a3ab"
   },
   "outputs": [
    {
     "data": {
      "text/plain": [
       "4123.809523809524"
      ]
     },
     "execution_count": 60,
     "metadata": {},
     "output_type": "execute_result"
    }
   ],
   "source": [
    "np.var(cost, ddof=1)"
   ]
  },
  {
   "cell_type": "code",
   "execution_count": null,
   "id": "CSMwfg0t2kJZ",
   "metadata": {
    "colab": {
     "base_uri": "https://localhost:8080/"
    },
    "id": "CSMwfg0t2kJZ",
    "outputId": "02c8ed5e-3389-44be-b9a5-3a92de7c6c7d"
   },
   "outputs": [
    {
     "data": {
      "text/plain": [
       "4123.809523809524"
      ]
     },
     "execution_count": 61,
     "metadata": {},
     "output_type": "execute_result"
    }
   ],
   "source": [
    "np.std(cost, ddof=1)**2"
   ]
  },
  {
   "cell_type": "markdown",
   "id": "f9WBVfhEf-xE",
   "metadata": {
    "id": "f9WBVfhEf-xE"
   },
   "source": [
    "---"
   ]
  },
  {
   "cell_type": "markdown",
   "id": "fba5583c-15e5-4a7e-a16d-0b6ead5fec7f",
   "metadata": {
    "id": "fba5583c-15e5-4a7e-a16d-0b6ead5fec7f"
   },
   "source": [
    "#### 4.13 ทำการสุ่มเลือกนิสิต 20 คน ซึ่งเรียนในหลักสูตรของภาควิชาวิทยาการคอมพิวเตอร์แล้วทำการสอบถามค่าใช้จ่ายที่ใช้ในแต่ละวันได้ผลดังตาราง 'ex3_13_expense.csv'  จงคำนวณส่วนเบี่ยงเบนมาตรฐานของค่าใช้จ่ายต่อวัน"
   ]
  },
  {
   "cell_type": "code",
   "execution_count": null,
   "id": "2905a98e-0054-4c54-8f42-02c25525cec4",
   "metadata": {
    "colab": {
     "base_uri": "https://localhost:8080/",
     "height": 206
    },
    "id": "2905a98e-0054-4c54-8f42-02c25525cec4",
    "outputId": "e74a4b28-057f-46c7-be6e-a1a2401950ce"
   },
   "outputs": [
    {
     "data": {
      "text/html": [
       "\n",
       "  <div id=\"df-cf45d988-7ab5-4f6e-b481-363b4d88cc08\">\n",
       "    <div class=\"colab-df-container\">\n",
       "      <div>\n",
       "<style scoped>\n",
       "    .dataframe tbody tr th:only-of-type {\n",
       "        vertical-align: middle;\n",
       "    }\n",
       "\n",
       "    .dataframe tbody tr th {\n",
       "        vertical-align: top;\n",
       "    }\n",
       "\n",
       "    .dataframe thead th {\n",
       "        text-align: right;\n",
       "    }\n",
       "</style>\n",
       "<table border=\"1\" class=\"dataframe\">\n",
       "  <thead>\n",
       "    <tr style=\"text-align: right;\">\n",
       "      <th></th>\n",
       "      <th>expense</th>\n",
       "      <th>num_student</th>\n",
       "    </tr>\n",
       "  </thead>\n",
       "  <tbody>\n",
       "    <tr>\n",
       "      <th>0</th>\n",
       "      <td>50-99</td>\n",
       "      <td>2</td>\n",
       "    </tr>\n",
       "    <tr>\n",
       "      <th>1</th>\n",
       "      <td>100-149</td>\n",
       "      <td>3</td>\n",
       "    </tr>\n",
       "    <tr>\n",
       "      <th>2</th>\n",
       "      <td>150-199</td>\n",
       "      <td>7</td>\n",
       "    </tr>\n",
       "    <tr>\n",
       "      <th>3</th>\n",
       "      <td>200-249</td>\n",
       "      <td>5</td>\n",
       "    </tr>\n",
       "    <tr>\n",
       "      <th>4</th>\n",
       "      <td>250-300</td>\n",
       "      <td>3</td>\n",
       "    </tr>\n",
       "  </tbody>\n",
       "</table>\n",
       "</div>\n",
       "      <button class=\"colab-df-convert\" onclick=\"convertToInteractive('df-cf45d988-7ab5-4f6e-b481-363b4d88cc08')\"\n",
       "              title=\"Convert this dataframe to an interactive table.\"\n",
       "              style=\"display:none;\">\n",
       "        \n",
       "  <svg xmlns=\"http://www.w3.org/2000/svg\" height=\"24px\"viewBox=\"0 0 24 24\"\n",
       "       width=\"24px\">\n",
       "    <path d=\"M0 0h24v24H0V0z\" fill=\"none\"/>\n",
       "    <path d=\"M18.56 5.44l.94 2.06.94-2.06 2.06-.94-2.06-.94-.94-2.06-.94 2.06-2.06.94zm-11 1L8.5 8.5l.94-2.06 2.06-.94-2.06-.94L8.5 2.5l-.94 2.06-2.06.94zm10 10l.94 2.06.94-2.06 2.06-.94-2.06-.94-.94-2.06-.94 2.06-2.06.94z\"/><path d=\"M17.41 7.96l-1.37-1.37c-.4-.4-.92-.59-1.43-.59-.52 0-1.04.2-1.43.59L10.3 9.45l-7.72 7.72c-.78.78-.78 2.05 0 2.83L4 21.41c.39.39.9.59 1.41.59.51 0 1.02-.2 1.41-.59l7.78-7.78 2.81-2.81c.8-.78.8-2.07 0-2.86zM5.41 20L4 18.59l7.72-7.72 1.47 1.35L5.41 20z\"/>\n",
       "  </svg>\n",
       "      </button>\n",
       "      \n",
       "  <style>\n",
       "    .colab-df-container {\n",
       "      display:flex;\n",
       "      flex-wrap:wrap;\n",
       "      gap: 12px;\n",
       "    }\n",
       "\n",
       "    .colab-df-convert {\n",
       "      background-color: #E8F0FE;\n",
       "      border: none;\n",
       "      border-radius: 50%;\n",
       "      cursor: pointer;\n",
       "      display: none;\n",
       "      fill: #1967D2;\n",
       "      height: 32px;\n",
       "      padding: 0 0 0 0;\n",
       "      width: 32px;\n",
       "    }\n",
       "\n",
       "    .colab-df-convert:hover {\n",
       "      background-color: #E2EBFA;\n",
       "      box-shadow: 0px 1px 2px rgba(60, 64, 67, 0.3), 0px 1px 3px 1px rgba(60, 64, 67, 0.15);\n",
       "      fill: #174EA6;\n",
       "    }\n",
       "\n",
       "    [theme=dark] .colab-df-convert {\n",
       "      background-color: #3B4455;\n",
       "      fill: #D2E3FC;\n",
       "    }\n",
       "\n",
       "    [theme=dark] .colab-df-convert:hover {\n",
       "      background-color: #434B5C;\n",
       "      box-shadow: 0px 1px 3px 1px rgba(0, 0, 0, 0.15);\n",
       "      filter: drop-shadow(0px 1px 2px rgba(0, 0, 0, 0.3));\n",
       "      fill: #FFFFFF;\n",
       "    }\n",
       "  </style>\n",
       "\n",
       "      <script>\n",
       "        const buttonEl =\n",
       "          document.querySelector('#df-cf45d988-7ab5-4f6e-b481-363b4d88cc08 button.colab-df-convert');\n",
       "        buttonEl.style.display =\n",
       "          google.colab.kernel.accessAllowed ? 'block' : 'none';\n",
       "\n",
       "        async function convertToInteractive(key) {\n",
       "          const element = document.querySelector('#df-cf45d988-7ab5-4f6e-b481-363b4d88cc08');\n",
       "          const dataTable =\n",
       "            await google.colab.kernel.invokeFunction('convertToInteractive',\n",
       "                                                     [key], {});\n",
       "          if (!dataTable) return;\n",
       "\n",
       "          const docLinkHtml = 'Like what you see? Visit the ' +\n",
       "            '<a target=\"_blank\" href=https://colab.research.google.com/notebooks/data_table.ipynb>data table notebook</a>'\n",
       "            + ' to learn more about interactive tables.';\n",
       "          element.innerHTML = '';\n",
       "          dataTable['output_type'] = 'display_data';\n",
       "          await google.colab.output.renderOutput(dataTable, element);\n",
       "          const docLink = document.createElement('div');\n",
       "          docLink.innerHTML = docLinkHtml;\n",
       "          element.appendChild(docLink);\n",
       "        }\n",
       "      </script>\n",
       "    </div>\n",
       "  </div>\n",
       "  "
      ],
      "text/plain": [
       "   expense  num_student\n",
       "0    50-99            2\n",
       "1  100-149            3\n",
       "2  150-199            7\n",
       "3  200-249            5\n",
       "4  250-300            3"
      ]
     },
     "execution_count": 69,
     "metadata": {},
     "output_type": "execute_result"
    }
   ],
   "source": [
    "df_expense = pd.read_csv(\"/content/drive/MyDrive/KU/0.Teaching/StatComp/2565_1/basic_stat/ex4_13_expense.csv\")\n",
    "df_expense"
   ]
  },
  {
   "cell_type": "markdown",
   "id": "e8724b3e-93f5-42e4-bb96-84512e908db0",
   "metadata": {
    "id": "e8724b3e-93f5-42e4-bb96-84512e908db0"
   },
   "source": [
    "\\\n",
    "แปลง expense ให้เป็น 2 columns เพื่อให้สามารถนำตัวเลขไปใช้คำนวณได้"
   ]
  },
  {
   "cell_type": "code",
   "execution_count": null,
   "id": "b92a6c54-a30b-455c-a3b0-8b41ba4e82f4",
   "metadata": {
    "colab": {
     "base_uri": "https://localhost:8080/",
     "height": 206
    },
    "id": "b92a6c54-a30b-455c-a3b0-8b41ba4e82f4",
    "outputId": "d2ff4fb1-ea92-489a-c0cd-a0a8ba4354c6"
   },
   "outputs": [
    {
     "data": {
      "text/html": [
       "\n",
       "  <div id=\"df-3019056d-3b42-400d-9698-b94bf1a4750e\">\n",
       "    <div class=\"colab-df-container\">\n",
       "      <div>\n",
       "<style scoped>\n",
       "    .dataframe tbody tr th:only-of-type {\n",
       "        vertical-align: middle;\n",
       "    }\n",
       "\n",
       "    .dataframe tbody tr th {\n",
       "        vertical-align: top;\n",
       "    }\n",
       "\n",
       "    .dataframe thead th {\n",
       "        text-align: right;\n",
       "    }\n",
       "</style>\n",
       "<table border=\"1\" class=\"dataframe\">\n",
       "  <thead>\n",
       "    <tr style=\"text-align: right;\">\n",
       "      <th></th>\n",
       "      <th>expense</th>\n",
       "      <th>num_student</th>\n",
       "      <th>exp_from</th>\n",
       "      <th>exp_to</th>\n",
       "    </tr>\n",
       "  </thead>\n",
       "  <tbody>\n",
       "    <tr>\n",
       "      <th>0</th>\n",
       "      <td>50-99</td>\n",
       "      <td>2</td>\n",
       "      <td>50</td>\n",
       "      <td>99</td>\n",
       "    </tr>\n",
       "    <tr>\n",
       "      <th>1</th>\n",
       "      <td>100-149</td>\n",
       "      <td>3</td>\n",
       "      <td>100</td>\n",
       "      <td>149</td>\n",
       "    </tr>\n",
       "    <tr>\n",
       "      <th>2</th>\n",
       "      <td>150-199</td>\n",
       "      <td>7</td>\n",
       "      <td>150</td>\n",
       "      <td>199</td>\n",
       "    </tr>\n",
       "    <tr>\n",
       "      <th>3</th>\n",
       "      <td>200-249</td>\n",
       "      <td>5</td>\n",
       "      <td>200</td>\n",
       "      <td>249</td>\n",
       "    </tr>\n",
       "    <tr>\n",
       "      <th>4</th>\n",
       "      <td>250-300</td>\n",
       "      <td>3</td>\n",
       "      <td>250</td>\n",
       "      <td>300</td>\n",
       "    </tr>\n",
       "  </tbody>\n",
       "</table>\n",
       "</div>\n",
       "      <button class=\"colab-df-convert\" onclick=\"convertToInteractive('df-3019056d-3b42-400d-9698-b94bf1a4750e')\"\n",
       "              title=\"Convert this dataframe to an interactive table.\"\n",
       "              style=\"display:none;\">\n",
       "        \n",
       "  <svg xmlns=\"http://www.w3.org/2000/svg\" height=\"24px\"viewBox=\"0 0 24 24\"\n",
       "       width=\"24px\">\n",
       "    <path d=\"M0 0h24v24H0V0z\" fill=\"none\"/>\n",
       "    <path d=\"M18.56 5.44l.94 2.06.94-2.06 2.06-.94-2.06-.94-.94-2.06-.94 2.06-2.06.94zm-11 1L8.5 8.5l.94-2.06 2.06-.94-2.06-.94L8.5 2.5l-.94 2.06-2.06.94zm10 10l.94 2.06.94-2.06 2.06-.94-2.06-.94-.94-2.06-.94 2.06-2.06.94z\"/><path d=\"M17.41 7.96l-1.37-1.37c-.4-.4-.92-.59-1.43-.59-.52 0-1.04.2-1.43.59L10.3 9.45l-7.72 7.72c-.78.78-.78 2.05 0 2.83L4 21.41c.39.39.9.59 1.41.59.51 0 1.02-.2 1.41-.59l7.78-7.78 2.81-2.81c.8-.78.8-2.07 0-2.86zM5.41 20L4 18.59l7.72-7.72 1.47 1.35L5.41 20z\"/>\n",
       "  </svg>\n",
       "      </button>\n",
       "      \n",
       "  <style>\n",
       "    .colab-df-container {\n",
       "      display:flex;\n",
       "      flex-wrap:wrap;\n",
       "      gap: 12px;\n",
       "    }\n",
       "\n",
       "    .colab-df-convert {\n",
       "      background-color: #E8F0FE;\n",
       "      border: none;\n",
       "      border-radius: 50%;\n",
       "      cursor: pointer;\n",
       "      display: none;\n",
       "      fill: #1967D2;\n",
       "      height: 32px;\n",
       "      padding: 0 0 0 0;\n",
       "      width: 32px;\n",
       "    }\n",
       "\n",
       "    .colab-df-convert:hover {\n",
       "      background-color: #E2EBFA;\n",
       "      box-shadow: 0px 1px 2px rgba(60, 64, 67, 0.3), 0px 1px 3px 1px rgba(60, 64, 67, 0.15);\n",
       "      fill: #174EA6;\n",
       "    }\n",
       "\n",
       "    [theme=dark] .colab-df-convert {\n",
       "      background-color: #3B4455;\n",
       "      fill: #D2E3FC;\n",
       "    }\n",
       "\n",
       "    [theme=dark] .colab-df-convert:hover {\n",
       "      background-color: #434B5C;\n",
       "      box-shadow: 0px 1px 3px 1px rgba(0, 0, 0, 0.15);\n",
       "      filter: drop-shadow(0px 1px 2px rgba(0, 0, 0, 0.3));\n",
       "      fill: #FFFFFF;\n",
       "    }\n",
       "  </style>\n",
       "\n",
       "      <script>\n",
       "        const buttonEl =\n",
       "          document.querySelector('#df-3019056d-3b42-400d-9698-b94bf1a4750e button.colab-df-convert');\n",
       "        buttonEl.style.display =\n",
       "          google.colab.kernel.accessAllowed ? 'block' : 'none';\n",
       "\n",
       "        async function convertToInteractive(key) {\n",
       "          const element = document.querySelector('#df-3019056d-3b42-400d-9698-b94bf1a4750e');\n",
       "          const dataTable =\n",
       "            await google.colab.kernel.invokeFunction('convertToInteractive',\n",
       "                                                     [key], {});\n",
       "          if (!dataTable) return;\n",
       "\n",
       "          const docLinkHtml = 'Like what you see? Visit the ' +\n",
       "            '<a target=\"_blank\" href=https://colab.research.google.com/notebooks/data_table.ipynb>data table notebook</a>'\n",
       "            + ' to learn more about interactive tables.';\n",
       "          element.innerHTML = '';\n",
       "          dataTable['output_type'] = 'display_data';\n",
       "          await google.colab.output.renderOutput(dataTable, element);\n",
       "          const docLink = document.createElement('div');\n",
       "          docLink.innerHTML = docLinkHtml;\n",
       "          element.appendChild(docLink);\n",
       "        }\n",
       "      </script>\n",
       "    </div>\n",
       "  </div>\n",
       "  "
      ],
      "text/plain": [
       "   expense  num_student  exp_from  exp_to\n",
       "0    50-99            2        50      99\n",
       "1  100-149            3       100     149\n",
       "2  150-199            7       150     199\n",
       "3  200-249            5       200     249\n",
       "4  250-300            3       250     300"
      ]
     },
     "execution_count": 71,
     "metadata": {},
     "output_type": "execute_result"
    }
   ],
   "source": [
    "df_expense[['exp_from', 'exp_to']] = df_expense.expense.str.split('-', expand=True)\n",
    "df_expense = df_expense.astype({'exp_from': int, 'exp_to': int})\n",
    "df_expense"
   ]
  },
  {
   "cell_type": "markdown",
   "id": "8cb8a3ad-a68d-477d-9ec8-fda40716e020",
   "metadata": {
    "id": "8cb8a3ad-a68d-477d-9ec8-fda40716e020"
   },
   "source": [
    "\\\n",
    "หาค่าเฉลี่ย"
   ]
  },
  {
   "cell_type": "code",
   "execution_count": null,
   "id": "ce6c4a6b-c98e-4e0c-80bf-b3aca72ab87b",
   "metadata": {
    "colab": {
     "base_uri": "https://localhost:8080/"
    },
    "id": "ce6c4a6b-c98e-4e0c-80bf-b3aca72ab87b",
    "outputId": "3c34f260-a29e-46bf-81ba-3115e3c32ee6"
   },
   "outputs": [
    {
     "data": {
      "text/plain": [
       "184.575"
      ]
     },
     "execution_count": 72,
     "metadata": {},
     "output_type": "execute_result"
    }
   ],
   "source": [
    "x_bar = sum((df_expense.exp_from+df_expense.exp_to)/2  * df_expense.num_student) / df_expense.num_student.sum()\n",
    "x_bar"
   ]
  },
  {
   "cell_type": "markdown",
   "id": "d5ebb0c6-d46a-4b24-8cac-10438b236b40",
   "metadata": {
    "id": "d5ebb0c6-d46a-4b24-8cac-10438b236b40"
   },
   "source": [
    "\\\n",
    "หาค่าส่วนเบี่ยงเบนมาตรฐาน"
   ]
  },
  {
   "cell_type": "code",
   "execution_count": null,
   "id": "7923634f-380b-496c-9dd3-09e3745da8f3",
   "metadata": {
    "colab": {
     "base_uri": "https://localhost:8080/"
    },
    "id": "7923634f-380b-496c-9dd3-09e3745da8f3",
    "outputId": "536da914-2176-48b0-ebe7-e97c2a494405"
   },
   "outputs": [
    {
     "data": {
      "text/plain": [
       "20"
      ]
     },
     "execution_count": 73,
     "metadata": {},
     "output_type": "execute_result"
    }
   ],
   "source": [
    "n =  df_expense.num_student.sum()\n",
    "n"
   ]
  },
  {
   "cell_type": "code",
   "execution_count": null,
   "id": "c14863fc-ba3b-40f0-99db-21146530e34a",
   "metadata": {
    "colab": {
     "base_uri": "https://localhost:8080/"
    },
    "id": "c14863fc-ba3b-40f0-99db-21146530e34a",
    "outputId": "47ec4133-9dc6-4184-d87b-6c19da219901"
   },
   "outputs": [
    {
     "data": {
      "text/plain": [
       "59.94323520939148"
      ]
     },
     "execution_count": 75,
     "metadata": {},
     "output_type": "execute_result"
    }
   ],
   "source": [
    "sigma_fx2 = sum( ((df_expense.exp_from+df_expense.exp_to)/2)**2  * df_expense.num_student)\n",
    "np.sqrt((sigma_fx2 - n*x_bar**2) / (n-1))"
   ]
  },
  {
   "cell_type": "markdown",
   "id": "yAE18LA2gCZ1",
   "metadata": {
    "id": "yAE18LA2gCZ1"
   },
   "source": [
    "---"
   ]
  },
  {
   "cell_type": "markdown",
   "id": "8a257ee8-811f-4ae5-8bfe-02e756714a6b",
   "metadata": {
    "id": "8a257ee8-811f-4ae5-8bfe-02e756714a6b"
   },
   "source": [
    "#### 4.14 โรงงานผลิตยาแห่งหนึ่งมีเครื่องจักรที่ใช้ผลิตยา 2 เครื่อง โดยกำหนดให้เครื่องที่ 1 ผลิตยาขนาด 250 มิลลิกรัม ปรากฏว่ายาที่ผลิตได้มีน้ำหนักเฉลี่ย 252 มิลลิกรัมค่าเบี่ยงเบนมาตรฐาน 2.4 มิลลิกรัม ส่วนเครื่องที่ 2 กำหนดให้ผลิตยาขนาด 500 มิลลิกรัม ปรากฏว่ายาที่ผลิตได้มีน้ำหนักเฉลี่ย 496 มิลลิกรัม ค่าเบี่ยงเบนมาตรฐาน 3.6 มิลลิกรัม จงเปรียบเทียบว่าเครื่องจักรใดผลิตยาได้ถูกต้องมากกว่า เพราะเหตุใด"
   ]
  },
  {
   "cell_type": "markdown",
   "id": "63861b51-5d60-415b-9f95-9e83fe36139a",
   "metadata": {
    "id": "63861b51-5d60-415b-9f95-9e83fe36139a"
   },
   "source": [
    "เครื่องจักรที่ 1:"
   ]
  },
  {
   "cell_type": "code",
   "execution_count": null,
   "id": "fee37ebe-129d-4678-a92e-3ab768f03ecb",
   "metadata": {
    "colab": {
     "base_uri": "https://localhost:8080/"
    },
    "id": "fee37ebe-129d-4678-a92e-3ab768f03ecb",
    "outputId": "370fa509-f107-4d16-9343-5a5f92832bf8"
   },
   "outputs": [
    {
     "data": {
      "text/plain": [
       "0.9523809523809523"
      ]
     },
     "execution_count": 55,
     "metadata": {},
     "output_type": "execute_result"
    }
   ],
   "source": [
    "cv1 = 2.4*100/252\n",
    "cv1"
   ]
  },
  {
   "cell_type": "markdown",
   "id": "f379bc21-cb17-4fb8-969a-074475f0785f",
   "metadata": {
    "id": "f379bc21-cb17-4fb8-969a-074475f0785f"
   },
   "source": [
    "\\\n",
    "เครื่องจักรที่ 2:"
   ]
  },
  {
   "cell_type": "code",
   "execution_count": null,
   "id": "c320ebcc-e83d-4c25-a09f-64aeab671de7",
   "metadata": {
    "colab": {
     "base_uri": "https://localhost:8080/"
    },
    "id": "c320ebcc-e83d-4c25-a09f-64aeab671de7",
    "outputId": "f10e14c0-37f4-4f08-8df6-efeeed3f750f"
   },
   "outputs": [
    {
     "data": {
      "text/plain": [
       "0.7258064516129032"
      ]
     },
     "execution_count": 56,
     "metadata": {},
     "output_type": "execute_result"
    }
   ],
   "source": [
    "cv2 = 3.6*100/496\n",
    "cv2"
   ]
  }
 ],
 "metadata": {
  "colab": {
   "collapsed_sections": [
    "d82a6214-ac93-4612-9e78-41811dadc608",
    "fd32bcf5-315a-43bb-af22-018937924805",
    "088446a1-a19c-4630-8e7d-86c2786a939f",
    "2fd01e27-9e42-4f31-b9c9-a7e29fe89f31",
    "5b9a77b0-c7f4-40a2-b283-34e33be83aa2",
    "2b1168f2-6b80-48a3-b66d-fa6621df08af",
    "57647078-ff4f-45f9-80f5-527c46403b98",
    "5a810657-4758-466b-ab9c-4cdab59a25ea",
    "e8931b0e-1fad-41f0-800b-146639355fb0",
    "da1910b0-aae5-4251-b500-2961387cbece",
    "70940e88-15ac-401c-bd50-2c69003375f8",
    "e8684833-02d7-4d13-ba8b-df114b9d50ce"
   ],
   "provenance": []
  },
  "kernelspec": {
   "display_name": "Python 3 (ipykernel)",
   "language": "python",
   "name": "python3"
  },
  "language_info": {
   "codemirror_mode": {
    "name": "ipython",
    "version": 3
   },
   "file_extension": ".py",
   "mimetype": "text/x-python",
   "name": "python",
   "nbconvert_exporter": "python",
   "pygments_lexer": "ipython3",
   "version": "3.9.15 (main, Nov 24 2022, 08:28:41) \n[Clang 14.0.6 ]"
  },
  "vscode": {
   "interpreter": {
    "hash": "afb50eb15cbc29dce8778f5c11649e148d7763c79060453cebdd8d3708af725a"
   }
  }
 },
 "nbformat": 4,
 "nbformat_minor": 5
}
