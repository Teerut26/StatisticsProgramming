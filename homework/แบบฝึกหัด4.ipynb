{
 "cells": [
  {
   "cell_type": "markdown",
   "metadata": {
    "id": "U3ArbMi8JHGD"
   },
   "source": [
    "# แบบฝึกหัด 4"
   ]
  },
  {
   "cell_type": "markdown",
   "metadata": {
    "id": "t9RQYuu-JUwP"
   },
   "source": [
    "---"
   ]
  },
  {
   "cell_type": "code",
   "execution_count": 2,
   "metadata": {
    "id": "5LcuhePsgM1w"
   },
   "outputs": [],
   "source": [
    "import numpy as np\n",
    "import pandas as pd\n",
    "import statistics\n",
    "from math import perm, comb"
   ]
  },
  {
   "cell_type": "markdown",
   "metadata": {
    "id": "uoKssbJRv2Xu",
    "jupyter": {
     "source_hidden": true
    },
    "tags": []
   },
   "source": [
    "###  "
   ]
  },
  {
   "cell_type": "markdown",
   "metadata": {
    "id": "ag3TNOoapF2I"
   },
   "source": [
    "4.1 ในงานเลี้ยงฉลองปีใหม่แห่งหนึ่งมีการจับฉลากรางวัลเป็น iPhone 14 Pro Max โดยในกล่องจับฉลากมีฉลากทั้งหมด 100 ฉลาก และมีเพียง 10 ฉลากที่จะได้ iPhone 14 Pro Max จงหาค่าดังต่อไปนี้  \n",
    "- ความน่าจะเป็นที่จะจับฉลากไม่ได้ iPhone 14 Pro เมื่อได้สิทธิ์จับฉลากพร้อมกัน 3 ใบ (จับแบบไม่ใส่คืน)"
   ]
  },
  {
   "cell_type": "code",
   "execution_count": 3,
   "metadata": {
    "id": "sTxJEwzZqEk2"
   },
   "outputs": [
    {
     "data": {
      "text/plain": [
       "0.726530612244898"
      ]
     },
     "execution_count": 3,
     "metadata": {},
     "output_type": "execute_result"
    }
   ],
   "source": [
    "#แสดงวิธีทำ\n",
    "comb(90,3)/comb(100,3)"
   ]
  },
  {
   "cell_type": "markdown",
   "metadata": {
    "id": "ED-OCCPQqCRW"
   },
   "source": [
    "- ความน่าจะเป็นที่จะจับฉลากได้ iPhone 14 Pro 1 เครื่องเมื่อได้สิทธิ์จับฉลาก 3 ใบ (จับแบบไม่ใส่คืน)"
   ]
  },
  {
   "cell_type": "code",
   "execution_count": 4,
   "metadata": {
    "id": "XphrKloZXRyR"
   },
   "outputs": [
    {
     "data": {
      "text/plain": [
       "0.24768089053803338"
      ]
     },
     "execution_count": 4,
     "metadata": {},
     "output_type": "execute_result"
    }
   ],
   "source": [
    "#แสดงวิธีทำ\n",
    "(comb(10,1) * comb(90,2)) / comb(100,3)"
   ]
  },
  {
   "cell_type": "markdown",
   "metadata": {
    "id": "EeXadDqerEhv"
   },
   "source": [
    "- ความน่าจะเป็นที่จะจับฉลากได้ iPhone 14 Pro ***อย่างน้อย*** 1 เครื่องเมื่อได้สิทธิ์จับฉลาก 3 ใบ (จับแบบไม่ใส่คืน)"
   ]
  },
  {
   "cell_type": "code",
   "execution_count": 5,
   "metadata": {
    "id": "gNk7pg80XU_y"
   },
   "outputs": [
    {
     "data": {
      "text/plain": [
       "0.273469387755102"
      ]
     },
     "execution_count": 5,
     "metadata": {},
     "output_type": "execute_result"
    }
   ],
   "source": [
    "#แสดงวิธีทำ\n",
    "# p0 + p1 + p2 + p3 = 1\n",
    "1 - (comb(90,3)/comb(100,3))"
   ]
  },
  {
   "cell_type": "markdown",
   "metadata": {
    "id": "ccAoGUYJtDas"
   },
   "source": [
    "- หากนาย ก. ตกลงกับเพื่อนที่ไปงานเลี้ยงด้วยกันอีก 9 คนว่าหากใครจับฉลากได้ iPhone 14 Pro จะนำไปขายทอดตลาดและนำเงินมาแบ่งกัน จงความน่าจะเป็นที่จะจับฉลากได้ iPhone 14 Pro ***อย่างน้อย*** 1 เครื่องเมื่อ ทั้ง 10 คนได้สิทธิ์จับฉลากคนละใบ (จับแบบไม่ใส่คืน) หากกำหนดให้ตัวแปรสุ่ม X แทนจำนวนเครื่อง iPhone 14 ที่จับรางวัลได้ จงแสดงค่าของ X และฟังก์ชันความน่าจะเป็นของ X และหาค่า P(X≥1)"
   ]
  },
  {
   "cell_type": "markdown",
   "metadata": {
    "id": "hRMJhQaBX6cE"
   },
   "source": [
    "\\\n",
    "X =  {0,1,2,3,4,5,6,7,8,9,10}"
   ]
  },
  {
   "cell_type": "markdown",
   "metadata": {
    "id": "bmvqy2B_waAk"
   },
   "source": [
    "\\\n",
    "ฟังก์ชันความน่าจะเป็นของ X:"
   ]
  },
  {
   "cell_type": "code",
   "execution_count": 6,
   "metadata": {
    "id": "kaCtSxufXYk_"
   },
   "outputs": [],
   "source": [
    "#แสดงวิธีทำ\n",
    "def p(x):\n",
    "    return comb(10,x) * comb(90,10-x) / comb(100,10)\n"
   ]
  },
  {
   "cell_type": "markdown",
   "metadata": {
    "id": "9pXS-WTSxQ3J"
   },
   "source": [
    "\\\n",
    "ค่าความน่าจะเป็นที่จะจับฉลากได้ iPhone 14 Pro อย่างน้อย 1 เครื่อง, P(X≥1):  "
   ]
  },
  {
   "cell_type": "code",
   "execution_count": 7,
   "metadata": {
    "id": "8kPYDZUjXdBX"
   },
   "outputs": [
    {
     "data": {
      "text/plain": [
       "0.6695237889132748"
      ]
     },
     "execution_count": 7,
     "metadata": {},
     "output_type": "execute_result"
    }
   ],
   "source": [
    "#แสดงวิธีทำ\n",
    "1 - p(0)"
   ]
  },
  {
   "cell_type": "markdown",
   "metadata": {
    "id": "sko5rsVdz7YZ"
   },
   "source": [
    "###  "
   ]
  },
  {
   "cell_type": "markdown",
   "metadata": {
    "id": "O-jANK7-JY2X"
   },
   "source": [
    "4.2 กล่องใบที่หนึ่งมีลูกบอล 10 ลูก  \n",
    "เป็นสีขาว 5 ลูก สีแดง 3 ลูก และสีน้ำเงิน 2 ลูก   \n",
    "กล่องใบที่สองมีลูกบอล 15 ลูก  \n",
    "เป็นสีขาว 8 ลูก สีแดง 5 ลูก และสีน้ำเงิน 2 ลูก  \n",
    "ถ้าสุ่มหยิบลูกบอล 1 ลูกจาก\n",
    "แต่ละกล่อง จงหาความน่าจะเป็นที่จะได้ลูกบอลสีเดียวกัน"
   ]
  },
  {
   "cell_type": "code",
   "execution_count": 8,
   "metadata": {
    "id": "4ixkdz1cXlVP"
   },
   "outputs": [
    {
     "data": {
      "text/plain": [
       "0.3933333333333333"
      ]
     },
     "execution_count": 8,
     "metadata": {},
     "output_type": "execute_result"
    }
   ],
   "source": [
    "#แสดงวิธีทำ\n",
    "s = comb(15,1) * comb(10,1)\n",
    "white = comb(5,1) * comb(8,1)\n",
    "red = comb(3,1) * comb(5,1)\n",
    "blue = comb(2,1) * comb(2,1)\n",
    "\n",
    "pe4_2 = (white + red + blue) / s\n",
    "pe4_2"
   ]
  },
  {
   "cell_type": "markdown",
   "metadata": {
    "id": "oCLmBTL-0RLG"
   },
   "source": [
    "###  "
   ]
  },
  {
   "cell_type": "markdown",
   "metadata": {
    "id": "QYuXplcT0RLH"
   },
   "source": [
    "4.3 ตู้กาชาปองตู้หนึ่งมีฟิกเกอร์รูปสุนัข 2 ชิ้น และฟิกเกอร์รูปแมว 2 ชิ้น หากนางสาว มิคาสะ ทำการหยอดเหรียญและหมุนกาชาปองสามครั้งโดยแต่ละครั้งจะได้ฟิกเกอร์ 1 ชิ้นแบบสุ่ม โดยนางสาวมิคาสะสนใจการได้ฟิกเกอร์รูปแมว จงแสดงค่าของตัวแปรสุ่ม X ที่สนใจและฟังก์ชันความน่าจะเป็นของ X พร้อมทั้งหาค่าความน่าจะเป็นที่นางสาวมิคาสะจะได้ฟิกเกอร์แมวอย่างน้อย 1 ชิ้น, P(X≥1)"
   ]
  },
  {
   "cell_type": "markdown",
   "metadata": {
    "id": "wIDN4bmrX1SX"
   },
   "source": [
    "\\\n",
    "X = {1,2}"
   ]
  },
  {
   "cell_type": "markdown",
   "metadata": {
    "id": "Hdq9mqxFGc89"
   },
   "source": [
    "\\\n",
    "ฟังก์ชันความน่าจะเป็นของ X:  "
   ]
  },
  {
   "cell_type": "code",
   "execution_count": 12,
   "metadata": {
    "id": "jbV5MphqXqbq"
   },
   "outputs": [],
   "source": [
    "#แสดงวิธีทำ\n",
    "def p(x):\n",
    "    return comb(2,x) * comb(2,3-x) / comb(4,3)"
   ]
  },
  {
   "cell_type": "markdown",
   "metadata": {
    "id": "ro8FfiO-HOb0"
   },
   "source": [
    "\\\n",
    "ค่า P(X≥1): "
   ]
  },
  {
   "cell_type": "code",
   "execution_count": 13,
   "metadata": {
    "id": "eGMlvK2UXrtE"
   },
   "outputs": [
    {
     "data": {
      "text/plain": [
       "1.0"
      ]
     },
     "execution_count": 13,
     "metadata": {},
     "output_type": "execute_result"
    }
   ],
   "source": [
    "#แสดงวิธีทำ\n",
    "p(1) + p(2)"
   ]
  },
  {
   "cell_type": "markdown",
   "metadata": {
    "id": "bxFNNm7ehIX8"
   },
   "source": [
    "###  "
   ]
  },
  {
   "cell_type": "markdown",
   "metadata": {
    "id": "hKMe2agshIX8"
   },
   "source": [
    "4.4 บ่อนการพนันแห่งหนึ่งใช้เหรียญซึ่งถูกถ่วงน้ำหนัก โดยโอกาสที่เหรียญจะออกหัวเป็น 2 เท่าของโอกาสที่จะออกก้อย  \n",
    "ถ้าเหรียญขึ้นหัวเขาจะสุ่มเลข 1 ถึง 9 มา 1 หมายเลข  \n",
    "ถ้าเหรียญขึ้นก้อยเขาจะสุ่มเลข 1 ถึง 5 มา 1 หมายเลข  \n",
    "จงหาความน่าจะเป็นที่จะได้หมายเลขคู่ในการโยนเหรียญแต่ละครั้ง"
   ]
  },
  {
   "cell_type": "code",
   "execution_count": 14,
   "metadata": {
    "id": "k9pHCyxYYD3-"
   },
   "outputs": [
    {
     "data": {
      "text/plain": [
       "0.4296296296296296"
      ]
     },
     "execution_count": 14,
     "metadata": {},
     "output_type": "execute_result"
    }
   ],
   "source": [
    "#แสดงวิธีทำ\n",
    "h = 2/3 * 4/9\n",
    "b = 1/3 * 2/5\n",
    "\n",
    "h + b"
   ]
  },
  {
   "cell_type": "markdown",
   "metadata": {
    "id": "spxd7pSGIBBz"
   },
   "source": [
    "###  "
   ]
  },
  {
   "cell_type": "markdown",
   "metadata": {
    "id": "6JFJ4n80IBB0"
   },
   "source": [
    "4.5 ในการแข่งรถ Grand Prix รายการหนึ่ง มีรถเข้าร่วมแข่งขัน 9 คัน โดยทางบริษัท Tesle ได้ส่งรถเข้าร่วมแข่งขัน 4 คัน จงหา  \n",
    "- จำนวนวิธีทั้งหมดที่รถจะเข้าเส้นชัยในอันดับที่ 1, 2 ***และ*** 3  \n",
    "- ความน่าจะเป็นที่รถของทางบริษัท Tesle จะเข้าเส้นชัยในอันดับที่ 1, 2 ***และ*** 3"
   ]
  },
  {
   "cell_type": "markdown",
   "metadata": {
    "id": "aPtOvBWPPOCB"
   },
   "source": [
    "\\\n",
    "จำนวนวิธีทั้งหมดที่รถจะเข้าเส้นชัยในอันดับที่ 1, 2 และ 3:"
   ]
  },
  {
   "cell_type": "code",
   "execution_count": 17,
   "metadata": {
    "id": "yO-fuJuSYHsc"
   },
   "outputs": [],
   "source": [
    "#แสดงวิธีทำ\n",
    "s = perm(9,3)"
   ]
  },
  {
   "cell_type": "markdown",
   "metadata": {
    "id": "SW556OQfScOK"
   },
   "source": [
    "\\\n",
    "ความน่าจะเป็นที่รถของทางบริษัท Tesle จะเข้าเส้นชัยในอันดับที่ 1, 2 และ 3:"
   ]
  },
  {
   "cell_type": "code",
   "execution_count": 18,
   "metadata": {
    "id": "JeXHIeJFYJSk"
   },
   "outputs": [
    {
     "data": {
      "text/plain": [
       "0.047619047619047616"
      ]
     },
     "execution_count": 18,
     "metadata": {},
     "output_type": "execute_result"
    }
   ],
   "source": [
    "#แสดงวิธีทำ\n",
    "e = perm(4,3)\n",
    "\n",
    "e/s"
   ]
  },
  {
   "cell_type": "markdown",
   "metadata": {
    "id": "APRhD42HT6nZ"
   },
   "source": [
    "###  "
   ]
  },
  {
   "cell_type": "markdown",
   "metadata": {
    "id": "1hLf3dc8T6na"
   },
   "source": [
    "4.6  จากการสำรวจสภาพการมีงานทำของบัณฑิตจบใหม่คณะ ก. และ ข.\n",
    "จำนวน 80 คน ได้ข้อมูลดังตาราง"
   ]
  },
  {
   "cell_type": "markdown",
   "metadata": {
    "id": "Jeg5_4r2T4HI"
   },
   "source": [
    "|คณะ|มีงานทำ|ว่างงาน|\n",
    "|---|------|------|\n",
    "|ก.|40|20|\n",
    "|ข.|13|7|"
   ]
  },
  {
   "cell_type": "markdown",
   "metadata": {
    "id": "QmolidrBVv5v"
   },
   "source": [
    "เมื่อสุ่มมา 1 คน จงหาค่าความน่าจะเป็นดังต่อไปนี้"
   ]
  },
  {
   "cell_type": "markdown",
   "metadata": {
    "id": "Ye1nvhe5WJNA"
   },
   "source": [
    "- จบคณะ ก. และว่างงาน"
   ]
  },
  {
   "cell_type": "markdown",
   "metadata": {
    "id": "5I32Th6fWTOF"
   },
   "source": [
    "- มีงานทำ"
   ]
  },
  {
   "cell_type": "markdown",
   "metadata": {
    "id": "1cAq6LNvWTq4"
   },
   "source": [
    "- จบคณะ ข. และมีงานทำ"
   ]
  },
  {
   "cell_type": "markdown",
   "metadata": {
    "id": "qriQlqXZWUV0"
   },
   "source": [
    "- จบคณะ ข. ถ้าทราบว่าเขามีงานทำ"
   ]
  },
  {
   "cell_type": "markdown",
   "metadata": {
    "id": "cCWWZpQUWUJT"
   },
   "source": [
    "- ว่างงาน ถ้าทราบว่าจบจากคณะ ก."
   ]
  },
  {
   "cell_type": "markdown",
   "metadata": {
    "id": "q902qIytW0Nr"
   },
   "source": [
    "กำหนดให้ A แทนเหตุการณ์จบคณะ ก.  \n",
    "กำหนดให้ B แทนเหตุการณ์จบคณะ ข.  \n",
    "กำหนดให้ J แทนเหตุการณ์มีงานทำ  \n",
    "กำหนดให้ NJ แทนเหตุการณ์ว่างงาน"
   ]
  },
  {
   "cell_type": "markdown",
   "metadata": {
    "id": "Lw5-XIx8X063"
   },
   "source": [
    "\\\n",
    "จบคณะ ก. และว่างงาน:"
   ]
  },
  {
   "cell_type": "code",
   "execution_count": 29,
   "metadata": {
    "id": "Jo6MYffVYTiD"
   },
   "outputs": [
    {
     "data": {
      "text/plain": [
       "0.25"
      ]
     },
     "execution_count": 29,
     "metadata": {},
     "output_type": "execute_result"
    }
   ],
   "source": [
    "#แสดงวิธีทำ\n",
    "anj = 20\n",
    "s = 80\n",
    "\n",
    "p_anj = anj / s\n",
    "p_anj"
   ]
  },
  {
   "cell_type": "markdown",
   "metadata": {
    "id": "DEG6dHtuR4hu"
   },
   "source": [
    "\\\n",
    "มีงานทำ:"
   ]
  },
  {
   "cell_type": "code",
   "execution_count": 26,
   "metadata": {
    "id": "25WurgTbYUzL"
   },
   "outputs": [
    {
     "data": {
      "text/plain": [
       "0.6625"
      ]
     },
     "execution_count": 26,
     "metadata": {},
     "output_type": "execute_result"
    }
   ],
   "source": [
    "#แสดงวิธีทำ\n",
    "\n",
    "j = 40+13\n",
    "p_j = j/s\n",
    "p_j"
   ]
  },
  {
   "cell_type": "markdown",
   "metadata": {
    "id": "traoodaaSWkF"
   },
   "source": [
    "\\\n",
    "จบคณะ ข. และมีงานทำ:  "
   ]
  },
  {
   "cell_type": "code",
   "execution_count": 31,
   "metadata": {
    "id": "bf_CC5hrYXp4"
   },
   "outputs": [
    {
     "data": {
      "text/plain": [
       "0.1625"
      ]
     },
     "execution_count": 31,
     "metadata": {},
     "output_type": "execute_result"
    }
   ],
   "source": [
    "#แสดงวิธีทำ\n",
    "bj = 13\n",
    "p_bj = bj / s\n",
    "p_bj"
   ]
  },
  {
   "cell_type": "markdown",
   "metadata": {
    "id": "nr2h1OmFTA0p"
   },
   "source": [
    "\\\n",
    "จบคณะ ข. ถ้าทราบว่าเขามีงานทำ:  "
   ]
  },
  {
   "cell_type": "code",
   "execution_count": 32,
   "metadata": {
    "id": "bLKPnfJtYakx"
   },
   "outputs": [
    {
     "data": {
      "text/plain": [
       "0.24528301886792453"
      ]
     },
     "execution_count": 32,
     "metadata": {},
     "output_type": "execute_result"
    }
   ],
   "source": [
    "#แสดงวิธีทำ\n",
    "p_bkj = bj / j\n",
    "p_bkj"
   ]
  },
  {
   "cell_type": "markdown",
   "metadata": {
    "id": "KMbB1ZAGTUCP"
   },
   "source": [
    "\\\n",
    "ว่างงาน ถ้าทราบว่าจบจากคณะ ก.:  "
   ]
  },
  {
   "cell_type": "code",
   "execution_count": 34,
   "metadata": {
    "id": "BqQ9_iA9Ydup"
   },
   "outputs": [
    {
     "data": {
      "text/plain": [
       "0.3333333333333333"
      ]
     },
     "execution_count": 34,
     "metadata": {},
     "output_type": "execute_result"
    }
   ],
   "source": [
    "#แสดงวิธีทำ\n",
    "p_nka = anj/(40+anj) \n",
    "p_nka"
   ]
  },
  {
   "cell_type": "code",
   "execution_count": null,
   "metadata": {
    "id": "43JriVOsSa1k"
   },
   "outputs": [],
   "source": []
  },
  {
   "cell_type": "code",
   "execution_count": null,
   "metadata": {
    "id": "dMfdWHH0Sapf"
   },
   "outputs": [],
   "source": []
  },
  {
   "cell_type": "code",
   "execution_count": null,
   "metadata": {
    "id": "IDenapPZSaQz"
   },
   "outputs": [],
   "source": []
  },
  {
   "cell_type": "code",
   "execution_count": null,
   "metadata": {
    "id": "qJ-5VUoRSaDU"
   },
   "outputs": [],
   "source": []
  },
  {
   "cell_type": "markdown",
   "metadata": {
    "id": "Mu4lT_CApF2I"
   },
   "source": [
    "###  "
   ]
  }
 ],
 "metadata": {
  "colab": {
   "provenance": []
  },
  "kernelspec": {
   "display_name": "Python 3 (ipykernel)",
   "language": "python",
   "name": "python3"
  },
  "language_info": {
   "codemirror_mode": {
    "name": "ipython",
    "version": 3
   },
   "file_extension": ".py",
   "mimetype": "text/x-python",
   "name": "python",
   "nbconvert_exporter": "python",
   "pygments_lexer": "ipython3",
   "version": "3.9.13"
  },
  "vscode": {
   "interpreter": {
    "hash": "afb50eb15cbc29dce8778f5c11649e148d7763c79060453cebdd8d3708af725a"
   }
  }
 },
 "nbformat": 4,
 "nbformat_minor": 4
}
