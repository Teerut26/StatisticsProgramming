{
 "cells": [
  {
   "cell_type": "markdown",
   "metadata": {
    "id": "U3ArbMi8JHGD"
   },
   "source": [
    "# แบบฝึกหัด 7"
   ]
  },
  {
   "cell_type": "markdown",
   "metadata": {
    "id": "t9RQYuu-JUwP"
   },
   "source": [
    "---"
   ]
  },
  {
   "cell_type": "code",
   "execution_count": 604,
   "metadata": {
    "id": "5LcuhePsgM1w"
   },
   "outputs": [],
   "source": [
    "import numpy as np\n",
    "from scipy import stats\n",
    "from statsmodels.stats.weightstats import ztest"
   ]
  },
  {
   "cell_type": "markdown",
   "metadata": {
    "id": "ag3TNOoapF2I"
   },
   "source": [
    "7.1 จากการเก็บข้อมูลของบูธร้านค้าร้านหนึ่งในงานเกษตรแฟร์โดยสุ่มตัวอย่างลูกค้ามาทั้งหมด 200 คน พบว่ามีอายุเฉลี่ย 42.8 ปี ส่วนเบี่ยงเบนมาตราฐาน 6.89 ปี ผู้ประกอบการร้านแห่งนี้จึงตั้งสมมุติฐานว่า ลูกค้าของทางร้านมีอายุเฉลี่ยสูงกว่า 40 ปี ที่ระดับนัยสำคัญ 0.01 สมมุติฐานนี้ถูกต้องหรือไม่ หากกำหนดให้การแจกแจงของอายุเป็นแบบปกติ  "
   ]
  },
  {
   "cell_type": "code",
   "execution_count": 616,
   "metadata": {
    "id": "eGMlvK2UXrtE"
   },
   "outputs": [
    {
     "name": "stdout",
     "output_type": "stream",
     "text": [
      "z_cal = 5.747166871762936\n",
      "z_cri = 2.3263478740408408\n"
     ]
    }
   ],
   "source": [
    "#แสดงวิธีทำ\n",
    "\n",
    "#ตั้งสมมติฐาน:\n",
    "#H0 : u <= 42.8\n",
    "#H1 : u > 42.8\n",
    "\n",
    "n = 200\n",
    "mu = 40\n",
    "x_bar = 42.8\n",
    "sd = 6.89\n",
    "a = 0.01\n",
    "\n",
    "z_cri = stats.norm.isf(a) \n",
    "z_cal = (x_bar-mu)/(sd/(np.sqrt(n)))\n",
    "\n",
    "print(f\"z_cal = {z_cal}\")\n",
    "print(f\"z_cri = {z_cri}\")"
   ]
  },
  {
   "cell_type": "code",
   "execution_count": 617,
   "metadata": {},
   "outputs": [
    {
     "name": "stdout",
     "output_type": "stream",
     "text": [
      "p_val = 4.537557863298819e-09\n"
     ]
    }
   ],
   "source": [
    "p_val = stats.norm.sf(z_cal)\n",
    "print(f\"p_val = {p_val}\")"
   ]
  },
  {
   "cell_type": "markdown",
   "metadata": {},
   "source": [
    "---\n",
    "```\n",
    "H1 ใช้เครื่องหมาย > จึงเป็นการทดสอบทางเดียวด้านขวา (Right-tailed test) จากค่า z_cal ที่ได้อยู่นอกบริเวณวิกฤตจึงต้อง reject H0 นั่นคือ ลูกค้าของทางร้านมีอายุเฉลี่ย 42.8 ปีคํากล่าวอ้างของผู้ประกอบการเป็นความจริง\n",
    "```\n",
    "---"
   ]
  },
  {
   "cell_type": "markdown",
   "metadata": {
    "id": "QIrBZzg28EEi"
   },
   "source": [
    "7.2 สุ่มตัวอย่างผลิตภัณฑ์ซักล้างยี่ห้อหนึ่งมาจำนวน 8 ชิ้นเพื่อวัดปริมาณสารพิษ พบว่าได้ปริมาณดังนี้ (10<sup>6</sup>ppm) 15, 8, 10, 13, 6, 16, 11, 18 จงทดสอบว่าปริมาณสารพิษของผลิตภัณฑ์ซักล้างยี่ห้อนี้มากกว่าหรือเท่ากับ (≥) 18x10<sup>6</sup>ppm ที่ระดับนัยสำคัญ 0.05 หรือไม่ หากกำหนดให้ปริมาณสารพิษชนิดนี้มีการแจกแจงแบบปกติ      "
   ]
  },
  {
   "cell_type": "code",
   "execution_count": 625,
   "metadata": {
    "id": "z7-tVncsuMB2"
   },
   "outputs": [
    {
     "name": "stdout",
     "output_type": "stream",
     "text": [
      "t_cal = -4.032335130364934\n",
      "t_cri = -1.8945786050613054\n"
     ]
    }
   ],
   "source": [
    "#แสดงวิธีทำ\n",
    "\n",
    "#ตั้งสมมติฐาน:\n",
    "#H0 : u >= 18 x 10^6\n",
    "#H1 : u <  18 x 10^6\n",
    "\n",
    "x = [15, 8, 10, 13, 6, 16, 11, 18]\n",
    "n = len(x)\n",
    "a = 0.05\n",
    "mu = 18\n",
    "sd = np.std(x, ddof=1)\n",
    "x_bar = np.mean(x)\n",
    "\n",
    "t_cri = stats.t.ppf(a, df=n-1)\n",
    "t_cal = (x_bar - mu) / (sd / (np.sqrt(n)) )\n",
    "\n",
    "print(f\"t_cal = {t_cal}\")\n",
    "print(f\"t_cri = {t_cri}\")"
   ]
  },
  {
   "cell_type": "code",
   "execution_count": 626,
   "metadata": {
    "id": "z7-tVncsuMB2"
   },
   "outputs": [
    {
     "name": "stdout",
     "output_type": "stream",
     "text": [
      "p_val = 0.0024905124764684925\n"
     ]
    }
   ],
   "source": [
    "#แสดงวิธีทำ\n",
    "p_val = stats.t.cdf(t_cal, df=n-1)\n",
    "print(f\"p_val = {p_val}\")"
   ]
  },
  {
   "cell_type": "code",
   "execution_count": 627,
   "metadata": {
    "id": "z7-tVncsuMB2"
   },
   "outputs": [
    {
     "name": "stdout",
     "output_type": "stream",
     "text": [
      "t_cal = -4.032335130364934\n",
      "p_val = 0.0024905124764684925\n"
     ]
    }
   ],
   "source": [
    "#แสดงวิธีทำ\n",
    "t_cal, p_val = stats.ttest_1samp(a=x, popmean=mu, alternative='less')\n",
    "print(f\"t_cal = {t_cal}\")\n",
    "print(f\"p_val = {p_val}\")"
   ]
  },
  {
   "cell_type": "markdown",
   "metadata": {},
   "source": [
    "---\n",
    "```\n",
    "H1 ใช้เครื่องหมาย < จึงเป็นการทดสอบทางเดียวด้านขวา (Left-tailed test) จากค่า t_cal ที่ได้อยู่บริเวณวิกฤตจึงต้อง accept H1 นั่นคือ ปริมาณสารพิษของผลิตภัณฑ์ซักล้างยี่ห้อนี้ >= 18x106 ไม่เป็นความจริง\n",
    "```\n",
    "---"
   ]
  },
  {
   "cell_type": "markdown",
   "metadata": {
    "id": "LRa6VC8dX-mc"
   },
   "source": [
    "7.3 ทำการ ping 158.108.216.5 จำนวน 10 ครั้ง ได้ระยะเวลาในหน่วย ms (milliseconds) ดังนี้ 28.2, 26.5, 30.7, 24.1, 25.3, 29.2, 21.6, 26.7, 23.4, 27.3 จงทดสอบว่าระยะเวลาที่ใช้ในการ ping โดยเฉลี่ยมีค่าเท่ากับ 26 ms หรือไม่ที่ระดับนัยสำคัญ 0.05 หากทราบมาว่าระยะเวลาที่ใช้ในการ ping มีการแจกแจงแบบปกติ"
   ]
  },
  {
   "cell_type": "code",
   "execution_count": 632,
   "metadata": {
    "id": "4SyUkxgouNU4"
   },
   "outputs": [
    {
     "name": "stdout",
     "output_type": "stream",
     "text": [
      "t_cal = 0.34282294000695074\n",
      "t_cri_left = -2.262157162740992\n",
      "t_cri_right = 2.262157162740992\n"
     ]
    }
   ],
   "source": [
    "#แสดงวิธีทำ\n",
    "\n",
    "#ตั้งสมมติฐาน:\n",
    "#H0 : u = 26\n",
    "#H1 : u != 26\n",
    "\n",
    "x = [28.2, 26.5, 30.7, 24.1, 25.3, 29.2, 21.6, 26.7, 23.4, 27.3]\n",
    "n = len(x)\n",
    "sd = np.std(x, ddof=1)\n",
    "mu = 26\n",
    "a = 0.05\n",
    "x_bar = np.mean(x)\n",
    "\n",
    "t_cal = (x_bar - mu)/(sd/(np.sqrt(n)))\n",
    "t_cri_left = stats.t.ppf(a/2, df=n-1)\n",
    "t_cri_right = stats.t.isf(a/2, df=n-1)\n",
    "\n",
    "print(f\"t_cal = {t_cal}\")\n",
    "print(f\"t_cri_left = {t_cri_left}\")\n",
    "print(f\"t_cri_right = {t_cri_right}\")"
   ]
  },
  {
   "cell_type": "code",
   "execution_count": 633,
   "metadata": {
    "id": "4SyUkxgouNU4"
   },
   "outputs": [
    {
     "name": "stdout",
     "output_type": "stream",
     "text": [
      "p_val = 0.7396027657579755\n"
     ]
    }
   ],
   "source": [
    "#แสดงวิธีทำ\n",
    "p_val = 2*stats.t.sf(t_cal, df=n-1)\n",
    "print(f\"p_val = {p_val}\")"
   ]
  },
  {
   "cell_type": "markdown",
   "metadata": {},
   "source": [
    "---\n",
    "```\n",
    "H1 ใช้เครื่องหมาย != จึงเป็นการทดสอบสองทาง (Two-tailed test) จากค่า t_cal ที่ได้อยู่นอกบริเวณวิกฤตจึงต้อง accept H0 นั่นคือ ระยะที่ใช้งานในการ ping โดยมีค่า average เป็น 26\n",
    "```\n",
    "---"
   ]
  },
  {
   "cell_type": "markdown",
   "metadata": {
    "id": "jb1NBlWke_D2"
   },
   "source": [
    "7.4 ห้องปฏิบัติการ 2 แห่ง สุ่มตรวจสอบปริมาณนิโคตินในบุหรี่ยี่ห้อหนึ่งด้ผลการวิเคราะห์ปริมาณนิโคติน (มิลลิกรัม) ดังนี้  \n",
    "ห้องปฏิบัติการ1: 56, 37, 61, 56, 65, 41, 63, 50, 42   \n",
    "ห้องปฏิบัติการ2: 46, 25, 46, 64, 34, 56   \n",
    "จงทดสอบสมมติฐานว่าปริมาณนิโคตินที่วิเคราะห์ได้โดยห้องปฏิบัติการสองแห่งนี้ไม่แตกต่างกัน\n",
    "ที่ระดับนัยสำคัญ 0.10 หากกำหนดให้ปริมาณนิโคตินในบุหรี่ที่วิเคราะห์ได้โดยห้องปฏิบัติการทั้งสองมีการ\n",
    "แจกแจงแบบปกติที่มีค่าความแปรปรวนเท่ากัน  "
   ]
  },
  {
   "cell_type": "code",
   "execution_count": 592,
   "metadata": {
    "id": "r4oVfpk9uTVG"
   },
   "outputs": [
    {
     "name": "stdout",
     "output_type": "stream",
     "text": [
      "t_cal = 1.1377678816988284\n",
      "t_cri_right = 1.7709333959867992\n",
      "t_cri_left = -1.7709333959867992\n",
      "p_val = 0.2757530487532558\n"
     ]
    }
   ],
   "source": [
    "#แสดงวิธีทำ\n",
    "\n",
    "#ตั้งสมมติฐาน:\n",
    "#H0 : u1 - u2 = 0\n",
    "#H1 : u1 - u2 != 0\n",
    "\n",
    "A = [56, 37, 61, 56, 65, 41, 63, 50, 42]\n",
    "B = [46, 25, 46, 64, 34, 56]\n",
    "a = 0.10\n",
    "x_bar_a = np.mean(A)\n",
    "x_bar_b = np.mean(B)\n",
    "var_a = np.var(A, ddof=1)\n",
    "var_b= np.var(B, ddof=1)\n",
    "s2p = ((len(A)-1)*var_a+(len(B)-1)*var_b)/(len(A)+len(B)-2)\n",
    "\n",
    "t_cal = ((x_bar_a-x_bar_b)-(0))/np.sqrt(s2p*((1/len(A))+(1/len(B))))\n",
    "t_cri_left = stats.t.ppf(a/2, df=len(A)+len(B)-2)\n",
    "t_cri_right = stats.t.isf(a/2, df=len(A)+len(B)-2)\n",
    "\n",
    "print(f\"t_cal = {t_cal}\")\n",
    "print(f\"t_cri_right = {t_cri_right}\")\n",
    "print(f\"t_cri_left = {t_cri_left}\")\n",
    "\n",
    "p_val = 2*stats.t.sf(abs(t_cal),df=len(A)+len(B)-2)\n",
    "print(f\"p_val = {p_val}\")"
   ]
  },
  {
   "cell_type": "markdown",
   "metadata": {},
   "source": [
    "---\n",
    "```\n",
    "H1 ใช้เครื่องหมาย != จึงเป็นการทดสอบสองทาง (Two-tailed test) จากค่า t_cal ที่ได้อยู่นอกบริเวณวิกฤตจึงต้อง accept H0 นั่นคือ ปริมาณนิโคตินที่วิเคราะห์ได้โดยห้องปฏิบัติการสอบแห่งนี้ไม่ต่างกัน\n",
    "```\n",
    "---"
   ]
  },
  {
   "cell_type": "markdown",
   "metadata": {
    "id": "9IshON3wjP8J"
   },
   "source": [
    "7.5 เครื่องใช้พลาสติกชนิดหนึ่ง ผลิตโดยกระบวนการผลิตแตกต่างกัน 2 วิธี คือ A และ B ต้องการตรวจสอบความ\n",
    "เหนียวของพลาสติกที่ผลิตได้โดยทั้งสองกระบวนการนี้ว่าแตกต่างกันหรือไม่ จึงสุ่มตัวอย่าง\n",
    "ผลิตภัณฑ์จากกระบวนการผลิต A มา 30 ชิ้น ทดสอบและคำนวณค่าความเหนียวเฉลี่ยได้เป็น\n",
    "28.3 ส่วนเบี่ยงเบนมาตรฐาน 3.3 เมื่อสุ่มผลิตภัณฑ์จากกระบวนการผลิต B 40 ชิ้น คำนวณค่าความเหนียวเฉลี่ยได้เป็น 26.7 ส่วนเบี่ยงเบนมาตรฐานเป็น 4.9 หากการทดสอบโดยใช้ระดับนัยสำคัญ 0.05  "
   ]
  },
  {
   "cell_type": "code",
   "execution_count": 638,
   "metadata": {
    "id": "HA_rpEPNuUdd"
   },
   "outputs": [
    {
     "name": "stdout",
     "output_type": "stream",
     "text": [
      "z_cal = 1.6302359794089838\n",
      "z_cri_left = -1.9599639845400545\n",
      "z_cri_right = 1.9599639845400545\n"
     ]
    }
   ],
   "source": [
    "#แสดงวิธีทำ\n",
    "\n",
    "#ตั้งสมมติฐาน:\n",
    "#H0 : u1 - u2 = 0\n",
    "#H1 : u1 - u2 != 0\n",
    "\n",
    "nA = 30\n",
    "x_bar_a = 28.3\n",
    "sd_a = 3.3\n",
    "nB = 40\n",
    "x_bar_b = 26.7\n",
    "sd_b = 4.9\n",
    "a = 0.05\n",
    "\n",
    "z_cal = (x_bar_a - x_bar_b) / np.sqrt(sd_a**2/nA + sd_b**2/nB)\n",
    "z_cri_left = stats.norm.ppf(a/2)\n",
    "z_cri_right = stats.norm.isf(a/2)\n",
    "\n",
    "print(f\"z_cal = {z_cal}\")\n",
    "print(f\"z_cri_left = {z_cri_left}\")\n",
    "print(f\"z_cri_right = {z_cri_right}\")"
   ]
  },
  {
   "cell_type": "code",
   "execution_count": 639,
   "metadata": {
    "id": "HA_rpEPNuUdd"
   },
   "outputs": [
    {
     "name": "stdout",
     "output_type": "stream",
     "text": [
      "p_val = 0.10305163240311598\n"
     ]
    }
   ],
   "source": [
    "p_val = 2*stats.norm.sf(abs(z_cal))\n",
    "print(f\"p_val = {p_val}\")"
   ]
  },
  {
   "cell_type": "markdown",
   "metadata": {},
   "source": [
    "---\n",
    "```\n",
    "H1 ใช้เครื่องหมาย != จึงเป็นการทดสอบสองทาง (Two-tailed test) จากค่า z_cal = 1.6302359794089838 อยู่นอกบริเวณวิกกฤต accept H0 นั้นคือความเหนียวของ plastic ที่ผลิตได้ทั้ง 2 กระบวนการนี้ไม่มีความแตกต่างกัน\n",
    "```\n",
    "---"
   ]
  }
 ],
 "metadata": {
  "colab": {
   "provenance": []
  },
  "kernelspec": {
   "display_name": "Python 3 (ipykernel)",
   "language": "python",
   "name": "python3"
  },
  "language_info": {
   "codemirror_mode": {
    "name": "ipython",
    "version": 3
   },
   "file_extension": ".py",
   "mimetype": "text/x-python",
   "name": "python",
   "nbconvert_exporter": "python",
   "pygments_lexer": "ipython3",
   "version": "3.9.13"
  }
 },
 "nbformat": 4,
 "nbformat_minor": 4
}
