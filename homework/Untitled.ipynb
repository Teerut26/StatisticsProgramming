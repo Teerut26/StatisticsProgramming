{
 "cells": [
  {
   "cell_type": "code",
   "execution_count": 1,
   "id": "82a51313-cfa2-4d32-ae6f-46c41c69a6fc",
   "metadata": {},
   "outputs": [],
   "source": [
    "import numpy as np\n",
    "from scipy import stats\n",
    "from statsmodels.stats.weightstats import ztest"
   ]
  },
  {
   "cell_type": "code",
   "execution_count": 2,
   "id": "4340eed7-a70b-43e8-ba3e-7234f44741e3",
   "metadata": {},
   "outputs": [],
   "source": [
    "O = np.array([[51,183,146],[173,104,57],[203,154,79]])\n",
    "E = np.zeros(O.shape)\n",
    "for i in range(O.shape[0]):\n",
    "    for j in range(O.shape[1]):\n",
    "        E[i,j]=O[i].sum()*O[:,j].sum()/O.sum()"
   ]
  },
  {
   "cell_type": "code",
   "execution_count": 3,
   "id": "bd5261d0-8868-46d2-b8fd-b8fbb0749162",
   "metadata": {},
   "outputs": [],
   "source": [
    "chi2_cal = ((O-E)**2/E).sum()"
   ]
  },
  {
   "cell_type": "code",
   "execution_count": 4,
   "id": "eed27e96-06f0-4227-8abe-c34728afe211",
   "metadata": {},
   "outputs": [
    {
     "data": {
      "text/plain": [
       "147.2218166279889"
      ]
     },
     "execution_count": 4,
     "metadata": {},
     "output_type": "execute_result"
    }
   ],
   "source": [
    "chi2_cal"
   ]
  },
  {
   "cell_type": "code",
   "execution_count": 20,
   "id": "ef6fed38-a663-4962-ad17-2d788661cf14",
   "metadata": {},
   "outputs": [],
   "source": [
    "v = (3-1)*(3-1)"
   ]
  },
  {
   "cell_type": "code",
   "execution_count": 21,
   "id": "cd84927e-4a3f-4fb7-b09f-57b89bfc5a05",
   "metadata": {},
   "outputs": [
    {
     "data": {
      "text/plain": [
       "4"
      ]
     },
     "execution_count": 21,
     "metadata": {},
     "output_type": "execute_result"
    }
   ],
   "source": [
    "v"
   ]
  },
  {
   "cell_type": "code",
   "execution_count": null,
   "id": "6d1d7ac9-20d6-44b9-ac93-ef3502839304",
   "metadata": {},
   "outputs": [],
   "source": []
  }
 ],
 "metadata": {
  "kernelspec": {
   "display_name": "Python 3 (ipykernel)",
   "language": "python",
   "name": "python3"
  },
  "language_info": {
   "codemirror_mode": {
    "name": "ipython",
    "version": 3
   },
   "file_extension": ".py",
   "mimetype": "text/x-python",
   "name": "python",
   "nbconvert_exporter": "python",
   "pygments_lexer": "ipython3",
   "version": "3.9.13"
  }
 },
 "nbformat": 4,
 "nbformat_minor": 5
}
