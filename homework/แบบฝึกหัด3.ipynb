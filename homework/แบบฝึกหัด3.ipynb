{
  "cells": [
    {
      "cell_type": "markdown",
      "metadata": {
        "id": "U3ArbMi8JHGD"
      },
      "source": [
        "# แบบฝึกหัด 3"
      ]
    },
    {
      "cell_type": "markdown",
      "metadata": {
        "id": "t9RQYuu-JUwP"
      },
      "source": [
        "---"
      ]
    },
    {
      "cell_type": "code",
      "execution_count": 2,
      "metadata": {
        "id": "5LcuhePsgM1w"
      },
      "outputs": [],
      "source": [
        "import numpy as np\n",
        "import pandas as pd\n",
        "import statistics"
      ]
    },
    {
      "cell_type": "code",
      "execution_count": null,
      "metadata": {
        "colab": {
          "base_uri": "https://localhost:8080/"
        },
        "id": "n33D83i_gzZ2",
        "outputId": "122ce74b-59dc-4427-f4f9-1e00ea1acf2c"
      },
      "outputs": [
        {
          "name": "stdout",
          "output_type": "stream",
          "text": [
            "Drive already mounted at /content/drive; to attempt to forcibly remount, call drive.mount(\"/content/drive\", force_remount=True).\n"
          ]
        }
      ],
      "source": [
        "from google.colab import drive\n",
        "drive.mount('/content/drive')"
      ]
    },
    {
      "cell_type": "markdown",
      "metadata": {
        "id": "uoKssbJRv2Xu"
      },
      "source": [
        "###  "
      ]
    },
    {
      "cell_type": "markdown",
      "metadata": {
        "id": "O-jANK7-JY2X"
      },
      "source": [
        "3.1 บริษัทให้บริการด้าน IT ครบวงจรแห่งหนึ่งได้เก็บรวบรวมข้อมูลค่าซ่อมบำรุงอุปกรณ์คอมพิวเตอร์แม่ข่ายและจำนวนลูกค้าของบริษัทในปีที่ผ่านมาเป็นดังไฟล์ ex3_1_itcost.csv  \n",
        "จงแสดงวิธีหาค่ามัธยฐานและฐานนิยมของค่าซ่อมบำรุงอุปกรณ์คอมพิวเตอร์แม่ข่าย"
      ]
    },
    {
      "cell_type": "code",
      "execution_count": 123,
      "metadata": {
        "colab": {
          "base_uri": "https://localhost:8080/",
          "height": 206
        },
        "id": "HVfgMVlcI_hm",
        "outputId": "15649054-ff34-4c77-af6a-e7ea7c681169"
      },
      "outputs": [
        {
          "data": {
            "text/html": [
              "<div>\n",
              "<style scoped>\n",
              "    .dataframe tbody tr th:only-of-type {\n",
              "        vertical-align: middle;\n",
              "    }\n",
              "\n",
              "    .dataframe tbody tr th {\n",
              "        vertical-align: top;\n",
              "    }\n",
              "\n",
              "    .dataframe thead th {\n",
              "        text-align: right;\n",
              "    }\n",
              "</style>\n",
              "<table border=\"1\" class=\"dataframe\">\n",
              "  <thead>\n",
              "    <tr style=\"text-align: right;\">\n",
              "      <th></th>\n",
              "      <th>maintenance_cost</th>\n",
              "      <th>num_customer</th>\n",
              "    </tr>\n",
              "  </thead>\n",
              "  <tbody>\n",
              "    <tr>\n",
              "      <th>0</th>\n",
              "      <td>&lt;=5000</td>\n",
              "      <td>33</td>\n",
              "    </tr>\n",
              "    <tr>\n",
              "      <th>1</th>\n",
              "      <td>5001-10000</td>\n",
              "      <td>41</td>\n",
              "    </tr>\n",
              "    <tr>\n",
              "      <th>2</th>\n",
              "      <td>10001-15000</td>\n",
              "      <td>20</td>\n",
              "    </tr>\n",
              "    <tr>\n",
              "      <th>3</th>\n",
              "      <td>15001-20000</td>\n",
              "      <td>17</td>\n",
              "    </tr>\n",
              "    <tr>\n",
              "      <th>4</th>\n",
              "      <td>20001-25000</td>\n",
              "      <td>10</td>\n",
              "    </tr>\n",
              "    <tr>\n",
              "      <th>5</th>\n",
              "      <td>25001-30000</td>\n",
              "      <td>16</td>\n",
              "    </tr>\n",
              "    <tr>\n",
              "      <th>6</th>\n",
              "      <td>&gt;=30001</td>\n",
              "      <td>5</td>\n",
              "    </tr>\n",
              "  </tbody>\n",
              "</table>\n",
              "</div>"
            ],
            "text/plain": [
              "  maintenance_cost  num_customer\n",
              "0           <=5000            33\n",
              "1       5001-10000            41\n",
              "2      10001-15000            20\n",
              "3      15001-20000            17\n",
              "4      20001-25000            10\n",
              "5      25001-30000            16\n",
              "6          >=30001             5"
            ]
          },
          "execution_count": 123,
          "metadata": {},
          "output_type": "execute_result"
        }
      ],
      "source": [
        "df_it = pd.read_csv('../data/ex3_1_itcost.csv')\n",
        "df_it"
      ]
    },
    {
      "cell_type": "code",
      "execution_count": 138,
      "metadata": {
        "id": "7TwxeuVW96Ma"
      },
      "outputs": [
        {
          "name": "stdout",
          "output_type": "stream",
          "text": [
            "median = 9635.109756097561\n",
            "mode = 6379.948275862069\n"
          ]
        }
      ],
      "source": [
        "#your code\n",
        "df_it[\"maintenance_cost\"] = df_it[\"maintenance_cost\"].str.replace(\"<=\",\"1-\")\n",
        "df_it[\"maintenance_cost\"] = df_it[\"maintenance_cost\"].str.replace(\">=30001\",\"30001-35000\")\n",
        "\n",
        "df_it[['du_from', 'du_to']] = df_it['maintenance_cost'].str.split('-', expand=True)\n",
        "\n",
        "df_it = df_it.astype({'du_from': int, 'du_to': int})\n",
        "\n",
        "df_it[\"num_customer_cum\"] = df_it[\"num_customer\"].cumsum()\n",
        "\n",
        "#median\n",
        "median_pos_it = df_it.num_customer.sum()/2\n",
        "\n",
        "for i in df_it.index:\n",
        "    if df_it.num_customer_cum[i] >= median_pos_it:\n",
        "        e_median_it=i\n",
        "        break\n",
        "median_lower_it = (df_it.du_from[e_median_it]+df_it.du_to[e_median_it-1])/2\n",
        "\n",
        "median_it = median_lower_it+( (median_pos_it - df_it.num_customer_cum[e_median_it-1]) / df_it.num_customer[e_median_it])*median_lower_it\n",
        "print(f\"median = {median_it}\")\n",
        "\n",
        "#mode\n",
        "e_mode_it = np.argmax(df_it.num_customer)\n",
        "mode_lower_it = (df_it.du_from[e_mode_it]+df_it.du_to[e_mode_it-1])/2\n",
        "\n",
        "d_lower = df_it.num_customer[e_mode_it-1] - df_it.num_customer[e_mode_it]\n",
        "d_upper = df_it.num_customer[e_mode_it+1] - df_it.num_customer[e_mode_it]\n",
        "\n",
        "mode_it = mode_lower_it + ( d_lower/(d_lower+d_upper) )*mode_lower_it\n",
        "print(f\"mode = {mode_it}\")\n",
        "\n",
        "#mode\n",
        "\n"
      ]
    },
    {
      "cell_type": "markdown",
      "metadata": {
        "id": "BxG0p9G9-qG2"
      },
      "source": [
        "###   "
      ]
    },
    {
      "cell_type": "markdown",
      "metadata": {
        "id": "JTDVG3rksTto"
      },
      "source": [
        "3.2 สุ่มตัวอย่างนักศึกษามาจำนวนหนึ่ง พบว่าคะแนนสอบวิชาสถิติ เป็นดังตาราง 'ex3_2_score.csv' จงหาค่า"
      ]
    },
    {
      "cell_type": "markdown",
      "metadata": {
        "id": "tGs8uJzvy7AY"
      },
      "source": [
        "**3.2.1 ค่าเฉลี่ย**"
      ]
    },
    {
      "cell_type": "code",
      "execution_count": 139,
      "metadata": {
        "id": "xGfGFa4kvtyH"
      },
      "outputs": [
        {
          "data": {
            "text/html": [
              "<div>\n",
              "<style scoped>\n",
              "    .dataframe tbody tr th:only-of-type {\n",
              "        vertical-align: middle;\n",
              "    }\n",
              "\n",
              "    .dataframe tbody tr th {\n",
              "        vertical-align: top;\n",
              "    }\n",
              "\n",
              "    .dataframe thead th {\n",
              "        text-align: right;\n",
              "    }\n",
              "</style>\n",
              "<table border=\"1\" class=\"dataframe\">\n",
              "  <thead>\n",
              "    <tr style=\"text-align: right;\">\n",
              "      <th></th>\n",
              "      <th>score</th>\n",
              "      <th>num_student</th>\n",
              "    </tr>\n",
              "  </thead>\n",
              "  <tbody>\n",
              "    <tr>\n",
              "      <th>0</th>\n",
              "      <td>11-15</td>\n",
              "      <td>15</td>\n",
              "    </tr>\n",
              "    <tr>\n",
              "      <th>1</th>\n",
              "      <td>16-20</td>\n",
              "      <td>14</td>\n",
              "    </tr>\n",
              "    <tr>\n",
              "      <th>2</th>\n",
              "      <td>21-25</td>\n",
              "      <td>20</td>\n",
              "    </tr>\n",
              "    <tr>\n",
              "      <th>3</th>\n",
              "      <td>26-30</td>\n",
              "      <td>18</td>\n",
              "    </tr>\n",
              "    <tr>\n",
              "      <th>4</th>\n",
              "      <td>31-35</td>\n",
              "      <td>16</td>\n",
              "    </tr>\n",
              "    <tr>\n",
              "      <th>5</th>\n",
              "      <td>36-40</td>\n",
              "      <td>17</td>\n",
              "    </tr>\n",
              "  </tbody>\n",
              "</table>\n",
              "</div>"
            ],
            "text/plain": [
              "   score  num_student\n",
              "0  11-15           15\n",
              "1  16-20           14\n",
              "2  21-25           20\n",
              "3  26-30           18\n",
              "4  31-35           16\n",
              "5  36-40           17"
            ]
          },
          "execution_count": 139,
          "metadata": {},
          "output_type": "execute_result"
        }
      ],
      "source": [
        "df_score = pd.read_csv('../data/ex3_2_score.csv')\n",
        "df_score\n"
      ]
    },
    {
      "cell_type": "code",
      "execution_count": 140,
      "metadata": {
        "id": "pDFVQTNzykLc"
      },
      "outputs": [
        {
          "data": {
            "text/plain": [
              "25.85"
            ]
          },
          "execution_count": 140,
          "metadata": {},
          "output_type": "execute_result"
        }
      ],
      "source": [
        "#your code\n",
        "boundary = df_score['score'].str.split('-', expand=True).astype(int)\n",
        "df_score[['du_from', 'du_to']] = df_score['score'].str.split('-', expand=True)\n",
        "df_score = df_score.astype({'du_from': int, 'du_to': int})\n",
        "df_score['mid'] = (boundary[0]+boundary[1])/2\n",
        "df_score['fx'] = df_score['num_student']*df_score['mid']\n",
        "avg = sum(df_score[\"fx\"]) / sum(df_score[\"num_student\"])\n",
        "avg\n"
      ]
    },
    {
      "cell_type": "markdown",
      "metadata": {
        "id": "HyMa-rkR1ctY"
      },
      "source": [
        "**3.2.2 ค่ามัธยฐาน**"
      ]
    },
    {
      "cell_type": "code",
      "execution_count": 141,
      "metadata": {
        "id": "nEOGj6cF-huH"
      },
      "outputs": [
        {
          "data": {
            "text/plain": [
              "25.77777777777778"
            ]
          },
          "execution_count": 141,
          "metadata": {},
          "output_type": "execute_result"
        }
      ],
      "source": [
        "#your code\n",
        "df_score[\"num_student_cum\"] = df_score[\"num_student\"].cumsum()\n",
        "median_pos = df_score.num_student.sum()/2\n",
        "for i in df_score.index:\n",
        "    if df_score.num_student_cum[i] >= median_pos:\n",
        "        e_median=i\n",
        "        break\n",
        "median_lower = (df_score.du_from[e_median]+df_score.du_to[e_median-1])/2\n",
        "median = median_lower+( (median_pos - df_score.num_student_cum[e_median-1]) / df_score.num_student[e_median])*5\n",
        "median"
      ]
    },
    {
      "cell_type": "markdown",
      "metadata": {
        "id": "zlLBVZ0HcXUZ"
      },
      "source": [
        "**3.2.3 ค่าฐานนิยม**"
      ]
    },
    {
      "cell_type": "code",
      "execution_count": 142,
      "metadata": {
        "id": "lNYzGH_g-mQT"
      },
      "outputs": [
        {
          "data": {
            "text/plain": [
              "24.25"
            ]
          },
          "execution_count": 142,
          "metadata": {},
          "output_type": "execute_result"
        }
      ],
      "source": [
        "#your code\n",
        "e_mode = np.argmax(df_score.num_student)\n",
        "mode_lower = (df_score.du_from[e_mode]+df_score.du_to[e_mode-1])/2\n",
        "\n",
        "d_lower = df_score.num_student[e_mode-1] - df_score.num_student[e_mode]\n",
        "d_upper = df_score.num_student[e_mode+1] - df_score.num_student[e_mode]\n",
        "\n",
        "mode = mode_lower + ( d_lower/(d_lower+d_upper) )*5\n",
        "mode"
      ]
    },
    {
      "cell_type": "markdown",
      "metadata": {
        "id": "ONwLjc7wgtn4"
      },
      "source": [
        "**3.2.4 Q<sub>1</sub> และ Q<sub>3</sub>**"
      ]
    },
    {
      "cell_type": "code",
      "execution_count": 143,
      "metadata": {
        "id": "vRq7lL88-xAP"
      },
      "outputs": [
        {
          "name": "stdout",
          "output_type": "stream",
          "text": [
            "Q1 = 19.071428571428573\n",
            "Q3 = 33.0\n"
          ]
        }
      ],
      "source": [
        "#your code\n",
        "#find q1\n",
        "q1_pos = df_score.num_student.sum()*1/4\n",
        "for i in df_score.index:\n",
        "    if df_score.num_student_cum[i] >= q1_pos:\n",
        "        e_q1=i\n",
        "        break\n",
        "q1_lower = (df_score.du_from[e_q1]+df_score.du_to[e_q1-1])/2\n",
        "q1 = q1_lower+( (q1_pos - df_score.num_student_cum[e_q1-1]) / df_score.num_student[e_q1])*5\n",
        "\n",
        "q3_pos = df_score.num_student.sum()*3/4\n",
        "for i in df_score.index:\n",
        "    if df_score.num_student_cum[i] >= q3_pos:\n",
        "        e_q3=i\n",
        "        break\n",
        "q3_lower = (df_score.du_from[e_q3]+df_score.du_to[e_q3-1])/2\n",
        "q3 = q3_lower+( (q3_pos - df_score.num_student_cum[e_q3-1]) / df_score.num_student[e_q3])*5\n",
        "\n",
        "print(f\"Q1 = {q1}\")\n",
        "print(f\"Q3 = {q3}\")\n",
        "# q1_pos = n*3/4\n",
        "# q1_pos"
      ]
    },
    {
      "cell_type": "markdown",
      "metadata": {
        "id": "eauxI2MaguGC"
      },
      "source": [
        "**3.2.5 D<sub>7</sub>**"
      ]
    },
    {
      "cell_type": "code",
      "execution_count": 144,
      "metadata": {
        "id": "IzmNQl-t-3BZ"
      },
      "outputs": [
        {
          "data": {
            "text/plain": [
              "31.4375"
            ]
          },
          "execution_count": 144,
          "metadata": {},
          "output_type": "execute_result"
        }
      ],
      "source": [
        "#your code\n",
        "#find d7\n",
        "d7_pos = df_score.num_student.sum()*7/10\n",
        "for i in df_score.index:\n",
        "    if df_score.num_student_cum[i] >= d7_pos:\n",
        "        e_d7=i\n",
        "        break\n",
        "d7_lower = (df_score.du_from[e_d7]+df_score.du_to[e_d7-1])/2\n",
        "d7 = d7_lower+( (d7_pos - df_score.num_student_cum[e_d7-1]) / df_score.num_student[e_d7])*5\n",
        "d7"
      ]
    },
    {
      "cell_type": "markdown",
      "metadata": {
        "id": "ULdnf-dHguZj"
      },
      "source": [
        "**3.2.6 P<sub>75</sub>**"
      ]
    },
    {
      "cell_type": "code",
      "execution_count": 145,
      "metadata": {
        "id": "XkSuR48b-56W"
      },
      "outputs": [
        {
          "data": {
            "text/plain": [
              "33.0"
            ]
          },
          "execution_count": 145,
          "metadata": {},
          "output_type": "execute_result"
        }
      ],
      "source": [
        "#your code\n",
        "#find p75\n",
        "p75_pos = df_score.num_student.sum()*75/100\n",
        "for i in df_score.index:\n",
        "    if df_score.num_student_cum[i] >= p75_pos:\n",
        "        e_p75=i\n",
        "        break\n",
        "p75_lower = (df_score.du_from[e_p75]+df_score.du_to[e_p75-1])/2\n",
        "p75 = p75_lower+( (p75_pos - df_score.num_student_cum[e_p75-1]) / df_score.num_student[e_p75])*5\n",
        "p75"
      ]
    },
    {
      "cell_type": "markdown",
      "metadata": {
        "id": "V8tD6c5Cgu8S"
      },
      "source": [
        "**3.2.7 พิสัย**"
      ]
    },
    {
      "cell_type": "code",
      "execution_count": 146,
      "metadata": {
        "id": "LTk6xNrm-7qZ"
      },
      "outputs": [
        {
          "data": {
            "text/plain": [
              "30"
            ]
          },
          "execution_count": 146,
          "metadata": {},
          "output_type": "execute_result"
        }
      ],
      "source": [
        "#your code\n",
        "#find Range\n",
        "range = df_score.du_to.max() - df_score.du_from.min() + 1\n",
        "range\n"
      ]
    },
    {
      "cell_type": "markdown",
      "metadata": {
        "id": "9MkVinDAgvJx"
      },
      "source": [
        "**3.2.8 ส่วนเบี่ยงเบนควอร์ไทล์**"
      ]
    },
    {
      "cell_type": "code",
      "execution_count": 147,
      "metadata": {
        "id": "iG85sDHu-9eP"
      },
      "outputs": [
        {
          "data": {
            "text/plain": [
              "6.9642857142857135"
            ]
          },
          "execution_count": 147,
          "metadata": {},
          "output_type": "execute_result"
        }
      ],
      "source": [
        "#your code\n",
        "#find QD\n",
        "QD = (q3 - q1) / 2\n",
        "QD"
      ]
    },
    {
      "cell_type": "markdown",
      "metadata": {
        "id": "iQ82vURdgvXp"
      },
      "source": [
        "**3.2.9 ส่วนเบี่ยงเบนมาตราฐานและความแปรปรวน**"
      ]
    },
    {
      "cell_type": "code",
      "execution_count": 148,
      "metadata": {
        "id": "3XKKNhKE-_iZ"
      },
      "outputs": [
        {
          "name": "stdout",
          "output_type": "stream",
          "text": [
            "var = 69.82575757575744\n",
            "sd = 8.356180800805918\n"
          ]
        }
      ],
      "source": [
        "#your code\n",
        "#find Variance\n",
        "x_bar = sum((df_score.du_from+df_score.du_to)/2  * df_score.num_student) / df_score.num_student.sum()\n",
        "n =  df_score.num_student.sum()\n",
        "sigma_fx2 = sum( ((df_score.du_from+df_score.du_to)/2)**2  * df_score.num_student)\n",
        "sd = np.sqrt((sigma_fx2 - n*avg**2) / (n-1))\n",
        "var = np.sqrt((sigma_fx2 - n*avg**2) / (n-1))\n",
        "print(f\"var = {sd**2}\")\n",
        "print(f\"sd = {sd}\")\n"
      ]
    },
    {
      "cell_type": "markdown",
      "metadata": {
        "id": "34_0j7kTgvlZ"
      },
      "source": [
        "**3.2.10 สัมประสิทธิ์ของการแปรผัน**"
      ]
    },
    {
      "cell_type": "code",
      "execution_count": 149,
      "metadata": {
        "id": "Av4_wtGo_E_P"
      },
      "outputs": [
        {
          "data": {
            "text/plain": [
              "32.32565106694746"
            ]
          },
          "execution_count": 149,
          "metadata": {},
          "output_type": "execute_result"
        }
      ],
      "source": [
        "#your code\n",
        "#find CV\n",
        "cv = (sd / avg)*100\n",
        "cv"
      ]
    },
    {
      "cell_type": "markdown",
      "metadata": {
        "id": "UOIZ8YfAT1yH"
      },
      "source": [
        "###   "
      ]
    },
    {
      "cell_type": "markdown",
      "metadata": {
        "id": "yRFqnZpMUMow"
      },
      "source": [
        "3.3 บริษัทเกมแห่งหนึ่งได้ทำการทดสอบ game engine รุ่นใหม่ ในคอมพิวเตอร์ที่มีส่วนประกอบของฮารด์แวร์ต่างๆกัน (เช่น cpu, gpu, ram, ฯลฯ) จำนวน 30 เครื่อง และทำการวัดค่า frames per second (FPS) ได้ผลดังนี้  \n",
        "60.0, 30.2, 33.4, 59.9, 40.1, 25.5, 17.4, 28.6, 45.5, 57.8,  \n",
        "22.5, 50.2, 30.8, 43.1, 50.5, 35.5, 27.4, 29.2, 55.5, 10.2,   \n",
        "32.2, 27.8, 33.8, 53.4, 25.5, 30.4, 36.1, 49.3, 18.6, 50.0   \n",
        "จงคำนวณหาค่าเฉลี่ย, ส่วนเบี่ยงเบนมาตราฐาน, ฐานนิยม, Q<sub>1</sub>, D<sub>3</sub>, P<sub>45</sub> ของค่า FPS ที่ได้จากการทดสอบ"
      ]
    },
    {
      "cell_type": "markdown",
      "metadata": {
        "id": "RrpgMvIVZMAO"
      },
      "source": [
        "ค่าเฉลี่ย:"
      ]
    },
    {
      "cell_type": "code",
      "execution_count": 150,
      "metadata": {
        "id": "WNGFpJJZ_Ne_"
      },
      "outputs": [
        {
          "data": {
            "text/plain": [
              "37.01333333333333"
            ]
          },
          "execution_count": 150,
          "metadata": {},
          "output_type": "execute_result"
        }
      ],
      "source": [
        "#your code\n",
        "fps_list = [60.0, 30.2, 33.4, 59.9, 40.1, 25.5, 17.4, 28.6, 45.5, 57.8,\n",
        "22.5, 50.2, 30.8, 43.1, 50.5, 35.5, 27.4, 29.2, 55.5, 10.2,\n",
        "32.2, 27.8, 33.8, 53.4, 25.5, 30.4, 36.1, 49.3, 18.6, 50.0]\n",
        "np.mean(fps_list)"
      ]
    },
    {
      "cell_type": "markdown",
      "metadata": {
        "id": "9rKC0-TGZ1Jn"
      },
      "source": [
        "ส่วนเบี่ยงเบนมาตราฐาน:"
      ]
    },
    {
      "cell_type": "code",
      "execution_count": 151,
      "metadata": {
        "id": "7c5z5X4n_P-J"
      },
      "outputs": [
        {
          "data": {
            "text/plain": [
              "13.511878129065279"
            ]
          },
          "execution_count": 151,
          "metadata": {},
          "output_type": "execute_result"
        }
      ],
      "source": [
        "#your code\n",
        "statistics.stdev(fps_list)"
      ]
    },
    {
      "cell_type": "markdown",
      "metadata": {
        "id": "XuKipkyhaKVO"
      },
      "source": [
        "ฐานนิยม:"
      ]
    },
    {
      "cell_type": "code",
      "execution_count": 152,
      "metadata": {
        "id": "epv26Wo-_RRn"
      },
      "outputs": [
        {
          "data": {
            "text/plain": [
              "25.5"
            ]
          },
          "execution_count": 152,
          "metadata": {},
          "output_type": "execute_result"
        }
      ],
      "source": [
        "#your code\n",
        "statistics.mode(fps_list)"
      ]
    },
    {
      "cell_type": "markdown",
      "metadata": {
        "id": "jeBwd1pdaa-T"
      },
      "source": [
        "Q<sub>1</sub>, D<sub>3</sub> และ P<sub>45</sub>:  "
      ]
    },
    {
      "cell_type": "code",
      "execution_count": 153,
      "metadata": {
        "id": "z2iA5ocP_neI"
      },
      "outputs": [
        {
          "name": "stdout",
          "output_type": "stream",
          "text": [
            "q1 = 28.0\n",
            "d3 = 29.02\n",
            "p45 = 32.260000000000005\n"
          ]
        }
      ],
      "source": [
        "#your code\n",
        "print(f\"q1 = {np.quantile(fps_list, 0.25)}\")\n",
        "print(f\"d3 = {np.percentile(fps_list, 30)}\")\n",
        "print(f\"p45 = {np.percentile(fps_list, 45)}\")"
      ]
    },
    {
      "cell_type": "markdown",
      "metadata": {
        "id": "rOM3ES47mEaR"
      },
      "source": [
        "###   "
      ]
    },
    {
      "cell_type": "markdown",
      "metadata": {
        "id": "m97H7Z-bmBn5"
      },
      "source": [
        "3.4 หน่วยงานวิจัยแห่งหนึ่งได้รับมอบหมายจากทางรัฐบาลให้ทำการเปรียบเทียบระบบที่ใช้ในการผลิตพลังงานกระแสไฟฟ้าสำหรับนิคมอุตสาหกรรมแห่งหนึ่ง ระบบแรกมีกำลังการผลิตสูงสุด 10,000 เมกะวัตต์ โดยมีค่าเฉลี่ยและส่วนเบี่ยงเบนมาตราฐานของกำลังการผลิตอยู่ที่ 9,000±320 เมกะวัตต์ ระบบที่สองมีกำลังการผลิตสูงสุด 15,000 เมกะวัตต์ โดยมีค่าเฉลี่ยและส่วนเบี่ยงเบนมาตราฐานของกำลังการผลิตอยู่ที่ 14,000±900 เมกะวัตต์ จากข้อมูลนี้ทางสถาบันวิจัยจะสามารถสรุปว่าระบบใดมีกำลังการผลิตที่เที่ยงตรงกว่า\n",
        "\n"
      ]
    },
    {
      "cell_type": "code",
      "execution_count": 154,
      "metadata": {
        "id": "sikR8p5n_uTl"
      },
      "outputs": [
        {
          "name": "stdout",
          "output_type": "stream",
          "text": [
            "cv1 = 3.5555555555555554\n",
            "cv2 = 6.428571428571428\n"
          ]
        }
      ],
      "source": [
        "#your code\n",
        "avg_power = [9000,14000]\n",
        "max_power = [10000,15000]\n",
        "std = [320,900]\n",
        "\n",
        "cv1 = (std[0] / avg_power[0])*100\n",
        "cv2 = (std[1] / avg_power[1])*100\n",
        "\n",
        "print(f\"cv1 = {cv1}\")\n",
        "print(f\"cv2 = {cv2}\")\n"
      ]
    },
    {
      "cell_type": "code",
      "execution_count": null,
      "metadata": {},
      "outputs": [],
      "source": []
    }
  ],
  "metadata": {
    "colab": {
      "provenance": []
    },
    "kernelspec": {
      "display_name": "ProgStat_Py3.9",
      "language": "python",
      "name": "python3"
    },
    "language_info": {
      "codemirror_mode": {
        "name": "ipython",
        "version": 3
      },
      "file_extension": ".py",
      "mimetype": "text/x-python",
      "name": "python",
      "nbconvert_exporter": "python",
      "pygments_lexer": "ipython3",
      "version": "3.9.15"
    },
    "vscode": {
      "interpreter": {
        "hash": "afb50eb15cbc29dce8778f5c11649e148d7763c79060453cebdd8d3708af725a"
      }
    }
  },
  "nbformat": 4,
  "nbformat_minor": 0
}
