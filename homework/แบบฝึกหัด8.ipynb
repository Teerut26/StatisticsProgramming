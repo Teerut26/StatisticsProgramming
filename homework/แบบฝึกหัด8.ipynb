{
 "cells": [
  {
   "cell_type": "markdown",
   "metadata": {
    "id": "U3ArbMi8JHGD"
   },
   "source": [
    "# แบบฝึกหัด 8"
   ]
  },
  {
   "cell_type": "markdown",
   "metadata": {
    "id": "t9RQYuu-JUwP"
   },
   "source": [
    "---"
   ]
  },
  {
   "cell_type": "code",
   "execution_count": 4,
   "metadata": {
    "id": "YY-EeJDrQn80"
   },
   "outputs": [],
   "source": [
    "import numpy as np\n",
    "import pandas as pd\n",
    "from scipy import stats\n",
    "from statsmodels.stats.proportion import proportions_ztest"
   ]
  },
  {
   "cell_type": "markdown",
   "metadata": {
    "id": "QHjwP-tnOuU5"
   },
   "source": [
    "8.1 ร้านค้าออนไลน์ขายเมล็ดพืชหายากชนิดหนึ่ง อ้างว่าเมล็ดที่ขายมีเปอร์เซ็นต์การงอกสูงกว่า 90% จากการทดลองของลูกค้ารายหนึ่งได้สั่งซื้อเมล็ดมาทั้งหมด 100 เมล็ดและพบว่ามี 14 เมล็ดที่ไม่งอก จงทดสอบคำกล่าวอ้างของร้านค้าว่าเป็นจริงหรือไม่ที่ระดับนัยสำคัญ 0.05 หากถือว่าอัตราการงอกของเมล็ดพืชดังกล่าวมีการแจกแจงแบบปกติ"
   ]
  },
  {
   "cell_type": "code",
   "execution_count": 6,
   "metadata": {
    "id": "eGMlvK2UXrtE"
   },
   "outputs": [
    {
     "name": "stdout",
     "output_type": "stream",
     "text": [
      "z_cal = -1.3333333333333346\n",
      "p_val = 0.9087887802741323\n"
     ]
    }
   ],
   "source": [
    "#แสดงสมมติฐาน พร้อมวิธีหาค่าcal ค่าp-value และการสรุปผล \n",
    "\n",
    "#H0 : เมล็ดที่ขายมีเปอร์เซ็นต์การงอก ≤ 90%\n",
    "#H1 : เมล็ดที่ขายมีเปอร์เซ็นต์การงอก > 90%\n",
    "\n",
    "n = 100\n",
    "pH = 86/100\n",
    "p0 = 90/100\n",
    "q0 = 1 - p0\n",
    "a = 0.05\n",
    "\n",
    "z_cal, p_val = proportions_ztest(count=86, nobs=100, value=0.9, alternative='larger', prop_var=0.9)\n",
    "\n",
    "print(f\"z_cal = {z_cal}\")\n",
    "print(f\"p_val = {p_val}\")\n"
   ]
  },
  {
   "cell_type": "markdown",
   "metadata": {
    "id": "eGMlvK2UXrtE"
   },
   "source": [
    "---\n",
    "```\n",
    "คำกล่าวอ้างของร้่านค้า เป็นจริง ยอมรับ H1 เมล็ดที่ขายมีเปอร์เซ็นต์การงอก > 90% reject H0\n",
    "```\n",
    "---"
   ]
  },
  {
   "cell_type": "markdown",
   "metadata": {
    "id": "Tl6eIfL9R7Qx"
   },
   "source": [
    "8.2 สืบเนื่องจากข้อ 8.1 พบว่ามีร้านค้าออนไลน์อีกเจ้าซึ่งขายเมล็ดพืชหายากชนิดเดียวกันนี้ อ้างว่าเมล็ดที่ขายมีเปอร์เซนต์การงอกสูงกว่า 95% จึงสั่งซื้อมา 50 เมล็ดพบว่ามี 4 เมล็ดที่ไม่งอก จงทดสอบว่าร้านค้านี้ขายเมล็ดซึ่งมีเปอร์เซ็นต์การงอกสูงกว่าร้านค้าแรกมากกว่าหรือเท่ากับ 5% หรือไม่ ที่ระดับนัยสำคัญ 0.05"
   ]
  },
  {
   "cell_type": "code",
   "execution_count": 7,
   "metadata": {
    "id": "IMLPHscAgi5K"
   },
   "outputs": [
    {
     "name": "stdout",
     "output_type": "stream",
     "text": [
      "z_cal = 0.17766726362967553\n",
      "p_val = 0.5705078519955201\n"
     ]
    }
   ],
   "source": [
    "#แสดงสมมติฐาน พร้อมวิธีหาค่าcal ค่าp-value และการสรุปผล \n",
    "\n",
    "#H0 : ร้านที่ 2 มี percent การงอกมากกว่าร้านที่ 1 >= 5%\n",
    "#H1 : ร้านที่ 2 มี percent การงอกมากกว่าร้านที่ 1 < 5%\n",
    "\n",
    "z_cal, p_val = proportions_ztest(count=[14, 4], nobs=[100, 50], value=0.05, alternative='smaller')\n",
    "\n",
    "print(f\"z_cal = {z_cal}\")\n",
    "print(f\"p_val = {p_val}\")\n"
   ]
  },
  {
   "cell_type": "markdown",
   "metadata": {
    "id": "eGMlvK2UXrtE"
   },
   "source": [
    "---\n",
    "```\n",
    "ร้านที่ 2 มี percent การงอกมากกว่าร้านที่ 1 เป็นจิง accept H0 reject H1\n",
    "```\n",
    "---"
   ]
  },
  {
   "cell_type": "markdown",
   "metadata": {
    "id": "JAxlkGQCXR2L"
   },
   "source": [
    "8.3 จากชุดข้อมูล \"titanic.csv\" จงทดสอบว่าส่วนเบี่ยงเบนมาตราฐานข้อมูลอายุผู้โดยสารมีค่าน้อยกว่า 10 ปีหรือไม่ที่ระดับความเชื่อมั่น 99% หากกำหนดให้ข้อมูลอายุผู้โดยสารมีการแจกแจงแบบปกติ"
   ]
  },
  {
   "cell_type": "code",
   "execution_count": 8,
   "metadata": {
    "id": "eE0UT708g4d_"
   },
   "outputs": [
    {
     "data": {
      "text/html": [
       "<div>\n",
       "<style scoped>\n",
       "    .dataframe tbody tr th:only-of-type {\n",
       "        vertical-align: middle;\n",
       "    }\n",
       "\n",
       "    .dataframe tbody tr th {\n",
       "        vertical-align: top;\n",
       "    }\n",
       "\n",
       "    .dataframe thead th {\n",
       "        text-align: right;\n",
       "    }\n",
       "</style>\n",
       "<table border=\"1\" class=\"dataframe\">\n",
       "  <thead>\n",
       "    <tr style=\"text-align: right;\">\n",
       "      <th></th>\n",
       "      <th>PassengerId</th>\n",
       "      <th>Survived</th>\n",
       "      <th>Pclass</th>\n",
       "      <th>Name</th>\n",
       "      <th>Sex</th>\n",
       "      <th>Age</th>\n",
       "      <th>SibSp</th>\n",
       "      <th>Parch</th>\n",
       "      <th>Ticket</th>\n",
       "      <th>Fare</th>\n",
       "      <th>Cabin</th>\n",
       "      <th>Embarked</th>\n",
       "    </tr>\n",
       "  </thead>\n",
       "  <tbody>\n",
       "    <tr>\n",
       "      <th>0</th>\n",
       "      <td>1</td>\n",
       "      <td>0</td>\n",
       "      <td>3</td>\n",
       "      <td>Braund, Mr. Owen Harris</td>\n",
       "      <td>male</td>\n",
       "      <td>22.0</td>\n",
       "      <td>1</td>\n",
       "      <td>0</td>\n",
       "      <td>A/5 21171</td>\n",
       "      <td>7.2500</td>\n",
       "      <td>NaN</td>\n",
       "      <td>S</td>\n",
       "    </tr>\n",
       "    <tr>\n",
       "      <th>1</th>\n",
       "      <td>2</td>\n",
       "      <td>1</td>\n",
       "      <td>1</td>\n",
       "      <td>Cumings, Mrs. John Bradley (Florence Briggs Th...</td>\n",
       "      <td>female</td>\n",
       "      <td>38.0</td>\n",
       "      <td>1</td>\n",
       "      <td>0</td>\n",
       "      <td>PC 17599</td>\n",
       "      <td>71.2833</td>\n",
       "      <td>C85</td>\n",
       "      <td>C</td>\n",
       "    </tr>\n",
       "    <tr>\n",
       "      <th>2</th>\n",
       "      <td>3</td>\n",
       "      <td>1</td>\n",
       "      <td>3</td>\n",
       "      <td>Heikkinen, Miss. Laina</td>\n",
       "      <td>female</td>\n",
       "      <td>26.0</td>\n",
       "      <td>0</td>\n",
       "      <td>0</td>\n",
       "      <td>STON/O2. 3101282</td>\n",
       "      <td>7.9250</td>\n",
       "      <td>NaN</td>\n",
       "      <td>S</td>\n",
       "    </tr>\n",
       "    <tr>\n",
       "      <th>3</th>\n",
       "      <td>4</td>\n",
       "      <td>1</td>\n",
       "      <td>1</td>\n",
       "      <td>Futrelle, Mrs. Jacques Heath (Lily May Peel)</td>\n",
       "      <td>female</td>\n",
       "      <td>35.0</td>\n",
       "      <td>1</td>\n",
       "      <td>0</td>\n",
       "      <td>113803</td>\n",
       "      <td>53.1000</td>\n",
       "      <td>C123</td>\n",
       "      <td>S</td>\n",
       "    </tr>\n",
       "    <tr>\n",
       "      <th>4</th>\n",
       "      <td>5</td>\n",
       "      <td>0</td>\n",
       "      <td>3</td>\n",
       "      <td>Allen, Mr. William Henry</td>\n",
       "      <td>male</td>\n",
       "      <td>35.0</td>\n",
       "      <td>0</td>\n",
       "      <td>0</td>\n",
       "      <td>373450</td>\n",
       "      <td>8.0500</td>\n",
       "      <td>NaN</td>\n",
       "      <td>S</td>\n",
       "    </tr>\n",
       "  </tbody>\n",
       "</table>\n",
       "</div>"
      ],
      "text/plain": [
       "   PassengerId  Survived  Pclass  \\\n",
       "0            1         0       3   \n",
       "1            2         1       1   \n",
       "2            3         1       3   \n",
       "3            4         1       1   \n",
       "4            5         0       3   \n",
       "\n",
       "                                                Name     Sex   Age  SibSp  \\\n",
       "0                            Braund, Mr. Owen Harris    male  22.0      1   \n",
       "1  Cumings, Mrs. John Bradley (Florence Briggs Th...  female  38.0      1   \n",
       "2                             Heikkinen, Miss. Laina  female  26.0      0   \n",
       "3       Futrelle, Mrs. Jacques Heath (Lily May Peel)  female  35.0      1   \n",
       "4                           Allen, Mr. William Henry    male  35.0      0   \n",
       "\n",
       "   Parch            Ticket     Fare Cabin Embarked  \n",
       "0      0         A/5 21171   7.2500   NaN        S  \n",
       "1      0          PC 17599  71.2833   C85        C  \n",
       "2      0  STON/O2. 3101282   7.9250   NaN        S  \n",
       "3      0            113803  53.1000  C123        S  \n",
       "4      0            373450   8.0500   NaN        S  "
      ]
     },
     "execution_count": 8,
     "metadata": {},
     "output_type": "execute_result"
    }
   ],
   "source": [
    "#แสดงสมมติฐาน พร้อมวิธีหาค่าcal ค่าp-value และการสรุปผล \n",
    "df = pd.read_csv(\"../data/titanic.csv\")\n",
    "df.head()"
   ]
  },
  {
   "cell_type": "code",
   "execution_count": 9,
   "metadata": {
    "id": "eE0UT708g4d_"
   },
   "outputs": [
    {
     "name": "stdout",
     "output_type": "stream",
     "text": [
      "chi2_cal = 1504.5663594411767\n",
      "p_val = 1.0\n"
     ]
    }
   ],
   "source": [
    "#H0 = ส่วนเบี่ยงเบนมาตราฐานข้อมูลอายุผู้โดยสาร ≥ 10 ปี\n",
    "#H1 =  ส่วนเบี่ยงเบนมาตราฐานข้อมูลอายุผู้โดยสาร < 10 ปี\n",
    "\n",
    "n = df.Age.count()\n",
    "sigma_p_2 = df.Age.var()\n",
    "sigma_zero_p2 = 10*10\n",
    "v = n-1\n",
    "a = 0.01\n",
    "\n",
    "chi2_cal = ((n-1)*sigma_p_2) / sigma_zero_p2\n",
    "p_val = stats.norm.cdf(chi2_cal)\n",
    "\n",
    "print(f\"chi2_cal = {chi2_cal}\")\n",
    "print(f\"p_val = {p_val}\")"
   ]
  },
  {
   "cell_type": "markdown",
   "metadata": {
    "id": "eGMlvK2UXrtE"
   },
   "source": [
    "---\n",
    "```\n",
    "ส่วนเบี่ยงเบนมาตราฐานอายุผู้โดยสาร accept H0 reject H1\n",
    "```\n",
    "---"
   ]
  },
  {
   "cell_type": "markdown",
   "metadata": {
    "id": "rZ8GvZovcRmI"
   },
   "source": [
    "8.4 จากข้อ 8.3 จงทดสอบว่ากลุ่มผู้โดยสารชั้น Pclass = 1 มีความแปรปรวนของอายุเท่ากับ กลุ่มผู้โดยสารชั้น Pclass = 2 หรือไม่ที่ระดับนัยสำคัญ 0.05"
   ]
  },
  {
   "cell_type": "code",
   "execution_count": 10,
   "metadata": {
    "id": "ebjm535ag6tE"
   },
   "outputs": [
    {
     "name": "stdout",
     "output_type": "stream",
     "text": [
      "f_cal = 1.117810400886476\n",
      "f_cri_l = 0.7454732770065574\n",
      "f_cri_r = 1.343577412539335\n",
      "p_val = 0.45933712642977714\n"
     ]
    }
   ],
   "source": [
    "#แสดงสมมติฐาน พร้อมวิธีหาค่าcal ค่าp-value และการสรุปผล \n",
    "#H0 pclass = 1 มีความแปรปรวนของอายุเท่ากับ Pclass = 2\n",
    "#H1 pclass = 1 มีความแปรปรวนของอายุไม่เท่ากับ Pclass = 2\n",
    "\n",
    "n1 = df.loc[df['Pclass'] == 1].Age.count()\n",
    "n2 = df.loc[df['Pclass'] == 2].Age.count()\n",
    "v1 = n1-1\n",
    "v2 = n2-1\n",
    "a = 0.05\n",
    "sigma_p_1 = df.loc[df['Pclass'] == 1].Age.var()\n",
    "sigma_p_2 = df.loc[df['Pclass'] == 2].Age.var()\n",
    "\n",
    "f_cal = sigma_p_1/sigma_p_2\n",
    "f_cri_l = stats.f.ppf(a/2, dfn=v1, dfd=v2)\n",
    "f_cri_r = stats.f.isf(a/2, dfn=v1, dfd=v2)\n",
    "p_val = 2 * min(stats.f.cdf(f_cal, dfn=v1, dfd=v2), stats.f.sf(f_cal, dfn=v1, dfd=v2))\n",
    "\n",
    "print(f\"f_cal = {f_cal}\")\n",
    "print(f\"f_cri_l = {f_cri_l}\")\n",
    "print(f\"f_cri_r = {f_cri_r}\")\n",
    "print(f\"p_val = {p_val}\")"
   ]
  },
  {
   "cell_type": "markdown",
   "metadata": {
    "id": "eGMlvK2UXrtE"
   },
   "source": [
    "---\n",
    "```\n",
    "pclass = 1 มีความแปรปรวนของอายุเท่ากับ Pclass = 2 accept H0 reject H1\n",
    "```\n",
    "---"
   ]
  },
  {
   "cell_type": "code",
   "execution_count": null,
   "metadata": {},
   "outputs": [],
   "source": []
  }
 ],
 "metadata": {
  "colab": {
   "provenance": []
  },
  "kernelspec": {
   "display_name": "Python 3 (ipykernel)",
   "language": "python",
   "name": "python3"
  },
  "language_info": {
   "codemirror_mode": {
    "name": "ipython",
    "version": 3
   },
   "file_extension": ".py",
   "mimetype": "text/x-python",
   "name": "python",
   "nbconvert_exporter": "python",
   "pygments_lexer": "ipython3",
   "version": "3.9.13"
  }
 },
 "nbformat": 4,
 "nbformat_minor": 4
}
