{
 "cells": [
  {
   "cell_type": "markdown",
   "metadata": {
    "id": "U3ArbMi8JHGD"
   },
   "source": [
    "# แบบฝึกหัด 6"
   ]
  },
  {
   "cell_type": "markdown",
   "metadata": {
    "id": "t9RQYuu-JUwP"
   },
   "source": [
    "---"
   ]
  },
  {
   "cell_type": "code",
   "execution_count": 14,
   "metadata": {
    "id": "5LcuhePsgM1w"
   },
   "outputs": [],
   "source": [
    "import numpy as np\n",
    "import pandas as pd\n",
    "from scipy import stats\n",
    "import math"
   ]
  },
  {
   "cell_type": "markdown",
   "metadata": {
    "id": "ag3TNOoapF2I"
   },
   "source": [
    "6.1 จากการสำรวจโดยหน่วยงานของรัฐ ความน่าจะเป็นที่คนไทยจะมีบัตรเครดิตอย่างน้อย 1 บัตรเท่ากับ 0.6 หากสุ่มตัวอย่างคนไทยจำนวน\n",
    "1000 คน จงประมาณความน่าจะเป็นที่คนไทยอย่างน้อย 615 คน จากที่ถูกเลือกเป็นตัวอย่าง จะมีบัตร\n",
    "เครดิตอย่างน้อย 1 บัตร ด้วยการแจกแจงแบบปกติ"
   ]
  },
  {
   "cell_type": "code",
   "execution_count": 38,
   "metadata": {
    "id": "eGMlvK2UXrtE"
   },
   "outputs": [
    {
     "data": {
      "text/plain": [
       "0.17464406593420118"
      ]
     },
     "execution_count": 38,
     "metadata": {},
     "output_type": "execute_result"
    }
   ],
   "source": [
    "#แสดงวิธีทำ\n",
    "x = 615\n",
    "n = 1000\n",
    "p = 0.6\n",
    "\n",
    "_np = n * p\n",
    "_nq = n * (1-p)\n",
    "\n",
    "u = _np\n",
    "sigma = math.sqrt(_np*(1-p))\n",
    "\n",
    "stats.norm.sf(((x-0.5) - u)/sigma)"
   ]
  },
  {
   "cell_type": "markdown",
   "metadata": {
    "id": "RIDQz3PGqqY9"
   },
   "source": [
    "###   \n"
   ]
  },
  {
   "cell_type": "markdown",
   "metadata": {
    "id": "AdbMJYLPTRNk"
   },
   "source": [
    "6.2 บริษัทแห่งหนึ่งสุ่มเครื่อง server มา 22 เครื่อง พบว่ามีค่าบำรุงรักษาเฉลี่ยเครื่องละ 10000 บาทต่อปี และมีส่วนเบี่ยงเบนมาตราฐานของค่าบำรุงรักษา 5000 บาทต่อปี \n",
    "หากการวางแผนงบประมาณจะอ้างอิงจากค่าบำรุงรักษาโดยเฉลี่ยของ server จากทั้งบริษัท จงหาความน่าจะเป็นที่ค่าบำรุงรักษา server โดยเฉลี่ยทั้งบริษัทจะมีค่าน้อยกว่า 12000 บาท  \n",
    "หากกำหนดให้การแจกแจงของค่าบำรุงรักษาจากกลุ่มตัวอย่างเป็นแบบที"
   ]
  },
  {
   "cell_type": "code",
   "execution_count": 61,
   "metadata": {
    "id": "7FhHdEZbn2QB"
   },
   "outputs": [
    {
     "data": {
      "text/plain": [
       "0.9626993246701723"
      ]
     },
     "execution_count": 61,
     "metadata": {},
     "output_type": "execute_result"
    }
   ],
   "source": [
    "#แสดงวิธีทำ\n",
    "n = 22\n",
    "x_bar = 10000\n",
    "sigma = 5000\n",
    "v = n - 1\n",
    "u = 12000\n",
    "\n",
    "t = (u - x_bar) / (sigma/math.sqrt(n))\n",
    "\n",
    "stats.t.cdf(t, df=v)"
   ]
  },
  {
   "cell_type": "markdown",
   "metadata": {
    "id": "BfdpCQDiWTCj"
   },
   "source": [
    "6.3 จากข้อ 6.2 จงหาช่วงของค่าบำรุงรักษาโดยเฉลี่ยของ server จากทั้งบริษัทที่ทำให้  \n",
    "P(-a < T < a) = 0.99  โดย a คำนวนณจากค่าสถิติของตัวอย่าง server ในข้อ 6.2"
   ]
  },
  {
   "cell_type": "code",
   "execution_count": 66,
   "metadata": {
    "id": "YEBo5Tr3n22g"
   },
   "outputs": [
    {
     "name": "stdout",
     "output_type": "stream",
     "text": [
      "6981.760569852157 - 13018.239430147843\n"
     ]
    }
   ],
   "source": [
    "#แสดงวิธีทำ\n",
    "a_half = (1-0.99)/2\n",
    "\n",
    "a_pos = stats.t.isf(a_half,v)\n",
    "a_neg = stats.t.ppf(a_half,v)\n",
    "\n",
    "u_pos = x_bar - a_pos*(sigma/math.sqrt(n))\n",
    "u_neg = x_bar - a_neg*(sigma/math.sqrt(n))\n",
    "\n",
    "print(u_pos,\"-\",u_neg)"
   ]
  }
 ],
 "metadata": {
  "colab": {
   "provenance": []
  },
  "kernelspec": {
   "display_name": "Python 3 (ipykernel)",
   "language": "python",
   "name": "python3"
  },
  "language_info": {
   "codemirror_mode": {
    "name": "ipython",
    "version": 3
   },
   "file_extension": ".py",
   "mimetype": "text/x-python",
   "name": "python",
   "nbconvert_exporter": "python",
   "pygments_lexer": "ipython3",
   "version": "3.9.13"
  }
 },
 "nbformat": 4,
 "nbformat_minor": 4
}
