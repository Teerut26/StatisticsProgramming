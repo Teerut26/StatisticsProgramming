{
 "cells": [
  {
   "cell_type": "markdown",
   "metadata": {
    "id": "U3ArbMi8JHGD"
   },
   "source": [
    "# แบบฝึกหัด 3"
   ]
  },
  {
   "cell_type": "markdown",
   "metadata": {
    "id": "t9RQYuu-JUwP"
   },
   "source": [
    "---"
   ]
  },
  {
   "cell_type": "code",
   "execution_count": 1,
   "metadata": {
    "id": "5LcuhePsgM1w"
   },
   "outputs": [],
   "source": [
    "import numpy as np\n",
    "import pandas as pd\n",
    "import statistics"
   ]
  },
  {
   "cell_type": "code",
   "execution_count": 194,
   "metadata": {
    "colab": {
     "base_uri": "https://localhost:8080/"
    },
    "id": "n33D83i_gzZ2",
    "outputId": "122ce74b-59dc-4427-f4f9-1e00ea1acf2c"
   },
   "outputs": [
    {
     "ename": "ModuleNotFoundError",
     "evalue": "No module named 'google'",
     "output_type": "error",
     "traceback": [
      "\u001b[0;31m---------------------------------------------------------------------------\u001b[0m",
      "\u001b[0;31mModuleNotFoundError\u001b[0m                       Traceback (most recent call last)",
      "Input \u001b[0;32mIn [194]\u001b[0m, in \u001b[0;36m<cell line: 1>\u001b[0;34m()\u001b[0m\n\u001b[0;32m----> 1\u001b[0m \u001b[38;5;28;01mfrom\u001b[39;00m \u001b[38;5;21;01mgoogle\u001b[39;00m\u001b[38;5;21;01m.\u001b[39;00m\u001b[38;5;21;01mcolab\u001b[39;00m \u001b[38;5;28;01mimport\u001b[39;00m drive\n\u001b[1;32m      2\u001b[0m drive\u001b[38;5;241m.\u001b[39mmount(\u001b[38;5;124m'\u001b[39m\u001b[38;5;124m/content/drive\u001b[39m\u001b[38;5;124m'\u001b[39m)\n",
      "\u001b[0;31mModuleNotFoundError\u001b[0m: No module named 'google'"
     ]
    }
   ],
   "source": [
    "from google.colab import drive\n",
    "drive.mount('/content/drive')"
   ]
  },
  {
   "cell_type": "markdown",
   "metadata": {
    "id": "uoKssbJRv2Xu"
   },
   "source": [
    "###  "
   ]
  },
  {
   "cell_type": "markdown",
   "metadata": {
    "id": "O-jANK7-JY2X"
   },
   "source": [
    "3.1 บริษัทให้บริการด้าน IT ครบวงจรแห่งหนึ่งได้เก็บรวบรวมข้อมูลค่าซ่อมบำรุงอุปกรณ์คอมพิวเตอร์แม่ข่ายและจำนวนลูกค้าของบริษัทในปีที่ผ่านมาเป็นดังไฟล์ ex3_1_itcost.csv  \n",
    "จงแสดงวิธีหาค่ามัธยฐานและฐานนิยมของค่าซ่อมบำรุงอุปกรณ์คอมพิวเตอร์แม่ข่าย"
   ]
  },
  {
   "cell_type": "code",
   "execution_count": 2,
   "metadata": {
    "colab": {
     "base_uri": "https://localhost:8080/",
     "height": 206
    },
    "id": "HVfgMVlcI_hm",
    "outputId": "15649054-ff34-4c77-af6a-e7ea7c681169"
   },
   "outputs": [
    {
     "data": {
      "text/html": [
       "<div>\n",
       "<style scoped>\n",
       "    .dataframe tbody tr th:only-of-type {\n",
       "        vertical-align: middle;\n",
       "    }\n",
       "\n",
       "    .dataframe tbody tr th {\n",
       "        vertical-align: top;\n",
       "    }\n",
       "\n",
       "    .dataframe thead th {\n",
       "        text-align: right;\n",
       "    }\n",
       "</style>\n",
       "<table border=\"1\" class=\"dataframe\">\n",
       "  <thead>\n",
       "    <tr style=\"text-align: right;\">\n",
       "      <th></th>\n",
       "      <th>maintenance_cost</th>\n",
       "      <th>num_customer</th>\n",
       "    </tr>\n",
       "  </thead>\n",
       "  <tbody>\n",
       "    <tr>\n",
       "      <th>0</th>\n",
       "      <td>&lt;=5000</td>\n",
       "      <td>33</td>\n",
       "    </tr>\n",
       "    <tr>\n",
       "      <th>1</th>\n",
       "      <td>5001-10000</td>\n",
       "      <td>41</td>\n",
       "    </tr>\n",
       "    <tr>\n",
       "      <th>2</th>\n",
       "      <td>10001-15000</td>\n",
       "      <td>20</td>\n",
       "    </tr>\n",
       "    <tr>\n",
       "      <th>3</th>\n",
       "      <td>15001-20000</td>\n",
       "      <td>17</td>\n",
       "    </tr>\n",
       "    <tr>\n",
       "      <th>4</th>\n",
       "      <td>20001-25000</td>\n",
       "      <td>10</td>\n",
       "    </tr>\n",
       "    <tr>\n",
       "      <th>5</th>\n",
       "      <td>25001-30000</td>\n",
       "      <td>16</td>\n",
       "    </tr>\n",
       "    <tr>\n",
       "      <th>6</th>\n",
       "      <td>&gt;=30001</td>\n",
       "      <td>5</td>\n",
       "    </tr>\n",
       "  </tbody>\n",
       "</table>\n",
       "</div>"
      ],
      "text/plain": [
       "  maintenance_cost  num_customer\n",
       "0           <=5000            33\n",
       "1       5001-10000            41\n",
       "2      10001-15000            20\n",
       "3      15001-20000            17\n",
       "4      20001-25000            10\n",
       "5      25001-30000            16\n",
       "6          >=30001             5"
      ]
     },
     "execution_count": 2,
     "metadata": {},
     "output_type": "execute_result"
    }
   ],
   "source": [
    "df_it = pd.read_csv('../data/ex3_1_itcost.csv')\n",
    "df_it.head()\n",
    "df_it.maintenance_cost.str.split(\"-\", expand=True)\n",
    "df_it"
   ]
  },
  {
   "cell_type": "code",
   "execution_count": 228,
   "metadata": {
    "id": "7TwxeuVW96Ma"
   },
   "outputs": [
    {
     "data": {
      "text/plain": [
       "0           5000\n",
       "1     5001-10000\n",
       "2    10001-15000\n",
       "3    15001-20000\n",
       "4    20001-25000\n",
       "5    25001-30000\n",
       "6        >=30001\n",
       "Name: maintenance_cost, dtype: object"
      ]
     },
     "execution_count": 228,
     "metadata": {},
     "output_type": "execute_result"
    }
   ],
   "source": [
    "#your code\n",
    "bit = df_it['maintenance_cost'].str.replace(\"<=\",\"\").replace(\">=\",\"\")\n",
    "bit\n",
    "# df_it['mid'] = (bit[0]+bit[1])/2\n",
    "# df_it"
   ]
  },
  {
   "cell_type": "markdown",
   "metadata": {
    "id": "BxG0p9G9-qG2"
   },
   "source": [
    "###   "
   ]
  },
  {
   "cell_type": "markdown",
   "metadata": {
    "id": "JTDVG3rksTto"
   },
   "source": [
    "3.2 สุ่มตัวอย่างนักศึกษามาจำนวนหนึ่ง พบว่าคะแนนสอบวิชาสถิติ เป็นดังตาราง 'ex3_2_score.csv' จงหาค่า"
   ]
  },
  {
   "cell_type": "markdown",
   "metadata": {
    "id": "tGs8uJzvy7AY"
   },
   "source": [
    "**3.2.1 ค่าเฉลี่ย**"
   ]
  },
  {
   "cell_type": "code",
   "execution_count": 3,
   "metadata": {
    "id": "xGfGFa4kvtyH"
   },
   "outputs": [
    {
     "data": {
      "text/html": [
       "<div>\n",
       "<style scoped>\n",
       "    .dataframe tbody tr th:only-of-type {\n",
       "        vertical-align: middle;\n",
       "    }\n",
       "\n",
       "    .dataframe tbody tr th {\n",
       "        vertical-align: top;\n",
       "    }\n",
       "\n",
       "    .dataframe thead th {\n",
       "        text-align: right;\n",
       "    }\n",
       "</style>\n",
       "<table border=\"1\" class=\"dataframe\">\n",
       "  <thead>\n",
       "    <tr style=\"text-align: right;\">\n",
       "      <th></th>\n",
       "      <th>score</th>\n",
       "      <th>num_student</th>\n",
       "    </tr>\n",
       "  </thead>\n",
       "  <tbody>\n",
       "    <tr>\n",
       "      <th>0</th>\n",
       "      <td>11-15</td>\n",
       "      <td>15</td>\n",
       "    </tr>\n",
       "    <tr>\n",
       "      <th>1</th>\n",
       "      <td>16-20</td>\n",
       "      <td>14</td>\n",
       "    </tr>\n",
       "    <tr>\n",
       "      <th>2</th>\n",
       "      <td>21-25</td>\n",
       "      <td>20</td>\n",
       "    </tr>\n",
       "    <tr>\n",
       "      <th>3</th>\n",
       "      <td>26-30</td>\n",
       "      <td>18</td>\n",
       "    </tr>\n",
       "    <tr>\n",
       "      <th>4</th>\n",
       "      <td>31-35</td>\n",
       "      <td>16</td>\n",
       "    </tr>\n",
       "  </tbody>\n",
       "</table>\n",
       "</div>"
      ],
      "text/plain": [
       "   score  num_student\n",
       "0  11-15           15\n",
       "1  16-20           14\n",
       "2  21-25           20\n",
       "3  26-30           18\n",
       "4  31-35           16"
      ]
     },
     "execution_count": 3,
     "metadata": {},
     "output_type": "execute_result"
    }
   ],
   "source": [
    "df_score = pd.read_csv('../data/ex3_2_score.csv')\n",
    "df_score.head()"
   ]
  },
  {
   "cell_type": "code",
   "execution_count": 11,
   "metadata": {
    "id": "pDFVQTNzykLc"
   },
   "outputs": [
    {
     "name": "stdout",
     "output_type": "stream",
     "text": [
      "average = 25.85\n"
     ]
    }
   ],
   "source": [
    "#your code\n",
    "boundary = df_score['score'].str.split('-', expand=True).astype(int)\n",
    "df_score['mid'] = (boundary[0]+boundary[1])/2\n",
    "df_score['fx'] = df_score['num_student']*df_score['mid']\n",
    "avg = sum(df_score[\"fx\"]) / sum(df_score[\"num_student\"])\n",
    "df_score['num_student_cum'] = df_score['num_student'].cumsum()\n",
    "print(f\"average = {avg}\")"
   ]
  },
  {
   "cell_type": "markdown",
   "metadata": {
    "id": "HyMa-rkR1ctY"
   },
   "source": [
    "**3.2.2 ค่ามัธยฐาน**"
   ]
  },
  {
   "cell_type": "code",
   "execution_count": 23,
   "metadata": {
    "id": "nEOGj6cF-huH"
   },
   "outputs": [
    {
     "name": "stdout",
     "output_type": "stream",
     "text": [
      "   score  num_student   mid     fx  num_student_cum  du_from  du_to\n",
      "0  11-15           15  13.0  195.0               15       11     15\n",
      "1  16-20           14  18.0  252.0               29       16     20\n",
      "2  21-25           20  23.0  460.0               49       21     25\n",
      "3  26-30           18  28.0  504.0               67       26     30\n",
      "4  31-35           16  33.0  528.0               83       31     35\n",
      "5  36-40           17  38.0  646.0              100       36     40\n"
     ]
    },
    {
     "data": {
      "text/plain": [
       "25.75"
      ]
     },
     "execution_count": 23,
     "metadata": {},
     "output_type": "execute_result"
    }
   ],
   "source": [
    "#your code\n",
    "print(df_score)\n",
    "df_score[['du_from', 'du_to']] = df_score.score.str.split('-', expand=True)\n",
    "df_score = df_score.astype({'du_from': int, 'du_to': int})\n",
    "med_pos = df_score.num_student.sum()/2\n",
    "e = np.argmax(df_score.num_student)\n",
    "lower = (df_score.du_from[e]+df_score.du_to[e-1])/2\n",
    "median_value = lower+((med_pos - df_score.num_student_cum[e-1]) / df_score.num_student[e])* 5\n",
    "median_value"
   ]
  },
  {
   "cell_type": "markdown",
   "metadata": {
    "id": "zlLBVZ0HcXUZ"
   },
   "source": [
    "**3.2.3 ค่าฐานนิยม**"
   ]
  },
  {
   "cell_type": "code",
   "execution_count": 219,
   "metadata": {
    "id": "lNYzGH_g-mQT"
   },
   "outputs": [
    {
     "name": "stdout",
     "output_type": "stream",
     "text": [
      "mode = 22.6875\n"
     ]
    }
   ],
   "source": [
    "#your code\n",
    "e_mode = np.argmax(df_score.num_student)\n",
    "lower_mode = (df_score.du_from[e]+df_score.du_to[e-1])/2\n",
    "mode = lower + ( df_score.num_student[e-1]/(df_score.num_student[e-1]+df_score.num_student[e+1]) )*5\n",
    "print(f\"mode = {mode}\")"
   ]
  },
  {
   "cell_type": "markdown",
   "metadata": {
    "id": "ONwLjc7wgtn4"
   },
   "source": [
    "**3.2.4 Q<sub>1</sub> และ Q<sub>3</sub>**"
   ]
  },
  {
   "cell_type": "code",
   "execution_count": 174,
   "metadata": {
    "id": "vRq7lL88-xAP"
   },
   "outputs": [],
   "source": [
    "#your code\n"
   ]
  },
  {
   "cell_type": "markdown",
   "metadata": {
    "id": "eauxI2MaguGC"
   },
   "source": [
    "**3.2.5 D<sub>7</sub>**"
   ]
  },
  {
   "cell_type": "code",
   "execution_count": null,
   "metadata": {
    "id": "IzmNQl-t-3BZ"
   },
   "outputs": [],
   "source": [
    "#your code"
   ]
  },
  {
   "cell_type": "markdown",
   "metadata": {
    "id": "ULdnf-dHguZj"
   },
   "source": [
    "**3.2.6 P<sub>75</sub>**"
   ]
  },
  {
   "cell_type": "code",
   "execution_count": null,
   "metadata": {
    "id": "XkSuR48b-56W"
   },
   "outputs": [],
   "source": [
    "#your code"
   ]
  },
  {
   "cell_type": "markdown",
   "metadata": {
    "id": "V8tD6c5Cgu8S"
   },
   "source": [
    "**3.2.7 พิสัย**"
   ]
  },
  {
   "cell_type": "code",
   "execution_count": null,
   "metadata": {
    "id": "LTk6xNrm-7qZ"
   },
   "outputs": [],
   "source": [
    "#your code"
   ]
  },
  {
   "cell_type": "markdown",
   "metadata": {
    "id": "9MkVinDAgvJx"
   },
   "source": [
    "**3.2.8 ส่วนเบี่ยงเบนควอร์ไทล์**"
   ]
  },
  {
   "cell_type": "code",
   "execution_count": null,
   "metadata": {
    "id": "iG85sDHu-9eP"
   },
   "outputs": [],
   "source": [
    "#your code"
   ]
  },
  {
   "cell_type": "markdown",
   "metadata": {
    "id": "iQ82vURdgvXp"
   },
   "source": [
    "**3.2.9 ส่วนเบี่ยงเบนมาตราฐานและความแปรปรวน**"
   ]
  },
  {
   "cell_type": "code",
   "execution_count": null,
   "metadata": {
    "id": "3XKKNhKE-_iZ"
   },
   "outputs": [],
   "source": [
    "#your code"
   ]
  },
  {
   "cell_type": "markdown",
   "metadata": {
    "id": "34_0j7kTgvlZ"
   },
   "source": [
    "**3.2.10 สัมประสิทธิ์ของการแปรผัน**"
   ]
  },
  {
   "cell_type": "code",
   "execution_count": null,
   "metadata": {
    "id": "Av4_wtGo_E_P"
   },
   "outputs": [],
   "source": [
    "#your code"
   ]
  },
  {
   "cell_type": "markdown",
   "metadata": {
    "id": "UOIZ8YfAT1yH"
   },
   "source": [
    "###   "
   ]
  },
  {
   "cell_type": "markdown",
   "metadata": {
    "id": "yRFqnZpMUMow"
   },
   "source": [
    "3.3 บริษัทเกมแห่งหนึ่งได้ทำการทดสอบ game engine รุ่นใหม่ ในคอมพิวเตอร์ที่มีส่วนประกอบของฮารด์แวร์ต่างๆกัน (เช่น cpu, gpu, ram, ฯลฯ) จำนวน 30 เครื่อง และทำการวัดค่า frames per second (FPS) ได้ผลดังนี้  \n",
    "60.0, 30.2, 33.4, 59.9, 40.1, 25.5, 17.4, 28.6, 45.5, 57.8,  \n",
    "22.5, 50.2, 30.8, 43.1, 50.5, 35.5, 27.4, 29.2, 55.5, 10.2,   \n",
    "32.2, 27.8, 33.8, 53.4, 25.5, 30.4, 36.1, 49.3, 18.6, 50.0   \n",
    "จงคำนวณหาค่าเฉลี่ย, ส่วนเบี่ยงเบนมาตราฐาน, ฐานนิยม, Q<sub>1</sub>, D<sub>3</sub>, P<sub>45</sub> ของค่า FPS ที่ได้จากการทดสอบ"
   ]
  },
  {
   "cell_type": "markdown",
   "metadata": {
    "id": "RrpgMvIVZMAO"
   },
   "source": [
    "ค่าเฉลี่ย:"
   ]
  },
  {
   "cell_type": "code",
   "execution_count": 128,
   "metadata": {
    "id": "WNGFpJJZ_Ne_"
   },
   "outputs": [
    {
     "data": {
      "text/plain": [
       "37.01333333333333"
      ]
     },
     "execution_count": 128,
     "metadata": {},
     "output_type": "execute_result"
    }
   ],
   "source": [
    "#your code\n",
    "fps_list = [60.0, 30.2, 33.4, 59.9, 40.1, 25.5, 17.4, 28.6, 45.5, 57.8,\n",
    "22.5, 50.2, 30.8, 43.1, 50.5, 35.5, 27.4, 29.2, 55.5, 10.2,\n",
    "32.2, 27.8, 33.8, 53.4, 25.5, 30.4, 36.1, 49.3, 18.6, 50.0]\n",
    "np.mean(fps_list)\n"
   ]
  },
  {
   "cell_type": "markdown",
   "metadata": {
    "id": "9rKC0-TGZ1Jn"
   },
   "source": [
    "ส่วนเบี่ยงเบนมาตราฐาน:"
   ]
  },
  {
   "cell_type": "code",
   "execution_count": 133,
   "metadata": {
    "id": "7c5z5X4n_P-J"
   },
   "outputs": [
    {
     "data": {
      "text/plain": [
       "13.511878129065279"
      ]
     },
     "execution_count": 133,
     "metadata": {},
     "output_type": "execute_result"
    }
   ],
   "source": [
    "#your code\n",
    "statistics.stdev(fps_list)"
   ]
  },
  {
   "cell_type": "markdown",
   "metadata": {
    "id": "XuKipkyhaKVO"
   },
   "source": [
    "ฐานนิยม:"
   ]
  },
  {
   "cell_type": "code",
   "execution_count": 131,
   "metadata": {
    "id": "epv26Wo-_RRn"
   },
   "outputs": [
    {
     "data": {
      "text/plain": [
       "25.5"
      ]
     },
     "execution_count": 131,
     "metadata": {},
     "output_type": "execute_result"
    }
   ],
   "source": [
    "#your code\n",
    "statistics.mode(fps_list)"
   ]
  },
  {
   "cell_type": "markdown",
   "metadata": {
    "id": "jeBwd1pdaa-T"
   },
   "source": [
    "Q<sub>1</sub>, D<sub>3</sub> และ P<sub>45</sub>:  "
   ]
  },
  {
   "cell_type": "code",
   "execution_count": 148,
   "metadata": {
    "id": "z2iA5ocP_neI"
   },
   "outputs": [
    {
     "name": "stdout",
     "output_type": "stream",
     "text": [
      "q1 = 28.0\n",
      "d3 = 29.02\n",
      "p45 = 32.260000000000005\n"
     ]
    }
   ],
   "source": [
    "#your code\n",
    "print(f\"q1 = {np.quantile(fps_list, 0.25)}\")\n",
    "print(f\"d3 = {np.percentile(fps_list, 30)}\")\n",
    "print(f\"p45 = {np.percentile(fps_list, 45)}\")"
   ]
  },
  {
   "cell_type": "markdown",
   "metadata": {
    "id": "rOM3ES47mEaR"
   },
   "source": [
    "###   "
   ]
  },
  {
   "cell_type": "markdown",
   "metadata": {
    "id": "m97H7Z-bmBn5"
   },
   "source": [
    "3.4 หน่วยงานวิจัยแห่งหนึ่งได้รับมอบหมายจากทางรัฐบาลให้ทำการเปรียบเทียบระบบที่ใช้ในการผลิตพลังงานกระแสไฟฟ้าสำหรับนิคมอุตสาหกรรมแห่งหนึ่ง ระบบแรกมีกำลังการผลิตสูงสุด 10,000 เมกะวัตต์ โดยมีค่าเฉลี่ยและส่วนเบี่ยงเบนมาตราฐานของกำลังการผลิตอยู่ที่ 9,000±320 เมกะวัตต์ ระบบที่สองมีกำลังการผลิตสูงสุด 15,000 เมกะวัตต์ โดยมีค่าเฉลี่ยและส่วนเบี่ยงเบนมาตราฐานของกำลังการผลิตอยู่ที่ 14,000±900 เมกะวัตต์ จากข้อมูลนี้ทางสถาบันวิจัยจะสามารถสรุปว่าระบบใดมีกำลังการผลิตที่เที่ยงตรงกว่า\n",
    "\n"
   ]
  },
  {
   "cell_type": "code",
   "execution_count": null,
   "metadata": {
    "id": "sikR8p5n_uTl"
   },
   "outputs": [],
   "source": [
    "#your code"
   ]
  }
 ],
 "metadata": {
  "colab": {
   "provenance": []
  },
  "kernelspec": {
   "display_name": "ProgStat_Py3.9",
   "language": "python",
   "name": "python3"
  },
  "language_info": {
   "codemirror_mode": {
    "name": "ipython",
    "version": 3
   },
   "file_extension": ".py",
   "mimetype": "text/x-python",
   "name": "python",
   "nbconvert_exporter": "python",
   "pygments_lexer": "ipython3",
   "version": "3.9.15 (main, Nov 24 2022, 08:28:41) \n[Clang 14.0.6 ]"
  },
  "vscode": {
   "interpreter": {
    "hash": "afb50eb15cbc29dce8778f5c11649e148d7763c79060453cebdd8d3708af725a"
   }
  }
 },
 "nbformat": 4,
 "nbformat_minor": 4
}
