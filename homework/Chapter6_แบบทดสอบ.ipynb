{
 "cells": [
  {
   "cell_type": "markdown",
   "id": "3d2eeae5-4df2-47a0-8155-6af48aa687b1",
   "metadata": {
    "id": "3d2eeae5-4df2-47a0-8155-6af48aa687b1"
   },
   "source": [
    "# แบบทดสอบบทที่ 6  \n",
    "## การแจกแจงความน่าจะเป็น (Probability Distribution)"
   ]
  },
  {
   "cell_type": "markdown",
   "id": "b728e189-dfe0-4a07-b172-1cc580cececd",
   "metadata": {
    "id": "b728e189-dfe0-4a07-b172-1cc580cececd"
   },
   "source": [
    "---"
   ]
  },
  {
   "cell_type": "code",
   "execution_count": 1,
   "id": "4dd9a327-de24-44a8-85fd-4246442361a6",
   "metadata": {
    "id": "4dd9a327-de24-44a8-85fd-4246442361a6"
   },
   "outputs": [],
   "source": [
    "import numpy as np\n",
    "import pandas as pd\n",
    "import statistics\n",
    "import scipy\n",
    "from scipy import stats\n",
    "from math import perm, comb"
   ]
  },
  {
   "cell_type": "markdown",
   "id": "KVX0b9sfoRFq",
   "metadata": {
    "id": "KVX0b9sfoRFq"
   },
   "source": [
    "###   "
   ]
  },
  {
   "cell_type": "markdown",
   "id": "80cc2af5-2a47-4999-8a7d-5318c4390c3a",
   "metadata": {
    "id": "80cc2af5-2a47-4999-8a7d-5318c4390c3a",
    "tags": []
   },
   "source": [
    "####  \n",
    "#### 6.3 กำหนดให้ 𝑋 เป็นตัวแปรสุ่มที่ไม่ต่อเนื่อง โดยที่ 𝑋 = 0, 1, 2 และ p(x) เป็นฟังก์ชันความน่าจะเป็นของตัวแปรสุ่ม 𝑋 ที่เขียนอยู่ในรูป 𝑝(𝑥)=(n x)(0.3)<sup>x</sup>(0.7)<sup>n-x</sup> เมื่อ n = 2 จงหาค่าของ p(1) และ CDF(1)\n"
   ]
  },
  {
   "cell_type": "markdown",
   "id": "5e4a23e9-6ecf-4898-839f-4bcfd9376df8",
   "metadata": {
    "id": "5e4a23e9-6ecf-4898-839f-4bcfd9376df8"
   },
   "source": [
    "เขียนฟังก์ชัน f ตามที่โจทย์กำหนด:"
   ]
  },
  {
   "cell_type": "code",
   "execution_count": 2,
   "id": "706ca8da-e79f-4c8f-bb2e-039ed845dce0",
   "metadata": {
    "id": "706ca8da-e79f-4c8f-bb2e-039ed845dce0"
   },
   "outputs": [],
   "source": [
    "def p(n, x):\n",
    "    return comb(n,x)*(0.3**x)*(0.7**(n-x))"
   ]
  },
  {
   "cell_type": "markdown",
   "id": "580806a5-fcba-469e-8f6f-2176737204c5",
   "metadata": {
    "id": "580806a5-fcba-469e-8f6f-2176737204c5"
   },
   "source": [
    "\\\n",
    "ค่า p(0):"
   ]
  },
  {
   "cell_type": "code",
   "execution_count": null,
   "id": "27734bfb-5293-427e-9a90-356398668ce3",
   "metadata": {
    "colab": {
     "base_uri": "https://localhost:8080/"
    },
    "executionInfo": {
     "elapsed": 518,
     "status": "ok",
     "timestamp": 1671990662336,
     "user": {
      "displayName": "Thammakorn SAETHANG",
      "userId": "08182570455347153646"
     },
     "user_tz": -420
    },
    "id": "27734bfb-5293-427e-9a90-356398668ce3",
    "outputId": "9e952ce0-0b5d-49ff-a64c-368bde32cba4"
   },
   "outputs": [
    {
     "data": {
      "text/plain": [
       "0.48999999999999994"
      ]
     },
     "execution_count": 3,
     "metadata": {},
     "output_type": "execute_result"
    }
   ],
   "source": [
    "p(n=2, x=0)"
   ]
  },
  {
   "cell_type": "markdown",
   "id": "a5a21bd0-2c85-47e1-8813-5af060ac3e84",
   "metadata": {
    "id": "a5a21bd0-2c85-47e1-8813-5af060ac3e84"
   },
   "source": [
    "\\\n",
    "ค่า p(1):"
   ]
  },
  {
   "cell_type": "code",
   "execution_count": null,
   "id": "86fdb776-d4c6-40b5-8f33-4868de88d13b",
   "metadata": {
    "colab": {
     "base_uri": "https://localhost:8080/"
    },
    "executionInfo": {
     "elapsed": 2,
     "status": "ok",
     "timestamp": 1671990664696,
     "user": {
      "displayName": "Thammakorn SAETHANG",
      "userId": "08182570455347153646"
     },
     "user_tz": -420
    },
    "id": "86fdb776-d4c6-40b5-8f33-4868de88d13b",
    "outputId": "a177296a-3f23-41a0-ef63-8b73fb7cbe1a"
   },
   "outputs": [
    {
     "data": {
      "text/plain": [
       "0.42"
      ]
     },
     "execution_count": 4,
     "metadata": {},
     "output_type": "execute_result"
    }
   ],
   "source": [
    "p(n=2, x=1)"
   ]
  },
  {
   "cell_type": "markdown",
   "id": "6292385c-a675-4791-a541-ffc967c218df",
   "metadata": {
    "id": "6292385c-a675-4791-a541-ffc967c218df"
   },
   "source": [
    "\\\n",
    "ค่า CDF(1):"
   ]
  },
  {
   "cell_type": "code",
   "execution_count": null,
   "id": "479660d7-fb60-4f19-83ca-f0aab3b1b875",
   "metadata": {
    "colab": {
     "base_uri": "https://localhost:8080/"
    },
    "executionInfo": {
     "elapsed": 3,
     "status": "ok",
     "timestamp": 1671990667618,
     "user": {
      "displayName": "Thammakorn SAETHANG",
      "userId": "08182570455347153646"
     },
     "user_tz": -420
    },
    "id": "479660d7-fb60-4f19-83ca-f0aab3b1b875",
    "outputId": "d65ce9e3-13b6-4134-9844-83b38e8a43ff"
   },
   "outputs": [
    {
     "data": {
      "text/plain": [
       "0.9099999999999999"
      ]
     },
     "execution_count": 5,
     "metadata": {},
     "output_type": "execute_result"
    }
   ],
   "source": [
    "p(n=2, x=0) + p(n=2, x=1)"
   ]
  },
  {
   "cell_type": "markdown",
   "id": "03621d10-4399-4094-b033-762c83b17704",
   "metadata": {
    "id": "03621d10-4399-4094-b033-762c83b17704"
   },
   "source": [
    "หรือใช้ list comprehension:"
   ]
  },
  {
   "cell_type": "code",
   "execution_count": 3,
   "id": "bcdfe4c2-9987-4cee-b632-dc47f0dabe91",
   "metadata": {
    "colab": {
     "base_uri": "https://localhost:8080/"
    },
    "executionInfo": {
     "elapsed": 421,
     "status": "ok",
     "timestamp": 1671990671275,
     "user": {
      "displayName": "Thammakorn SAETHANG",
      "userId": "08182570455347153646"
     },
     "user_tz": -420
    },
    "id": "bcdfe4c2-9987-4cee-b632-dc47f0dabe91",
    "outputId": "b178a0ca-05de-472c-c2e7-bedf597e4740"
   },
   "outputs": [
    {
     "name": "stdout",
     "output_type": "stream",
     "text": [
      "[0.48999999999999994, 0.42]\n"
     ]
    },
    {
     "data": {
      "text/plain": [
       "0.9099999999999999"
      ]
     },
     "execution_count": 3,
     "metadata": {},
     "output_type": "execute_result"
    }
   ],
   "source": [
    "PX = [p(n=2, x=x) for x in range(2)]\n",
    "print(PX)\n",
    "sum(PX)"
   ]
  },
  {
   "cell_type": "markdown",
   "id": "SVFQqVbjoT6P",
   "metadata": {
    "id": "SVFQqVbjoT6P"
   },
   "source": [
    "###   "
   ]
  },
  {
   "cell_type": "markdown",
   "id": "53cdd06e-7643-4cd2-aab5-263d50d3e394",
   "metadata": {
    "id": "53cdd06e-7643-4cd2-aab5-263d50d3e394",
    "tags": []
   },
   "source": [
    "####  \n",
    "#### 6.4 สุ่มเลือกเด็กทารกมา 3 คน จากทารกเพศชาย 2 คน หญิง 5 คน ถ้า X แทนจำนวนทารกชายที่ถูกเลือก จงหา  \n",
    "1. ฟังก์ชันความน่าจะเป็นของ X  \n",
    "2. ค่าคาดหวังของ X  \n",
    "3. ความแปรปรวนของ X  "
   ]
  },
  {
   "cell_type": "markdown",
   "id": "5f66fd80-ff1b-4a1c-accc-ce300e077557",
   "metadata": {
    "id": "5f66fd80-ff1b-4a1c-accc-ce300e077557"
   },
   "source": [
    "####  \n",
    "1. ฟังก์ชันความน่าจะเป็นของ X:"
   ]
  },
  {
   "cell_type": "code",
   "execution_count": 4,
   "id": "dc1109ef-023f-4780-8f1c-7b6d42d4ef05",
   "metadata": {
    "id": "dc1109ef-023f-4780-8f1c-7b6d42d4ef05"
   },
   "outputs": [],
   "source": [
    "def p(x):\n",
    "    return comb(2,x)*comb(5,3-x)/comb(7,3)"
   ]
  },
  {
   "cell_type": "markdown",
   "id": "7c38c980-236a-48b3-b935-1399f1dc332b",
   "metadata": {
    "id": "7c38c980-236a-48b3-b935-1399f1dc332b"
   },
   "source": [
    "####  \n",
    "2. ค่าคาดหวังของ X:  "
   ]
  },
  {
   "cell_type": "code",
   "execution_count": 5,
   "id": "131c12e8-61a8-4765-af12-f1fcc5044c3f",
   "metadata": {
    "id": "131c12e8-61a8-4765-af12-f1fcc5044c3f"
   },
   "outputs": [],
   "source": [
    "def E(x):\n",
    "    return x*p(x)"
   ]
  },
  {
   "cell_type": "code",
   "execution_count": 31,
   "id": "49cee4d7-e917-4fa5-bd47-04939b984d3f",
   "metadata": {
    "colab": {
     "base_uri": "https://localhost:8080/"
    },
    "executionInfo": {
     "elapsed": 496,
     "status": "ok",
     "timestamp": 1671991094500,
     "user": {
      "displayName": "Thammakorn SAETHANG",
      "userId": "08182570455347153646"
     },
     "user_tz": -420
    },
    "id": "49cee4d7-e917-4fa5-bd47-04939b984d3f",
    "outputId": "b2c816bf-a6d7-420a-fd2d-12de993ba8ce"
   },
   "outputs": [
    {
     "name": "stdout",
     "output_type": "stream",
     "text": [
      "[0.0, 0.5714285714285714, 0.2857142857142857]\n"
     ]
    },
    {
     "data": {
      "text/plain": [
       "0.8571428571428571"
      ]
     },
     "execution_count": 31,
     "metadata": {},
     "output_type": "execute_result"
    }
   ],
   "source": [
    "EX = [E(x) for x in range(3)] \n",
    "print(EX)\n",
    "sum(EX)"
   ]
  },
  {
   "cell_type": "markdown",
   "id": "f86b5de4-cc2a-4f63-8142-b719051f9b9d",
   "metadata": {
    "id": "f86b5de4-cc2a-4f63-8142-b719051f9b9d"
   },
   "source": [
    "####  \n",
    "3. ความแปรปรวนของ X  "
   ]
  },
  {
   "cell_type": "code",
   "execution_count": null,
   "id": "7b5853c6-36d6-4659-a862-52c2f12c50ff",
   "metadata": {
    "id": "7b5853c6-36d6-4659-a862-52c2f12c50ff"
   },
   "outputs": [],
   "source": [
    "def E2(x):\n",
    "    return x**2*p(x)"
   ]
  },
  {
   "cell_type": "code",
   "execution_count": null,
   "id": "4953095b-6d42-43bd-9749-64a9bd65f54e",
   "metadata": {
    "id": "4953095b-6d42-43bd-9749-64a9bd65f54e",
    "outputId": "13619d9b-1679-4f4d-e98f-bc22e7c35123"
   },
   "outputs": [
    {
     "data": {
      "text/plain": [
       "0.40816326530612246"
      ]
     },
     "execution_count": 43,
     "metadata": {},
     "output_type": "execute_result"
    }
   ],
   "source": [
    "sum([E2(x) for x in range(3)])-sum(EX)**2"
   ]
  },
  {
   "cell_type": "markdown",
   "id": "HD67ax2YoXoo",
   "metadata": {
    "id": "HD67ax2YoXoo"
   },
   "source": [
    "###   "
   ]
  },
  {
   "cell_type": "markdown",
   "id": "0defb266-40f6-4f3f-bc83-9bf96e634e35",
   "metadata": {
    "id": "0defb266-40f6-4f3f-bc83-9bf96e634e35",
    "tags": []
   },
   "source": [
    "####  \n",
    "#### 6.5 มหาวิทยาลัยแห่งหนึ่งมี server สำหรับการ login ทั้งหมด 3 node เมื่อทำการวิเคราะห์ข้อมูลที่ได้จาก log พบว่า วันจันทร์ในช่วงเวลา 8:00 - 9:30 น. จะมีจำนวน login node ที่ยังสามารถทำการเชื่อมต่อกับ server หลักได้ คือ 0, 1, 2, 3 ด้วยความน่าจะเป็น 0.99, 0.05, 0.03 และ 0.01 ตามลำดับ จงหาจำนวน login node ที่ยังสามารถทำการเชื่อมต่อกับ server หลักได้โดยเฉลี่ย และความแปรปรวนของจำนวน login node ที่ยังสามารถทำการเชื่อมต่อกับ server หลักได้ในช่วงเวลาดังกล่าว"
   ]
  },
  {
   "cell_type": "markdown",
   "id": "3e130e87-5687-41ef-8ad9-836b2fbbf0fb",
   "metadata": {
    "id": "3e130e87-5687-41ef-8ad9-836b2fbbf0fb"
   },
   "source": [
    "\\\n",
    "จำนวน login node ที่ยังสามารถทำการเชื่อมต่อกับ server หลักได้โดยเฉลี่ย = ค่าความคาดหวัง E(X)"
   ]
  },
  {
   "cell_type": "code",
   "execution_count": null,
   "id": "a226fd65-6cd4-4d79-8170-945d89a8e129",
   "metadata": {
    "id": "a226fd65-6cd4-4d79-8170-945d89a8e129",
    "outputId": "7f5aafcd-d133-4a38-c403-86fb266a6a2e"
   },
   "outputs": [
    {
     "data": {
      "text/plain": [
       "0.14"
      ]
     },
     "execution_count": 5,
     "metadata": {},
     "output_type": "execute_result"
    }
   ],
   "source": [
    "X = np.array(range(4))\n",
    "PX = np.array([0.99, 0.05, 0.03, 0.01])\n",
    "EX = sum(X*PX)\n",
    "EX"
   ]
  },
  {
   "cell_type": "markdown",
   "id": "89d8a04d-661e-4aaa-997f-8643c118f487",
   "metadata": {
    "id": "89d8a04d-661e-4aaa-997f-8643c118f487"
   },
   "source": [
    "\\\n",
    "ความแปรปรวนของจำนวน login node ที่ยังสามารถทำการเชื่อมต่อกับ server หลักได้"
   ]
  },
  {
   "cell_type": "code",
   "execution_count": null,
   "id": "b03a42d6-4108-47ff-be7c-a90502e1c3d4",
   "metadata": {
    "id": "b03a42d6-4108-47ff-be7c-a90502e1c3d4",
    "outputId": "1319b2f6-0e1d-44ac-d266-a88604854742"
   },
   "outputs": [
    {
     "name": "stdout",
     "output_type": "stream",
     "text": [
      "0.26\n"
     ]
    },
    {
     "data": {
      "text/plain": [
       "0.2404"
      ]
     },
     "execution_count": 7,
     "metadata": {},
     "output_type": "execute_result"
    }
   ],
   "source": [
    "EX2 = sum(X**2*PX)\n",
    "print(EX2)\n",
    "VX = EX2 - EX**2\n",
    "VX"
   ]
  },
  {
   "cell_type": "markdown",
   "id": "bGGHe0S21ePP",
   "metadata": {
    "id": "bGGHe0S21ePP"
   },
   "source": [
    "###  "
   ]
  },
  {
   "cell_type": "markdown",
   "id": "0893b132-970b-425d-8393-451bef9f63ce",
   "metadata": {
    "id": "0893b132-970b-425d-8393-451bef9f63ce"
   },
   "source": [
    "#### 6.7 สามีภรรยาวางแผนจะมีบุตร 4 คน ถ้าในการมีบุตรแต่ละครั้งจะได้บุตรชายหรือหญิงด้วยความเป็นไปได้เท่าเทียมกัน จงหาความน่าจะเป็นที่จะได้  \n",
    "-บุตรชาย 1 คน  \n",
    "-บุตรชาย 1 คนขึ้นไป  "
   ]
  },
  {
   "cell_type": "markdown",
   "id": "befaf41c-79bd-4601-b605-35073fe82cbb",
   "metadata": {
    "id": "befaf41c-79bd-4601-b605-35073fe82cbb"
   },
   "source": [
    "\\\n",
    "บุตรชาย 1 คน:"
   ]
  },
  {
   "cell_type": "code",
   "execution_count": null,
   "id": "af46a17b-d703-4ac3-86db-b14b34766c36",
   "metadata": {
    "id": "af46a17b-d703-4ac3-86db-b14b34766c36",
    "outputId": "84c61204-74a9-4381-a940-6c7899863d1b"
   },
   "outputs": [
    {
     "data": {
      "text/plain": [
       "0.25"
      ]
     },
     "execution_count": 6,
     "metadata": {},
     "output_type": "execute_result"
    }
   ],
   "source": [
    "stats.binom.pmf(p=0.5,\n",
    "                n=4,\n",
    "                k=1)"
   ]
  },
  {
   "cell_type": "markdown",
   "id": "90b82a72-76dd-4616-aa9e-5ca34ac29771",
   "metadata": {
    "id": "90b82a72-76dd-4616-aa9e-5ca34ac29771"
   },
   "source": [
    "\\\n",
    "บุตรชาย 1 คนขึ้นไป:"
   ]
  },
  {
   "cell_type": "code",
   "execution_count": null,
   "id": "fcfb4827-b38f-4ef1-b9e9-100109c0e09b",
   "metadata": {
    "id": "fcfb4827-b38f-4ef1-b9e9-100109c0e09b",
    "outputId": "3697cd68-ce98-4230-9914-f530a4c3bb46"
   },
   "outputs": [
    {
     "data": {
      "text/plain": [
       "0.9375"
      ]
     },
     "execution_count": 7,
     "metadata": {},
     "output_type": "execute_result"
    }
   ],
   "source": [
    "sum([stats.binom.pmf(p=0.5, n=4,k=i) for i in range(1, 5)])"
   ]
  },
  {
   "cell_type": "markdown",
   "id": "JLXWFgCA1rb2",
   "metadata": {
    "id": "JLXWFgCA1rb2"
   },
   "source": [
    "###  "
   ]
  },
  {
   "cell_type": "markdown",
   "id": "fda87a1a-a330-4485-a59c-1c69b3f3bc94",
   "metadata": {
    "id": "fda87a1a-a330-4485-a59c-1c69b3f3bc94"
   },
   "source": [
    "####  \n",
    "#### 6.8 ในการส่งผลไม้ไปขายยังตลาดต่างประเทศ ผู้ส่งออกใช้การขนส่งทางอากาศเพื่อความรวดเร็วและทำให้ผลไม้ไม่เสียหายหรือสุกงอมก่อนเวลา จากประสบการณ์ในอดีตพบว่าการส่งออกมะม่วงสุกมีโอกาสที่มะม่วงจะเน่าเสีย 5% จากการสุ่มตัวอย่างมะม่วงที่ส่งไปขายที่ประเทศญี่ปุ่นจำนวน 8 กล่อง จงหาความน่าจะเป็นที่ มีมะม่วงเน่าเสียตั้งแต่ 1 ถึง 3 กล่อง"
   ]
  },
  {
   "cell_type": "code",
   "execution_count": null,
   "id": "daf8ff2f-f8c1-406f-bcaf-d6a0af9432cd",
   "metadata": {
    "id": "daf8ff2f-f8c1-406f-bcaf-d6a0af9432cd",
    "outputId": "d8662592-7f07-4df0-b8fa-4532d3d9a2bd"
   },
   "outputs": [
    {
     "data": {
      "text/plain": [
       "0.33620781734375005"
      ]
     },
     "execution_count": 11,
     "metadata": {},
     "output_type": "execute_result"
    }
   ],
   "source": [
    "sum([stats.binom.pmf(p=0.05, n=8,k=i) for i in range(1, 4)])"
   ]
  },
  {
   "cell_type": "markdown",
   "id": "sJbMUvlH4BLg",
   "metadata": {
    "id": "sJbMUvlH4BLg"
   },
   "source": [
    "###  "
   ]
  },
  {
   "cell_type": "markdown",
   "id": "vhjqL2nq4BLg",
   "metadata": {
    "id": "vhjqL2nq4BLg"
   },
   "source": [
    "####  \n",
    "#### 6.9 เมื่อทำการเก็บข้อมูลจากไฟล์ log ของ Server เครื่องหนึ่งพบว่าจะทำงานขัดข้องโดยเฉลี่ยเดือนละ 3 ครั้ง ในทุกๆเดือน จงหา  \n",
    "- ความน่าจะเป็นที่ server จะทำงานขัดข้อง 2 ครั้ง  \n",
    "- ความน่าจะเป็นที่ server จะทำงานขัดข้องไม่เกิน 2 ครั้ง\n"
   ]
  },
  {
   "cell_type": "markdown",
   "id": "_tft3bKZ4bIM",
   "metadata": {
    "id": "_tft3bKZ4bIM"
   },
   "source": [
    "ความน่าจะเป็นที่ server จะทำงานขัดข้อง 2 ครั้ง:  "
   ]
  },
  {
   "cell_type": "code",
   "execution_count": null,
   "id": "0bd05a27-0eda-49bf-9067-d28c336441eb",
   "metadata": {
    "colab": {
     "base_uri": "https://localhost:8080/"
    },
    "executionInfo": {
     "elapsed": 353,
     "status": "ok",
     "timestamp": 1671948981445,
     "user": {
      "displayName": "Thammakorn SAETHANG",
      "userId": "08182570455347153646"
     },
     "user_tz": -420
    },
    "id": "0bd05a27-0eda-49bf-9067-d28c336441eb",
    "outputId": "2c86bdaf-9b25-4526-d89f-5ae4ad32e16b"
   },
   "outputs": [
    {
     "data": {
      "text/plain": [
       "0.22404180765538775"
      ]
     },
     "execution_count": 4,
     "metadata": {},
     "output_type": "execute_result"
    }
   ],
   "source": [
    "stats.poisson.pmf(k=2, mu=3) #k คือ x ในสูตร, mu คือ λ ในสูตร"
   ]
  },
  {
   "cell_type": "markdown",
   "id": "7Xvo9X4P7SgO",
   "metadata": {
    "id": "7Xvo9X4P7SgO"
   },
   "source": [
    "\\\n",
    "ความน่าจะเป็นที่ server จะทำงานขัดข้องไม่เกิน 2 ครั้ง:"
   ]
  },
  {
   "cell_type": "code",
   "execution_count": null,
   "id": "274e8605-cc01-4fed-ad68-58457273ab3f",
   "metadata": {
    "colab": {
     "base_uri": "https://localhost:8080/"
    },
    "executionInfo": {
     "elapsed": 3,
     "status": "ok",
     "timestamp": 1671949087718,
     "user": {
      "displayName": "Thammakorn SAETHANG",
      "userId": "08182570455347153646"
     },
     "user_tz": -420
    },
    "id": "274e8605-cc01-4fed-ad68-58457273ab3f",
    "outputId": "81d45718-c271-4f41-f166-d6d204e48bd8"
   },
   "outputs": [
    {
     "data": {
      "text/plain": [
       "0.42319008112684353"
      ]
     },
     "execution_count": 6,
     "metadata": {},
     "output_type": "execute_result"
    }
   ],
   "source": [
    "sum([stats.poisson.pmf(k=i, mu=3) for i in range(3)])"
   ]
  },
  {
   "cell_type": "markdown",
   "id": "i-XlTMNp8GXq",
   "metadata": {
    "id": "i-XlTMNp8GXq"
   },
   "source": [
    "###  "
   ]
  },
  {
   "cell_type": "markdown",
   "id": "wOsSKY5h8GXy",
   "metadata": {
    "id": "wOsSKY5h8GXy"
   },
   "source": [
    "####  \n",
    "#### 6.10 พนักงานรับโทรศัพท์ ณ สำนักงานแห่งหนึ่งจะรับโทรศัพท์โดยเฉลี่ยวันละ 14 ครั้ง  \n",
    "- จงหาความน่าจะเป็นที่พนักงานรับโทรศัพท์ไม่น้อยกว่า 10 ครั้งในวันพรุ่งนี้  \n",
    "- ถ้าในเดือนหน้า บริษัทดังกล่าวทำงาน 20 วันคาดว่าจะมีกี่วันที่พนักงานรับโทรศัพท์ไม่น้อยกว่า 10 ครั้ง  \n",
    "\n",
    "\n"
   ]
  },
  {
   "cell_type": "markdown",
   "id": "HMqqec468_YV",
   "metadata": {
    "id": "HMqqec468_YV"
   },
   "source": [
    "จงหาความน่าจะเป็นที่พนักงานรับโทรศัพท์ไม่น้อยกว่า 10 ครั้งในวันพรุ่งนี้:"
   ]
  },
  {
   "cell_type": "code",
   "execution_count": null,
   "id": "eJjVvrq08Vf7",
   "metadata": {
    "colab": {
     "base_uri": "https://localhost:8080/"
    },
    "executionInfo": {
     "elapsed": 3,
     "status": "ok",
     "timestamp": 1671949536574,
     "user": {
      "displayName": "Thammakorn SAETHANG",
      "userId": "08182570455347153646"
     },
     "user_tz": -420
    },
    "id": "eJjVvrq08Vf7",
    "outputId": "4626cb7d-98e6-4d85-8a7d-941b0e963136"
   },
   "outputs": [
    {
     "data": {
      "text/plain": [
       "0.8906006303572611"
      ]
     },
     "execution_count": 8,
     "metadata": {},
     "output_type": "execute_result"
    }
   ],
   "source": [
    "1 - sum([stats.poisson.pmf(k=i, mu=14) for i in range(10)])"
   ]
  },
  {
   "cell_type": "markdown",
   "id": "RTkw7sZ49esk",
   "metadata": {
    "id": "RTkw7sZ49esk"
   },
   "source": [
    "\\\n",
    "ถ้าในเดือนหน้า บริษัทดังกล่าวทำงาน 20 วันคาดว่าจะมีกี่วันที่พนักงานรับโทรศัพท์ไม่น้อยกว่า 10 ครั้ง"
   ]
  },
  {
   "cell_type": "code",
   "execution_count": null,
   "id": "k30G33WM9Rwa",
   "metadata": {
    "colab": {
     "base_uri": "https://localhost:8080/"
    },
    "executionInfo": {
     "elapsed": 7,
     "status": "ok",
     "timestamp": 1671949768609,
     "user": {
      "displayName": "Thammakorn SAETHANG",
      "userId": "08182570455347153646"
     },
     "user_tz": -420
    },
    "id": "k30G33WM9Rwa",
    "outputId": "46700a58-18fc-413f-8bbc-cebc6f2cad81"
   },
   "outputs": [
    {
     "data": {
      "text/plain": [
       "17.81201260714522"
      ]
     },
     "execution_count": 9,
     "metadata": {},
     "output_type": "execute_result"
    }
   ],
   "source": [
    "p_10plus = 1 - sum([stats.poisson.pmf(k=i, mu=14) for i in range(10)])\n",
    "p_10plus * 20"
   ]
  },
  {
   "cell_type": "code",
   "execution_count": null,
   "id": "NPX5jh9Q-NSz",
   "metadata": {
    "id": "NPX5jh9Q-NSz"
   },
   "outputs": [],
   "source": []
  },
  {
   "cell_type": "code",
   "execution_count": null,
   "id": "2OrjTpGPt50J",
   "metadata": {
    "colab": {
     "base_uri": "https://localhost:8080/"
    },
    "executionInfo": {
     "elapsed": 325,
     "status": "ok",
     "timestamp": 1671962299101,
     "user": {
      "displayName": "Thammakorn SAETHANG",
      "userId": "08182570455347153646"
     },
     "user_tz": -420
    },
    "id": "2OrjTpGPt50J",
    "outputId": "a441db7e-6eec-40a7-f62f-559edcf32830"
   },
   "outputs": [
    {
     "data": {
      "text/plain": [
       "10"
      ]
     },
     "execution_count": 3,
     "metadata": {},
     "output_type": "execute_result"
    }
   ],
   "source": [
    "comb(5,2)"
   ]
  },
  {
   "cell_type": "code",
   "execution_count": null,
   "id": "2cCa--cat7dT",
   "metadata": {
    "id": "2cCa--cat7dT"
   },
   "outputs": [],
   "source": []
  }
 ],
 "metadata": {
  "colab": {
   "provenance": []
  },
  "kernelspec": {
   "display_name": "Python 3 (ipykernel)",
   "language": "python",
   "name": "python3"
  },
  "language_info": {
   "codemirror_mode": {
    "name": "ipython",
    "version": 3
   },
   "file_extension": ".py",
   "mimetype": "text/x-python",
   "name": "python",
   "nbconvert_exporter": "python",
   "pygments_lexer": "ipython3",
   "version": "3.9.13"
  }
 },
 "nbformat": 4,
 "nbformat_minor": 5
}
