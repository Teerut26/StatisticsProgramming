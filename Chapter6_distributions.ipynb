{
 "cells": [
  {
   "cell_type": "markdown",
   "id": "49ee965c-e8cf-4d24-9cf3-2493e2b09371",
   "metadata": {
    "id": "49ee965c-e8cf-4d24-9cf3-2493e2b09371"
   },
   "source": [
    "## การแจกแจงความน่าจะเป็นแบบไม่ต่อเนื่อง (Discrete Probability Distribution)  "
   ]
  },
  {
   "cell_type": "markdown",
   "id": "a2e4fa03-1997-41cc-8a8e-fb00d0d18ce6",
   "metadata": {
    "id": "a2e4fa03-1997-41cc-8a8e-fb00d0d18ce6"
   },
   "source": [
    "---"
   ]
  },
  {
   "cell_type": "markdown",
   "id": "4c7dcb89-852d-4d9a-9c41-32a36b10e74b",
   "metadata": {
    "id": "4c7dcb89-852d-4d9a-9c41-32a36b10e74b"
   },
   "source": [
    "### การแจกแจงแบบสม่ำเสมอ (Uniform Distribution)"
   ]
  },
  {
   "cell_type": "code",
   "execution_count": 1,
   "id": "2ede9213-7547-4842-a237-03892403a4d5",
   "metadata": {
    "id": "2ede9213-7547-4842-a237-03892403a4d5"
   },
   "outputs": [],
   "source": [
    "import numpy as np\n",
    "import pandas as pd\n",
    "import statistics\n",
    "import scipy\n",
    "import seaborn as sns\n",
    "from scipy import stats\n",
    "from math import perm, comb"
   ]
  },
  {
   "cell_type": "markdown",
   "id": "3894ea0c-aa77-484a-ad84-4b43d840f29c",
   "metadata": {
    "id": "3894ea0c-aa77-484a-ad84-4b43d840f29c"
   },
   "source": [
    "\\\n",
    "จำลองการสุ่มที่มีการแจกแจงแบบสม่ำเสมอของตัวแปรสุ่มแบบไม่ต่อเนื่อง:"
   ]
  },
  {
   "cell_type": "code",
   "execution_count": 2,
   "id": "9f026942-7f91-4cf4-a8f3-26d88a91fca2",
   "metadata": {
    "id": "9f026942-7f91-4cf4-a8f3-26d88a91fca2"
   },
   "outputs": [],
   "source": [
    "x_uni = np.random.randint(low=1, #จากค่า\n",
    "                         high=11,#ถึงค่า\n",
    "                         size=1000) #ขนาดของตัวอย่างสุ่ม"
   ]
  },
  {
   "cell_type": "code",
   "execution_count": 3,
   "id": "2c31f9db-fbac-459f-9ea2-e8e46922bb80",
   "metadata": {
    "id": "2c31f9db-fbac-459f-9ea2-e8e46922bb80"
   },
   "outputs": [],
   "source": [
    "#rand"
   ]
  },
  {
   "cell_type": "markdown",
   "id": "d5431e2b-a1fb-453d-ac98-39837b89a905",
   "metadata": {
    "id": "d5431e2b-a1fb-453d-ac98-39837b89a905"
   },
   "source": [
    "\\\n",
    "แสดงการแจกแจงความถี่ โดยใช้ numpy.unique():"
   ]
  },
  {
   "cell_type": "code",
   "execution_count": 6,
   "id": "e31b81e9-f7a3-4300-adba-40a6598a5112",
   "metadata": {
    "colab": {
     "base_uri": "https://localhost:8080/"
    },
    "executionInfo": {
     "elapsed": 410,
     "status": "ok",
     "timestamp": 1671991354591,
     "user": {
      "displayName": "Thammakorn SAETHANG",
      "userId": "08182570455347153646"
     },
     "user_tz": -420
    },
    "id": "e31b81e9-f7a3-4300-adba-40a6598a5112",
    "outputId": "8e1a78bc-65bc-46d2-c052-2fc964f390cf"
   },
   "outputs": [
    {
     "data": {
      "text/plain": [
       "(array([ 1,  2,  3,  4,  5,  6,  7,  8,  9, 10]),\n",
       " array([116, 106,  90, 107, 102,  86,  97,  84, 116,  96]))"
      ]
     },
     "execution_count": 6,
     "metadata": {},
     "output_type": "execute_result"
    }
   ],
   "source": [
    "np.unique(x_uni,\n",
    "          return_counts=True)"
   ]
  },
  {
   "cell_type": "markdown",
   "id": "b481f973-7a71-4b39-9adc-354288dbc6dc",
   "metadata": {
    "id": "b481f973-7a71-4b39-9adc-354288dbc6dc"
   },
   "source": [
    "\\\n",
    "แสดงการแจกแจงความถี่ โดยใช้ pandas.value_counts():"
   ]
  },
  {
   "cell_type": "code",
   "execution_count": 7,
   "id": "c35df9f8-3d51-4554-8e07-f938d1e97653",
   "metadata": {
    "colab": {
     "base_uri": "https://localhost:8080/"
    },
    "executionInfo": {
     "elapsed": 358,
     "status": "ok",
     "timestamp": 1671991401309,
     "user": {
      "displayName": "Thammakorn SAETHANG",
      "userId": "08182570455347153646"
     },
     "user_tz": -420
    },
    "id": "c35df9f8-3d51-4554-8e07-f938d1e97653",
    "outputId": "88dbfe90-72af-4c64-a82f-fb9ae9dc3a48"
   },
   "outputs": [
    {
     "data": {
      "text/plain": [
       "9     116\n",
       "1     116\n",
       "4     107\n",
       "2     106\n",
       "5     102\n",
       "7      97\n",
       "10     96\n",
       "3      90\n",
       "6      86\n",
       "8      84\n",
       "dtype: int64"
      ]
     },
     "execution_count": 7,
     "metadata": {},
     "output_type": "execute_result"
    }
   ],
   "source": [
    "pd.value_counts(x_uni)"
   ]
  },
  {
   "cell_type": "markdown",
   "id": "e678438d-8a7b-4626-9843-4f78438852fb",
   "metadata": {
    "id": "e678438d-8a7b-4626-9843-4f78438852fb"
   },
   "source": [
    "ตารางที่ได้ไม่ได้มีการเรียงลำดับตามค่าของตัวแปรสุ่ม แต่เป็นการเรียงลำดับตามความถี่ที่ได้  \n",
    "การเรียงลำดับตามค่าของตัวแปรสุ่มสามารถทำได้โดยใช้ .sort_index()"
   ]
  },
  {
   "cell_type": "code",
   "execution_count": null,
   "id": "57286b3c-60ae-4cba-83c6-014be26aaf6c",
   "metadata": {
    "colab": {
     "base_uri": "https://localhost:8080/"
    },
    "executionInfo": {
     "elapsed": 481,
     "status": "ok",
     "timestamp": 1671991414708,
     "user": {
      "displayName": "Thammakorn SAETHANG",
      "userId": "08182570455347153646"
     },
     "user_tz": -420
    },
    "id": "57286b3c-60ae-4cba-83c6-014be26aaf6c",
    "outputId": "ed0a8a98-746d-4ea9-fbba-3f70763d05eb"
   },
   "outputs": [
    {
     "data": {
      "text/plain": [
       "1      94\n",
       "2      97\n",
       "3      99\n",
       "4     103\n",
       "5     112\n",
       "6     100\n",
       "7     113\n",
       "8      93\n",
       "9      78\n",
       "10    111\n",
       "dtype: int64"
      ]
     },
     "execution_count": 6,
     "metadata": {},
     "output_type": "execute_result"
    }
   ],
   "source": [
    "pd.value_counts(x_uni).sort_index()"
   ]
  },
  {
   "cell_type": "markdown",
   "id": "e7217c2c-84c1-4f2d-b017-372c1d46d288",
   "metadata": {
    "id": "e7217c2c-84c1-4f2d-b017-372c1d46d288"
   },
   "source": [
    "\\\n",
    "แสดงแผนภูมิแท่งแจกแจงความถี่:"
   ]
  },
  {
   "cell_type": "code",
   "execution_count": null,
   "id": "4c4ce153-f11a-4aac-b61f-471a2c990178",
   "metadata": {
    "colab": {
     "base_uri": "https://localhost:8080/",
     "height": 283
    },
    "executionInfo": {
     "elapsed": 628,
     "status": "ok",
     "timestamp": 1671991441575,
     "user": {
      "displayName": "Thammakorn SAETHANG",
      "userId": "08182570455347153646"
     },
     "user_tz": -420
    },
    "id": "4c4ce153-f11a-4aac-b61f-471a2c990178",
    "outputId": "9de9e959-ec21-4b5c-8559-abe43aadcb4b"
   },
   "outputs": [
    {
     "data": {
      "text/plain": [
       "<matplotlib.axes._subplots.AxesSubplot at 0x7fbe91f27130>"
      ]
     },
     "execution_count": 7,
     "metadata": {},
     "output_type": "execute_result"
    },
    {
     "data": {
      "image/png": "[encoded data removed]",
      "text/plain": [
       "<Figure size 432x288 with 1 Axes>"
      ]
     },
     "metadata": {
      "needs_background": "light"
     },
     "output_type": "display_data"
    }
   ],
   "source": [
    "sns.histplot(x_uni,\n",
    "             discrete=True,\n",
    "             edgecolor='white',\n",
    "             color='skyblue')"
   ]
  },
  {
   "cell_type": "code",
   "execution_count": null,
   "id": "d6fd6cb5-8840-4b88-b962-b16a02019b37",
   "metadata": {
    "colab": {
     "base_uri": "https://localhost:8080/",
     "height": 283
    },
    "executionInfo": {
     "elapsed": 371,
     "status": "ok",
     "timestamp": 1671991445455,
     "user": {
      "displayName": "Thammakorn SAETHANG",
      "userId": "08182570455347153646"
     },
     "user_tz": -420
    },
    "id": "d6fd6cb5-8840-4b88-b962-b16a02019b37",
    "outputId": "9c466667-d908-4f67-8f51-d46db3b2276f"
   },
   "outputs": [
    {
     "data": {
      "text/plain": [
       "<matplotlib.axes._subplots.AxesSubplot at 0x7fbe91f58d60>"
      ]
     },
     "execution_count": 8,
     "metadata": {},
     "output_type": "execute_result"
    },
    {
     "data": {
      "image/png": "[encoded data removed]",
      "text/plain": [
       "<Figure size 432x288 with 1 Axes>"
      ]
     },
     "metadata": {
      "needs_background": "light"
     },
     "output_type": "display_data"
    }
   ],
   "source": [
    "sns.countplot(x=x_uni)"
   ]
  },
  {
   "cell_type": "markdown",
   "id": "8b25b00b-b753-4561-9d6a-624878039a12",
   "metadata": {
    "id": "8b25b00b-b753-4561-9d6a-624878039a12"
   },
   "source": [
    "---"
   ]
  },
  {
   "cell_type": "markdown",
   "id": "d94a20a5-f2bd-42e8-81cb-7058fe44f84d",
   "metadata": {
    "id": "d94a20a5-f2bd-42e8-81cb-7058fe44f84d"
   },
   "source": [
    "###  \n",
    "### การแจกแจงแบบแบนูลี่ (Bernoulli Distribution)"
   ]
  },
  {
   "cell_type": "markdown",
   "id": "47bcdc62-c62c-4c4f-a9da-889b39151163",
   "metadata": {
    "id": "47bcdc62-c62c-4c4f-a9da-889b39151163"
   },
   "source": [
    "ทำการจำลองค่าของตัวแปรสุ่มที่มีการแจกแจงแบบแบนูลี่ ในที่นี้ค่า p คือค่าความน่าจะเป็นของการเกิดผลลัพธ์ที่สนใจคือ success  \n",
    "ดังนั้นค่าความน่าจะเป็นของ failure คือ q=1-p"
   ]
  },
  {
   "cell_type": "code",
   "execution_count": null,
   "id": "8a7c4a91-053c-4273-a020-22cac4a2e779",
   "metadata": {
    "colab": {
     "base_uri": "https://localhost:8080/"
    },
    "executionInfo": {
     "elapsed": 3,
     "status": "ok",
     "timestamp": 1671991905880,
     "user": {
      "displayName": "Thammakorn SAETHANG",
      "userId": "08182570455347153646"
     },
     "user_tz": -420
    },
    "id": "8a7c4a91-053c-4273-a020-22cac4a2e779",
    "outputId": "c984c277-23a5-4e3f-8faf-86a85be0a4f8"
   },
   "outputs": [
    {
     "data": {
      "text/plain": [
       "array([0, 0, 0, 0, 0, 0, 0, 0, 0, 0, 0, 0, 1, 0, 0, 0, 0, 0, 1, 0, 0, 0,\n",
       "       1, 0, 0, 0, 0, 0, 0, 1, 0, 1, 0, 0, 0, 1, 0, 0, 0, 0, 0, 0, 0, 0,\n",
       "       0, 0, 1, 0, 0, 0, 0, 1, 0, 0, 0, 0, 0, 0, 0, 0, 0, 0, 0, 1, 0, 0,\n",
       "       0, 1, 1, 0, 0, 0, 0, 0, 1, 0, 0, 0, 0, 1, 0, 0, 0, 0, 0, 0, 0, 0,\n",
       "       0, 0, 0, 0, 0, 0, 0, 1, 1, 0, 0, 0, 0, 0, 1, 0, 0, 0, 0, 0, 0, 0,\n",
       "       0, 0, 0, 0, 1, 0, 0, 1, 1, 0, 0, 0, 0, 0, 0, 0, 0, 0, 0, 1, 0, 1,\n",
       "       1, 0, 0, 0, 0, 0, 0, 1, 0, 1, 0, 0, 0, 0, 0, 0, 0, 0, 1, 0, 1, 0,\n",
       "       0, 0, 1, 1, 0, 0, 0, 0, 0, 0, 1, 0, 0, 0, 0, 0, 0, 0, 0, 0, 0, 0,\n",
       "       0, 1, 0, 0, 0, 0, 0, 0, 1, 1, 0, 0, 0, 0, 0, 0, 0, 0, 0, 0, 0, 0,\n",
       "       0, 0, 0, 0, 1, 0, 0, 0, 1, 1, 1, 0, 0, 1, 0, 0, 0, 0, 0, 0, 0, 0,\n",
       "       0, 0, 1, 1, 0, 0, 0, 0, 0, 0, 0, 0, 0, 1, 0, 0, 0, 0, 0, 0, 1, 0,\n",
       "       0, 0, 0, 0, 0, 1, 0, 1, 0, 0, 0, 1, 0, 0, 0, 0, 1, 0, 1, 0, 0, 0,\n",
       "       0, 0, 0, 0, 1, 0, 0, 0, 0, 0, 0, 0, 0, 0, 1, 0, 0, 1, 0, 1, 0, 1,\n",
       "       0, 1, 0, 0, 1, 1, 0, 1, 0, 0, 0, 0, 0, 0, 1, 0, 1, 0, 0, 0, 0, 0,\n",
       "       1, 0, 0, 0, 0, 0, 0, 1, 0, 0, 1, 0, 0, 0, 0, 1, 0, 0, 0, 1, 0, 1,\n",
       "       0, 1, 0, 0, 1, 0, 0, 0, 0, 0, 0, 0, 0, 0, 0, 0, 0, 0, 0, 0, 0, 1,\n",
       "       1, 0, 1, 1, 0, 0, 0, 1, 0, 0, 0, 0, 0, 0, 0, 0, 0, 0, 0, 0, 0, 0,\n",
       "       0, 0, 0, 1, 1, 1, 0, 1, 0, 0, 0, 1, 0, 0, 0, 0, 0, 0, 0, 0, 1, 1,\n",
       "       0, 0, 0, 0, 1, 0, 0, 0, 0, 0, 1, 0, 0, 0, 0, 0, 1, 0, 0, 0, 0, 0,\n",
       "       0, 1, 0, 0, 0, 0, 1, 0, 1, 0, 0, 0, 0, 0, 0, 0, 0, 0, 0, 0, 0, 0,\n",
       "       0, 0, 0, 1, 0, 0, 0, 0, 1, 0, 0, 0, 1, 0, 0, 0, 0, 0, 0, 0, 0, 0,\n",
       "       1, 1, 0, 0, 0, 0, 1, 0, 0, 0, 0, 0, 0, 0, 0, 0, 0, 0, 0, 0, 0, 0,\n",
       "       0, 0, 0, 0, 0, 0, 1, 0, 0, 0, 0, 0, 0, 0, 0, 0, 0, 0, 0, 0, 0, 0,\n",
       "       0, 0, 0, 0, 0, 0, 0, 0, 0, 0, 0, 0, 0, 0, 1, 0, 0, 1, 0, 1, 0, 1,\n",
       "       0, 0, 0, 1, 1, 0, 0, 0, 0, 0, 0, 0, 1, 0, 0, 0, 0, 0, 0, 0, 0, 1,\n",
       "       0, 1, 0, 0, 0, 0, 0, 0, 0, 0, 0, 0, 0, 0, 0, 1, 0, 0, 0, 0, 0, 0,\n",
       "       0, 0, 0, 0, 0, 0, 0, 1, 0, 1, 1, 1, 0, 1, 1, 0, 1, 0, 0, 0, 0, 0,\n",
       "       0, 0, 0, 0, 0, 0, 0, 0, 1, 0, 1, 1, 0, 1, 0, 0, 1, 0, 1, 0, 0, 0,\n",
       "       0, 0, 0, 0, 1, 0, 0, 0, 1, 0, 0, 0, 0, 0, 0, 0, 0, 0, 0, 0, 0, 1,\n",
       "       0, 0, 0, 0, 0, 0, 0, 0, 0, 1, 0, 0, 0, 0, 0, 0, 0, 0, 1, 0, 0, 0,\n",
       "       0, 0, 0, 0, 0, 0, 0, 1, 0, 0, 0, 0, 0, 0, 1, 0, 0, 0, 1, 0, 0, 1,\n",
       "       0, 1, 1, 0, 0, 0, 0, 0, 0, 0, 1, 0, 0, 0, 0, 0, 1, 0, 1, 0, 0, 1,\n",
       "       0, 1, 0, 1, 0, 0, 1, 1, 0, 0, 0, 1, 0, 0, 0, 0, 0, 0, 1, 1, 0, 0,\n",
       "       0, 0, 0, 0, 1, 0, 0, 0, 0, 1, 0, 0, 0, 1, 0, 0, 0, 0, 0, 0, 0, 0,\n",
       "       0, 1, 0, 1, 1, 0, 1, 0, 0, 0, 0, 0, 0, 0, 1, 0, 1, 0, 0, 0, 1, 1,\n",
       "       0, 0, 0, 1, 0, 0, 0, 0, 0, 0, 0, 0, 0, 0, 0, 0, 0, 1, 0, 0, 0, 0,\n",
       "       0, 0, 1, 0, 0, 0, 0, 1, 0, 0, 0, 0, 0, 0, 0, 0, 0, 1, 0, 1, 0, 0,\n",
       "       0, 0, 0, 0, 1, 0, 0, 1, 0, 0, 0, 0, 0, 0, 0, 0, 0, 0, 0, 0, 0, 1,\n",
       "       0, 1, 0, 0, 0, 0, 0, 1, 0, 0, 1, 0, 0, 0, 0, 0, 0, 0, 0, 0, 0, 0,\n",
       "       0, 0, 0, 0, 0, 0, 1, 1, 0, 1, 0, 0, 0, 0, 0, 1, 1, 0, 0, 1, 0, 0,\n",
       "       1, 1, 0, 0, 0, 0, 0, 0, 0, 0, 1, 0, 0, 0, 1, 0, 0, 0, 0, 0, 0, 0,\n",
       "       0, 0, 0, 1, 0, 0, 0, 0, 0, 0, 0, 0, 0, 0, 0, 0, 0, 0, 0, 0, 0, 0,\n",
       "       0, 0, 0, 1, 1, 0, 0, 1, 0, 0, 0, 1, 0, 1, 1, 1, 0, 0, 0, 1, 1, 0,\n",
       "       0, 0, 0, 1, 0, 1, 0, 1, 0, 0, 0, 1, 0, 0, 1, 0, 0, 0, 0, 0, 0, 0,\n",
       "       0, 0, 0, 1, 0, 0, 0, 0, 0, 0, 0, 0, 0, 1, 0, 0, 0, 0, 1, 0, 0, 0,\n",
       "       1, 0, 0, 0, 0, 1, 1, 0, 0, 1])"
      ]
     },
     "execution_count": 10,
     "metadata": {},
     "output_type": "execute_result"
    }
   ],
   "source": [
    "x_ber = stats.bernoulli.rvs(p=0.2, size=1000) #rvs = random variates\n",
    "x_ber"
   ]
  },
  {
   "cell_type": "markdown",
   "id": "83ed65fe-82ef-4f47-b698-000e8e5bc026",
   "metadata": {
    "id": "83ed65fe-82ef-4f47-b698-000e8e5bc026"
   },
   "source": [
    "\\\n",
    "ทำการนับจำนวนค่าของตัวแปรสุ่มที่ success(1) และ failure(0):"
   ]
  },
  {
   "cell_type": "code",
   "execution_count": null,
   "id": "bc7bc354-afc7-424a-b98b-f1ba5b461214",
   "metadata": {
    "colab": {
     "base_uri": "https://localhost:8080/"
    },
    "executionInfo": {
     "elapsed": 3,
     "status": "ok",
     "timestamp": 1671991910648,
     "user": {
      "displayName": "Thammakorn SAETHANG",
      "userId": "08182570455347153646"
     },
     "user_tz": -420
    },
    "id": "bc7bc354-afc7-424a-b98b-f1ba5b461214",
    "outputId": "6706f16b-627b-491f-8cab-c123be89a477"
   },
   "outputs": [
    {
     "data": {
      "text/plain": [
       "0    810\n",
       "1    190\n",
       "dtype: int64"
      ]
     },
     "execution_count": 11,
     "metadata": {},
     "output_type": "execute_result"
    }
   ],
   "source": [
    "pd.value_counts(x_ber)"
   ]
  },
  {
   "cell_type": "markdown",
   "id": "af034208-1d94-4f8f-bf43-9daf68a4ae39",
   "metadata": {
    "id": "af034208-1d94-4f8f-bf43-9daf68a4ae39"
   },
   "source": [
    "\\\n",
    "จะเห็นได้ว่าสัดส่วนของจำนวนค่าที่ success ใกล้กับค่า p:"
   ]
  },
  {
   "cell_type": "code",
   "execution_count": null,
   "id": "d21f49e8-924d-4d74-a1df-b063730199a5",
   "metadata": {
    "colab": {
     "base_uri": "https://localhost:8080/"
    },
    "executionInfo": {
     "elapsed": 549,
     "status": "ok",
     "timestamp": 1671991919576,
     "user": {
      "displayName": "Thammakorn SAETHANG",
      "userId": "08182570455347153646"
     },
     "user_tz": -420
    },
    "id": "d21f49e8-924d-4d74-a1df-b063730199a5",
    "outputId": "8a75f513-b3d1-48a8-afc0-ab3c27eb3e4d"
   },
   "outputs": [
    {
     "data": {
      "text/plain": [
       "0.19"
      ]
     },
     "execution_count": 12,
     "metadata": {},
     "output_type": "execute_result"
    }
   ],
   "source": [
    "sum(x_ber==1)/len(x_ber)"
   ]
  },
  {
   "cell_type": "markdown",
   "id": "aa51b6c4-8f17-4911-a975-1199b96ca06b",
   "metadata": {
    "id": "aa51b6c4-8f17-4911-a975-1199b96ca06b"
   },
   "source": [
    "\\\n",
    "แสดงแผนภูมิแท่งแจกแจงความถี่:"
   ]
  },
  {
   "cell_type": "code",
   "execution_count": null,
   "id": "325fdb53-b111-42a5-acb0-47136f4076c0",
   "metadata": {
    "colab": {
     "base_uri": "https://localhost:8080/",
     "height": 283
    },
    "executionInfo": {
     "elapsed": 386,
     "status": "ok",
     "timestamp": 1671991923975,
     "user": {
      "displayName": "Thammakorn SAETHANG",
      "userId": "08182570455347153646"
     },
     "user_tz": -420
    },
    "id": "325fdb53-b111-42a5-acb0-47136f4076c0",
    "outputId": "7f7fe3e4-596c-4776-ae10-ec7d7c378bf3"
   },
   "outputs": [
    {
     "data": {
      "text/plain": [
       "<matplotlib.axes._subplots.AxesSubplot at 0x7fbe91e6fa30>"
      ]
     },
     "execution_count": 13,
     "metadata": {},
     "output_type": "execute_result"
    },
    {
     "data": {
      "image/png": "[encoded data removed]",
      "text/plain": [
       "<Figure size 432x288 with 1 Axes>"
      ]
     },
     "metadata": {
      "needs_background": "light"
     },
     "output_type": "display_data"
    }
   ],
   "source": [
    "sns.countplot(x=x_ber)"
   ]
  },
  {
   "cell_type": "markdown",
   "id": "b385e6f4-4394-49d1-86fc-02bb67e89f4f",
   "metadata": {
    "id": "b385e6f4-4394-49d1-86fc-02bb67e89f4f"
   },
   "source": [
    "---"
   ]
  },
  {
   "cell_type": "markdown",
   "id": "415a68bd-1518-4c51-abdc-1ab0c6c15a81",
   "metadata": {
    "id": "415a68bd-1518-4c51-abdc-1ab0c6c15a81"
   },
   "source": [
    "###  \n",
    "### การแจกแจงแบบทวินาม (Binomial Distribution)"
   ]
  },
  {
   "cell_type": "markdown",
   "id": "4fbb6d6d-21f5-48bf-9e80-86cb0dc55d39",
   "metadata": {
    "id": "4fbb6d6d-21f5-48bf-9e80-86cb0dc55d39"
   },
   "source": [
    "ทำการจำลองค่าของตัวแปรสุ่มที่มีการแจกแจงแบบทวินาม ในที่นี้ค่า p คือค่าความน่าจะเป็นของการเกิดผลลัพธ์ที่สนใจคือ success  \n",
    "ดังนั้นค่าความน่าจะเป็นของ failure คือ q=1-p"
   ]
  },
  {
   "cell_type": "code",
   "execution_count": null,
   "id": "bbffd664-5f21-4b07-bbe2-032486aa026a",
   "metadata": {
    "id": "bbffd664-5f21-4b07-bbe2-032486aa026a",
    "outputId": "12ab854a-f952-40e8-cc54-924b8972a856"
   },
   "outputs": [
    {
     "data": {
      "text/plain": [
       "array([5, 1, 1, 2, 0, 2, 0, 5, 2, 3, 2, 3, 3, 2, 1, 2, 1, 3, 1, 3, 2, 2,\n",
       "       2, 2, 1, 3, 4, 2, 2, 2, 1, 1, 1, 1, 0, 5, 2, 4, 3, 1, 1, 3, 1, 4,\n",
       "       0, 4, 3, 0, 7])"
      ]
     },
     "execution_count": 26,
     "metadata": {},
     "output_type": "execute_result"
    }
   ],
   "source": [
    "x_bi = stats.binom.rvs(p=0.2,\n",
    "                       n=10,\n",
    "                       size=1000)\n",
    "#แสดง 50 ค่าแรก\n",
    "x_bi[1:50]"
   ]
  },
  {
   "cell_type": "markdown",
   "id": "caedda0f-2bea-4224-99af-53d52b3bc941",
   "metadata": {
    "id": "caedda0f-2bea-4224-99af-53d52b3bc941"
   },
   "source": [
    "\\\n",
    "ทำการนับจำนวนค่าของตัวแปรสุ่มซึ่งเป็นจำนวนครั้งของ success จากการทดลอง n ครั้ง (ในที่นี้ n=10)  \n",
    "จะพบได้ว่าการทดลองที่ได้จำนวนครั้งการ success = 2 มีจำนวนมากที่สุด"
   ]
  },
  {
   "cell_type": "code",
   "execution_count": null,
   "id": "701ea458-44aa-4595-92db-73e0bea9932c",
   "metadata": {
    "id": "701ea458-44aa-4595-92db-73e0bea9932c",
    "outputId": "db605cb6-b877-4fe3-a183-5718f6723dac"
   },
   "outputs": [
    {
     "data": {
      "text/plain": [
       "2    301\n",
       "1    263\n",
       "3    198\n",
       "0    105\n",
       "4     97\n",
       "5     32\n",
       "6      3\n",
       "7      1\n",
       "dtype: int64"
      ]
     },
     "execution_count": 36,
     "metadata": {},
     "output_type": "execute_result"
    }
   ],
   "source": [
    "pd.value_counts(x_bi)"
   ]
  },
  {
   "cell_type": "code",
   "execution_count": null,
   "id": "f8724ab4-b6fd-45b1-b66b-34f9bc2360e0",
   "metadata": {
    "id": "f8724ab4-b6fd-45b1-b66b-34f9bc2360e0",
    "outputId": "8b1f08ec-0f55-49ae-8ec1-4f20c4dfdb74"
   },
   "outputs": [
    {
     "data": {
      "text/plain": [
       "<AxesSubplot: ylabel='count'>"
      ]
     },
     "execution_count": 27,
     "metadata": {},
     "output_type": "execute_result"
    },
    {
     "data": {
      "image/png": "[encoded data removed]",
      "text/plain": [
       "<Figure size 640x480 with 1 Axes>"
      ]
     },
     "metadata": {},
     "output_type": "display_data"
    }
   ],
   "source": [
    "sns.countplot(x=x_bi)"
   ]
  },
  {
   "cell_type": "markdown",
   "id": "1dffa08f-c34e-448f-809d-ff26013d3aed",
   "metadata": {
    "id": "1dffa08f-c34e-448f-809d-ff26013d3aed"
   },
   "source": [
    "\\\n",
    "โดยส่วนมากแล้วสิ่งที่ต้องการทราบจากตัวแปรสุ่มทวินาม คือความน่าจะเป็นของจำนวนครั้งของ success แต่ละค่า  \n",
    "เช่น หากต้องการหาค่า P(X=2) เมื่อ p=0.2 และ n=10"
   ]
  },
  {
   "cell_type": "code",
   "execution_count": null,
   "id": "e7d70941-922d-4c14-b997-be221eea7b59",
   "metadata": {
    "id": "e7d70941-922d-4c14-b997-be221eea7b59",
    "outputId": "2d012929-1d45-4b24-b40a-f2fb832fe3c9"
   },
   "outputs": [
    {
     "data": {
      "text/plain": [
       "0.30198988800000004"
      ]
     },
     "execution_count": 39,
     "metadata": {},
     "output_type": "execute_result"
    }
   ],
   "source": [
    "stats.binom.pmf(p=0.2,\n",
    "                n=10,\n",
    "                k=2)"
   ]
  },
  {
   "cell_type": "markdown",
   "id": "62d58bdd-ffdf-46e5-9273-8ecc84eaf7a7",
   "metadata": {
    "id": "62d58bdd-ffdf-46e5-9273-8ecc84eaf7a7"
   },
   "source": [
    "\\\n",
    "หาความน่าจะเป็นของ X ทุกค่า เมื่อ p=0.2 และ n=10   \n",
    "X = {0, 1, 2, 3, 4, 5, 6, 7, 8, 9, 10}  "
   ]
  },
  {
   "cell_type": "code",
   "execution_count": null,
   "id": "5c91ca03-7ccb-46c6-a642-9f6217013e85",
   "metadata": {
    "id": "5c91ca03-7ccb-46c6-a642-9f6217013e85"
   },
   "outputs": [],
   "source": [
    "X = [0, 1, 2, 3, 4, 5, 6, 7, 8, 9, 10]"
   ]
  },
  {
   "cell_type": "code",
   "execution_count": null,
   "id": "1935bc39-cfc2-4994-a0a7-bda66cf04ad9",
   "metadata": {
    "id": "1935bc39-cfc2-4994-a0a7-bda66cf04ad9",
    "outputId": "213421f4-755e-413e-8a85-0d3897eb5819"
   },
   "outputs": [
    {
     "data": {
      "text/plain": [
       "[0.10737418240000006,\n",
       " 0.26843545599999985,\n",
       " 0.30198988800000004,\n",
       " 0.20132659199999992,\n",
       " 0.0880803839999999,\n",
       " 0.026424115199999983,\n",
       " 0.005505024000000005,\n",
       " 0.000786432,\n",
       " 7.372800000000001e-05,\n",
       " 4.095999999999997e-06,\n",
       " 1.0240000000000006e-07]"
      ]
     },
     "execution_count": 42,
     "metadata": {},
     "output_type": "execute_result"
    }
   ],
   "source": [
    "prob = [stats.binom.pmf(p=0.2,n=10,k=x) for x in X]\n",
    "prob"
   ]
  },
  {
   "cell_type": "code",
   "execution_count": null,
   "id": "b1cd61bb-7ca1-4e86-aaea-fb7e443a76b7",
   "metadata": {
    "id": "b1cd61bb-7ca1-4e86-aaea-fb7e443a76b7",
    "outputId": "0210eba7-b9b0-4950-e181-51c4d8e37bb7"
   },
   "outputs": [
    {
     "data": {
      "text/plain": [
       "<AxesSubplot: >"
      ]
     },
     "execution_count": 45,
     "metadata": {},
     "output_type": "execute_result"
    },
    {
     "data": {
      "image/png": "[encoded data removed]",
      "text/plain": [
       "<Figure size 640x480 with 1 Axes>"
      ]
     },
     "metadata": {},
     "output_type": "display_data"
    }
   ],
   "source": [
    "sns.barplot(x=X, y=prob)"
   ]
  },
  {
   "cell_type": "markdown",
   "id": "b164f489-c4b1-4d9e-8ac8-85f47f148916",
   "metadata": {
    "id": "b164f489-c4b1-4d9e-8ac8-85f47f148916"
   },
   "source": [
    "\\\n",
    "จากตัวอย่างการโยนเหรียญ 3 ครั้ง เป็นการกระทำที่กระทำซ้ำกัน จะได้ n = 3 หากสนใจผลลัพธ์ที่เหรียญออกหัว จะได้ \n",
    "𝑋~𝑏(𝑥;𝑛=3, p=0.5) และความน่าจะเป็นที่เหรียญจะหงายหน้าหัวหาได้จากการแทนค่าต่างๆ ลงในฟังก์ชันความน่าจะเป็นดังนี้"
   ]
  },
  {
   "cell_type": "markdown",
   "id": "188fead3-a642-4bfd-b108-33b2e2547917",
   "metadata": {
    "id": "188fead3-a642-4bfd-b108-33b2e2547917"
   },
   "source": [
    "\\\n",
    "ในที่นี้จะได้ว่า X = {0, 1, 2, 3}"
   ]
  },
  {
   "cell_type": "code",
   "execution_count": null,
   "id": "bd66d660-bc7d-462c-baff-a4f3c7b589a8",
   "metadata": {
    "id": "bd66d660-bc7d-462c-baff-a4f3c7b589a8",
    "outputId": "31cc738f-fd54-40bb-a201-6c5f4bd622ce"
   },
   "outputs": [
    {
     "data": {
      "text/plain": [
       "[0.125, 0.3750000000000001, 0.3750000000000001, 0.125]"
      ]
     },
     "execution_count": 4,
     "metadata": {},
     "output_type": "execute_result"
    }
   ],
   "source": [
    "[stats.binom.pmf(p=0.5, n=3,k=i) for i in range(4)]"
   ]
  },
  {
   "cell_type": "markdown",
   "id": "e563b238-8a59-4fac-b6e3-c75aabbc82c0",
   "metadata": {
    "id": "e563b238-8a59-4fac-b6e3-c75aabbc82c0"
   },
   "source": [
    "---"
   ]
  }
 ],
 "metadata": {
  "colab": {
   "provenance": []
  },
  "kernelspec": {
   "display_name": "Python 3 (ipykernel)",
   "language": "python",
   "name": "python3"
  },
  "language_info": {
   "codemirror_mode": {
    "name": "ipython",
    "version": 3
   },
   "file_extension": ".py",
   "mimetype": "text/x-python",
   "name": "python",
   "nbconvert_exporter": "python",
   "pygments_lexer": "ipython3",
   "version": "3.9.13"
  }
 },
 "nbformat": 4,
 "nbformat_minor": 5
}
