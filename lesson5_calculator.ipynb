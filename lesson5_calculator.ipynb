{
  "nbformat": 4,
  "nbformat_minor": 0,
  "metadata": {
    "colab": {
      "provenance": []
    },
    "kernelspec": {
      "name": "python3",
      "display_name": "Python 3"
    },
    "language_info": {
      "name": "python"
    },
    "widgets": {
      "application/vnd.jupyter.widget-state+json": {
        "e29fcea016ba406cbca02b6e078b3a50": {
          "model_module": "@jupyter-widgets/controls",
          "model_name": "VBoxModel",
          "model_module_version": "1.5.0",
          "state": {
            "_dom_classes": [],
            "_model_module": "@jupyter-widgets/controls",
            "_model_module_version": "1.5.0",
            "_model_name": "VBoxModel",
            "_view_count": null,
            "_view_module": "@jupyter-widgets/controls",
            "_view_module_version": "1.5.0",
            "_view_name": "VBoxView",
            "box_style": "",
            "children": [
              "IPY_MODEL_a60fd8216e564975b4e274b5d766a6b7",
              "IPY_MODEL_d198b1e59d28453aa727e75c36247743"
            ],
            "layout": "IPY_MODEL_110008c1cb4a4d97b3b042d4069b6595"
          }
        },
        "a60fd8216e564975b4e274b5d766a6b7": {
          "model_module": "@jupyter-widgets/controls",
          "model_name": "IntTextModel",
          "model_module_version": "1.5.0",
          "state": {
            "_dom_classes": [],
            "_model_module": "@jupyter-widgets/controls",
            "_model_module_version": "1.5.0",
            "_model_name": "IntTextModel",
            "_view_count": null,
            "_view_module": "@jupyter-widgets/controls",
            "_view_module_version": "1.5.0",
            "_view_name": "IntTextView",
            "continuous_update": false,
            "description": "n=",
            "description_tooltip": null,
            "disabled": false,
            "layout": "IPY_MODEL_5f2d5c0a8ee34c5fa266128a3cf0bb73",
            "step": 1,
            "style": "IPY_MODEL_0a9a89944dc743d4abe1e0239b0e8ac3",
            "value": 1
          }
        },
        "d198b1e59d28453aa727e75c36247743": {
          "model_module": "@jupyter-widgets/controls",
          "model_name": "IntTextModel",
          "model_module_version": "1.5.0",
          "state": {
            "_dom_classes": [],
            "_model_module": "@jupyter-widgets/controls",
            "_model_module_version": "1.5.0",
            "_model_name": "IntTextModel",
            "_view_count": null,
            "_view_module": "@jupyter-widgets/controls",
            "_view_module_version": "1.5.0",
            "_view_name": "IntTextView",
            "continuous_update": false,
            "description": "r=",
            "description_tooltip": null,
            "disabled": false,
            "layout": "IPY_MODEL_b69b1b7719a14744b737b06f6223cc07",
            "step": 1,
            "style": "IPY_MODEL_2616229bed7949259c84a6b6de773ba7",
            "value": 1
          }
        },
        "110008c1cb4a4d97b3b042d4069b6595": {
          "model_module": "@jupyter-widgets/base",
          "model_name": "LayoutModel",
          "model_module_version": "1.2.0",
          "state": {
            "_model_module": "@jupyter-widgets/base",
            "_model_module_version": "1.2.0",
            "_model_name": "LayoutModel",
            "_view_count": null,
            "_view_module": "@jupyter-widgets/base",
            "_view_module_version": "1.2.0",
            "_view_name": "LayoutView",
            "align_content": null,
            "align_items": null,
            "align_self": null,
            "border": null,
            "bottom": null,
            "display": null,
            "flex": null,
            "flex_flow": null,
            "grid_area": null,
            "grid_auto_columns": null,
            "grid_auto_flow": null,
            "grid_auto_rows": null,
            "grid_column": null,
            "grid_gap": null,
            "grid_row": null,
            "grid_template_areas": null,
            "grid_template_columns": null,
            "grid_template_rows": null,
            "height": null,
            "justify_content": null,
            "justify_items": null,
            "left": null,
            "margin": null,
            "max_height": null,
            "max_width": null,
            "min_height": null,
            "min_width": null,
            "object_fit": null,
            "object_position": null,
            "order": null,
            "overflow": null,
            "overflow_x": null,
            "overflow_y": null,
            "padding": null,
            "right": null,
            "top": null,
            "visibility": null,
            "width": null
          }
        },
        "5f2d5c0a8ee34c5fa266128a3cf0bb73": {
          "model_module": "@jupyter-widgets/base",
          "model_name": "LayoutModel",
          "model_module_version": "1.2.0",
          "state": {
            "_model_module": "@jupyter-widgets/base",
            "_model_module_version": "1.2.0",
            "_model_name": "LayoutModel",
            "_view_count": null,
            "_view_module": "@jupyter-widgets/base",
            "_view_module_version": "1.2.0",
            "_view_name": "LayoutView",
            "align_content": null,
            "align_items": null,
            "align_self": null,
            "border": null,
            "bottom": null,
            "display": null,
            "flex": null,
            "flex_flow": null,
            "grid_area": null,
            "grid_auto_columns": null,
            "grid_auto_flow": null,
            "grid_auto_rows": null,
            "grid_column": null,
            "grid_gap": null,
            "grid_row": null,
            "grid_template_areas": null,
            "grid_template_columns": null,
            "grid_template_rows": null,
            "height": null,
            "justify_content": null,
            "justify_items": null,
            "left": null,
            "margin": null,
            "max_height": null,
            "max_width": null,
            "min_height": null,
            "min_width": null,
            "object_fit": null,
            "object_position": null,
            "order": null,
            "overflow": null,
            "overflow_x": null,
            "overflow_y": null,
            "padding": null,
            "right": null,
            "top": null,
            "visibility": null,
            "width": null
          }
        },
        "0a9a89944dc743d4abe1e0239b0e8ac3": {
          "model_module": "@jupyter-widgets/controls",
          "model_name": "DescriptionStyleModel",
          "model_module_version": "1.5.0",
          "state": {
            "_model_module": "@jupyter-widgets/controls",
            "_model_module_version": "1.5.0",
            "_model_name": "DescriptionStyleModel",
            "_view_count": null,
            "_view_module": "@jupyter-widgets/base",
            "_view_module_version": "1.2.0",
            "_view_name": "StyleView",
            "description_width": ""
          }
        },
        "b69b1b7719a14744b737b06f6223cc07": {
          "model_module": "@jupyter-widgets/base",
          "model_name": "LayoutModel",
          "model_module_version": "1.2.0",
          "state": {
            "_model_module": "@jupyter-widgets/base",
            "_model_module_version": "1.2.0",
            "_model_name": "LayoutModel",
            "_view_count": null,
            "_view_module": "@jupyter-widgets/base",
            "_view_module_version": "1.2.0",
            "_view_name": "LayoutView",
            "align_content": null,
            "align_items": null,
            "align_self": null,
            "border": null,
            "bottom": null,
            "display": null,
            "flex": null,
            "flex_flow": null,
            "grid_area": null,
            "grid_auto_columns": null,
            "grid_auto_flow": null,
            "grid_auto_rows": null,
            "grid_column": null,
            "grid_gap": null,
            "grid_row": null,
            "grid_template_areas": null,
            "grid_template_columns": null,
            "grid_template_rows": null,
            "height": null,
            "justify_content": null,
            "justify_items": null,
            "left": null,
            "margin": null,
            "max_height": null,
            "max_width": null,
            "min_height": null,
            "min_width": null,
            "object_fit": null,
            "object_position": null,
            "order": null,
            "overflow": null,
            "overflow_x": null,
            "overflow_y": null,
            "padding": null,
            "right": null,
            "top": null,
            "visibility": null,
            "width": null
          }
        },
        "2616229bed7949259c84a6b6de773ba7": {
          "model_module": "@jupyter-widgets/controls",
          "model_name": "DescriptionStyleModel",
          "model_module_version": "1.5.0",
          "state": {
            "_model_module": "@jupyter-widgets/controls",
            "_model_module_version": "1.5.0",
            "_model_name": "DescriptionStyleModel",
            "_view_count": null,
            "_view_module": "@jupyter-widgets/base",
            "_view_module_version": "1.2.0",
            "_view_name": "StyleView",
            "description_width": ""
          }
        },
        "4f52ff1295b34de586cc6ff453cf445b": {
          "model_module": "@jupyter-widgets/output",
          "model_name": "OutputModel",
          "model_module_version": "1.0.0",
          "state": {
            "_dom_classes": [],
            "_model_module": "@jupyter-widgets/output",
            "_model_module_version": "1.0.0",
            "_model_name": "OutputModel",
            "_view_count": null,
            "_view_module": "@jupyter-widgets/output",
            "_view_module_version": "1.0.0",
            "_view_name": "OutputView",
            "layout": "IPY_MODEL_69579295ad614d958cdb53b56b904f99",
            "msg_id": "",
            "outputs": [
              {
                "output_type": "display_data",
                "data": {
                  "text/plain": "Label(value='Number of possible events: 1')",
                  "application/vnd.jupyter.widget-view+json": {
                    "version_major": 2,
                    "version_minor": 0,
                    "model_id": "7826194387ab453fb8d57f45801c3d9a"
                  }
                },
                "metadata": {}
              }
            ]
          }
        },
        "7826194387ab453fb8d57f45801c3d9a": {
          "model_module": "@jupyter-widgets/controls",
          "model_name": "LabelModel",
          "model_module_version": "1.5.0",
          "state": {
            "_dom_classes": [],
            "_model_module": "@jupyter-widgets/controls",
            "_model_module_version": "1.5.0",
            "_model_name": "LabelModel",
            "_view_count": null,
            "_view_module": "@jupyter-widgets/controls",
            "_view_module_version": "1.5.0",
            "_view_name": "LabelView",
            "description": "",
            "description_tooltip": null,
            "layout": "IPY_MODEL_9b9d4a6795ce42b7b11761953c969ebd",
            "placeholder": "​",
            "style": "IPY_MODEL_7b68ef27b5e945bc8cbf5156aa3aec89",
            "value": "Number of possible events: 1"
          }
        },
        "69579295ad614d958cdb53b56b904f99": {
          "model_module": "@jupyter-widgets/base",
          "model_name": "LayoutModel",
          "model_module_version": "1.2.0",
          "state": {
            "_model_module": "@jupyter-widgets/base",
            "_model_module_version": "1.2.0",
            "_model_name": "LayoutModel",
            "_view_count": null,
            "_view_module": "@jupyter-widgets/base",
            "_view_module_version": "1.2.0",
            "_view_name": "LayoutView",
            "align_content": null,
            "align_items": null,
            "align_self": null,
            "border": null,
            "bottom": null,
            "display": null,
            "flex": null,
            "flex_flow": null,
            "grid_area": null,
            "grid_auto_columns": null,
            "grid_auto_flow": null,
            "grid_auto_rows": null,
            "grid_column": null,
            "grid_gap": null,
            "grid_row": null,
            "grid_template_areas": null,
            "grid_template_columns": null,
            "grid_template_rows": null,
            "height": null,
            "justify_content": null,
            "justify_items": null,
            "left": null,
            "margin": null,
            "max_height": null,
            "max_width": null,
            "min_height": null,
            "min_width": null,
            "object_fit": null,
            "object_position": null,
            "order": null,
            "overflow": null,
            "overflow_x": null,
            "overflow_y": null,
            "padding": null,
            "right": null,
            "top": null,
            "visibility": null,
            "width": null
          }
        },
        "9b9d4a6795ce42b7b11761953c969ebd": {
          "model_module": "@jupyter-widgets/base",
          "model_name": "LayoutModel",
          "model_module_version": "1.2.0",
          "state": {
            "_model_module": "@jupyter-widgets/base",
            "_model_module_version": "1.2.0",
            "_model_name": "LayoutModel",
            "_view_count": null,
            "_view_module": "@jupyter-widgets/base",
            "_view_module_version": "1.2.0",
            "_view_name": "LayoutView",
            "align_content": null,
            "align_items": null,
            "align_self": null,
            "border": null,
            "bottom": null,
            "display": null,
            "flex": null,
            "flex_flow": null,
            "grid_area": null,
            "grid_auto_columns": null,
            "grid_auto_flow": null,
            "grid_auto_rows": null,
            "grid_column": null,
            "grid_gap": null,
            "grid_row": null,
            "grid_template_areas": null,
            "grid_template_columns": null,
            "grid_template_rows": null,
            "height": null,
            "justify_content": null,
            "justify_items": null,
            "left": null,
            "margin": null,
            "max_height": null,
            "max_width": null,
            "min_height": null,
            "min_width": null,
            "object_fit": null,
            "object_position": null,
            "order": null,
            "overflow": null,
            "overflow_x": null,
            "overflow_y": null,
            "padding": null,
            "right": null,
            "top": null,
            "visibility": null,
            "width": null
          }
        },
        "7b68ef27b5e945bc8cbf5156aa3aec89": {
          "model_module": "@jupyter-widgets/controls",
          "model_name": "DescriptionStyleModel",
          "model_module_version": "1.5.0",
          "state": {
            "_model_module": "@jupyter-widgets/controls",
            "_model_module_version": "1.5.0",
            "_model_name": "DescriptionStyleModel",
            "_view_count": null,
            "_view_module": "@jupyter-widgets/base",
            "_view_module_version": "1.2.0",
            "_view_name": "StyleView",
            "description_width": ""
          }
        },
        "7501ad34d81044b8a691470beb7a4308": {
          "model_module": "@jupyter-widgets/controls",
          "model_name": "VBoxModel",
          "model_module_version": "1.5.0",
          "state": {
            "_dom_classes": [],
            "_model_module": "@jupyter-widgets/controls",
            "_model_module_version": "1.5.0",
            "_model_name": "VBoxModel",
            "_view_count": null,
            "_view_module": "@jupyter-widgets/controls",
            "_view_module_version": "1.5.0",
            "_view_name": "VBoxView",
            "box_style": "",
            "children": [
              "IPY_MODEL_ba3f176bad42482bb29e4c943ed4e100",
              "IPY_MODEL_c3ec794732f946a88a1a05650ad284f8"
            ],
            "layout": "IPY_MODEL_7dabe0cdbeb941de8e2867e6962d33ea"
          }
        },
        "ba3f176bad42482bb29e4c943ed4e100": {
          "model_module": "@jupyter-widgets/controls",
          "model_name": "IntTextModel",
          "model_module_version": "1.5.0",
          "state": {
            "_dom_classes": [],
            "_model_module": "@jupyter-widgets/controls",
            "_model_module_version": "1.5.0",
            "_model_name": "IntTextModel",
            "_view_count": null,
            "_view_module": "@jupyter-widgets/controls",
            "_view_module_version": "1.5.0",
            "_view_name": "IntTextView",
            "continuous_update": false,
            "description": "n=",
            "description_tooltip": null,
            "disabled": false,
            "layout": "IPY_MODEL_8621fda24baa47f494b3c9ec05a6cd5b",
            "step": 1,
            "style": "IPY_MODEL_dfaaab1f3745477eb919fa68a6676f70",
            "value": 6
          }
        },
        "c3ec794732f946a88a1a05650ad284f8": {
          "model_module": "@jupyter-widgets/controls",
          "model_name": "IntTextModel",
          "model_module_version": "1.5.0",
          "state": {
            "_dom_classes": [],
            "_model_module": "@jupyter-widgets/controls",
            "_model_module_version": "1.5.0",
            "_model_name": "IntTextModel",
            "_view_count": null,
            "_view_module": "@jupyter-widgets/controls",
            "_view_module_version": "1.5.0",
            "_view_name": "IntTextView",
            "continuous_update": false,
            "description": "r=",
            "description_tooltip": null,
            "disabled": false,
            "layout": "IPY_MODEL_34354574dae64d2e809d005dbf46a5cd",
            "step": 1,
            "style": "IPY_MODEL_6bc27cbabe1245b9b2fa334d5f02a911",
            "value": 4
          }
        },
        "7dabe0cdbeb941de8e2867e6962d33ea": {
          "model_module": "@jupyter-widgets/base",
          "model_name": "LayoutModel",
          "model_module_version": "1.2.0",
          "state": {
            "_model_module": "@jupyter-widgets/base",
            "_model_module_version": "1.2.0",
            "_model_name": "LayoutModel",
            "_view_count": null,
            "_view_module": "@jupyter-widgets/base",
            "_view_module_version": "1.2.0",
            "_view_name": "LayoutView",
            "align_content": null,
            "align_items": null,
            "align_self": null,
            "border": null,
            "bottom": null,
            "display": null,
            "flex": null,
            "flex_flow": null,
            "grid_area": null,
            "grid_auto_columns": null,
            "grid_auto_flow": null,
            "grid_auto_rows": null,
            "grid_column": null,
            "grid_gap": null,
            "grid_row": null,
            "grid_template_areas": null,
            "grid_template_columns": null,
            "grid_template_rows": null,
            "height": null,
            "justify_content": null,
            "justify_items": null,
            "left": null,
            "margin": null,
            "max_height": null,
            "max_width": null,
            "min_height": null,
            "min_width": null,
            "object_fit": null,
            "object_position": null,
            "order": null,
            "overflow": null,
            "overflow_x": null,
            "overflow_y": null,
            "padding": null,
            "right": null,
            "top": null,
            "visibility": null,
            "width": null
          }
        },
        "8621fda24baa47f494b3c9ec05a6cd5b": {
          "model_module": "@jupyter-widgets/base",
          "model_name": "LayoutModel",
          "model_module_version": "1.2.0",
          "state": {
            "_model_module": "@jupyter-widgets/base",
            "_model_module_version": "1.2.0",
            "_model_name": "LayoutModel",
            "_view_count": null,
            "_view_module": "@jupyter-widgets/base",
            "_view_module_version": "1.2.0",
            "_view_name": "LayoutView",
            "align_content": null,
            "align_items": null,
            "align_self": null,
            "border": null,
            "bottom": null,
            "display": null,
            "flex": null,
            "flex_flow": null,
            "grid_area": null,
            "grid_auto_columns": null,
            "grid_auto_flow": null,
            "grid_auto_rows": null,
            "grid_column": null,
            "grid_gap": null,
            "grid_row": null,
            "grid_template_areas": null,
            "grid_template_columns": null,
            "grid_template_rows": null,
            "height": null,
            "justify_content": null,
            "justify_items": null,
            "left": null,
            "margin": null,
            "max_height": null,
            "max_width": null,
            "min_height": null,
            "min_width": null,
            "object_fit": null,
            "object_position": null,
            "order": null,
            "overflow": null,
            "overflow_x": null,
            "overflow_y": null,
            "padding": null,
            "right": null,
            "top": null,
            "visibility": null,
            "width": null
          }
        },
        "dfaaab1f3745477eb919fa68a6676f70": {
          "model_module": "@jupyter-widgets/controls",
          "model_name": "DescriptionStyleModel",
          "model_module_version": "1.5.0",
          "state": {
            "_model_module": "@jupyter-widgets/controls",
            "_model_module_version": "1.5.0",
            "_model_name": "DescriptionStyleModel",
            "_view_count": null,
            "_view_module": "@jupyter-widgets/base",
            "_view_module_version": "1.2.0",
            "_view_name": "StyleView",
            "description_width": ""
          }
        },
        "34354574dae64d2e809d005dbf46a5cd": {
          "model_module": "@jupyter-widgets/base",
          "model_name": "LayoutModel",
          "model_module_version": "1.2.0",
          "state": {
            "_model_module": "@jupyter-widgets/base",
            "_model_module_version": "1.2.0",
            "_model_name": "LayoutModel",
            "_view_count": null,
            "_view_module": "@jupyter-widgets/base",
            "_view_module_version": "1.2.0",
            "_view_name": "LayoutView",
            "align_content": null,
            "align_items": null,
            "align_self": null,
            "border": null,
            "bottom": null,
            "display": null,
            "flex": null,
            "flex_flow": null,
            "grid_area": null,
            "grid_auto_columns": null,
            "grid_auto_flow": null,
            "grid_auto_rows": null,
            "grid_column": null,
            "grid_gap": null,
            "grid_row": null,
            "grid_template_areas": null,
            "grid_template_columns": null,
            "grid_template_rows": null,
            "height": null,
            "justify_content": null,
            "justify_items": null,
            "left": null,
            "margin": null,
            "max_height": null,
            "max_width": null,
            "min_height": null,
            "min_width": null,
            "object_fit": null,
            "object_position": null,
            "order": null,
            "overflow": null,
            "overflow_x": null,
            "overflow_y": null,
            "padding": null,
            "right": null,
            "top": null,
            "visibility": null,
            "width": null
          }
        },
        "6bc27cbabe1245b9b2fa334d5f02a911": {
          "model_module": "@jupyter-widgets/controls",
          "model_name": "DescriptionStyleModel",
          "model_module_version": "1.5.0",
          "state": {
            "_model_module": "@jupyter-widgets/controls",
            "_model_module_version": "1.5.0",
            "_model_name": "DescriptionStyleModel",
            "_view_count": null,
            "_view_module": "@jupyter-widgets/base",
            "_view_module_version": "1.2.0",
            "_view_name": "StyleView",
            "description_width": ""
          }
        },
        "f08947050376458aa422f5f7e853dd2e": {
          "model_module": "@jupyter-widgets/output",
          "model_name": "OutputModel",
          "model_module_version": "1.0.0",
          "state": {
            "_dom_classes": [],
            "_model_module": "@jupyter-widgets/output",
            "_model_module_version": "1.0.0",
            "_model_name": "OutputModel",
            "_view_count": null,
            "_view_module": "@jupyter-widgets/output",
            "_view_module_version": "1.0.0",
            "_view_name": "OutputView",
            "layout": "IPY_MODEL_4197e204889348f6a817953f1c5bc7f7",
            "msg_id": "",
            "outputs": [
              {
                "output_type": "display_data",
                "data": {
                  "text/plain": "Label(value='Number of possible events: 15')",
                  "application/vnd.jupyter.widget-view+json": {
                    "version_major": 2,
                    "version_minor": 0,
                    "model_id": "872d8076869c453783db4d8fe94ff629"
                  }
                },
                "metadata": {}
              }
            ]
          }
        },
        "ba39fa5522334e2ea495772ef06f1ca4": {
          "model_module": "@jupyter-widgets/controls",
          "model_name": "LabelModel",
          "model_module_version": "1.5.0",
          "state": {
            "_dom_classes": [],
            "_model_module": "@jupyter-widgets/controls",
            "_model_module_version": "1.5.0",
            "_model_name": "LabelModel",
            "_view_count": null,
            "_view_module": "@jupyter-widgets/controls",
            "_view_module_version": "1.5.0",
            "_view_name": "LabelView",
            "description": "",
            "description_tooltip": null,
            "layout": "IPY_MODEL_5179fdc157474175b42bff78aaece906",
            "placeholder": "​",
            "style": "IPY_MODEL_7138f788b73c439aaa2293357eadcac4",
            "value": "Number of possible events: 1"
          }
        },
        "4197e204889348f6a817953f1c5bc7f7": {
          "model_module": "@jupyter-widgets/base",
          "model_name": "LayoutModel",
          "model_module_version": "1.2.0",
          "state": {
            "_model_module": "@jupyter-widgets/base",
            "_model_module_version": "1.2.0",
            "_model_name": "LayoutModel",
            "_view_count": null,
            "_view_module": "@jupyter-widgets/base",
            "_view_module_version": "1.2.0",
            "_view_name": "LayoutView",
            "align_content": null,
            "align_items": null,
            "align_self": null,
            "border": null,
            "bottom": null,
            "display": null,
            "flex": null,
            "flex_flow": null,
            "grid_area": null,
            "grid_auto_columns": null,
            "grid_auto_flow": null,
            "grid_auto_rows": null,
            "grid_column": null,
            "grid_gap": null,
            "grid_row": null,
            "grid_template_areas": null,
            "grid_template_columns": null,
            "grid_template_rows": null,
            "height": null,
            "justify_content": null,
            "justify_items": null,
            "left": null,
            "margin": null,
            "max_height": null,
            "max_width": null,
            "min_height": null,
            "min_width": null,
            "object_fit": null,
            "object_position": null,
            "order": null,
            "overflow": null,
            "overflow_x": null,
            "overflow_y": null,
            "padding": null,
            "right": null,
            "top": null,
            "visibility": null,
            "width": null
          }
        },
        "5179fdc157474175b42bff78aaece906": {
          "model_module": "@jupyter-widgets/base",
          "model_name": "LayoutModel",
          "model_module_version": "1.2.0",
          "state": {
            "_model_module": "@jupyter-widgets/base",
            "_model_module_version": "1.2.0",
            "_model_name": "LayoutModel",
            "_view_count": null,
            "_view_module": "@jupyter-widgets/base",
            "_view_module_version": "1.2.0",
            "_view_name": "LayoutView",
            "align_content": null,
            "align_items": null,
            "align_self": null,
            "border": null,
            "bottom": null,
            "display": null,
            "flex": null,
            "flex_flow": null,
            "grid_area": null,
            "grid_auto_columns": null,
            "grid_auto_flow": null,
            "grid_auto_rows": null,
            "grid_column": null,
            "grid_gap": null,
            "grid_row": null,
            "grid_template_areas": null,
            "grid_template_columns": null,
            "grid_template_rows": null,
            "height": null,
            "justify_content": null,
            "justify_items": null,
            "left": null,
            "margin": null,
            "max_height": null,
            "max_width": null,
            "min_height": null,
            "min_width": null,
            "object_fit": null,
            "object_position": null,
            "order": null,
            "overflow": null,
            "overflow_x": null,
            "overflow_y": null,
            "padding": null,
            "right": null,
            "top": null,
            "visibility": null,
            "width": null
          }
        },
        "7138f788b73c439aaa2293357eadcac4": {
          "model_module": "@jupyter-widgets/controls",
          "model_name": "DescriptionStyleModel",
          "model_module_version": "1.5.0",
          "state": {
            "_model_module": "@jupyter-widgets/controls",
            "_model_module_version": "1.5.0",
            "_model_name": "DescriptionStyleModel",
            "_view_count": null,
            "_view_module": "@jupyter-widgets/base",
            "_view_module_version": "1.2.0",
            "_view_name": "StyleView",
            "description_width": ""
          }
        },
        "4459e589d017412591a5919935ca2e40": {
          "model_module": "@jupyter-widgets/controls",
          "model_name": "LabelModel",
          "model_module_version": "1.5.0",
          "state": {
            "_dom_classes": [],
            "_model_module": "@jupyter-widgets/controls",
            "_model_module_version": "1.5.0",
            "_model_name": "LabelModel",
            "_view_count": null,
            "_view_module": "@jupyter-widgets/controls",
            "_view_module_version": "1.5.0",
            "_view_name": "LabelView",
            "description": "",
            "description_tooltip": null,
            "layout": "IPY_MODEL_9f386b21e2d0476f8250011c9c1b2334",
            "placeholder": "​",
            "style": "IPY_MODEL_aa3485ef36464894b034c5e4291e0877",
            "value": "Number of possible events: 5"
          }
        },
        "9f386b21e2d0476f8250011c9c1b2334": {
          "model_module": "@jupyter-widgets/base",
          "model_name": "LayoutModel",
          "model_module_version": "1.2.0",
          "state": {
            "_model_module": "@jupyter-widgets/base",
            "_model_module_version": "1.2.0",
            "_model_name": "LayoutModel",
            "_view_count": null,
            "_view_module": "@jupyter-widgets/base",
            "_view_module_version": "1.2.0",
            "_view_name": "LayoutView",
            "align_content": null,
            "align_items": null,
            "align_self": null,
            "border": null,
            "bottom": null,
            "display": null,
            "flex": null,
            "flex_flow": null,
            "grid_area": null,
            "grid_auto_columns": null,
            "grid_auto_flow": null,
            "grid_auto_rows": null,
            "grid_column": null,
            "grid_gap": null,
            "grid_row": null,
            "grid_template_areas": null,
            "grid_template_columns": null,
            "grid_template_rows": null,
            "height": null,
            "justify_content": null,
            "justify_items": null,
            "left": null,
            "margin": null,
            "max_height": null,
            "max_width": null,
            "min_height": null,
            "min_width": null,
            "object_fit": null,
            "object_position": null,
            "order": null,
            "overflow": null,
            "overflow_x": null,
            "overflow_y": null,
            "padding": null,
            "right": null,
            "top": null,
            "visibility": null,
            "width": null
          }
        },
        "aa3485ef36464894b034c5e4291e0877": {
          "model_module": "@jupyter-widgets/controls",
          "model_name": "DescriptionStyleModel",
          "model_module_version": "1.5.0",
          "state": {
            "_model_module": "@jupyter-widgets/controls",
            "_model_module_version": "1.5.0",
            "_model_name": "DescriptionStyleModel",
            "_view_count": null,
            "_view_module": "@jupyter-widgets/base",
            "_view_module_version": "1.2.0",
            "_view_name": "StyleView",
            "description_width": ""
          }
        },
        "97807fe425d744989dcd6841f7252100": {
          "model_module": "@jupyter-widgets/controls",
          "model_name": "LabelModel",
          "model_module_version": "1.5.0",
          "state": {
            "_dom_classes": [],
            "_model_module": "@jupyter-widgets/controls",
            "_model_module_version": "1.5.0",
            "_model_name": "LabelModel",
            "_view_count": null,
            "_view_module": "@jupyter-widgets/controls",
            "_view_module_version": "1.5.0",
            "_view_name": "LabelView",
            "description": "",
            "description_tooltip": null,
            "layout": "IPY_MODEL_003e53b96d32488eaebcc16fcf2ade90",
            "placeholder": "​",
            "style": "IPY_MODEL_1d8dc5df13e44e8b96dc7aacf50f9974",
            "value": "Number of possible events: 1"
          }
        },
        "003e53b96d32488eaebcc16fcf2ade90": {
          "model_module": "@jupyter-widgets/base",
          "model_name": "LayoutModel",
          "model_module_version": "1.2.0",
          "state": {
            "_model_module": "@jupyter-widgets/base",
            "_model_module_version": "1.2.0",
            "_model_name": "LayoutModel",
            "_view_count": null,
            "_view_module": "@jupyter-widgets/base",
            "_view_module_version": "1.2.0",
            "_view_name": "LayoutView",
            "align_content": null,
            "align_items": null,
            "align_self": null,
            "border": null,
            "bottom": null,
            "display": null,
            "flex": null,
            "flex_flow": null,
            "grid_area": null,
            "grid_auto_columns": null,
            "grid_auto_flow": null,
            "grid_auto_rows": null,
            "grid_column": null,
            "grid_gap": null,
            "grid_row": null,
            "grid_template_areas": null,
            "grid_template_columns": null,
            "grid_template_rows": null,
            "height": null,
            "justify_content": null,
            "justify_items": null,
            "left": null,
            "margin": null,
            "max_height": null,
            "max_width": null,
            "min_height": null,
            "min_width": null,
            "object_fit": null,
            "object_position": null,
            "order": null,
            "overflow": null,
            "overflow_x": null,
            "overflow_y": null,
            "padding": null,
            "right": null,
            "top": null,
            "visibility": null,
            "width": null
          }
        },
        "1d8dc5df13e44e8b96dc7aacf50f9974": {
          "model_module": "@jupyter-widgets/controls",
          "model_name": "DescriptionStyleModel",
          "model_module_version": "1.5.0",
          "state": {
            "_model_module": "@jupyter-widgets/controls",
            "_model_module_version": "1.5.0",
            "_model_name": "DescriptionStyleModel",
            "_view_count": null,
            "_view_module": "@jupyter-widgets/base",
            "_view_module_version": "1.2.0",
            "_view_name": "StyleView",
            "description_width": ""
          }
        },
        "1e9f37aa78374cc18a0a9b7ee85474bb": {
          "model_module": "@jupyter-widgets/controls",
          "model_name": "LabelModel",
          "model_module_version": "1.5.0",
          "state": {
            "_dom_classes": [],
            "_model_module": "@jupyter-widgets/controls",
            "_model_module_version": "1.5.0",
            "_model_name": "LabelModel",
            "_view_count": null,
            "_view_module": "@jupyter-widgets/controls",
            "_view_module_version": "1.5.0",
            "_view_name": "LabelView",
            "description": "",
            "description_tooltip": null,
            "layout": "IPY_MODEL_5a0f9f05d0fa43de92ed7cf678ff090e",
            "placeholder": "​",
            "style": "IPY_MODEL_0cb421773f9c4581ad2fc47f93c0c598",
            "value": "Number of possible events: 6"
          }
        },
        "5a0f9f05d0fa43de92ed7cf678ff090e": {
          "model_module": "@jupyter-widgets/base",
          "model_name": "LayoutModel",
          "model_module_version": "1.2.0",
          "state": {
            "_model_module": "@jupyter-widgets/base",
            "_model_module_version": "1.2.0",
            "_model_name": "LayoutModel",
            "_view_count": null,
            "_view_module": "@jupyter-widgets/base",
            "_view_module_version": "1.2.0",
            "_view_name": "LayoutView",
            "align_content": null,
            "align_items": null,
            "align_self": null,
            "border": null,
            "bottom": null,
            "display": null,
            "flex": null,
            "flex_flow": null,
            "grid_area": null,
            "grid_auto_columns": null,
            "grid_auto_flow": null,
            "grid_auto_rows": null,
            "grid_column": null,
            "grid_gap": null,
            "grid_row": null,
            "grid_template_areas": null,
            "grid_template_columns": null,
            "grid_template_rows": null,
            "height": null,
            "justify_content": null,
            "justify_items": null,
            "left": null,
            "margin": null,
            "max_height": null,
            "max_width": null,
            "min_height": null,
            "min_width": null,
            "object_fit": null,
            "object_position": null,
            "order": null,
            "overflow": null,
            "overflow_x": null,
            "overflow_y": null,
            "padding": null,
            "right": null,
            "top": null,
            "visibility": null,
            "width": null
          }
        },
        "0cb421773f9c4581ad2fc47f93c0c598": {
          "model_module": "@jupyter-widgets/controls",
          "model_name": "DescriptionStyleModel",
          "model_module_version": "1.5.0",
          "state": {
            "_model_module": "@jupyter-widgets/controls",
            "_model_module_version": "1.5.0",
            "_model_name": "DescriptionStyleModel",
            "_view_count": null,
            "_view_module": "@jupyter-widgets/base",
            "_view_module_version": "1.2.0",
            "_view_name": "StyleView",
            "description_width": ""
          }
        }
      }
    }
  },
  "cells": [
    {
      "cell_type": "markdown",
      "source": [
        "### วิธีเรียงสับเปลี่ยน (Permutation)"
      ],
      "metadata": {
        "id": "n9cQg2j_ccb4"
      }
    },
    {
      "cell_type": "markdown",
      "source": [
        "จากสูตร"
      ],
      "metadata": {
        "id": "BEvhJ_jjejfP"
      }
    },
    {
      "cell_type": "markdown",
      "source": [
        "![Screen Shot 2565-12-18 at 02.03.34.png](data:image/png;base64,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)"
      ],
      "metadata": {
        "id": "Wlu4vPXsck3g"
      }
    },
    {
      "cell_type": "code",
      "source": [
        "import numpy as np\n",
        "import pandas as pd\n",
        "import statistics\n",
        "import scipy\n",
        "from scipy import stats\n",
        "from math import perm, comb\n",
        "from ipywidgets import interact\n",
        "from ipywidgets import widgets"
      ],
      "metadata": {
        "id": "e8ofD24YgDS7",
        "cellView": "code"
      },
      "execution_count": null,
      "outputs": []
    },
    {
      "cell_type": "code",
      "execution_count": null,
      "metadata": {
        "id": "iYSQWuYcbWu1",
        "colab": {
          "base_uri": "https://localhost:8080/",
          "height": 113,
          "referenced_widgets": [
            "e29fcea016ba406cbca02b6e078b3a50",
            "a60fd8216e564975b4e274b5d766a6b7",
            "d198b1e59d28453aa727e75c36247743",
            "110008c1cb4a4d97b3b042d4069b6595",
            "5f2d5c0a8ee34c5fa266128a3cf0bb73",
            "0a9a89944dc743d4abe1e0239b0e8ac3",
            "b69b1b7719a14744b737b06f6223cc07",
            "2616229bed7949259c84a6b6de773ba7",
            "4f52ff1295b34de586cc6ff453cf445b",
            "7826194387ab453fb8d57f45801c3d9a",
            "69579295ad614d958cdb53b56b904f99",
            "9b9d4a6795ce42b7b11761953c969ebd",
            "7b68ef27b5e945bc8cbf5156aa3aec89"
          ]
        },
        "outputId": "1974fa2a-66df-4ff2-862f-952986f7d90c"
      },
      "outputs": [
        {
          "output_type": "display_data",
          "data": {
            "text/plain": [
              "VBox(children=(IntText(value=1, description='n='), IntText(value=1, description='r=')))"
            ],
            "application/vnd.jupyter.widget-view+json": {
              "version_major": 2,
              "version_minor": 0,
              "model_id": "e29fcea016ba406cbca02b6e078b3a50"
            }
          },
          "metadata": {}
        },
        {
          "output_type": "display_data",
          "data": {
            "text/plain": [
              "Output()"
            ],
            "application/vnd.jupyter.widget-view+json": {
              "version_major": 2,
              "version_minor": 0,
              "model_id": "4f52ff1295b34de586cc6ff453cf445b"
            }
          },
          "metadata": {}
        }
      ],
      "source": [
        "#input UI\n",
        "n_intText = widgets.IntText(value=1,\n",
        "                                description='n=',\n",
        "                                orientation='horizontal',\n",
        "                                readout=True)\n",
        "r_intText = widgets.IntText(value=1,\n",
        "                                description='r=',\n",
        "                                orientation='horizontal',\n",
        "                                readout=True)\n",
        "\n",
        "ui = widgets.VBox([n_intText, r_intText])\n",
        "\n",
        "\n",
        "#output\n",
        "def cal_perm(n, r):\n",
        "  n_event = perm(n, r)\n",
        "  P_label = widgets.Label(value=f\"Number of possible events: {n_event}\")\n",
        "  display(P_label)\n",
        " \n",
        "out = widgets.interactive_output(cal_perm, {'n':n_intText,\n",
        "                                            'r':r_intText})\n",
        "display(ui, out)"
      ]
    },
    {
      "cell_type": "markdown",
      "source": [
        "---"
      ],
      "metadata": {
        "id": "iZB50EIVcbX3"
      }
    },
    {
      "cell_type": "markdown",
      "source": [
        "### วิธีจัดหมู่ (Combination)"
      ],
      "metadata": {
        "id": "pcYmT0H6KwKy"
      }
    },
    {
      "cell_type": "markdown",
      "source": [
        "จากสูตร"
      ],
      "metadata": {
        "id": "uG1gCec3K8oz"
      }
    },
    {
      "cell_type": "markdown",
      "source": [
        "![Screen Shot 2565-12-18 at 19.19.37.png](data:image/png;base64,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)"
      ],
      "metadata": {
        "id": "MSPIoeG4K9pT"
      }
    },
    {
      "cell_type": "code",
      "execution_count": null,
      "metadata": {
        "colab": {
          "base_uri": "https://localhost:8080/",
          "height": 113,
          "referenced_widgets": [
            "7501ad34d81044b8a691470beb7a4308",
            "ba3f176bad42482bb29e4c943ed4e100",
            "c3ec794732f946a88a1a05650ad284f8",
            "7dabe0cdbeb941de8e2867e6962d33ea",
            "8621fda24baa47f494b3c9ec05a6cd5b",
            "dfaaab1f3745477eb919fa68a6676f70",
            "34354574dae64d2e809d005dbf46a5cd",
            "6bc27cbabe1245b9b2fa334d5f02a911",
            "f08947050376458aa422f5f7e853dd2e",
            "ba39fa5522334e2ea495772ef06f1ca4",
            "4197e204889348f6a817953f1c5bc7f7",
            "5179fdc157474175b42bff78aaece906",
            "7138f788b73c439aaa2293357eadcac4",
            "4459e589d017412591a5919935ca2e40",
            "9f386b21e2d0476f8250011c9c1b2334",
            "aa3485ef36464894b034c5e4291e0877",
            "97807fe425d744989dcd6841f7252100",
            "003e53b96d32488eaebcc16fcf2ade90",
            "1d8dc5df13e44e8b96dc7aacf50f9974",
            "1e9f37aa78374cc18a0a9b7ee85474bb",
            "5a0f9f05d0fa43de92ed7cf678ff090e",
            "0cb421773f9c4581ad2fc47f93c0c598",
            "872d8076869c453783db4d8fe94ff629",
            "e918d541b0b94c278b202c5250ee8ab2",
            "ecf8dac3bc5c44758498311cf79adf9d"
          ]
        },
        "outputId": "fcef214e-b74b-4fcd-e76f-e29edea5cf00",
        "id": "yzHW9BNZLl0Q"
      },
      "outputs": [
        {
          "output_type": "display_data",
          "data": {
            "text/plain": [
              "VBox(children=(IntText(value=1, description='n='), IntText(value=1, description='r=')))"
            ],
            "application/vnd.jupyter.widget-view+json": {
              "version_major": 2,
              "version_minor": 0,
              "model_id": "7501ad34d81044b8a691470beb7a4308"
            }
          },
          "metadata": {}
        },
        {
          "output_type": "display_data",
          "data": {
            "text/plain": [
              "Output()"
            ],
            "application/vnd.jupyter.widget-view+json": {
              "version_major": 2,
              "version_minor": 0,
              "model_id": "f08947050376458aa422f5f7e853dd2e"
            }
          },
          "metadata": {}
        }
      ],
      "source": [
        "#input UI\n",
        "n_intText = widgets.IntText(value=1,\n",
        "                                description='n=',\n",
        "                                orientation='horizontal',\n",
        "                                readout=True)\n",
        "r_intText = widgets.IntText(value=1,\n",
        "                                description='r=',\n",
        "                                orientation='horizontal',\n",
        "                                readout=True)\n",
        "\n",
        "ui = widgets.VBox([n_intText, r_intText])\n",
        "\n",
        "\n",
        "#output\n",
        "def cal_comb(n, r):\n",
        "  n_event = comb(n, r)\n",
        "  P_label = widgets.Label(value=f\"Number of possible events: {n_event}\")\n",
        "  display(P_label)\n",
        " \n",
        "out = widgets.interactive_output(cal_comb, {'n':n_intText,\n",
        "                                            'r':r_intText})\n",
        "display(ui, out)"
      ]
    },
    {
      "cell_type": "code",
      "source": [],
      "metadata": {
        "id": "IP3q-kAwK5uM"
      },
      "execution_count": null,
      "outputs": []
    }
  ]
}