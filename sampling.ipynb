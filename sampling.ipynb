{
 "cells": [
  {
   "cell_type": "markdown",
   "id": "18d84b68-fc77-4ed7-8871-342883090cfd",
   "metadata": {
    "id": "18d84b68-fc77-4ed7-8871-342883090cfd"
   },
   "source": [
    "## การสุ่มตัวอย่าง"
   ]
  },
  {
   "cell_type": "markdown",
   "id": "3bd89c66-cf39-4993-9e90-39e243d15328",
   "metadata": {
    "id": "3bd89c66-cf39-4993-9e90-39e243d15328"
   },
   "source": [
    "ในบทนี้ชุดข้อมูลที่ใช้คือ \"titanic.csv\" ซึ่งเป็นข้อมูลของผู้โดยสารเรือไททานิคมีรายละเอียดของแต่ละคอลัมน์ดังนี้: "
   ]
  },
  {
   "cell_type": "markdown",
   "id": "a1083323-83c6-4c07-9a9a-b116e885e95f",
   "metadata": {
    "id": "a1083323-83c6-4c07-9a9a-b116e885e95f"
   },
   "source": [
    "PassengerId: ID ของผู้โดยสาร\n",
    "Survived: ผู้โดยสารรอด (1) หรือเสียชีวิต (0)  \n",
    "Pclass: ชนชั้นของผู้โดยสาร first class (1), second class (2), third class (3)  \n",
    "Name: ชื่อ-สกุล  \n",
    "Sex: เพศ    \n",
    "Age: อายุ  \n",
    "SibSp: จำนวนพี่น้อง (siblings) และคู่สมรส (spouse) ที่เดินทางมาด้วย    \n",
    "Parch:  จำนวนบิดา-มารดา (parent) และบุตร (child) ที่เดินทางมาด้วย  \n",
    "Ticket: รหัสตั๋วโดยสาร  \n",
    "Fare: ค่าตั๋วโดยสาร  \n",
    "Cabin: รหัสห้องผู้โดยสาร  \n",
    "Embarked: ท่าเรือต้นทาง Southampton (S), Cherbourg (C), และ Queenstown (Q)  \n"
   ]
  },
  {
   "cell_type": "markdown",
   "id": "a77d1e5a-4844-4eb3-8194-a7761f954c80",
   "metadata": {
    "id": "a77d1e5a-4844-4eb3-8194-a7761f954c80"
   },
   "source": [
    "\\*\\*วิธีการต่างๆที่แสดงในบทเรียนนี้เป็นเพียงแค่การยกตัวอย่างเท่านั้น ในการนำไปใช้จริงประชากรควรมีจำนวนมากกว่าชุดข้อมูลที่ใช้ในการเรียนการสอนครั้งนี้"
   ]
  },
  {
   "cell_type": "markdown",
   "id": "4e6f3ec3-da0a-4511-96ef-8dd49453f48f",
   "metadata": {
    "id": "4e6f3ec3-da0a-4511-96ef-8dd49453f48f"
   },
   "source": [
    "\\\n",
    "ทำการ import library ที่ต้องใช้:"
   ]
  },
  {
   "cell_type": "code",
   "execution_count": 2,
   "id": "b4695545-8a56-4365-9d91-8a51e4ad8772",
   "metadata": {
    "executionInfo": {
     "elapsed": 1471,
     "status": "ok",
     "timestamp": 1670911685714,
     "user": {
      "displayName": "Thammakorn SAETHANG",
      "userId": "08182570455347153646"
     },
     "user_tz": -420
    },
    "id": "b4695545-8a56-4365-9d91-8a51e4ad8772"
   },
   "outputs": [
    {
     "name": "stderr",
     "output_type": "stream",
     "text": [
      "Fontconfig warning: ignoring UTF-8: not a valid region tag\n"
     ]
    }
   ],
   "source": [
    "import numpy as np #สำหรับการจัดการข้อมูลที่เป็นตัวเลขต่างๆ\n",
    "import pandas as pd #สำหรับอ่านข้อมูลให้อยู่ในรูปแบบ dataframe\n",
    "import matplotlib.pyplot as plt #เพื่อใช้ควบคู่กับ seaborn ในการทำ data visualization\n",
    "import seaborn as sns #สำหรับการทำ data visualization"
   ]
  },
  {
   "cell_type": "markdown",
   "id": "03a651b4-3257-4a31-a839-fad04f2787b8",
   "metadata": {
    "id": "03a651b4-3257-4a31-a839-fad04f2787b8"
   },
   "source": [
    "\\\n",
    "อ่านข้อมูลจากไฟล์ให้อยู่ในรูปแบบ dataframe และแสดงข้อมูล 5 แถวแรก:"
   ]
  },
  {
   "cell_type": "code",
   "execution_count": 4,
   "id": "8IHeNRIHM67K",
   "metadata": {
    "colab": {
     "base_uri": "https://localhost:8080/"
    },
    "executionInfo": {
     "elapsed": 21058,
     "status": "ok",
     "timestamp": 1670911739711,
     "user": {
      "displayName": "Thammakorn SAETHANG",
      "userId": "08182570455347153646"
     },
     "user_tz": -420
    },
    "id": "8IHeNRIHM67K",
    "outputId": "c029edec-6d05-4dd8-f88e-5bc90299d7a3"
   },
   "outputs": [
    {
     "ename": "ModuleNotFoundError",
     "evalue": "No module named 'google'",
     "output_type": "error",
     "traceback": [
      "\u001b[0;31m---------------------------------------------------------------------------\u001b[0m",
      "\u001b[0;31mModuleNotFoundError\u001b[0m                       Traceback (most recent call last)",
      "Input \u001b[0;32mIn [4]\u001b[0m, in \u001b[0;36m<cell line: 1>\u001b[0;34m()\u001b[0m\n\u001b[0;32m----> 1\u001b[0m \u001b[38;5;28;01mfrom\u001b[39;00m \u001b[38;5;21;01mgoogle\u001b[39;00m\u001b[38;5;21;01m.\u001b[39;00m\u001b[38;5;21;01mcolab\u001b[39;00m \u001b[38;5;28;01mimport\u001b[39;00m drive\n\u001b[1;32m      2\u001b[0m drive\u001b[38;5;241m.\u001b[39mmount(\u001b[38;5;124m'\u001b[39m\u001b[38;5;124m/content/drive\u001b[39m\u001b[38;5;124m'\u001b[39m)\n",
      "\u001b[0;31mModuleNotFoundError\u001b[0m: No module named 'google'"
     ]
    }
   ],
   "source": [
    "from google.colab import drive\n",
    "drive.mount('/content/drive')"
   ]
  },
  {
   "cell_type": "code",
   "execution_count": 27,
   "id": "13269281-daff-423e-b5f7-03a2b2eda0af",
   "metadata": {
    "colab": {
     "base_uri": "https://localhost:8080/",
     "height": 548
    },
    "executionInfo": {
     "elapsed": 1584,
     "status": "ok",
     "timestamp": 1670911745304,
     "user": {
      "displayName": "Thammakorn SAETHANG",
      "userId": "08182570455347153646"
     },
     "user_tz": -420
    },
    "id": "13269281-daff-423e-b5f7-03a2b2eda0af",
    "outputId": "40d7ed4e-17f4-4b52-dbad-291f665f63ea"
   },
   "outputs": [
    {
     "data": {
      "text/html": [
       "<div>\n",
       "<style scoped>\n",
       "    .dataframe tbody tr th:only-of-type {\n",
       "        vertical-align: middle;\n",
       "    }\n",
       "\n",
       "    .dataframe tbody tr th {\n",
       "        vertical-align: top;\n",
       "    }\n",
       "\n",
       "    .dataframe thead th {\n",
       "        text-align: right;\n",
       "    }\n",
       "</style>\n",
       "<table border=\"1\" class=\"dataframe\">\n",
       "  <thead>\n",
       "    <tr style=\"text-align: right;\">\n",
       "      <th></th>\n",
       "      <th>PassengerId</th>\n",
       "      <th>Survived</th>\n",
       "      <th>Pclass</th>\n",
       "      <th>Name</th>\n",
       "      <th>Sex</th>\n",
       "      <th>Age</th>\n",
       "      <th>SibSp</th>\n",
       "      <th>Parch</th>\n",
       "      <th>Ticket</th>\n",
       "      <th>Fare</th>\n",
       "      <th>Cabin</th>\n",
       "      <th>Embarked</th>\n",
       "    </tr>\n",
       "  </thead>\n",
       "  <tbody>\n",
       "    <tr>\n",
       "      <th>0</th>\n",
       "      <td>1</td>\n",
       "      <td>0</td>\n",
       "      <td>3</td>\n",
       "      <td>Braund, Mr. Owen Harris</td>\n",
       "      <td>male</td>\n",
       "      <td>22.0</td>\n",
       "      <td>1</td>\n",
       "      <td>0</td>\n",
       "      <td>A/5 21171</td>\n",
       "      <td>7.2500</td>\n",
       "      <td>NaN</td>\n",
       "      <td>S</td>\n",
       "    </tr>\n",
       "    <tr>\n",
       "      <th>1</th>\n",
       "      <td>2</td>\n",
       "      <td>1</td>\n",
       "      <td>1</td>\n",
       "      <td>Cumings, Mrs. John Bradley (Florence Briggs Th...</td>\n",
       "      <td>female</td>\n",
       "      <td>38.0</td>\n",
       "      <td>1</td>\n",
       "      <td>0</td>\n",
       "      <td>PC 17599</td>\n",
       "      <td>71.2833</td>\n",
       "      <td>C85</td>\n",
       "      <td>C</td>\n",
       "    </tr>\n",
       "    <tr>\n",
       "      <th>2</th>\n",
       "      <td>3</td>\n",
       "      <td>1</td>\n",
       "      <td>3</td>\n",
       "      <td>Heikkinen, Miss. Laina</td>\n",
       "      <td>female</td>\n",
       "      <td>26.0</td>\n",
       "      <td>0</td>\n",
       "      <td>0</td>\n",
       "      <td>STON/O2. 3101282</td>\n",
       "      <td>7.9250</td>\n",
       "      <td>NaN</td>\n",
       "      <td>S</td>\n",
       "    </tr>\n",
       "    <tr>\n",
       "      <th>3</th>\n",
       "      <td>4</td>\n",
       "      <td>1</td>\n",
       "      <td>1</td>\n",
       "      <td>Futrelle, Mrs. Jacques Heath (Lily May Peel)</td>\n",
       "      <td>female</td>\n",
       "      <td>35.0</td>\n",
       "      <td>1</td>\n",
       "      <td>0</td>\n",
       "      <td>113803</td>\n",
       "      <td>53.1000</td>\n",
       "      <td>C123</td>\n",
       "      <td>S</td>\n",
       "    </tr>\n",
       "    <tr>\n",
       "      <th>4</th>\n",
       "      <td>5</td>\n",
       "      <td>0</td>\n",
       "      <td>3</td>\n",
       "      <td>Allen, Mr. William Henry</td>\n",
       "      <td>male</td>\n",
       "      <td>35.0</td>\n",
       "      <td>0</td>\n",
       "      <td>0</td>\n",
       "      <td>373450</td>\n",
       "      <td>8.0500</td>\n",
       "      <td>NaN</td>\n",
       "      <td>S</td>\n",
       "    </tr>\n",
       "  </tbody>\n",
       "</table>\n",
       "</div>"
      ],
      "text/plain": [
       "   PassengerId  Survived  Pclass  \\\n",
       "0            1         0       3   \n",
       "1            2         1       1   \n",
       "2            3         1       3   \n",
       "3            4         1       1   \n",
       "4            5         0       3   \n",
       "\n",
       "                                                Name     Sex   Age  SibSp  \\\n",
       "0                            Braund, Mr. Owen Harris    male  22.0      1   \n",
       "1  Cumings, Mrs. John Bradley (Florence Briggs Th...  female  38.0      1   \n",
       "2                             Heikkinen, Miss. Laina  female  26.0      0   \n",
       "3       Futrelle, Mrs. Jacques Heath (Lily May Peel)  female  35.0      1   \n",
       "4                           Allen, Mr. William Henry    male  35.0      0   \n",
       "\n",
       "   Parch            Ticket     Fare Cabin Embarked  \n",
       "0      0         A/5 21171   7.2500   NaN        S  \n",
       "1      0          PC 17599  71.2833   C85        C  \n",
       "2      0  STON/O2. 3101282   7.9250   NaN        S  \n",
       "3      0            113803  53.1000  C123        S  \n",
       "4      0            373450   8.0500   NaN        S  "
      ]
     },
     "execution_count": 27,
     "metadata": {},
     "output_type": "execute_result"
    }
   ],
   "source": [
    "df = pd.read_csv(\"titanic.csv\")\n",
    "df.head()"
   ]
  },
  {
   "cell_type": "markdown",
   "id": "1ba71f2a-c5c7-43a9-b1eb-abf429bcd09c",
   "metadata": {
    "id": "1ba71f2a-c5c7-43a9-b1eb-abf429bcd09c"
   },
   "source": [
    "\\\n",
    "ดูภาพรวมข้อมูลเบื้องต้น:"
   ]
  },
  {
   "cell_type": "code",
   "execution_count": 28,
   "id": "6bc16086-8170-4e5c-a93c-5825c06f6c6c",
   "metadata": {
    "colab": {
     "base_uri": "https://localhost:8080/"
    },
    "executionInfo": {
     "elapsed": 4,
     "status": "ok",
     "timestamp": 1670835205549,
     "user": {
      "displayName": "Thammakorn SAETHANG",
      "userId": "08182570455347153646"
     },
     "user_tz": -420
    },
    "id": "6bc16086-8170-4e5c-a93c-5825c06f6c6c",
    "outputId": "c75ad5f0-ba89-4143-d54d-670fec7165aa"
   },
   "outputs": [
    {
     "name": "stdout",
     "output_type": "stream",
     "text": [
      "<class 'pandas.core.frame.DataFrame'>\n",
      "RangeIndex: 891 entries, 0 to 890\n",
      "Data columns (total 12 columns):\n",
      " #   Column       Non-Null Count  Dtype  \n",
      "---  ------       --------------  -----  \n",
      " 0   PassengerId  891 non-null    int64  \n",
      " 1   Survived     891 non-null    int64  \n",
      " 2   Pclass       891 non-null    int64  \n",
      " 3   Name         891 non-null    object \n",
      " 4   Sex          891 non-null    object \n",
      " 5   Age          714 non-null    float64\n",
      " 6   SibSp        891 non-null    int64  \n",
      " 7   Parch        891 non-null    int64  \n",
      " 8   Ticket       891 non-null    object \n",
      " 9   Fare         891 non-null    float64\n",
      " 10  Cabin        204 non-null    object \n",
      " 11  Embarked     889 non-null    object \n",
      "dtypes: float64(2), int64(5), object(5)\n",
      "memory usage: 83.7+ KB\n"
     ]
    }
   ],
   "source": [
    "df.info()"
   ]
  },
  {
   "cell_type": "markdown",
   "id": "13b2214d-c531-4c2e-8876-8597f160c324",
   "metadata": {
    "id": "13b2214d-c531-4c2e-8876-8597f160c324"
   },
   "source": [
    "\\\n",
    "เนื่องจากในบทนี้จะใช้ข้อมูลอายุเป็นหลัก จึงต้องกรองให้มีเฉพาะผู้โดยสารที่มีข้อมูลอายุเท่านั้น:"
   ]
  },
  {
   "cell_type": "code",
   "execution_count": 29,
   "id": "c0e7ec85-d77f-41f6-83ef-5e4a884d5d65",
   "metadata": {
    "colab": {
     "base_uri": "https://localhost:8080/"
    },
    "executionInfo": {
     "elapsed": 460,
     "status": "ok",
     "timestamp": 1670835210414,
     "user": {
      "displayName": "Thammakorn SAETHANG",
      "userId": "08182570455347153646"
     },
     "user_tz": -420
    },
    "id": "c0e7ec85-d77f-41f6-83ef-5e4a884d5d65",
    "outputId": "7961ba3d-e2c6-4fd0-fb24-774ff1ee257e"
   },
   "outputs": [
    {
     "name": "stdout",
     "output_type": "stream",
     "text": [
      "<class 'pandas.core.frame.DataFrame'>\n",
      "Int64Index: 714 entries, 0 to 890\n",
      "Data columns (total 12 columns):\n",
      " #   Column       Non-Null Count  Dtype  \n",
      "---  ------       --------------  -----  \n",
      " 0   PassengerId  714 non-null    int64  \n",
      " 1   Survived     714 non-null    int64  \n",
      " 2   Pclass       714 non-null    int64  \n",
      " 3   Name         714 non-null    object \n",
      " 4   Sex          714 non-null    object \n",
      " 5   Age          714 non-null    float64\n",
      " 6   SibSp        714 non-null    int64  \n",
      " 7   Parch        714 non-null    int64  \n",
      " 8   Ticket       714 non-null    object \n",
      " 9   Fare         714 non-null    float64\n",
      " 10  Cabin        185 non-null    object \n",
      " 11  Embarked     712 non-null    object \n",
      "dtypes: float64(2), int64(5), object(5)\n",
      "memory usage: 72.5+ KB\n"
     ]
    }
   ],
   "source": [
    "df = df[df.Age.notnull()]\n",
    "df.info()"
   ]
  },
  {
   "cell_type": "markdown",
   "id": "JlLdHQM7_PZm",
   "metadata": {
    "id": "JlLdHQM7_PZm"
   },
   "source": [
    "####  \n",
    "### **การสุ่มตัวอย่างโดยใช้ความน่าจะเป็น (probability sampling)**"
   ]
  },
  {
   "cell_type": "markdown",
   "id": "fbe0fa52-eb77-4da3-87c1-0226e8cdaacb",
   "metadata": {
    "id": "fbe0fa52-eb77-4da3-87c1-0226e8cdaacb"
   },
   "source": [
    "####  \n",
    "#### 1. เลือกตัวอย่างขนาด n = 100 โดยใช้การสุ่มตัวอย่างแบบง่าย (simple random sampling)"
   ]
  },
  {
   "cell_type": "code",
   "execution_count": 36,
   "id": "d559b256-b3ab-4048-b678-94fcdd6c2933",
   "metadata": {
    "colab": {
     "base_uri": "https://localhost:8080/",
     "height": 406
    },
    "executionInfo": {
     "elapsed": 509,
     "status": "ok",
     "timestamp": 1670835213475,
     "user": {
      "displayName": "Thammakorn SAETHANG",
      "userId": "08182570455347153646"
     },
     "user_tz": -420
    },
    "id": "d559b256-b3ab-4048-b678-94fcdd6c2933",
    "outputId": "42ad53e7-880c-4bd8-ebc5-b00b028c3caf"
   },
   "outputs": [
    {
     "data": {
      "text/html": [
       "<div>\n",
       "<style scoped>\n",
       "    .dataframe tbody tr th:only-of-type {\n",
       "        vertical-align: middle;\n",
       "    }\n",
       "\n",
       "    .dataframe tbody tr th {\n",
       "        vertical-align: top;\n",
       "    }\n",
       "\n",
       "    .dataframe thead th {\n",
       "        text-align: right;\n",
       "    }\n",
       "</style>\n",
       "<table border=\"1\" class=\"dataframe\">\n",
       "  <thead>\n",
       "    <tr style=\"text-align: right;\">\n",
       "      <th></th>\n",
       "      <th>PassengerId</th>\n",
       "      <th>Survived</th>\n",
       "      <th>Pclass</th>\n",
       "      <th>Name</th>\n",
       "      <th>Sex</th>\n",
       "      <th>Age</th>\n",
       "      <th>SibSp</th>\n",
       "      <th>Parch</th>\n",
       "      <th>Ticket</th>\n",
       "      <th>Fare</th>\n",
       "      <th>Cabin</th>\n",
       "      <th>Embarked</th>\n",
       "    </tr>\n",
       "  </thead>\n",
       "  <tbody>\n",
       "    <tr>\n",
       "      <th>86</th>\n",
       "      <td>87</td>\n",
       "      <td>0</td>\n",
       "      <td>3</td>\n",
       "      <td>Ford, Mr. William Neal</td>\n",
       "      <td>male</td>\n",
       "      <td>16.0</td>\n",
       "      <td>1</td>\n",
       "      <td>3</td>\n",
       "      <td>W./C. 6608</td>\n",
       "      <td>34.3750</td>\n",
       "      <td>NaN</td>\n",
       "      <td>S</td>\n",
       "    </tr>\n",
       "    <tr>\n",
       "      <th>297</th>\n",
       "      <td>298</td>\n",
       "      <td>0</td>\n",
       "      <td>1</td>\n",
       "      <td>Allison, Miss. Helen Loraine</td>\n",
       "      <td>female</td>\n",
       "      <td>2.0</td>\n",
       "      <td>1</td>\n",
       "      <td>2</td>\n",
       "      <td>113781</td>\n",
       "      <td>151.5500</td>\n",
       "      <td>C22 C26</td>\n",
       "      <td>S</td>\n",
       "    </tr>\n",
       "    <tr>\n",
       "      <th>742</th>\n",
       "      <td>743</td>\n",
       "      <td>1</td>\n",
       "      <td>1</td>\n",
       "      <td>Ryerson, Miss. Susan Parker \"Suzette\"</td>\n",
       "      <td>female</td>\n",
       "      <td>21.0</td>\n",
       "      <td>2</td>\n",
       "      <td>2</td>\n",
       "      <td>PC 17608</td>\n",
       "      <td>262.3750</td>\n",
       "      <td>B57 B59 B63 B66</td>\n",
       "      <td>C</td>\n",
       "    </tr>\n",
       "    <tr>\n",
       "      <th>729</th>\n",
       "      <td>730</td>\n",
       "      <td>0</td>\n",
       "      <td>3</td>\n",
       "      <td>Ilmakangas, Miss. Pieta Sofia</td>\n",
       "      <td>female</td>\n",
       "      <td>25.0</td>\n",
       "      <td>1</td>\n",
       "      <td>0</td>\n",
       "      <td>STON/O2. 3101271</td>\n",
       "      <td>7.9250</td>\n",
       "      <td>NaN</td>\n",
       "      <td>S</td>\n",
       "    </tr>\n",
       "    <tr>\n",
       "      <th>762</th>\n",
       "      <td>763</td>\n",
       "      <td>1</td>\n",
       "      <td>3</td>\n",
       "      <td>Barah, Mr. Hanna Assi</td>\n",
       "      <td>male</td>\n",
       "      <td>20.0</td>\n",
       "      <td>0</td>\n",
       "      <td>0</td>\n",
       "      <td>2663</td>\n",
       "      <td>7.2292</td>\n",
       "      <td>NaN</td>\n",
       "      <td>C</td>\n",
       "    </tr>\n",
       "  </tbody>\n",
       "</table>\n",
       "</div>"
      ],
      "text/plain": [
       "     PassengerId  Survived  Pclass                                   Name  \\\n",
       "86            87         0       3                 Ford, Mr. William Neal   \n",
       "297          298         0       1           Allison, Miss. Helen Loraine   \n",
       "742          743         1       1  Ryerson, Miss. Susan Parker \"Suzette\"   \n",
       "729          730         0       3          Ilmakangas, Miss. Pieta Sofia   \n",
       "762          763         1       3                  Barah, Mr. Hanna Assi   \n",
       "\n",
       "        Sex   Age  SibSp  Parch            Ticket      Fare            Cabin  \\\n",
       "86     male  16.0      1      3        W./C. 6608   34.3750              NaN   \n",
       "297  female   2.0      1      2            113781  151.5500          C22 C26   \n",
       "742  female  21.0      2      2          PC 17608  262.3750  B57 B59 B63 B66   \n",
       "729  female  25.0      1      0  STON/O2. 3101271    7.9250              NaN   \n",
       "762    male  20.0      0      0              2663    7.2292              NaN   \n",
       "\n",
       "    Embarked  \n",
       "86         S  \n",
       "297        S  \n",
       "742        C  \n",
       "729        S  \n",
       "762        C  "
      ]
     },
     "execution_count": 36,
     "metadata": {},
     "output_type": "execute_result"
    }
   ],
   "source": [
    "sample_simple_rand = df.sample(n=100)\n",
    "sample_simple_rand.head()"
   ]
  },
  {
   "cell_type": "markdown",
   "id": "659345b5-3069-4155-8b70-931343757b6a",
   "metadata": {
    "id": "659345b5-3069-4155-8b70-931343757b6a"
   },
   "source": [
    "\\\n",
    "หาค่าเฉลี่ยอายุจากตัวอย่างที่ได้:"
   ]
  },
  {
   "cell_type": "code",
   "execution_count": 31,
   "id": "0b717b0e-f3b7-4330-b532-594d42c3ccb8",
   "metadata": {
    "colab": {
     "base_uri": "https://localhost:8080/"
    },
    "executionInfo": {
     "elapsed": 3,
     "status": "ok",
     "timestamp": 1670762642809,
     "user": {
      "displayName": "Thammakorn SAETHANG",
      "userId": "08182570455347153646"
     },
     "user_tz": -420
    },
    "id": "0b717b0e-f3b7-4330-b532-594d42c3ccb8",
    "outputId": "baf860e4-cfa5-4dfd-c9a2-fb95654e0599"
   },
   "outputs": [
    {
     "data": {
      "text/plain": [
       "27.535"
      ]
     },
     "execution_count": 31,
     "metadata": {},
     "output_type": "execute_result"
    }
   ],
   "source": [
    "sample_simple_rand.Age.mean()"
   ]
  },
  {
   "cell_type": "code",
   "execution_count": 32,
   "id": "ac766dfe-5221-4abf-98e5-50fd5038a192",
   "metadata": {
    "colab": {
     "base_uri": "https://localhost:8080/",
     "height": 36
    },
    "executionInfo": {
     "elapsed": 471,
     "status": "ok",
     "timestamp": 1670762645972,
     "user": {
      "displayName": "Thammakorn SAETHANG",
      "userId": "08182570455347153646"
     },
     "user_tz": -420
    },
    "id": "ac766dfe-5221-4abf-98e5-50fd5038a192",
    "outputId": "1296f77a-cca8-40c8-8cd4-6d36666c43f9"
   },
   "outputs": [
    {
     "data": {
      "text/plain": [
       "'ค่าเฉลี่ยอายุตัวอย่าง =  27.54 ±  15.27'"
      ]
     },
     "execution_count": 32,
     "metadata": {},
     "output_type": "execute_result"
    }
   ],
   "source": [
    "f\"ค่าเฉลี่ยอายุตัวอย่าง = {sample_simple_rand.Age.mean(): .2f} ± {sample_simple_rand.Age.std(): .2f}\""
   ]
  },
  {
   "cell_type": "markdown",
   "id": "9194cd0c-9afe-4958-a0c6-80e2f94f5e73",
   "metadata": {
    "id": "9194cd0c-9afe-4958-a0c6-80e2f94f5e73"
   },
   "source": [
    "\\\n",
    "ค่าเฉลี่ยอายุของประชากร:"
   ]
  },
  {
   "cell_type": "code",
   "execution_count": 33,
   "id": "33124109-5160-492d-8fa6-b1016d447b44",
   "metadata": {
    "colab": {
     "base_uri": "https://localhost:8080/"
    },
    "executionInfo": {
     "elapsed": 3,
     "status": "ok",
     "timestamp": 1670762650309,
     "user": {
      "displayName": "Thammakorn SAETHANG",
      "userId": "08182570455347153646"
     },
     "user_tz": -420
    },
    "id": "33124109-5160-492d-8fa6-b1016d447b44",
    "outputId": "007c6385-dd83-4924-e5db-5cd568419b8a"
   },
   "outputs": [
    {
     "data": {
      "text/plain": [
       "29.69911764705882"
      ]
     },
     "execution_count": 33,
     "metadata": {},
     "output_type": "execute_result"
    }
   ],
   "source": [
    "df.Age.mean()"
   ]
  },
  {
   "cell_type": "code",
   "execution_count": 35,
   "id": "900a47d2-6891-4f08-a9ee-3c5dd866d335",
   "metadata": {
    "colab": {
     "base_uri": "https://localhost:8080/",
     "height": 36
    },
    "executionInfo": {
     "elapsed": 617,
     "status": "ok",
     "timestamp": 1670762653374,
     "user": {
      "displayName": "Thammakorn SAETHANG",
      "userId": "08182570455347153646"
     },
     "user_tz": -420
    },
    "id": "900a47d2-6891-4f08-a9ee-3c5dd866d335",
    "outputId": "518e9625-d6d9-43bf-c01f-2edb2b638106"
   },
   "outputs": [
    {
     "data": {
      "text/plain": [
       "'ค่าเฉลี่ยอายุประชากร =  29.70 ±  14.53'"
      ]
     },
     "execution_count": 35,
     "metadata": {},
     "output_type": "execute_result"
    }
   ],
   "source": [
    "f\"ค่าเฉลี่ยอายุประชากร = {df.Age.mean(): .2f} ± {df.Age.std(): .2f}\""
   ]
  },
  {
   "cell_type": "markdown",
   "id": "vRTLI3CYKwO_",
   "metadata": {
    "id": "vRTLI3CYKwO_"
   },
   "source": [
    "---"
   ]
  },
  {
   "cell_type": "markdown",
   "id": "643afc86-b478-448e-9399-41b090a64c08",
   "metadata": {
    "id": "643afc86-b478-448e-9399-41b090a64c08"
   },
   "source": [
    "####   \n",
    "#### 2. เลือกตัวอย่างขนาด n = 100 โดยใช้การสุ่มตัวอย่างแบบมีระบบ (systematic sampling)"
   ]
  },
  {
   "cell_type": "markdown",
   "id": "74285c81-21b7-4e88-bce1-e9de9c30512b",
   "metadata": {
    "id": "74285c81-21b7-4e88-bce1-e9de9c30512b"
   },
   "source": [
    "\\\n",
    "หาขนาดช่วงการสุ่ม I:"
   ]
  },
  {
   "cell_type": "code",
   "execution_count": 116,
   "id": "7aca08fe-8463-432a-89db-7361b9d15d97",
   "metadata": {
    "colab": {
     "base_uri": "https://localhost:8080/"
    },
    "executionInfo": {
     "elapsed": 374,
     "status": "ok",
     "timestamp": 1670835219219,
     "user": {
      "displayName": "Thammakorn SAETHANG",
      "userId": "08182570455347153646"
     },
     "user_tz": -420
    },
    "id": "7aca08fe-8463-432a-89db-7361b9d15d97",
    "outputId": "d5f3d320-d1c6-42b1-ba91-5bda4772ea4c"
   },
   "outputs": [
    {
     "data": {
      "text/plain": [
       "7.14"
      ]
     },
     "execution_count": 116,
     "metadata": {},
     "output_type": "execute_result"
    }
   ],
   "source": [
    "I = df.shape[0]/100\n",
    "I"
   ]
  },
  {
   "cell_type": "markdown",
   "id": "be8b21bb-d890-4b5d-bc38-607924224fe1",
   "metadata": {
    "id": "be8b21bb-d890-4b5d-bc38-607924224fe1"
   },
   "source": [
    "\\\n",
    "index ของแถวที่เลือกเป็นช่วงตามค่า I โดยใช้ค่า r = 1 (index = 0):"
   ]
  },
  {
   "cell_type": "code",
   "execution_count": null,
   "id": "01df20e8-ccff-454e-815f-0a67b532f1b4",
   "metadata": {
    "colab": {
     "base_uri": "https://localhost:8080/"
    },
    "executionInfo": {
     "elapsed": 4,
     "status": "ok",
     "timestamp": 1670835288930,
     "user": {
      "displayName": "Thammakorn SAETHANG",
      "userId": "08182570455347153646"
     },
     "user_tz": -420
    },
    "id": "01df20e8-ccff-454e-815f-0a67b532f1b4",
    "outputId": "20ccabf9-4e10-4ffe-872b-1c8937ca746f"
   },
   "outputs": [
    {
     "data": {
      "text/plain": [
       "array([  0,   7,  14,  21,  28,  35,  42,  49,  56,  63,  70,  77,  84,\n",
       "        91,  98, 105, 112, 119, 126, 133, 140, 147, 154, 161, 168, 175,\n",
       "       182, 189, 196, 203, 210, 217, 224, 231, 238, 245, 252, 259, 266,\n",
       "       273, 280, 287, 294, 301, 308, 315, 322, 329, 336, 343, 350, 357,\n",
       "       364, 371, 378, 385, 392, 399, 406, 413, 420, 427, 434, 441, 448,\n",
       "       455, 462, 469, 476, 483, 490, 497, 504, 511, 518, 525, 532, 539,\n",
       "       546, 553, 560, 567, 574, 581, 588, 595, 602, 609, 616, 623, 630,\n",
       "       637, 644, 651, 658, 665, 672, 679, 686, 693, 700, 707])"
      ]
     },
     "execution_count": 10,
     "metadata": {},
     "output_type": "execute_result"
    }
   ],
   "source": [
    "sel_idx = np.arange(start=0, stop=df.shape[0], step=(int)(I))\n",
    "sel_idx"
   ]
  },
  {
   "cell_type": "markdown",
   "id": "41e03024-7daf-4c73-beb9-e69aa1e1d776",
   "metadata": {
    "id": "41e03024-7daf-4c73-beb9-e69aa1e1d776"
   },
   "source": [
    "\\\n",
    "ตรวจสอบจำนวนตัวอย่างที่ได้:"
   ]
  },
  {
   "cell_type": "code",
   "execution_count": null,
   "id": "1026d1de-f256-496c-b8c7-3c074631016a",
   "metadata": {
    "colab": {
     "base_uri": "https://localhost:8080/"
    },
    "executionInfo": {
     "elapsed": 327,
     "status": "ok",
     "timestamp": 1670835294426,
     "user": {
      "displayName": "Thammakorn SAETHANG",
      "userId": "08182570455347153646"
     },
     "user_tz": -420
    },
    "id": "1026d1de-f256-496c-b8c7-3c074631016a",
    "outputId": "e753e47c-7eaa-408d-b61f-18835865fb95"
   },
   "outputs": [
    {
     "data": {
      "text/plain": [
       "102"
      ]
     },
     "execution_count": 11,
     "metadata": {},
     "output_type": "execute_result"
    }
   ],
   "source": [
    "len(sel_idx)"
   ]
  },
  {
   "cell_type": "markdown",
   "id": "45f1dc4b-e838-4232-84f1-b880ef8d6048",
   "metadata": {
    "id": "45f1dc4b-e838-4232-84f1-b880ef8d6048"
   },
   "source": [
    "\\\n",
    "เนื่องจากจำนวนตัวอย่างเกินมา 2 จะตัดให้เหลือ 100 เท่านั้น:"
   ]
  },
  {
   "cell_type": "code",
   "execution_count": null,
   "id": "3e250b77-c916-4465-b98f-10d76dd08e9b",
   "metadata": {
    "colab": {
     "base_uri": "https://localhost:8080/"
    },
    "executionInfo": {
     "elapsed": 345,
     "status": "ok",
     "timestamp": 1670835530272,
     "user": {
      "displayName": "Thammakorn SAETHANG",
      "userId": "08182570455347153646"
     },
     "user_tz": -420
    },
    "id": "3e250b77-c916-4465-b98f-10d76dd08e9b",
    "outputId": "eccf5a09-a212-4a09-c853-90c65e3498c2"
   },
   "outputs": [
    {
     "data": {
      "text/plain": [
       "100"
      ]
     },
     "execution_count": 12,
     "metadata": {},
     "output_type": "execute_result"
    }
   ],
   "source": [
    "sel_idx = sel_idx[0:100]\n",
    "len(sel_idx)"
   ]
  },
  {
   "cell_type": "markdown",
   "id": "6c4199d1-4f25-49bf-ac10-fe7e5ff0fafa",
   "metadata": {
    "id": "6c4199d1-4f25-49bf-ac10-fe7e5ff0fafa"
   },
   "source": [
    "\\\n",
    "เลือกตัวอย่าง:"
   ]
  },
  {
   "cell_type": "code",
   "execution_count": null,
   "id": "b4b65aee-b5a4-44f5-aa73-2f06f8a44285",
   "metadata": {
    "colab": {
     "base_uri": "https://localhost:8080/",
     "height": 510
    },
    "executionInfo": {
     "elapsed": 356,
     "status": "ok",
     "timestamp": 1670835560081,
     "user": {
      "displayName": "Thammakorn SAETHANG",
      "userId": "08182570455347153646"
     },
     "user_tz": -420
    },
    "id": "b4b65aee-b5a4-44f5-aa73-2f06f8a44285",
    "outputId": "4de3e5b6-c464-43cf-f0e8-e41af87eccf7"
   },
   "outputs": [
    {
     "data": {
      "text/html": [
       "\n",
       "  <div id=\"df-4fb171af-6fc2-4cf4-9530-e41d16071658\">\n",
       "    <div class=\"colab-df-container\">\n",
       "      <div>\n",
       "<style scoped>\n",
       "    .dataframe tbody tr th:only-of-type {\n",
       "        vertical-align: middle;\n",
       "    }\n",
       "\n",
       "    .dataframe tbody tr th {\n",
       "        vertical-align: top;\n",
       "    }\n",
       "\n",
       "    .dataframe thead th {\n",
       "        text-align: right;\n",
       "    }\n",
       "</style>\n",
       "<table border=\"1\" class=\"dataframe\">\n",
       "  <thead>\n",
       "    <tr style=\"text-align: right;\">\n",
       "      <th></th>\n",
       "      <th>PassengerId</th>\n",
       "      <th>Survived</th>\n",
       "      <th>Pclass</th>\n",
       "      <th>Name</th>\n",
       "      <th>Sex</th>\n",
       "      <th>Age</th>\n",
       "      <th>SibSp</th>\n",
       "      <th>Parch</th>\n",
       "      <th>Ticket</th>\n",
       "      <th>Fare</th>\n",
       "      <th>Cabin</th>\n",
       "      <th>Embarked</th>\n",
       "    </tr>\n",
       "  </thead>\n",
       "  <tbody>\n",
       "    <tr>\n",
       "      <th>0</th>\n",
       "      <td>1</td>\n",
       "      <td>0</td>\n",
       "      <td>3</td>\n",
       "      <td>Braund, Mr. Owen Harris</td>\n",
       "      <td>male</td>\n",
       "      <td>22.0</td>\n",
       "      <td>1</td>\n",
       "      <td>0</td>\n",
       "      <td>A/5 21171</td>\n",
       "      <td>7.2500</td>\n",
       "      <td>NaN</td>\n",
       "      <td>S</td>\n",
       "    </tr>\n",
       "    <tr>\n",
       "      <th>8</th>\n",
       "      <td>9</td>\n",
       "      <td>1</td>\n",
       "      <td>3</td>\n",
       "      <td>Johnson, Mrs. Oscar W (Elisabeth Vilhelmina Berg)</td>\n",
       "      <td>female</td>\n",
       "      <td>27.0</td>\n",
       "      <td>0</td>\n",
       "      <td>2</td>\n",
       "      <td>347742</td>\n",
       "      <td>11.1333</td>\n",
       "      <td>NaN</td>\n",
       "      <td>S</td>\n",
       "    </tr>\n",
       "    <tr>\n",
       "      <th>15</th>\n",
       "      <td>16</td>\n",
       "      <td>1</td>\n",
       "      <td>2</td>\n",
       "      <td>Hewlett, Mrs. (Mary D Kingcome)</td>\n",
       "      <td>female</td>\n",
       "      <td>55.0</td>\n",
       "      <td>0</td>\n",
       "      <td>0</td>\n",
       "      <td>248706</td>\n",
       "      <td>16.0000</td>\n",
       "      <td>NaN</td>\n",
       "      <td>S</td>\n",
       "    </tr>\n",
       "    <tr>\n",
       "      <th>24</th>\n",
       "      <td>25</td>\n",
       "      <td>0</td>\n",
       "      <td>3</td>\n",
       "      <td>Palsson, Miss. Torborg Danira</td>\n",
       "      <td>female</td>\n",
       "      <td>8.0</td>\n",
       "      <td>3</td>\n",
       "      <td>1</td>\n",
       "      <td>349909</td>\n",
       "      <td>21.0750</td>\n",
       "      <td>NaN</td>\n",
       "      <td>S</td>\n",
       "    </tr>\n",
       "    <tr>\n",
       "      <th>37</th>\n",
       "      <td>38</td>\n",
       "      <td>0</td>\n",
       "      <td>3</td>\n",
       "      <td>Cann, Mr. Ernest Charles</td>\n",
       "      <td>male</td>\n",
       "      <td>21.0</td>\n",
       "      <td>0</td>\n",
       "      <td>0</td>\n",
       "      <td>A./5. 2152</td>\n",
       "      <td>8.0500</td>\n",
       "      <td>NaN</td>\n",
       "      <td>S</td>\n",
       "    </tr>\n",
       "  </tbody>\n",
       "</table>\n",
       "</div>\n",
       "      <button class=\"colab-df-convert\" onclick=\"convertToInteractive('df-4fb171af-6fc2-4cf4-9530-e41d16071658')\"\n",
       "              title=\"Convert this dataframe to an interactive table.\"\n",
       "              style=\"display:none;\">\n",
       "        \n",
       "  <svg xmlns=\"http://www.w3.org/2000/svg\" height=\"24px\"viewBox=\"0 0 24 24\"\n",
       "       width=\"24px\">\n",
       "    <path d=\"M0 0h24v24H0V0z\" fill=\"none\"/>\n",
       "    <path d=\"M18.56 5.44l.94 2.06.94-2.06 2.06-.94-2.06-.94-.94-2.06-.94 2.06-2.06.94zm-11 1L8.5 8.5l.94-2.06 2.06-.94-2.06-.94L8.5 2.5l-.94 2.06-2.06.94zm10 10l.94 2.06.94-2.06 2.06-.94-2.06-.94-.94-2.06-.94 2.06-2.06.94z\"/><path d=\"M17.41 7.96l-1.37-1.37c-.4-.4-.92-.59-1.43-.59-.52 0-1.04.2-1.43.59L10.3 9.45l-7.72 7.72c-.78.78-.78 2.05 0 2.83L4 21.41c.39.39.9.59 1.41.59.51 0 1.02-.2 1.41-.59l7.78-7.78 2.81-2.81c.8-.78.8-2.07 0-2.86zM5.41 20L4 18.59l7.72-7.72 1.47 1.35L5.41 20z\"/>\n",
       "  </svg>\n",
       "      </button>\n",
       "      \n",
       "  <style>\n",
       "    .colab-df-container {\n",
       "      display:flex;\n",
       "      flex-wrap:wrap;\n",
       "      gap: 12px;\n",
       "    }\n",
       "\n",
       "    .colab-df-convert {\n",
       "      background-color: #E8F0FE;\n",
       "      border: none;\n",
       "      border-radius: 50%;\n",
       "      cursor: pointer;\n",
       "      display: none;\n",
       "      fill: #1967D2;\n",
       "      height: 32px;\n",
       "      padding: 0 0 0 0;\n",
       "      width: 32px;\n",
       "    }\n",
       "\n",
       "    .colab-df-convert:hover {\n",
       "      background-color: #E2EBFA;\n",
       "      box-shadow: 0px 1px 2px rgba(60, 64, 67, 0.3), 0px 1px 3px 1px rgba(60, 64, 67, 0.15);\n",
       "      fill: #174EA6;\n",
       "    }\n",
       "\n",
       "    [theme=dark] .colab-df-convert {\n",
       "      background-color: #3B4455;\n",
       "      fill: #D2E3FC;\n",
       "    }\n",
       "\n",
       "    [theme=dark] .colab-df-convert:hover {\n",
       "      background-color: #434B5C;\n",
       "      box-shadow: 0px 1px 3px 1px rgba(0, 0, 0, 0.15);\n",
       "      filter: drop-shadow(0px 1px 2px rgba(0, 0, 0, 0.3));\n",
       "      fill: #FFFFFF;\n",
       "    }\n",
       "  </style>\n",
       "\n",
       "      <script>\n",
       "        const buttonEl =\n",
       "          document.querySelector('#df-4fb171af-6fc2-4cf4-9530-e41d16071658 button.colab-df-convert');\n",
       "        buttonEl.style.display =\n",
       "          google.colab.kernel.accessAllowed ? 'block' : 'none';\n",
       "\n",
       "        async function convertToInteractive(key) {\n",
       "          const element = document.querySelector('#df-4fb171af-6fc2-4cf4-9530-e41d16071658');\n",
       "          const dataTable =\n",
       "            await google.colab.kernel.invokeFunction('convertToInteractive',\n",
       "                                                     [key], {});\n",
       "          if (!dataTable) return;\n",
       "\n",
       "          const docLinkHtml = 'Like what you see? Visit the ' +\n",
       "            '<a target=\"_blank\" href=https://colab.research.google.com/notebooks/data_table.ipynb>data table notebook</a>'\n",
       "            + ' to learn more about interactive tables.';\n",
       "          element.innerHTML = '';\n",
       "          dataTable['output_type'] = 'display_data';\n",
       "          await google.colab.output.renderOutput(dataTable, element);\n",
       "          const docLink = document.createElement('div');\n",
       "          docLink.innerHTML = docLinkHtml;\n",
       "          element.appendChild(docLink);\n",
       "        }\n",
       "      </script>\n",
       "    </div>\n",
       "  </div>\n",
       "  "
      ],
      "text/plain": [
       "    PassengerId  Survived  Pclass  \\\n",
       "0             1         0       3   \n",
       "8             9         1       3   \n",
       "15           16         1       2   \n",
       "24           25         0       3   \n",
       "37           38         0       3   \n",
       "\n",
       "                                                 Name     Sex   Age  SibSp  \\\n",
       "0                             Braund, Mr. Owen Harris    male  22.0      1   \n",
       "8   Johnson, Mrs. Oscar W (Elisabeth Vilhelmina Berg)  female  27.0      0   \n",
       "15                   Hewlett, Mrs. (Mary D Kingcome)   female  55.0      0   \n",
       "24                      Palsson, Miss. Torborg Danira  female   8.0      3   \n",
       "37                           Cann, Mr. Ernest Charles    male  21.0      0   \n",
       "\n",
       "    Parch      Ticket     Fare Cabin Embarked  \n",
       "0       0   A/5 21171   7.2500   NaN        S  \n",
       "8       2      347742  11.1333   NaN        S  \n",
       "15      0      248706  16.0000   NaN        S  \n",
       "24      1      349909  21.0750   NaN        S  \n",
       "37      0  A./5. 2152   8.0500   NaN        S  "
      ]
     },
     "execution_count": 13,
     "metadata": {},
     "output_type": "execute_result"
    }
   ],
   "source": [
    "sample_sys_rand = df.iloc[sel_idx,]\n",
    "sample_sys_rand.head()"
   ]
  },
  {
   "cell_type": "markdown",
   "id": "fa78f669-75a6-4125-89d2-6bd005a82c7a",
   "metadata": {
    "id": "fa78f669-75a6-4125-89d2-6bd005a82c7a"
   },
   "source": [
    "\\\n",
    "หาค่าเฉลี่ยอายุจากตัวอย่างที่ได้:"
   ]
  },
  {
   "cell_type": "code",
   "execution_count": null,
   "id": "7588306e-4de4-4228-95da-e3966bf3b46d",
   "metadata": {
    "colab": {
     "base_uri": "https://localhost:8080/"
    },
    "executionInfo": {
     "elapsed": 411,
     "status": "ok",
     "timestamp": 1670835568431,
     "user": {
      "displayName": "Thammakorn SAETHANG",
      "userId": "08182570455347153646"
     },
     "user_tz": -420
    },
    "id": "7588306e-4de4-4228-95da-e3966bf3b46d",
    "outputId": "75afbb6d-557a-46aa-b305-03c602fd9b8e"
   },
   "outputs": [
    {
     "data": {
      "text/plain": [
       "29.596700000000002"
      ]
     },
     "execution_count": 14,
     "metadata": {},
     "output_type": "execute_result"
    }
   ],
   "source": [
    "sample_sys_rand.Age.mean()"
   ]
  },
  {
   "cell_type": "code",
   "execution_count": null,
   "id": "ff892731-effd-4589-8bdf-368eb9b157d6",
   "metadata": {
    "colab": {
     "base_uri": "https://localhost:8080/"
    },
    "executionInfo": {
     "elapsed": 3,
     "status": "ok",
     "timestamp": 1670762695837,
     "user": {
      "displayName": "Thammakorn SAETHANG",
      "userId": "08182570455347153646"
     },
     "user_tz": -420
    },
    "id": "ff892731-effd-4589-8bdf-368eb9b157d6",
    "outputId": "3ae66b8d-caf8-4a43-8db5-016c67ae6c5f"
   },
   "outputs": [
    {
     "name": "stdout",
     "output_type": "stream",
     "text": [
      "ค่าเฉลี่ยอายุตัวอย่าง =  29.60 ±  15.33\n",
      "ค่าเฉลี่ยอายุประชากร =  29.70 ±  14.53\n"
     ]
    }
   ],
   "source": [
    "print(f\"ค่าเฉลี่ยอายุตัวอย่าง = {sample_sys_rand.Age.mean(): .2f} ± {sample_sys_rand.Age.std(): .2f}\")\n",
    "print(f\"ค่าเฉลี่ยอายุประชากร = {df.Age.mean(): .2f} ± {df.Age.std(): .2f}\")"
   ]
  },
  {
   "cell_type": "markdown",
   "id": "08EoxOMzK55u",
   "metadata": {
    "id": "08EoxOMzK55u"
   },
   "source": [
    "---"
   ]
  },
  {
   "cell_type": "markdown",
   "id": "e6e552c3-264d-479d-8ad3-e9110b468304",
   "metadata": {
    "id": "e6e552c3-264d-479d-8ad3-e9110b468304"
   },
   "source": [
    "####  \n",
    "#### 3. เลือกตัวอย่างขนาด n = 100 โดยใช้การสุ่มตัวอย่างแบบชั้นภูมิ (stratified sampling)"
   ]
  },
  {
   "cell_type": "markdown",
   "id": "682cdd6a-e9b8-401b-9789-ad3660fbd33f",
   "metadata": {
    "id": "682cdd6a-e9b8-401b-9789-ad3660fbd33f"
   },
   "source": [
    "ในที่นี้จะแบ่งชั้นภูมิตามคอลัมน์ Pclass ดังนั้นจะแบ่งได้ 3 ชั้นภูมิ  \n",
    "เบื้องต้นหาจำนวนผู้โดยสารของแต่ละชั้นภูมิ:  "
   ]
  },
  {
   "cell_type": "code",
   "execution_count": null,
   "id": "fc16faa3-4d06-4180-a126-f62e82925c00",
   "metadata": {
    "colab": {
     "base_uri": "https://localhost:8080/"
    },
    "executionInfo": {
     "elapsed": 386,
     "status": "ok",
     "timestamp": 1670836127125,
     "user": {
      "displayName": "Thammakorn SAETHANG",
      "userId": "08182570455347153646"
     },
     "user_tz": -420
    },
    "id": "fc16faa3-4d06-4180-a126-f62e82925c00",
    "outputId": "91d325a2-9e75-42b8-8cd0-de0a90068be1"
   },
   "outputs": [
    {
     "data": {
      "text/plain": [
       "3    355\n",
       "1    186\n",
       "2    173\n",
       "Name: Pclass, dtype: int64"
      ]
     },
     "execution_count": 15,
     "metadata": {},
     "output_type": "execute_result"
    }
   ],
   "source": [
    "df.Pclass.value_counts()"
   ]
  },
  {
   "cell_type": "markdown",
   "id": "624de606-7edb-418d-aa2a-8e67d6fae227",
   "metadata": {
    "id": "624de606-7edb-418d-aa2a-8e67d6fae227"
   },
   "source": [
    "จะเห็นได้ว่าผู้โดยสาร Pclass=3 มีจำนวนมากกว่า 1 และ 2  \n",
    "หากคิดเป็นร้อยละของจำนวนตัวอย่างในแต่ละ Pclass จะได้ว่า:  "
   ]
  },
  {
   "cell_type": "code",
   "execution_count": null,
   "id": "12ff9b5f-d027-4206-87c5-8f02e4d2d841",
   "metadata": {
    "colab": {
     "base_uri": "https://localhost:8080/"
    },
    "executionInfo": {
     "elapsed": 2,
     "status": "ok",
     "timestamp": 1670836128501,
     "user": {
      "displayName": "Thammakorn SAETHANG",
      "userId": "08182570455347153646"
     },
     "user_tz": -420
    },
    "id": "12ff9b5f-d027-4206-87c5-8f02e4d2d841",
    "outputId": "55243351-f66e-4efc-dcf8-b10c04a7ba0b"
   },
   "outputs": [
    {
     "data": {
      "text/plain": [
       "3    50.0\n",
       "1    26.0\n",
       "2    24.0\n",
       "Name: Pclass, dtype: float64"
      ]
     },
     "execution_count": 16,
     "metadata": {},
     "output_type": "execute_result"
    }
   ],
   "source": [
    "np.round(df.Pclass.value_counts()/df.shape[0] * 100)"
   ]
  },
  {
   "cell_type": "markdown",
   "id": "9382006d-dbaa-47ce-be87-8e8a27795ae9",
   "metadata": {
    "id": "9382006d-dbaa-47ce-be87-8e8a27795ae9"
   },
   "source": [
    "\\\n",
    "เนื่องจากเป้าหมายต้องการตัวอย่างขนาด n = 100 จะต้องทำการสุ่มเลือกหน่วยตัวอย่างจาก Pclass 1, 2 และ 3 จำนวน 26, 24 และ 50 หน่วยตัวอย่างตามลำดับ:  "
   ]
  },
  {
   "cell_type": "code",
   "execution_count": null,
   "id": "8011bb46-b949-4799-9983-0ba7db2c88f7",
   "metadata": {
    "colab": {
     "base_uri": "https://localhost:8080/"
    },
    "executionInfo": {
     "elapsed": 314,
     "status": "ok",
     "timestamp": 1670836131217,
     "user": {
      "displayName": "Thammakorn SAETHANG",
      "userId": "08182570455347153646"
     },
     "user_tz": -420
    },
    "id": "8011bb46-b949-4799-9983-0ba7db2c88f7",
    "outputId": "e086de4d-1660-44c3-ddf1-0d0ac83c7a5c"
   },
   "outputs": [
    {
     "name": "stdout",
     "output_type": "stream",
     "text": [
      "<class 'pandas.core.frame.DataFrame'>\n",
      "Int64Index: 100 entries, 6 to 348\n",
      "Data columns (total 12 columns):\n",
      " #   Column       Non-Null Count  Dtype  \n",
      "---  ------       --------------  -----  \n",
      " 0   PassengerId  100 non-null    int64  \n",
      " 1   Survived     100 non-null    int64  \n",
      " 2   Pclass       100 non-null    int64  \n",
      " 3   Name         100 non-null    object \n",
      " 4   Sex          100 non-null    object \n",
      " 5   Age          100 non-null    float64\n",
      " 6   SibSp        100 non-null    int64  \n",
      " 7   Parch        100 non-null    int64  \n",
      " 8   Ticket       100 non-null    object \n",
      " 9   Fare         100 non-null    float64\n",
      " 10  Cabin        25 non-null     object \n",
      " 11  Embarked     100 non-null    object \n",
      "dtypes: float64(2), int64(5), object(5)\n",
      "memory usage: 10.2+ KB\n"
     ]
    }
   ],
   "source": [
    "sample_strat_pclass = pd.concat([\n",
    "    df[df['Pclass']==1].sample(n=26),\n",
    "    df[df['Pclass']==2].sample(n=24),\n",
    "    df[df['Pclass']==3].sample(n=50)\n",
    "])\n",
    "sample_strat_pclass.info()"
   ]
  },
  {
   "cell_type": "markdown",
   "id": "7eb05258-33ec-4c8c-9b52-f76115086d45",
   "metadata": {
    "id": "7eb05258-33ec-4c8c-9b52-f76115086d45"
   },
   "source": [
    "\\\n",
    "หาค่าเฉลี่ยอายุจากตัวอย่างที่ได้:"
   ]
  },
  {
   "cell_type": "code",
   "execution_count": null,
   "id": "6f8998a1-22fb-4634-a1a7-1f05e221d2d4",
   "metadata": {
    "colab": {
     "base_uri": "https://localhost:8080/"
    },
    "executionInfo": {
     "elapsed": 406,
     "status": "ok",
     "timestamp": 1670836135216,
     "user": {
      "displayName": "Thammakorn SAETHANG",
      "userId": "08182570455347153646"
     },
     "user_tz": -420
    },
    "id": "6f8998a1-22fb-4634-a1a7-1f05e221d2d4",
    "outputId": "6d0e8102-95c2-4c06-beec-8c2521b0e1a0"
   },
   "outputs": [
    {
     "data": {
      "text/plain": [
       "28.2775"
      ]
     },
     "execution_count": 18,
     "metadata": {},
     "output_type": "execute_result"
    }
   ],
   "source": [
    "sample_strat_pclass.Age.mean()"
   ]
  },
  {
   "cell_type": "code",
   "execution_count": null,
   "id": "f175ea26-9fcd-48f6-acb2-98a16ab73d16",
   "metadata": {
    "colab": {
     "base_uri": "https://localhost:8080/"
    },
    "executionInfo": {
     "elapsed": 323,
     "status": "ok",
     "timestamp": 1670836140477,
     "user": {
      "displayName": "Thammakorn SAETHANG",
      "userId": "08182570455347153646"
     },
     "user_tz": -420
    },
    "id": "f175ea26-9fcd-48f6-acb2-98a16ab73d16",
    "outputId": "662358a5-b50c-42a2-9594-b3f49b696870"
   },
   "outputs": [
    {
     "name": "stdout",
     "output_type": "stream",
     "text": [
      "ค่าเฉลี่ยอายุตัวอย่าง =  28.28 ±  15.33\n",
      "ค่าเฉลี่ยอายุประชากร =  29.70 ±  14.53\n"
     ]
    }
   ],
   "source": [
    "print(f\"ค่าเฉลี่ยอายุตัวอย่าง = {sample_strat_pclass.Age.mean(): .2f} ± {sample_sys_rand.Age.std(): .2f}\")\n",
    "print(f\"ค่าเฉลี่ยอายุประชากร = {df.Age.mean(): .2f} ± {df.Age.std(): .2f}\")"
   ]
  },
  {
   "cell_type": "markdown",
   "id": "9uaLlE_nLXEF",
   "metadata": {
    "id": "9uaLlE_nLXEF"
   },
   "source": [
    "---"
   ]
  },
  {
   "cell_type": "markdown",
   "id": "a1e769c9-6249-412c-9801-534738c7f23e",
   "metadata": {
    "id": "a1e769c9-6249-412c-9801-534738c7f23e"
   },
   "source": [
    "####  \n",
    "#### 4. เลือกตัวอย่างโดยใช้การสุ่มตัวอย่างแบบกลุ่ม (cluster sampling)"
   ]
  },
  {
   "cell_type": "markdown",
   "id": "d55a7745-1049-451d-9303-ba103445ac4a",
   "metadata": {
    "id": "d55a7745-1049-451d-9303-ba103445ac4a"
   },
   "source": [
    "การเลือกแบบนี้จะทำการกำหนดขนาด n ไม่ได้เนื่องจากต้องเลือกทั้งกลุ่ม\n",
    "ในที่นี้จะแบ่งกลุ่มตามคอลัมน์ Pclass ดังนั้นจะแบ่งได้ 3 กลุ่ม  \n",
    "และเลือกกลุ่ม Pclass = 2 ทั้งกลุ่ม:"
   ]
  },
  {
   "cell_type": "code",
   "execution_count": 118,
   "id": "10196489-4dda-400d-9257-d7a7bc241d54",
   "metadata": {
    "colab": {
     "base_uri": "https://localhost:8080/"
    },
    "executionInfo": {
     "elapsed": 525,
     "status": "ok",
     "timestamp": 1670762742569,
     "user": {
      "displayName": "Thammakorn SAETHANG",
      "userId": "08182570455347153646"
     },
     "user_tz": -420
    },
    "id": "10196489-4dda-400d-9257-d7a7bc241d54",
    "outputId": "5ccc9545-69e3-404c-ceac-ccbb945ba754"
   },
   "outputs": [
    {
     "data": {
      "text/plain": [
       "3    355\n",
       "1    186\n",
       "2    173\n",
       "Name: Pclass, dtype: int64"
      ]
     },
     "execution_count": 118,
     "metadata": {},
     "output_type": "execute_result"
    }
   ],
   "source": [
    "df.Pclass.value_counts()"
   ]
  },
  {
   "cell_type": "code",
   "execution_count": 117,
   "id": "9d71aaac-2421-44c1-b9fd-a535791a0d6f",
   "metadata": {
    "id": "9d71aaac-2421-44c1-b9fd-a535791a0d6f"
   },
   "outputs": [],
   "source": [
    "sample_cluster_pclass2 = df[df.Pclass==2]"
   ]
  },
  {
   "cell_type": "markdown",
   "id": "10cb02e1-bfd4-43b8-88e5-57240fe52057",
   "metadata": {
    "id": "10cb02e1-bfd4-43b8-88e5-57240fe52057"
   },
   "source": [
    "\\\n",
    "หาค่าเฉลี่ยอายุจากตัวอย่างที่ได้:"
   ]
  },
  {
   "cell_type": "code",
   "execution_count": null,
   "id": "0aae778f-767e-47f3-bf1b-9872ec639756",
   "metadata": {
    "colab": {
     "base_uri": "https://localhost:8080/"
    },
    "executionInfo": {
     "elapsed": 3,
     "status": "ok",
     "timestamp": 1670762753188,
     "user": {
      "displayName": "Thammakorn SAETHANG",
      "userId": "08182570455347153646"
     },
     "user_tz": -420
    },
    "id": "0aae778f-767e-47f3-bf1b-9872ec639756",
    "outputId": "778b606b-16dc-44b0-dcfe-a86910ff3e29"
   },
   "outputs": [
    {
     "name": "stdout",
     "output_type": "stream",
     "text": [
      "ค่าเฉลี่ยอายุตัวอย่าง =  29.88 ±  14.00\n",
      "ค่าเฉลี่ยอายุประชากร =  29.70 ±  14.53\n"
     ]
    }
   ],
   "source": [
    "print(f\"ค่าเฉลี่ยอายุตัวอย่าง = {sample_cluster_pclass2.Age.mean(): .2f} ± {sample_cluster_pclass2.Age.std(): .2f}\")\n",
    "print(f\"ค่าเฉลี่ยอายุประชากร = {df.Age.mean(): .2f} ± {df.Age.std(): .2f}\")"
   ]
  },
  {
   "cell_type": "markdown",
   "id": "9515d6d1-46a5-411b-b3f0-4aa3c37a3c77",
   "metadata": {
    "id": "9515d6d1-46a5-411b-b3f0-4aa3c37a3c77"
   },
   "source": [
    "\\\n",
    "หากเลือก Pclass=3:"
   ]
  },
  {
   "cell_type": "code",
   "execution_count": null,
   "id": "a9c9c3a5-fbc7-4c10-bfdc-f67c498e2b1d",
   "metadata": {
    "colab": {
     "base_uri": "https://localhost:8080/"
    },
    "executionInfo": {
     "elapsed": 545,
     "status": "ok",
     "timestamp": 1670762762932,
     "user": {
      "displayName": "Thammakorn SAETHANG",
      "userId": "08182570455347153646"
     },
     "user_tz": -420
    },
    "id": "a9c9c3a5-fbc7-4c10-bfdc-f67c498e2b1d",
    "outputId": "ba6eb38d-e1ca-4ace-a386-7160dd0d8f42"
   },
   "outputs": [
    {
     "name": "stdout",
     "output_type": "stream",
     "text": [
      "ค่าเฉลี่ยอายุตัวอย่าง =  25.14 ±  12.50\n",
      "ค่าเฉลี่ยอายุประชากร =  29.70 ±  14.53\n"
     ]
    }
   ],
   "source": [
    "sample_cluster_pclass3 = df[df.Pclass==3]\n",
    "print(f\"ค่าเฉลี่ยอายุตัวอย่าง = {sample_cluster_pclass3.Age.mean(): .2f} ± {sample_cluster_pclass3.Age.std(): .2f}\")\n",
    "print(f\"ค่าเฉลี่ยอายุประชากร = {df.Age.mean(): .2f} ± {df.Age.std(): .2f}\")"
   ]
  },
  {
   "cell_type": "markdown",
   "id": "99ee6e8b-56ec-4e1f-9a96-976be6c721f9",
   "metadata": {
    "id": "99ee6e8b-56ec-4e1f-9a96-976be6c721f9"
   },
   "source": [
    "\\\n",
    "หากเลือก Pclass=1:"
   ]
  },
  {
   "cell_type": "code",
   "execution_count": null,
   "id": "d6bf9a5c-8502-45d7-99ed-53c10d1bf6b3",
   "metadata": {
    "colab": {
     "base_uri": "https://localhost:8080/"
    },
    "executionInfo": {
     "elapsed": 574,
     "status": "ok",
     "timestamp": 1670762770080,
     "user": {
      "displayName": "Thammakorn SAETHANG",
      "userId": "08182570455347153646"
     },
     "user_tz": -420
    },
    "id": "d6bf9a5c-8502-45d7-99ed-53c10d1bf6b3",
    "outputId": "3f243cc3-c05d-46d1-91c4-2159fa45930a"
   },
   "outputs": [
    {
     "name": "stdout",
     "output_type": "stream",
     "text": [
      "ค่าเฉลี่ยอายุตัวอย่าง =  38.23 ±  14.80\n",
      "ค่าเฉลี่ยอายุประชากร =  29.70 ±  14.53\n"
     ]
    }
   ],
   "source": [
    "sample_cluster_pclass1 = df[df.Pclass==1]\n",
    "print(f\"ค่าเฉลี่ยอายุตัวอย่าง = {sample_cluster_pclass1.Age.mean(): .2f} ± {sample_cluster_pclass1.Age.std(): .2f}\")\n",
    "print(f\"ค่าเฉลี่ยอายุประชากร = {df.Age.mean(): .2f} ± {df.Age.std(): .2f}\")"
   ]
  },
  {
   "cell_type": "markdown",
   "id": "73321b44-0a63-4eaa-9ede-475c655fbfd9",
   "metadata": {
    "id": "73321b44-0a63-4eaa-9ede-475c655fbfd9"
   },
   "source": [
    "\\\n",
    "จะเห็นได้ว่าการเลือก Pclass=1 และ 3 ค่าเฉลี่ยอายุจะมีความคลาดเคลื่อนจากประชากรค่อนข้างมาก"
   ]
  },
  {
   "cell_type": "code",
   "execution_count": null,
   "id": "7427b067-c15d-4de2-b263-9a8e91ce23f1",
   "metadata": {
    "id": "7427b067-c15d-4de2-b263-9a8e91ce23f1"
   },
   "outputs": [],
   "source": []
  }
 ],
 "metadata": {
  "colab": {
   "provenance": []
  },
  "kernelspec": {
   "display_name": "Python 3 (ipykernel)",
   "language": "python",
   "name": "python3"
  },
  "language_info": {
   "codemirror_mode": {
    "name": "ipython",
    "version": 3
   },
   "file_extension": ".py",
   "mimetype": "text/x-python",
   "name": "python",
   "nbconvert_exporter": "python",
   "pygments_lexer": "ipython3",
   "version": "3.9.13"
  }
 },
 "nbformat": 4,
 "nbformat_minor": 5
}
