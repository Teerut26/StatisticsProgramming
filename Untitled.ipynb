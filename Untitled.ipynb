{
 "cells": [
  {
   "cell_type": "code",
   "execution_count": 79,
   "id": "f5f47838-4c26-43cc-863c-441bb8375bac",
   "metadata": {},
   "outputs": [],
   "source": [
    "import numpy as np\n",
    "from scipy import stats\n",
    "from statsmodels.stats.weightstats import ztest\n",
    "from scipy.stats import chi2_contingency,chi2\n",
    "import pandas as pd"
   ]
  },
  {
   "cell_type": "code",
   "execution_count": 80,
   "id": "0d1a62e0-31fc-421f-b072-04403c619c6c",
   "metadata": {},
   "outputs": [
    {
     "data": {
      "text/html": [
       "<div>\n",
       "<style scoped>\n",
       "    .dataframe tbody tr th:only-of-type {\n",
       "        vertical-align: middle;\n",
       "    }\n",
       "\n",
       "    .dataframe tbody tr th {\n",
       "        vertical-align: top;\n",
       "    }\n",
       "\n",
       "    .dataframe thead th {\n",
       "        text-align: right;\n",
       "    }\n",
       "</style>\n",
       "<table border=\"1\" class=\"dataframe\">\n",
       "  <thead>\n",
       "    <tr style=\"text-align: right;\">\n",
       "      <th></th>\n",
       "      <th>PassengerId</th>\n",
       "      <th>Survived</th>\n",
       "      <th>Pclass</th>\n",
       "      <th>Name</th>\n",
       "      <th>Sex</th>\n",
       "      <th>Age</th>\n",
       "      <th>SibSp</th>\n",
       "      <th>Parch</th>\n",
       "      <th>Ticket</th>\n",
       "      <th>Fare</th>\n",
       "      <th>Cabin</th>\n",
       "      <th>Embarked</th>\n",
       "    </tr>\n",
       "  </thead>\n",
       "  <tbody>\n",
       "    <tr>\n",
       "      <th>0</th>\n",
       "      <td>1</td>\n",
       "      <td>0</td>\n",
       "      <td>3</td>\n",
       "      <td>Braund, Mr. Owen Harris</td>\n",
       "      <td>male</td>\n",
       "      <td>22.0</td>\n",
       "      <td>1</td>\n",
       "      <td>0</td>\n",
       "      <td>A/5 21171</td>\n",
       "      <td>7.2500</td>\n",
       "      <td>NaN</td>\n",
       "      <td>S</td>\n",
       "    </tr>\n",
       "    <tr>\n",
       "      <th>1</th>\n",
       "      <td>2</td>\n",
       "      <td>1</td>\n",
       "      <td>1</td>\n",
       "      <td>Cumings, Mrs. John Bradley (Florence Briggs Th...</td>\n",
       "      <td>female</td>\n",
       "      <td>38.0</td>\n",
       "      <td>1</td>\n",
       "      <td>0</td>\n",
       "      <td>PC 17599</td>\n",
       "      <td>71.2833</td>\n",
       "      <td>C85</td>\n",
       "      <td>C</td>\n",
       "    </tr>\n",
       "    <tr>\n",
       "      <th>2</th>\n",
       "      <td>3</td>\n",
       "      <td>1</td>\n",
       "      <td>3</td>\n",
       "      <td>Heikkinen, Miss. Laina</td>\n",
       "      <td>female</td>\n",
       "      <td>26.0</td>\n",
       "      <td>0</td>\n",
       "      <td>0</td>\n",
       "      <td>STON/O2. 3101282</td>\n",
       "      <td>7.9250</td>\n",
       "      <td>NaN</td>\n",
       "      <td>S</td>\n",
       "    </tr>\n",
       "    <tr>\n",
       "      <th>3</th>\n",
       "      <td>4</td>\n",
       "      <td>1</td>\n",
       "      <td>1</td>\n",
       "      <td>Futrelle, Mrs. Jacques Heath (Lily May Peel)</td>\n",
       "      <td>female</td>\n",
       "      <td>35.0</td>\n",
       "      <td>1</td>\n",
       "      <td>0</td>\n",
       "      <td>113803</td>\n",
       "      <td>53.1000</td>\n",
       "      <td>C123</td>\n",
       "      <td>S</td>\n",
       "    </tr>\n",
       "    <tr>\n",
       "      <th>4</th>\n",
       "      <td>5</td>\n",
       "      <td>0</td>\n",
       "      <td>3</td>\n",
       "      <td>Allen, Mr. William Henry</td>\n",
       "      <td>male</td>\n",
       "      <td>35.0</td>\n",
       "      <td>0</td>\n",
       "      <td>0</td>\n",
       "      <td>373450</td>\n",
       "      <td>8.0500</td>\n",
       "      <td>NaN</td>\n",
       "      <td>S</td>\n",
       "    </tr>\n",
       "  </tbody>\n",
       "</table>\n",
       "</div>"
      ],
      "text/plain": [
       "   PassengerId  Survived  Pclass  \\\n",
       "0            1         0       3   \n",
       "1            2         1       1   \n",
       "2            3         1       3   \n",
       "3            4         1       1   \n",
       "4            5         0       3   \n",
       "\n",
       "                                                Name     Sex   Age  SibSp  \\\n",
       "0                            Braund, Mr. Owen Harris    male  22.0      1   \n",
       "1  Cumings, Mrs. John Bradley (Florence Briggs Th...  female  38.0      1   \n",
       "2                             Heikkinen, Miss. Laina  female  26.0      0   \n",
       "3       Futrelle, Mrs. Jacques Heath (Lily May Peel)  female  35.0      1   \n",
       "4                           Allen, Mr. William Henry    male  35.0      0   \n",
       "\n",
       "   Parch            Ticket     Fare Cabin Embarked  \n",
       "0      0         A/5 21171   7.2500   NaN        S  \n",
       "1      0          PC 17599  71.2833   C85        C  \n",
       "2      0  STON/O2. 3101282   7.9250   NaN        S  \n",
       "3      0            113803  53.1000  C123        S  \n",
       "4      0            373450   8.0500   NaN        S  "
      ]
     },
     "execution_count": 80,
     "metadata": {},
     "output_type": "execute_result"
    }
   ],
   "source": [
    "titanic = pd.read_csv(\"data/titanic.csv\")\n",
    "titanic.head()"
   ]
  },
  {
   "cell_type": "code",
   "execution_count": 81,
   "id": "6e3b4191-bb7b-432f-ab69-1dba9607ef1b",
   "metadata": {},
   "outputs": [
    {
     "data": {
      "text/html": [
       "<div>\n",
       "<style scoped>\n",
       "    .dataframe tbody tr th:only-of-type {\n",
       "        vertical-align: middle;\n",
       "    }\n",
       "\n",
       "    .dataframe tbody tr th {\n",
       "        vertical-align: top;\n",
       "    }\n",
       "\n",
       "    .dataframe thead th {\n",
       "        text-align: right;\n",
       "    }\n",
       "</style>\n",
       "<table border=\"1\" class=\"dataframe\">\n",
       "  <thead>\n",
       "    <tr style=\"text-align: right;\">\n",
       "      <th>Sex</th>\n",
       "      <th>female</th>\n",
       "      <th>male</th>\n",
       "    </tr>\n",
       "    <tr>\n",
       "      <th>Survived</th>\n",
       "      <th></th>\n",
       "      <th></th>\n",
       "    </tr>\n",
       "  </thead>\n",
       "  <tbody>\n",
       "    <tr>\n",
       "      <th>0</th>\n",
       "      <td>81</td>\n",
       "      <td>468</td>\n",
       "    </tr>\n",
       "    <tr>\n",
       "      <th>1</th>\n",
       "      <td>233</td>\n",
       "      <td>109</td>\n",
       "    </tr>\n",
       "  </tbody>\n",
       "</table>\n",
       "</div>"
      ],
      "text/plain": [
       "Sex       female  male\n",
       "Survived              \n",
       "0             81   468\n",
       "1            233   109"
      ]
     },
     "execution_count": 81,
     "metadata": {},
     "output_type": "execute_result"
    }
   ],
   "source": [
    "contingency_table = pd.crosstab(titanic['Survived'], titanic['Sex'])\n",
    "contingency_table"
   ]
  },
  {
   "cell_type": "code",
   "execution_count": 82,
   "id": "ef65c1c9-0d07-4222-949b-d030b9835dd3",
   "metadata": {},
   "outputs": [
    {
     "name": "stdout",
     "output_type": "stream",
     "text": [
      "Chi-squared statistic: 260.71702016732104\n",
      "P-value: 1.1973570627755645e-58\n"
     ]
    }
   ],
   "source": [
    "contingency_table = pd.crosstab(titanic['Survived'], titanic['Sex'])\n",
    "\n",
    "# Calculate chi-squared statistic and p-value\n",
    "chi2_cal, p_val, dof, expected = chi2_contingency(contingency_table)\n",
    "\n",
    "print(\"Chi-squared statistic:\", chi2_cal)\n",
    "print(\"P-value:\", p_val)"
   ]
  },
  {
   "cell_type": "code",
   "execution_count": 83,
   "id": "6371b414-bef1-4f25-9c63-31c2d2defdd1",
   "metadata": {},
   "outputs": [
    {
     "name": "stdout",
     "output_type": "stream",
     "text": [
      "Degrees of freedom: 2\n"
     ]
    }
   ],
   "source": [
    "contingency_table = pd.crosstab(titanic['Survived'], titanic['Pclass'])\n",
    "\n",
    "# Calculate chi-squared statistic and p-value\n",
    "chi2, p_val, dof, expected = chi2_contingency(contingency_table)\n",
    "\n",
    "# Calculate degrees of freedom\n",
    "df = (contingency_table.shape[0] - 1) * (contingency_table.shape[1] - 1)\n",
    "\n",
    "print(\"Degrees of freedom:\", df)"
   ]
  },
  {
   "cell_type": "code",
   "execution_count": 86,
   "id": "5cef7e66-f05f-4f8e-944b-06480a5d0088",
   "metadata": {},
   "outputs": [
    {
     "ename": "AttributeError",
     "evalue": "'numpy.float64' object has no attribute 'ppf'",
     "output_type": "error",
     "traceback": [
      "\u001b[0;31m---------------------------------------------------------------------------\u001b[0m",
      "\u001b[0;31mAttributeError\u001b[0m                            Traceback (most recent call last)",
      "Input \u001b[0;32mIn [86]\u001b[0m, in \u001b[0;36m<cell line: 7>\u001b[0;34m()\u001b[0m\n\u001b[1;32m      4\u001b[0m df \u001b[38;5;241m=\u001b[39m \u001b[38;5;241m2\u001b[39m\n\u001b[1;32m      6\u001b[0m \u001b[38;5;66;03m# Calculate critical value\u001b[39;00m\n\u001b[0;32m----> 7\u001b[0m chi2_crit \u001b[38;5;241m=\u001b[39m \u001b[43mchi2\u001b[49m\u001b[38;5;241;43m.\u001b[39;49m\u001b[43mppf\u001b[49m(\u001b[38;5;241m1\u001b[39m \u001b[38;5;241m-\u001b[39m alpha, df)\n\u001b[1;32m      9\u001b[0m \u001b[38;5;28mprint\u001b[39m(\u001b[38;5;124m\"\u001b[39m\u001b[38;5;124mCritical value:\u001b[39m\u001b[38;5;124m\"\u001b[39m, chi2_crit)\n",
      "\u001b[0;31mAttributeError\u001b[0m: 'numpy.float64' object has no attribute 'ppf'"
     ]
    }
   ],
   "source": [
    "alpha = 0.05\n",
    "\n",
    "# Set degrees of freedom\n",
    "df = 2\n",
    "\n",
    "# Calculate critical value\n",
    "chi2_crit = chi2.ppf(1 - alpha, df)\n",
    "\n",
    "print(\"Critical value:\", chi2_crit)"
   ]
  },
  {
   "cell_type": "code",
   "execution_count": 87,
   "id": "dcc1ed8e-4212-4138-989b-220f13f3ba70",
   "metadata": {},
   "outputs": [
    {
     "name": "stdout",
     "output_type": "stream",
     "text": [
      "P-value: 4.549251711298793e-23\n"
     ]
    }
   ],
   "source": [
    "chi2, p_val, dof, expected = chi2_contingency(contingency_table)\n",
    "\n",
    "print(\"P-value:\", p_val)"
   ]
  },
  {
   "cell_type": "code",
   "execution_count": 13,
   "id": "b0334971-1690-4b1f-8eb7-fc9e26876efb",
   "metadata": {},
   "outputs": [],
   "source": [
    "#chi2_cal"
   ]
  },
  {
   "cell_type": "code",
   "execution_count": 28,
   "id": "b6eb76f8-8bac-47bf-bcd7-2a58f09851d1",
   "metadata": {},
   "outputs": [],
   "source": [
    "O = np.array([[51,183,146],[173,104,57],[203,154,79]])\n",
    "E = np.zeros(O.shape)\n",
    "for i in range(O.shape[0]):\n",
    "    for j in range(O.shape[1]):\n",
    "        E[i,j]=O[i].sum()*O[:,j].sum()/O.sum()\n",
    "        "
   ]
  },
  {
   "cell_type": "code",
   "execution_count": 29,
   "id": "da90698c-4004-4915-ab22-f85739c20bbd",
   "metadata": {},
   "outputs": [],
   "source": [
    "v = (3-1)*(3-1)"
   ]
  },
  {
   "cell_type": "code",
   "execution_count": 30,
   "id": "5e8dba17-bec5-4d3d-8f53-ef71ab68048c",
   "metadata": {},
   "outputs": [],
   "source": [
    "chi2_cal = ((O-E)**2/E).sum()"
   ]
  },
  {
   "cell_type": "code",
   "execution_count": 31,
   "id": "d2f9af21-bc5e-4fbf-a186-363650deaa05",
   "metadata": {},
   "outputs": [
    {
     "data": {
      "text/plain": [
       "147.2218166279889"
      ]
     },
     "execution_count": 31,
     "metadata": {},
     "output_type": "execute_result"
    }
   ],
   "source": [
    "chi2_cal"
   ]
  },
  {
   "cell_type": "code",
   "execution_count": 70,
   "id": "136a03f6-0076-4ab4-86ab-acfdca16bb48",
   "metadata": {},
   "outputs": [
    {
     "data": {
      "text/plain": [
       "13.276704135987625"
      ]
     },
     "execution_count": 70,
     "metadata": {},
     "output_type": "execute_result"
    }
   ],
   "source": [
    "chi2_crit = stats.chi2.isf(0.01,v)\n",
    "chi2_crit"
   ]
  },
  {
   "cell_type": "code",
   "execution_count": 71,
   "id": "24c7999d-7600-4680-aff0-6bcd2cbb47dd",
   "metadata": {},
   "outputs": [],
   "source": [
    "p_val = stats.chi2.sf(chi2_cal,df=v)"
   ]
  },
  {
   "cell_type": "code",
   "execution_count": 72,
   "id": "f167bb50-0d70-44ae-b1a3-d9aed4aab105",
   "metadata": {},
   "outputs": [
    {
     "data": {
      "text/plain": [
       "3.1950423231181934e-55"
      ]
     },
     "execution_count": 72,
     "metadata": {},
     "output_type": "execute_result"
    }
   ],
   "source": [
    "p_val"
   ]
  },
  {
   "cell_type": "code",
   "execution_count": null,
   "id": "f8dad06f-4dc3-4241-82b3-b0e2cace4ff3",
   "metadata": {},
   "outputs": [],
   "source": []
  }
 ],
 "metadata": {
  "kernelspec": {
   "display_name": "Python 3 (ipykernel)",
   "language": "python",
   "name": "python3"
  },
  "language_info": {
   "codemirror_mode": {
    "name": "ipython",
    "version": 3
   },
   "file_extension": ".py",
   "mimetype": "text/x-python",
   "name": "python",
   "nbconvert_exporter": "python",
   "pygments_lexer": "ipython3",
   "version": "3.9.13"
  }
 },
 "nbformat": 4,
 "nbformat_minor": 5
}
