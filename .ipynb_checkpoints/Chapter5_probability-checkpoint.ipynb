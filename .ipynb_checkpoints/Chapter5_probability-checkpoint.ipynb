{
  "cells": [
    {
      "cell_type": "markdown",
      "id": "a5c1dab1-ac80-43b7-b194-7a1fa69a075c",
      "metadata": {
        "id": "a5c1dab1-ac80-43b7-b194-7a1fa69a075c"
      },
      "source": [
        "# แบบทดสอบบทที่ 5  \n",
        "## ความน่าจะเป็น (Probability)"
      ]
    },
    {
      "cell_type": "markdown",
      "id": "e2bf7e9b-cd00-4c9f-8feb-767ab2d7456b",
      "metadata": {
        "id": "e2bf7e9b-cd00-4c9f-8feb-767ab2d7456b"
      },
      "source": [
        "---"
      ]
    },
    {
      "cell_type": "markdown",
      "id": "46df7396-c5ea-4919-b8a0-269758fa1ca1",
      "metadata": {
        "id": "46df7396-c5ea-4919-b8a0-269758fa1ca1"
      },
      "source": [
        "### **หลักการนับเบื้องต้น**"
      ]
    },
    {
      "cell_type": "markdown",
      "id": "e0b11f00-1bca-4700-852a-646c1d451b78",
      "metadata": {
        "id": "e0b11f00-1bca-4700-852a-646c1d451b78"
      },
      "source": [
        " "
      ]
    },
    {
      "cell_type": "code",
      "execution_count": null,
      "id": "0699f203-2be7-4ea6-909a-d1f455457fd2",
      "metadata": {
        "id": "0699f203-2be7-4ea6-909a-d1f455457fd2"
      },
      "outputs": [],
      "source": [
        "import numpy as np\n",
        "import pandas as pd\n",
        "import statistics\n",
        "import scipy\n",
        "from scipy import stats\n",
        "from math import perm, comb"
      ]
    },
    {
      "cell_type": "markdown",
      "id": "b1c5abcc-0ae9-4eee-8213-c515d40be512",
      "metadata": {
        "tags": [],
        "id": "b1c5abcc-0ae9-4eee-8213-c515d40be512"
      },
      "source": [
        "####  \n",
        "#### 5.2 หากมีกล่อง 7 กล่องซึ่งมี 7 สี คือ คือ แดง แสด เหลือง เขียว น้ำเงิน คราม ม่วง หากต้องการเลือกมาจัดเรียงเพียง 5 กล่อง จะจัดได้ทั้งหมดกี่วิธี"
      ]
    },
    {
      "cell_type": "code",
      "execution_count": null,
      "id": "70173e83-b8c8-4bc3-b213-35d4055a33de",
      "metadata": {
        "colab": {
          "base_uri": "https://localhost:8080/"
        },
        "id": "70173e83-b8c8-4bc3-b213-35d4055a33de",
        "outputId": "b88bf4a0-1f1e-4bbb-e174-8727efa92645"
      },
      "outputs": [
        {
          "output_type": "execute_result",
          "data": {
            "text/plain": [
              "2520"
            ]
          },
          "metadata": {},
          "execution_count": 2
        }
      ],
      "source": [
        "perm(7,5)"
      ]
    },
    {
      "cell_type": "markdown",
      "id": "ec3162ed-8603-4d23-81d8-86081e99b04a",
      "metadata": {
        "tags": [],
        "id": "ec3162ed-8603-4d23-81d8-86081e99b04a"
      },
      "source": [
        "####  \n",
        "#### 5.4 ต้องการเลือกตัวอักษรจากคำว่า LOGARITHM มา 4 ตัวเพื่อจัดเรียงเป็นคำใหม่โดยไม่สนใจความหมาย จะทำได้กี่วิธี  \n",
        "**เนื่องจากตัวอักษรในคำว่า LOGARITHM มี 9 ตัว แต่เราเลือกมาเรียงเพียง 4 ตัว ดังนั้นจำนวนวิธีที่จะเรียงได้**\n"
      ]
    },
    {
      "cell_type": "code",
      "execution_count": null,
      "id": "c62c0cdc-875e-457c-8fb1-88d5363b3209",
      "metadata": {
        "id": "c62c0cdc-875e-457c-8fb1-88d5363b3209",
        "outputId": "5c919229-25de-46a2-c092-5f1699c2b9af"
      },
      "outputs": [
        {
          "data": {
            "text/plain": [
              "3024"
            ]
          },
          "execution_count": 2,
          "metadata": {},
          "output_type": "execute_result"
        }
      ],
      "source": [
        "perm(9,4)"
      ]
    },
    {
      "cell_type": "markdown",
      "id": "10d1fdca-af68-4e9f-8503-f0721cda6d0b",
      "metadata": {
        "tags": [],
        "id": "10d1fdca-af68-4e9f-8503-f0721cda6d0b"
      },
      "source": [
        "####  \n",
        "#### 5.5 ต้องการจัดให้ผู้ชาย 4 คน และผู้หญิง 3 คนยืนเรียงแถวหน้ากระดาน จะจัดได้กี่วิธี ถ้ามีเงื่อนไขว่า ผู้หญิงทั้ง 3 คนต้องยืนติดกัน\n",
        "  \n",
        "**เนื่องจากต้องการให้ผู้หญิง 3 คนยืนติดกัน ดังนั้นเราก็จับผู้หญิง 3 คนนี้มัดติดกันคิดเป็น 1 มัด แสดงว่าขณะนี้เรามีผู้ชาย 4 คนและผู้หญิง 1 มัด ซึ่งเปรียบเสมือนกับเรามีคน 5 คน**  \n",
        "**ดังนั้นนำคนทั้ง 5 คนมายืนสลับกัน สามารถทำได้ = 5! วิธี แต่เนื่องจากภายในมัดผู้หญิง\n",
        "3 คน สามารถสลับที่กันเองได้ = 3! วิธี**  \n",
        "  \n",
        "  ดังนั้น จำนวนวิธีที่จะจัดคนเหล่านี้ยืนเรียงแถวหน้ากระดานตามเงื่อนไขที่ต้องการ สามารถ\n",
        "ทำได้"
      ]
    },
    {
      "cell_type": "code",
      "execution_count": null,
      "id": "f1bbfc74-1df2-4fea-bfad-d7ab4f3816c5",
      "metadata": {
        "id": "f1bbfc74-1df2-4fea-bfad-d7ab4f3816c5",
        "outputId": "fd3f5b40-4597-4ead-f351-36e00ce1a528"
      },
      "outputs": [
        {
          "data": {
            "text/plain": [
              "720"
            ]
          },
          "execution_count": 3,
          "metadata": {},
          "output_type": "execute_result"
        }
      ],
      "source": [
        "perm(5,5)*perm(3,3)"
      ]
    },
    {
      "cell_type": "markdown",
      "id": "7b81f352-4975-416b-b5d8-f00f2f19fbac",
      "metadata": {
        "tags": [],
        "id": "7b81f352-4975-416b-b5d8-f00f2f19fbac"
      },
      "source": [
        "####  \n",
        "#### 5.6 นักศึกษากลุ่มหนึ่งจำนวน 10 คน มีผู้ชาย 4 คน และผู้หญิง 6 คน ถ้าต้องการเลือก นักศึกษามารายงานหน้าชั้นเรียน 4 คน โดยให้มีผู้หญิง 3 คน และผู้ชาย 1 คน จะเลือกได้กี่วิธี"
      ]
    },
    {
      "cell_type": "markdown",
      "id": "df8b0f22-2319-49bd-b170-f6f9f2c00989",
      "metadata": {
        "id": "df8b0f22-2319-49bd-b170-f6f9f2c00989"
      },
      "source": [
        "การเลือกผู้หญิง 3 คนก็ต้องเลือกมาจากผู้หญิง 6 คน: comb(6, 3)\n",
        "การเลือกผู้ชาย 1 คนก็ต้องเลือกมาจากผู้ชาย 4 คน ซึ่งจำนวนวิธีที่จะเลือกได้คือ: comb(4, 1)"
      ]
    },
    {
      "cell_type": "code",
      "execution_count": null,
      "id": "b774935d-c43e-4ce9-a446-e3cfb2d55ece",
      "metadata": {
        "id": "b774935d-c43e-4ce9-a446-e3cfb2d55ece",
        "outputId": "c6c7cbf1-2088-4b69-8960-eb07cfa87249"
      },
      "outputs": [
        {
          "data": {
            "text/plain": [
              "80"
            ]
          },
          "execution_count": 5,
          "metadata": {},
          "output_type": "execute_result"
        }
      ],
      "source": [
        "comb(6, 3)*comb(4, 1)"
      ]
    },
    {
      "cell_type": "markdown",
      "id": "6565ffb5-ad5d-4a5c-a146-ff5e9cd69189",
      "metadata": {
        "tags": [],
        "id": "6565ffb5-ad5d-4a5c-a146-ff5e9cd69189"
      },
      "source": [
        "####  \n",
        "#### 5.7 การสอบวิชาสถิติครั้งหนึ่ง ซึ่งอาจารย์ได้ออกข้อสอบ 2 ส่วน ส่วนที่ 1 เป็นข้อสอบอัตนัยแบบเติมคำตอบจำนวน 5 ข้อ โดยให้นักศึกษาต้องทำทุกข้อ ส่วนที่ 2 เป็นข้อสอบอัตนัยแบบแสดงวิธีทำจำนวน 6 ข้อ ซึ่งนักศึกษาจะต้องเลือกทำ 4 ข้อ นักศึกษาจะเลือกทำข้อสอบวิชาสถิติได้ทั้งหมดกี่แบบ"
      ]
    },
    {
      "cell_type": "code",
      "execution_count": null,
      "id": "129dc5b7-f2a1-4694-9ad6-d24a76fb2da8",
      "metadata": {
        "id": "129dc5b7-f2a1-4694-9ad6-d24a76fb2da8",
        "outputId": "6d52175c-6832-4d91-8766-9f2c2ae034bd"
      },
      "outputs": [
        {
          "data": {
            "text/plain": [
              "15"
            ]
          },
          "execution_count": 2,
          "metadata": {},
          "output_type": "execute_result"
        }
      ],
      "source": [
        "comb(5,5)*comb(6,4)"
      ]
    },
    {
      "cell_type": "markdown",
      "id": "7cb45fd1-8bae-434c-a18e-0aa4e413b744",
      "metadata": {
        "id": "7cb45fd1-8bae-434c-a18e-0aa4e413b744"
      },
      "source": [
        "---"
      ]
    },
    {
      "cell_type": "markdown",
      "id": "c7824381-5edf-47b9-9d56-03bbd4a22ce0",
      "metadata": {
        "id": "c7824381-5edf-47b9-9d56-03bbd4a22ce0"
      },
      "source": [
        "### **ความน่าจะเป็น**"
      ]
    },
    {
      "cell_type": "markdown",
      "id": "e910436b-743a-4f02-a3bd-aa69e123a997",
      "metadata": {
        "tags": [],
        "id": "e910436b-743a-4f02-a3bd-aa69e123a997"
      },
      "source": [
        "####  \n",
        "#### 5.9 ในการนำตัวอักษรจากคำว่า RANGSIT มาเรียงเป็นคำใหม่ โดยไม่สนใจความหมาย จงหาความน่าจะเป็นที่คำนั้นต้องขึ้นต้นด้วยสระและลงท้ายด้วยตัว N "
      ]
    },
    {
      "cell_type": "markdown",
      "id": "b4c884e3-70e1-4da2-bfd8-5bc77b564028",
      "metadata": {
        "id": "b4c884e3-70e1-4da2-bfd8-5bc77b564028"
      },
      "source": [
        "สระมี A และ I, และมี N อักษรเดียวสำหรับลงท้าย:  \n",
        "2\\*5+\\*1"
      ]
    },
    {
      "cell_type": "markdown",
      "id": "bada9584-c21e-4357-b19b-b79b1dfc74b9",
      "metadata": {
        "id": "bada9584-c21e-4357-b19b-b79b1dfc74b9"
      },
      "source": [
        "จำนวนเหตุการณ์ทั้งหมด:  \n",
        "7!"
      ]
    },
    {
      "cell_type": "markdown",
      "id": "fd94e840-df40-4d4c-86b8-7e1de457dfe2",
      "metadata": {
        "id": "fd94e840-df40-4d4c-86b8-7e1de457dfe2"
      },
      "source": [
        "ความน่าจะเป็นที่คำนั้นต้องขึ้นต้นด้วยสระและลงท้ายด้วยตัว N"
      ]
    },
    {
      "cell_type": "code",
      "execution_count": null,
      "id": "442891ab-1c4e-4576-a15c-3d43a39e8255",
      "metadata": {
        "tags": [],
        "id": "442891ab-1c4e-4576-a15c-3d43a39e8255",
        "outputId": "65ec602a-df00-4159-b83d-f567b8660e2e"
      },
      "outputs": [
        {
          "data": {
            "text/plain": [
              "0.047619047619047616"
            ]
          },
          "execution_count": 4,
          "metadata": {},
          "output_type": "execute_result"
        }
      ],
      "source": [
        "2*perm(5,5)*1 / perm(7,7)"
      ]
    },
    {
      "cell_type": "markdown",
      "id": "36934d10-e668-4ab5-ac9a-a0bc2e63a317",
      "metadata": {
        "tags": [],
        "id": "36934d10-e668-4ab5-ac9a-a0bc2e63a317"
      },
      "source": [
        "####  \n",
        "#### 5.10  กล่องใบหนึ่งบรรจุหลอดไฟ 15 หลอด ซึ่งใน 15 หลอดนี้มีหลอดเสียอยู่ 5 หลอด ถ้าหยิบหลอดไฟออกมา 3 หลอดอย่างสุ่ม จงหาความน่าจะเป็นที่หยิบได้หลอดไฟเสีย 1 หลอด"
      ]
    },
    {
      "cell_type": "markdown",
      "id": "8520ce74-3fb8-4090-a5f7-5889348d1565",
      "metadata": {
        "id": "8520ce74-3fb8-4090-a5f7-5889348d1565"
      },
      "source": [
        "จำนวนเหตุการณ์ที่เป็นไปได้ทั้งหมดจากการสุ่มหลอดไฟ 3 หลอด จาก 15 หลอด:"
      ]
    },
    {
      "cell_type": "code",
      "execution_count": null,
      "id": "156cd5b7-f09b-4656-bbda-d2aeb16673a3",
      "metadata": {
        "id": "156cd5b7-f09b-4656-bbda-d2aeb16673a3",
        "outputId": "59b3750d-cea3-492f-ad5c-69cb9e698838"
      },
      "outputs": [
        {
          "data": {
            "text/plain": [
              "455"
            ]
          },
          "execution_count": 5,
          "metadata": {},
          "output_type": "execute_result"
        }
      ],
      "source": [
        "S = comb(15,3)\n",
        "S"
      ]
    },
    {
      "cell_type": "markdown",
      "id": "57fa0858-2ffb-41c0-ad7c-f6a0191f7d23",
      "metadata": {
        "id": "57fa0858-2ffb-41c0-ad7c-f6a0191f7d23"
      },
      "source": [
        "หลอดไฟ 15 หลอด มีหลอดเสีย 5 หลอด ดังนั้นจะมีหลอดดี 10 หลอด  \n",
        "จำนวนเหตุการณ์ที่เป็นไปได้ในการสุ่ม 3 หลอดและได้หลอดเสีย 1 หลอด:"
      ]
    },
    {
      "cell_type": "code",
      "execution_count": null,
      "id": "cd05946d-bc07-42da-9b9a-67a368831fa8",
      "metadata": {
        "id": "cd05946d-bc07-42da-9b9a-67a368831fa8",
        "outputId": "1f140168-bad0-4b9a-f7b0-df9a8bb3ce20"
      },
      "outputs": [
        {
          "data": {
            "text/plain": [
              "225"
            ]
          },
          "execution_count": 6,
          "metadata": {},
          "output_type": "execute_result"
        }
      ],
      "source": [
        "A = comb(5,1)*comb(10,2)\n",
        "A"
      ]
    },
    {
      "cell_type": "markdown",
      "id": "7a096a93-ebc8-4056-bbea-bf33786e13a6",
      "metadata": {
        "id": "7a096a93-ebc8-4056-bbea-bf33786e13a6"
      },
      "source": [
        "ความน่าจะเป็นที่หยิบได้หลอดไฟเสีย 1 หลอด:"
      ]
    },
    {
      "cell_type": "code",
      "execution_count": null,
      "id": "2006ce96-7c1f-401a-9ca1-a740bcd87746",
      "metadata": {
        "id": "2006ce96-7c1f-401a-9ca1-a740bcd87746",
        "outputId": "89fa3fa4-94ce-4df4-8ba1-deca97b4c516"
      },
      "outputs": [
        {
          "data": {
            "text/plain": [
              "0.4945054945054945"
            ]
          },
          "execution_count": 7,
          "metadata": {},
          "output_type": "execute_result"
        }
      ],
      "source": [
        "A/S"
      ]
    },
    {
      "cell_type": "code",
      "execution_count": null,
      "id": "a9f9e3ae-99d3-48a7-9925-8adac641a443",
      "metadata": {
        "id": "a9f9e3ae-99d3-48a7-9925-8adac641a443"
      },
      "outputs": [],
      "source": []
    }
  ],
  "metadata": {
    "kernelspec": {
      "display_name": "Python 3 (ipykernel)",
      "language": "python",
      "name": "python3"
    },
    "language_info": {
      "codemirror_mode": {
        "name": "ipython",
        "version": 3
      },
      "file_extension": ".py",
      "mimetype": "text/x-python",
      "name": "python",
      "nbconvert_exporter": "python",
      "pygments_lexer": "ipython3",
      "version": "3.9.13"
    },
    "colab": {
      "provenance": []
    }
  },
  "nbformat": 4,
  "nbformat_minor": 5
}