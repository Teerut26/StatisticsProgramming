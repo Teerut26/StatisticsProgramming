{
  "nbformat": 4,
  "nbformat_minor": 0,
  "metadata": {
    "colab": {
      "provenance": []
    },
    "kernelspec": {
      "name": "python3",
      "display_name": "Python 3"
    },
    "language_info": {
      "name": "python"
    }
  },
  "cells": [
    {
      "cell_type": "markdown",
      "source": [
        "# แบบฝึกหัด 6"
      ],
      "metadata": {
        "id": "U3ArbMi8JHGD"
      }
    },
    {
      "cell_type": "markdown",
      "source": [
        "---"
      ],
      "metadata": {
        "id": "t9RQYuu-JUwP"
      }
    },
    {
      "cell_type": "code",
      "source": [
        "import numpy as np\n",
        "import pandas as pd\n",
        "from scipy import stats"
      ],
      "metadata": {
        "id": "5LcuhePsgM1w"
      },
      "execution_count": null,
      "outputs": []
    },
    {
      "cell_type": "markdown",
      "source": [
        "6.1 จากการสำรวจโดยหน่วยงานของรัฐ ความน่าจะเป็นที่คนไทยจะมีบัตรเครดิตอย่างน้อย 1 บัตรเท่ากับ 0.6 หากสุ่มตัวอย่างคนไทยจำนวน\n",
        "1000 คน จงประมาณความน่าจะเป็นที่คนไทยอย่างน้อย 615 คน จากที่ถูกเลือกเป็นตัวอย่าง จะมีบัตร\n",
        "เครดิตอย่างน้อย 1 บัตร ด้วยการแจกแจงแบบปกติ"
      ],
      "metadata": {
        "id": "ag3TNOoapF2I"
      }
    },
    {
      "cell_type": "code",
      "source": [
        "#แสดงวิธีทำ"
      ],
      "metadata": {
        "id": "eGMlvK2UXrtE"
      },
      "execution_count": null,
      "outputs": []
    },
    {
      "cell_type": "markdown",
      "source": [
        "###   \n"
      ],
      "metadata": {
        "id": "RIDQz3PGqqY9"
      }
    },
    {
      "cell_type": "markdown",
      "source": [
        "6.2 บริษัทแห่งหนึ่งสุ่มเครื่อง server มา 22 เครื่อง พบว่ามีค่าบำรุงรักษาเฉลี่ยเครื่องละ 10000 บาทต่อปี และมีส่วนเบี่ยงเบนมาตราฐานของค่าบำรุงรักษา 5000 บาทต่อปี \n",
        "หากการวางแผนงบประมาณจะอ้างอิงจากค่าบำรุงรักษาโดยเฉลี่ยของ server จากทั้งบริษัท จงหาความน่าจะเป็นที่ค่าบำรุงรักษา server โดยเฉลี่ยทั้งบริษัทจะมีค่าน้อยกว่า 12000 บาท  \n",
        "หากกำหนดให้การแจกแจงของค่าบำรุงรักษาจากกลุ่มตัวอย่างเป็นแบบที"
      ],
      "metadata": {
        "id": "AdbMJYLPTRNk"
      }
    },
    {
      "cell_type": "code",
      "source": [
        "#แสดงวิธีทำ"
      ],
      "metadata": {
        "id": "7FhHdEZbn2QB"
      },
      "execution_count": null,
      "outputs": []
    },
    {
      "cell_type": "markdown",
      "source": [
        "###   \n"
      ],
      "metadata": {
        "id": "eudS6wOyWTCb"
      }
    },
    {
      "cell_type": "markdown",
      "source": [
        "6.3 จากข้อ 6.2 จงหาช่วงของค่าบำรุงรักษาโดยเฉลี่ยของ server จากทั้งบริษัทที่ทำให้  \n",
        "P(-a < T < a) = 0.99  โดย a คำนวนณจากค่าสถิติของตัวอย่าง server ในข้อ 6.2"
      ],
      "metadata": {
        "id": "BfdpCQDiWTCj"
      }
    },
    {
      "cell_type": "code",
      "source": [
        "#แสดงวิธีทำ"
      ],
      "metadata": {
        "id": "YEBo5Tr3n22g"
      },
      "execution_count": null,
      "outputs": []
    }
  ]
}