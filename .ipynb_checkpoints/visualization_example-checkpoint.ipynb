{
 "cells": [
  {
   "cell_type": "markdown",
   "id": "e5e4cc41-eee0-4e75-81fc-9586a536ce00",
   "metadata": {
    "id": "e5e4cc41-eee0-4e75-81fc-9586a536ce00",
    "tags": []
   },
   "source": [
    "## **การจัดกลุ่มและนำเสนอข้อมูล**"
   ]
  },
  {
   "cell_type": "markdown",
   "id": "b4f0975d-2d07-4064-85ef-76ef98a3d368",
   "metadata": {
    "id": "b4f0975d-2d07-4064-85ef-76ef98a3d368"
   },
   "source": [
    "เช่นเดียวกับบทเรียนเรื่อง \"การสุ่มตัวอย่าง\" ในบทนี้ชุดข้อมูลที่ใช้คือ \"titanic.csv\" ซึ่งเป็นข้อมูลของผู้โดยสารเรือไททานิคมีรายละเอียดของแต่ละคอลัมน์ดังนี้: "
   ]
  },
  {
   "cell_type": "markdown",
   "id": "ed58adca-f64c-4b88-ada5-8da21629d1f3",
   "metadata": {
    "id": "ed58adca-f64c-4b88-ada5-8da21629d1f3"
   },
   "source": [
    "PassengerId: ID ของผู้โดยสาร\n",
    "Survived: ผู้โดยสารรอด (1) หรือเสียชีวิต (0)  \n",
    "Pclass: ชนชั้นของผู้โดยสาร first class (1), second class (2), third class (3)  \n",
    "Name: ชื่อ-สกุล  \n",
    "Sex: เพศ    \n",
    "Age: อายุ  \n",
    "SibSp: จำนวนพี่น้อง (siblings) และคู่สมรส (spouse) ที่เดินทางมาด้วย    \n",
    "Parch:  จำนวนบิดา-มารดา (parent) และบุตร (child) ที่เดินทางมาด้วย  \n",
    "Ticket: รหัสตั๋วโดยสาร  \n",
    "Fare: ค่าตั๋วโดยสาร  \n",
    "Cabin: รหัสห้องผู้โดยสาร  \n",
    "Embarked: ท่าเรือต้นทาง Southampton (S), Cherbourg (C), และ Queenstown (Q)  \n"
   ]
  },
  {
   "cell_type": "markdown",
   "id": "73d9091d-e03c-4fdb-afbb-c181e68ceb91",
   "metadata": {
    "id": "73d9091d-e03c-4fdb-afbb-c181e68ceb91"
   },
   "source": [
    "\\\n",
    "ทำการ import library ที่ต้องใช้:"
   ]
  },
  {
   "cell_type": "code",
   "execution_count": 1,
   "id": "4bf5c117-81b0-42a8-b2f3-772c3dac2834",
   "metadata": {
    "executionInfo": {
     "elapsed": 1220,
     "status": "ok",
     "timestamp": 1670911677824,
     "user": {
      "displayName": "Thammakorn SAETHANG",
      "userId": "08182570455347153646"
     },
     "user_tz": -420
    },
    "id": "4bf5c117-81b0-42a8-b2f3-772c3dac2834"
   },
   "outputs": [],
   "source": [
    "import numpy as np\n",
    "import pandas as pd\n",
    "import matplotlib.pyplot as plt\n",
    "import seaborn as sns"
   ]
  },
  {
   "cell_type": "code",
   "execution_count": null,
   "id": "X68zK2rkORxz",
   "metadata": {
    "colab": {
     "base_uri": "https://localhost:8080/"
    },
    "executionInfo": {
     "elapsed": 3489,
     "status": "ok",
     "timestamp": 1670837568921,
     "user": {
      "displayName": "Thammakorn SAETHANG",
      "userId": "08182570455347153646"
     },
     "user_tz": -420
    },
    "id": "X68zK2rkORxz",
    "outputId": "56c2ace7-dea1-4e4d-cc91-8b40a1ed4d3a"
   },
   "outputs": [
    {
     "name": "stdout",
     "output_type": "stream",
     "text": [
      "Drive already mounted at /content/drive; to attempt to forcibly remount, call drive.mount(\"/content/drive\", force_remount=True).\n"
     ]
    }
   ],
   "source": [
    "from google.colab import drive\n",
    "drive.mount('/content/drive')"
   ]
  },
  {
   "cell_type": "code",
   "execution_count": 2,
   "id": "cb7f13ec-1004-4267-913b-b3bb75939416",
   "metadata": {
    "colab": {
     "base_uri": "https://localhost:8080/",
     "height": 510
    },
    "executionInfo": {
     "elapsed": 1272,
     "status": "ok",
     "timestamp": 1670837573517,
     "user": {
      "displayName": "Thammakorn SAETHANG",
      "userId": "08182570455347153646"
     },
     "user_tz": -420
    },
    "id": "cb7f13ec-1004-4267-913b-b3bb75939416",
    "outputId": "61407325-b44f-488d-c9c5-cf396bee0f3c"
   },
   "outputs": [
    {
     "data": {
      "text/html": [
       "<div>\n",
       "<style scoped>\n",
       "    .dataframe tbody tr th:only-of-type {\n",
       "        vertical-align: middle;\n",
       "    }\n",
       "\n",
       "    .dataframe tbody tr th {\n",
       "        vertical-align: top;\n",
       "    }\n",
       "\n",
       "    .dataframe thead th {\n",
       "        text-align: right;\n",
       "    }\n",
       "</style>\n",
       "<table border=\"1\" class=\"dataframe\">\n",
       "  <thead>\n",
       "    <tr style=\"text-align: right;\">\n",
       "      <th></th>\n",
       "      <th>PassengerId</th>\n",
       "      <th>Survived</th>\n",
       "      <th>Pclass</th>\n",
       "      <th>Name</th>\n",
       "      <th>Sex</th>\n",
       "      <th>Age</th>\n",
       "      <th>SibSp</th>\n",
       "      <th>Parch</th>\n",
       "      <th>Ticket</th>\n",
       "      <th>Fare</th>\n",
       "      <th>Cabin</th>\n",
       "      <th>Embarked</th>\n",
       "    </tr>\n",
       "  </thead>\n",
       "  <tbody>\n",
       "    <tr>\n",
       "      <th>0</th>\n",
       "      <td>1</td>\n",
       "      <td>0</td>\n",
       "      <td>3</td>\n",
       "      <td>Braund, Mr. Owen Harris</td>\n",
       "      <td>male</td>\n",
       "      <td>22.0</td>\n",
       "      <td>1</td>\n",
       "      <td>0</td>\n",
       "      <td>A/5 21171</td>\n",
       "      <td>7.2500</td>\n",
       "      <td>NaN</td>\n",
       "      <td>S</td>\n",
       "    </tr>\n",
       "    <tr>\n",
       "      <th>1</th>\n",
       "      <td>2</td>\n",
       "      <td>1</td>\n",
       "      <td>1</td>\n",
       "      <td>Cumings, Mrs. John Bradley (Florence Briggs Th...</td>\n",
       "      <td>female</td>\n",
       "      <td>38.0</td>\n",
       "      <td>1</td>\n",
       "      <td>0</td>\n",
       "      <td>PC 17599</td>\n",
       "      <td>71.2833</td>\n",
       "      <td>C85</td>\n",
       "      <td>C</td>\n",
       "    </tr>\n",
       "    <tr>\n",
       "      <th>2</th>\n",
       "      <td>3</td>\n",
       "      <td>1</td>\n",
       "      <td>3</td>\n",
       "      <td>Heikkinen, Miss. Laina</td>\n",
       "      <td>female</td>\n",
       "      <td>26.0</td>\n",
       "      <td>0</td>\n",
       "      <td>0</td>\n",
       "      <td>STON/O2. 3101282</td>\n",
       "      <td>7.9250</td>\n",
       "      <td>NaN</td>\n",
       "      <td>S</td>\n",
       "    </tr>\n",
       "    <tr>\n",
       "      <th>3</th>\n",
       "      <td>4</td>\n",
       "      <td>1</td>\n",
       "      <td>1</td>\n",
       "      <td>Futrelle, Mrs. Jacques Heath (Lily May Peel)</td>\n",
       "      <td>female</td>\n",
       "      <td>35.0</td>\n",
       "      <td>1</td>\n",
       "      <td>0</td>\n",
       "      <td>113803</td>\n",
       "      <td>53.1000</td>\n",
       "      <td>C123</td>\n",
       "      <td>S</td>\n",
       "    </tr>\n",
       "    <tr>\n",
       "      <th>4</th>\n",
       "      <td>5</td>\n",
       "      <td>0</td>\n",
       "      <td>3</td>\n",
       "      <td>Allen, Mr. William Henry</td>\n",
       "      <td>male</td>\n",
       "      <td>35.0</td>\n",
       "      <td>0</td>\n",
       "      <td>0</td>\n",
       "      <td>373450</td>\n",
       "      <td>8.0500</td>\n",
       "      <td>NaN</td>\n",
       "      <td>S</td>\n",
       "    </tr>\n",
       "  </tbody>\n",
       "</table>\n",
       "</div>"
      ],
      "text/plain": [
       "   PassengerId  Survived  Pclass  \\\n",
       "0            1         0       3   \n",
       "1            2         1       1   \n",
       "2            3         1       3   \n",
       "3            4         1       1   \n",
       "4            5         0       3   \n",
       "\n",
       "                                                Name     Sex   Age  SibSp  \\\n",
       "0                            Braund, Mr. Owen Harris    male  22.0      1   \n",
       "1  Cumings, Mrs. John Bradley (Florence Briggs Th...  female  38.0      1   \n",
       "2                             Heikkinen, Miss. Laina  female  26.0      0   \n",
       "3       Futrelle, Mrs. Jacques Heath (Lily May Peel)  female  35.0      1   \n",
       "4                           Allen, Mr. William Henry    male  35.0      0   \n",
       "\n",
       "   Parch            Ticket     Fare Cabin Embarked  \n",
       "0      0         A/5 21171   7.2500   NaN        S  \n",
       "1      0          PC 17599  71.2833   C85        C  \n",
       "2      0  STON/O2. 3101282   7.9250   NaN        S  \n",
       "3      0            113803  53.1000  C123        S  \n",
       "4      0            373450   8.0500   NaN        S  "
      ]
     },
     "execution_count": 2,
     "metadata": {},
     "output_type": "execute_result"
    }
   ],
   "source": [
    "df = pd.read_csv(\"titanic.csv\")\n",
    "df.head()"
   ]
  },
  {
   "cell_type": "markdown",
   "id": "ea4d62a2-8424-4637-87df-796b38f73836",
   "metadata": {
    "id": "ea4d62a2-8424-4637-87df-796b38f73836"
   },
   "source": [
    "####  \n",
    "#### **การแจกแจงความถี่ (frequency distribution)**"
   ]
  },
  {
   "cell_type": "markdown",
   "id": "f7d51d7f-42a7-48c5-bd01-d6102cda63f0",
   "metadata": {
    "id": "f7d51d7f-42a7-48c5-bd01-d6102cda63f0"
   },
   "source": [
    "\\\n",
    "สนใจวิเคราะห์ข้อมูลอายุของผู้โดยสารเรือไททานิค"
   ]
  },
  {
   "cell_type": "markdown",
   "id": "4369b54a-3cf0-4af2-bac6-d2976d4f98d9",
   "metadata": {
    "id": "4369b54a-3cf0-4af2-bac6-d2976d4f98d9"
   },
   "source": [
    "เนื่องจากในบทนี้จะใช้ข้อมูลอายุเป็นหลัก จึงต้องกรองให้มีเฉพาะผู้โดยสารที่มีข้อมูลอายุเท่านั้น:"
   ]
  },
  {
   "cell_type": "code",
   "execution_count": null,
   "id": "b2b7c9f8-1259-44a2-b413-aabe09189df7",
   "metadata": {
    "colab": {
     "base_uri": "https://localhost:8080/"
    },
    "executionInfo": {
     "elapsed": 680,
     "status": "ok",
     "timestamp": 1670837577487,
     "user": {
      "displayName": "Thammakorn SAETHANG",
      "userId": "08182570455347153646"
     },
     "user_tz": -420
    },
    "id": "b2b7c9f8-1259-44a2-b413-aabe09189df7",
    "outputId": "95130862-5bcf-4f5f-8458-9557ed664598"
   },
   "outputs": [
    {
     "name": "stdout",
     "output_type": "stream",
     "text": [
      "<class 'pandas.core.frame.DataFrame'>\n",
      "Int64Index: 714 entries, 0 to 890\n",
      "Data columns (total 12 columns):\n",
      " #   Column       Non-Null Count  Dtype  \n",
      "---  ------       --------------  -----  \n",
      " 0   PassengerId  714 non-null    int64  \n",
      " 1   Survived     714 non-null    int64  \n",
      " 2   Pclass       714 non-null    int64  \n",
      " 3   Name         714 non-null    object \n",
      " 4   Sex          714 non-null    object \n",
      " 5   Age          714 non-null    float64\n",
      " 6   SibSp        714 non-null    int64  \n",
      " 7   Parch        714 non-null    int64  \n",
      " 8   Ticket       714 non-null    object \n",
      " 9   Fare         714 non-null    float64\n",
      " 10  Cabin        185 non-null    object \n",
      " 11  Embarked     712 non-null    object \n",
      "dtypes: float64(2), int64(5), object(5)\n",
      "memory usage: 72.5+ KB\n"
     ]
    }
   ],
   "source": [
    "df = df[df.Age.notnull()]\n",
    "df.info()"
   ]
  },
  {
   "cell_type": "markdown",
   "id": "df4579c8-0229-4a80-a88c-1aff5340fd34",
   "metadata": {
    "id": "df4579c8-0229-4a80-a88c-1aff5340fd34"
   },
   "source": [
    "\\\n",
    "สร้างกราฟแจกแจงความถี่ของข้อมูลอายุ:"
   ]
  },
  {
   "cell_type": "code",
   "execution_count": 3,
   "id": "cbc21e7a-402b-40b3-91c6-0c490a0ae9c3",
   "metadata": {
    "colab": {
     "base_uri": "https://localhost:8080/",
     "height": 296
    },
    "executionInfo": {
     "elapsed": 1015,
     "status": "ok",
     "timestamp": 1670837632045,
     "user": {
      "displayName": "Thammakorn SAETHANG",
      "userId": "08182570455347153646"
     },
     "user_tz": -420
    },
    "id": "cbc21e7a-402b-40b3-91c6-0c490a0ae9c3",
    "outputId": "b37ecd83-cd4d-4505-fbc0-cddcfcabc019"
   },
   "outputs": [
    {
     "data": {
      "text/plain": [
       "<AxesSubplot:xlabel='Age', ylabel='Count'>"
      ]
     },
     "execution_count": 3,
     "metadata": {},
     "output_type": "execute_result"
    },
    {
     "data": {
      "image/png": "[encoded data removed]",
      "text/plain": [
       "<Figure size 640x480 with 1 Axes>"
      ]
     },
     "metadata": {},
     "output_type": "display_data"
    }
   ],
   "source": [
    "sns.histplot(data=df,\n",
    "             x='Age',\n",
    "             bins='auto',\n",
    "             color='skyblue')"
   ]
  },
  {
   "cell_type": "markdown",
   "id": "c02b27f2-6fd6-4eaa-8bbd-362e59102340",
   "metadata": {
    "id": "c02b27f2-6fd6-4eaa-8bbd-362e59102340"
   },
   "source": [
    "seaborn เป็น library สำเร็จรูปในการสร้างกราฟต่างๆ โดยใช้คำสั่งที่สั้นและกระชับ จากตัวอย่างข้างต้นใช้คำสั่งเพียงแค่บรรทัดเดียวเท่านั้น  \n",
    "อย่างไรก็ตาม ***การเข้าถึงข้อมูลของกราฟที่แสดงนั้นทำได้ยาก*** เช่น จากกราฟข้างต้น การเข้าถึงข้อมูลจำนวนชั้น (k) และความถี่ที่เป็นตัวเลขของแต่ละชั้นก็ทำได้ยาก"
   ]
  },
  {
   "cell_type": "markdown",
   "id": "9bf1482c-a129-46e2-86ea-ae262930e2ed",
   "metadata": {
    "id": "9bf1482c-a129-46e2-86ea-ae262930e2ed"
   },
   "source": [
    "\\\n",
    "ที่จริงแล้ว seaborn เป็น library ที่สร้างขึ้นจากการต่อยอด library อื่นๆเข้าด้วยกัน หนึ่งใน library ที่เป็นพื้นฐานหลักของ seaborn ก็คือ numpy  \n",
    "seaborn.histplot เป็นตัวต่อยอดเพื่อสร้างกราฟฟิกจาก np.histogram ดังนั้นการที่จะเข้าถึงข้อมูลจำนวนชั้น และความถี่ที่เป็นตัวเลขของแต่ละชั้นต้องใช้ np.histogram"
   ]
  },
  {
   "cell_type": "code",
   "execution_count": null,
   "id": "4280802b-53f6-40a6-add3-1247546e75d2",
   "metadata": {
    "id": "4280802b-53f6-40a6-add3-1247546e75d2"
   },
   "outputs": [],
   "source": [
    "freq, bins = np.histogram(df.Age, bins='auto') \n",
    "#Maximum of the ‘sturges’ and ‘Freedman Diaconis’ estimators\n",
    "#see https://numpy.org/doc/stable/reference/generated/numpy.histogram_bin_edges.html#numpy.histogram_bin_edges"
   ]
  },
  {
   "cell_type": "markdown",
   "id": "03b85c5b-7ffe-4ddb-81f5-77ee85c6f6c7",
   "metadata": {
    "id": "03b85c5b-7ffe-4ddb-81f5-77ee85c6f6c7"
   },
   "source": [
    "\\\n",
    "จำนวนชั้น bins='auto' จะเป็นการเลือกจำนวนชั้นที่มากสุดระหว่างสูตรของ Sturges หรือ Freedman Diaconis  "
   ]
  },
  {
   "cell_type": "markdown",
   "id": "04372655-e7ba-4ede-9451-6c3f517db6cb",
   "metadata": {
    "id": "04372655-e7ba-4ede-9451-6c3f517db6cb"
   },
   "source": [
    "จำนวนชั้น:"
   ]
  },
  {
   "cell_type": "code",
   "execution_count": null,
   "id": "1eb4caca-4c82-4d39-9da0-20c52edc6b19",
   "metadata": {
    "colab": {
     "base_uri": "https://localhost:8080/"
    },
    "executionInfo": {
     "elapsed": 348,
     "status": "ok",
     "timestamp": 1670837739159,
     "user": {
      "displayName": "Thammakorn SAETHANG",
      "userId": "08182570455347153646"
     },
     "user_tz": -420
    },
    "id": "1eb4caca-4c82-4d39-9da0-20c52edc6b19",
    "outputId": "86a14c13-c73b-4fe2-efca-efb9ce7ecde3"
   },
   "outputs": [
    {
     "data": {
      "text/plain": [
       "array([ 0.42 ,  4.399,  8.378, 12.357, 16.336, 20.315, 24.294, 28.273,\n",
       "       32.252, 36.231, 40.21 , 44.189, 48.168, 52.147, 56.126, 60.105,\n",
       "       64.084, 68.063, 72.042, 76.021, 80.   ])"
      ]
     },
     "execution_count": 8,
     "metadata": {},
     "output_type": "execute_result"
    }
   ],
   "source": [
    "bins"
   ]
  },
  {
   "cell_type": "markdown",
   "id": "12e8a89a-6242-4159-b8d5-b9cf4abee463",
   "metadata": {
    "id": "12e8a89a-6242-4159-b8d5-b9cf4abee463"
   },
   "source": [
    "\\\n",
    "ความถี่ของแต่ละชั้น:"
   ]
  },
  {
   "cell_type": "code",
   "execution_count": null,
   "id": "1768ef58-cb26-4272-8b01-d0c75077a77f",
   "metadata": {
    "colab": {
     "base_uri": "https://localhost:8080/"
    },
    "executionInfo": {
     "elapsed": 346,
     "status": "ok",
     "timestamp": 1670762893898,
     "user": {
      "displayName": "Thammakorn SAETHANG",
      "userId": "08182570455347153646"
     },
     "user_tz": -420
    },
    "id": "1768ef58-cb26-4272-8b01-d0c75077a77f",
    "outputId": "78d81552-3669-4ccd-ecac-f17bba020b8e"
   },
   "outputs": [
    {
     "data": {
      "text/plain": [
       "array([40, 14, 15, 31, 79, 98, 85, 84, 73, 45, 35, 35, 29, 16, 13, 11,  4,\n",
       "        5,  1,  1])"
      ]
     },
     "execution_count": 9,
     "metadata": {},
     "output_type": "execute_result"
    }
   ],
   "source": [
    "freq"
   ]
  },
  {
   "cell_type": "markdown",
   "id": "e6b532a7-7746-44d6-bb58-c4c7a370efb6",
   "metadata": {
    "id": "e6b532a7-7746-44d6-bb58-c4c7a370efb6"
   },
   "source": [
    "\\\n",
    "สร้างตารางแจกแจงความถี่:"
   ]
  },
  {
   "cell_type": "code",
   "execution_count": null,
   "id": "09f06590-8548-44a6-84f6-af15861cfc09",
   "metadata": {
    "colab": {
     "base_uri": "https://localhost:8080/",
     "height": 676
    },
    "executionInfo": {
     "elapsed": 5,
     "status": "ok",
     "timestamp": 1670837789480,
     "user": {
      "displayName": "Thammakorn SAETHANG",
      "userId": "08182570455347153646"
     },
     "user_tz": -420
    },
    "id": "09f06590-8548-44a6-84f6-af15861cfc09",
    "outputId": "a8664dc5-e830-4d76-8363-3d74d3107709"
   },
   "outputs": [
    {
     "data": {
      "text/html": [
       "\n",
       "  <div id=\"df-f44dca42-b003-46d8-8448-5eac41e3c35b\">\n",
       "    <div class=\"colab-df-container\">\n",
       "      <div>\n",
       "<style scoped>\n",
       "    .dataframe tbody tr th:only-of-type {\n",
       "        vertical-align: middle;\n",
       "    }\n",
       "\n",
       "    .dataframe tbody tr th {\n",
       "        vertical-align: top;\n",
       "    }\n",
       "\n",
       "    .dataframe thead th {\n",
       "        text-align: right;\n",
       "    }\n",
       "</style>\n",
       "<table border=\"1\" class=\"dataframe\">\n",
       "  <thead>\n",
       "    <tr style=\"text-align: right;\">\n",
       "      <th></th>\n",
       "      <th>Age</th>\n",
       "      <th>frequency</th>\n",
       "    </tr>\n",
       "  </thead>\n",
       "  <tbody>\n",
       "    <tr>\n",
       "      <th>0</th>\n",
       "      <td>[0.420-4.399)</td>\n",
       "      <td>40</td>\n",
       "    </tr>\n",
       "    <tr>\n",
       "      <th>1</th>\n",
       "      <td>[4.399-8.378)</td>\n",
       "      <td>14</td>\n",
       "    </tr>\n",
       "    <tr>\n",
       "      <th>2</th>\n",
       "      <td>[8.378-12.357)</td>\n",
       "      <td>15</td>\n",
       "    </tr>\n",
       "    <tr>\n",
       "      <th>3</th>\n",
       "      <td>[12.357-16.336)</td>\n",
       "      <td>31</td>\n",
       "    </tr>\n",
       "    <tr>\n",
       "      <th>4</th>\n",
       "      <td>[16.336-20.315)</td>\n",
       "      <td>79</td>\n",
       "    </tr>\n",
       "    <tr>\n",
       "      <th>5</th>\n",
       "      <td>[20.315-24.294)</td>\n",
       "      <td>98</td>\n",
       "    </tr>\n",
       "    <tr>\n",
       "      <th>6</th>\n",
       "      <td>[24.294-28.273)</td>\n",
       "      <td>85</td>\n",
       "    </tr>\n",
       "    <tr>\n",
       "      <th>7</th>\n",
       "      <td>[28.273-32.252)</td>\n",
       "      <td>84</td>\n",
       "    </tr>\n",
       "    <tr>\n",
       "      <th>8</th>\n",
       "      <td>[32.252-36.231)</td>\n",
       "      <td>73</td>\n",
       "    </tr>\n",
       "    <tr>\n",
       "      <th>9</th>\n",
       "      <td>[36.231-40.210)</td>\n",
       "      <td>45</td>\n",
       "    </tr>\n",
       "    <tr>\n",
       "      <th>10</th>\n",
       "      <td>[40.210-44.189)</td>\n",
       "      <td>35</td>\n",
       "    </tr>\n",
       "    <tr>\n",
       "      <th>11</th>\n",
       "      <td>[44.189-48.168)</td>\n",
       "      <td>35</td>\n",
       "    </tr>\n",
       "    <tr>\n",
       "      <th>12</th>\n",
       "      <td>[48.168-52.147)</td>\n",
       "      <td>29</td>\n",
       "    </tr>\n",
       "    <tr>\n",
       "      <th>13</th>\n",
       "      <td>[52.147-56.126)</td>\n",
       "      <td>16</td>\n",
       "    </tr>\n",
       "    <tr>\n",
       "      <th>14</th>\n",
       "      <td>[56.126-60.105)</td>\n",
       "      <td>13</td>\n",
       "    </tr>\n",
       "    <tr>\n",
       "      <th>15</th>\n",
       "      <td>[60.105-64.084)</td>\n",
       "      <td>11</td>\n",
       "    </tr>\n",
       "    <tr>\n",
       "      <th>16</th>\n",
       "      <td>[64.084-68.063)</td>\n",
       "      <td>4</td>\n",
       "    </tr>\n",
       "    <tr>\n",
       "      <th>17</th>\n",
       "      <td>[68.063-72.042)</td>\n",
       "      <td>5</td>\n",
       "    </tr>\n",
       "    <tr>\n",
       "      <th>18</th>\n",
       "      <td>[72.042-76.021)</td>\n",
       "      <td>1</td>\n",
       "    </tr>\n",
       "    <tr>\n",
       "      <th>19</th>\n",
       "      <td>[76.021-80.000)</td>\n",
       "      <td>1</td>\n",
       "    </tr>\n",
       "  </tbody>\n",
       "</table>\n",
       "</div>\n",
       "      <button class=\"colab-df-convert\" onclick=\"convertToInteractive('df-f44dca42-b003-46d8-8448-5eac41e3c35b')\"\n",
       "              title=\"Convert this dataframe to an interactive table.\"\n",
       "              style=\"display:none;\">\n",
       "        \n",
       "  <svg xmlns=\"http://www.w3.org/2000/svg\" height=\"24px\"viewBox=\"0 0 24 24\"\n",
       "       width=\"24px\">\n",
       "    <path d=\"M0 0h24v24H0V0z\" fill=\"none\"/>\n",
       "    <path d=\"M18.56 5.44l.94 2.06.94-2.06 2.06-.94-2.06-.94-.94-2.06-.94 2.06-2.06.94zm-11 1L8.5 8.5l.94-2.06 2.06-.94-2.06-.94L8.5 2.5l-.94 2.06-2.06.94zm10 10l.94 2.06.94-2.06 2.06-.94-2.06-.94-.94-2.06-.94 2.06-2.06.94z\"/><path d=\"M17.41 7.96l-1.37-1.37c-.4-.4-.92-.59-1.43-.59-.52 0-1.04.2-1.43.59L10.3 9.45l-7.72 7.72c-.78.78-.78 2.05 0 2.83L4 21.41c.39.39.9.59 1.41.59.51 0 1.02-.2 1.41-.59l7.78-7.78 2.81-2.81c.8-.78.8-2.07 0-2.86zM5.41 20L4 18.59l7.72-7.72 1.47 1.35L5.41 20z\"/>\n",
       "  </svg>\n",
       "      </button>\n",
       "      \n",
       "  <style>\n",
       "    .colab-df-container {\n",
       "      display:flex;\n",
       "      flex-wrap:wrap;\n",
       "      gap: 12px;\n",
       "    }\n",
       "\n",
       "    .colab-df-convert {\n",
       "      background-color: #E8F0FE;\n",
       "      border: none;\n",
       "      border-radius: 50%;\n",
       "      cursor: pointer;\n",
       "      display: none;\n",
       "      fill: #1967D2;\n",
       "      height: 32px;\n",
       "      padding: 0 0 0 0;\n",
       "      width: 32px;\n",
       "    }\n",
       "\n",
       "    .colab-df-convert:hover {\n",
       "      background-color: #E2EBFA;\n",
       "      box-shadow: 0px 1px 2px rgba(60, 64, 67, 0.3), 0px 1px 3px 1px rgba(60, 64, 67, 0.15);\n",
       "      fill: #174EA6;\n",
       "    }\n",
       "\n",
       "    [theme=dark] .colab-df-convert {\n",
       "      background-color: #3B4455;\n",
       "      fill: #D2E3FC;\n",
       "    }\n",
       "\n",
       "    [theme=dark] .colab-df-convert:hover {\n",
       "      background-color: #434B5C;\n",
       "      box-shadow: 0px 1px 3px 1px rgba(0, 0, 0, 0.15);\n",
       "      filter: drop-shadow(0px 1px 2px rgba(0, 0, 0, 0.3));\n",
       "      fill: #FFFFFF;\n",
       "    }\n",
       "  </style>\n",
       "\n",
       "      <script>\n",
       "        const buttonEl =\n",
       "          document.querySelector('#df-f44dca42-b003-46d8-8448-5eac41e3c35b button.colab-df-convert');\n",
       "        buttonEl.style.display =\n",
       "          google.colab.kernel.accessAllowed ? 'block' : 'none';\n",
       "\n",
       "        async function convertToInteractive(key) {\n",
       "          const element = document.querySelector('#df-f44dca42-b003-46d8-8448-5eac41e3c35b');\n",
       "          const dataTable =\n",
       "            await google.colab.kernel.invokeFunction('convertToInteractive',\n",
       "                                                     [key], {});\n",
       "          if (!dataTable) return;\n",
       "\n",
       "          const docLinkHtml = 'Like what you see? Visit the ' +\n",
       "            '<a target=\"_blank\" href=https://colab.research.google.com/notebooks/data_table.ipynb>data table notebook</a>'\n",
       "            + ' to learn more about interactive tables.';\n",
       "          element.innerHTML = '';\n",
       "          dataTable['output_type'] = 'display_data';\n",
       "          await google.colab.output.renderOutput(dataTable, element);\n",
       "          const docLink = document.createElement('div');\n",
       "          docLink.innerHTML = docLinkHtml;\n",
       "          element.appendChild(docLink);\n",
       "        }\n",
       "      </script>\n",
       "    </div>\n",
       "  </div>\n",
       "  "
      ],
      "text/plain": [
       "                Age  frequency\n",
       "0     [0.420-4.399)         40\n",
       "1     [4.399-8.378)         14\n",
       "2    [8.378-12.357)         15\n",
       "3   [12.357-16.336)         31\n",
       "4   [16.336-20.315)         79\n",
       "5   [20.315-24.294)         98\n",
       "6   [24.294-28.273)         85\n",
       "7   [28.273-32.252)         84\n",
       "8   [32.252-36.231)         73\n",
       "9   [36.231-40.210)         45\n",
       "10  [40.210-44.189)         35\n",
       "11  [44.189-48.168)         35\n",
       "12  [48.168-52.147)         29\n",
       "13  [52.147-56.126)         16\n",
       "14  [56.126-60.105)         13\n",
       "15  [60.105-64.084)         11\n",
       "16  [64.084-68.063)          4\n",
       "17  [68.063-72.042)          5\n",
       "18  [72.042-76.021)          1\n",
       "19  [76.021-80.000)          1"
      ]
     },
     "execution_count": 9,
     "metadata": {},
     "output_type": "execute_result"
    }
   ],
   "source": [
    "#ช่วงอายุ\n",
    "age_range=[]\n",
    "for i in range(len(bins)-1):\n",
    "    age_range.append(f\"[{bins[i]:.3f}-{bins[i+1]:.3f})\")\n",
    "\n",
    "#ตารางแจกแจงความถี่\n",
    "freq_tab = pd.DataFrame({\n",
    "    \"Age\":age_range,\n",
    "    \"frequency\":freq\n",
    "})\n",
    "\n",
    "freq_tab"
   ]
  },
  {
   "cell_type": "markdown",
   "id": "57fd308b-35fd-4361-9cba-96e810c0a244",
   "metadata": {
    "id": "57fd308b-35fd-4361-9cba-96e810c0a244"
   },
   "source": [
    "\\\n",
    "หากใช้สูตรของ Doane:"
   ]
  },
  {
   "cell_type": "code",
   "execution_count": null,
   "id": "42c003d4-178f-473d-86fc-a30f3b84c94d",
   "metadata": {
    "colab": {
     "base_uri": "https://localhost:8080/",
     "height": 296
    },
    "executionInfo": {
     "elapsed": 352,
     "status": "ok",
     "timestamp": 1670837948417,
     "user": {
      "displayName": "Thammakorn SAETHANG",
      "userId": "08182570455347153646"
     },
     "user_tz": -420
    },
    "id": "42c003d4-178f-473d-86fc-a30f3b84c94d",
    "outputId": "7c9dd12c-9140-48ef-8b9b-ea5928ef84c6"
   },
   "outputs": [
    {
     "data": {
      "text/plain": [
       "<matplotlib.axes._subplots.AxesSubplot at 0x7f700bd9d6a0>"
      ]
     },
     "execution_count": 10,
     "metadata": {},
     "output_type": "execute_result"
    },
    {
     "data": {
      "image/png": "[encoded data removed]",
      "text/plain": [
       "<Figure size 432x288 with 1 Axes>"
      ]
     },
     "metadata": {
      "needs_background": "light"
     },
     "output_type": "display_data"
    }
   ],
   "source": [
    "sns.histplot(data=df,\n",
    "             x='Age',\n",
    "             bins='doane',\n",
    "             color='lightgreen')"
   ]
  },
  {
   "cell_type": "code",
   "execution_count": null,
   "id": "bde1d958-e276-4f00-8fd5-1bf73d0d3818",
   "metadata": {
    "id": "bde1d958-e276-4f00-8fd5-1bf73d0d3818"
   },
   "outputs": [],
   "source": [
    "freq, bins = np.histogram(df.Age, bins='doane') "
   ]
  },
  {
   "cell_type": "markdown",
   "id": "c5c6a358-ab90-44af-84ec-e2da31ec3ebb",
   "metadata": {
    "id": "c5c6a358-ab90-44af-84ec-e2da31ec3ebb"
   },
   "source": [
    "\\\n",
    "จำนวนชั้น bins='auto' จะเป็นการเลือกจำนวนชั้นที่มากสุดระหว่างสูตรของ Sturges หรือ Freedman Diaconis  "
   ]
  },
  {
   "cell_type": "markdown",
   "id": "763a5ff9-e60f-4f66-a302-88675213f95e",
   "metadata": {
    "id": "763a5ff9-e60f-4f66-a302-88675213f95e"
   },
   "source": [
    "จำนวนชั้น:"
   ]
  },
  {
   "cell_type": "code",
   "execution_count": null,
   "id": "2e806a22-8972-4972-9f12-767870e6609c",
   "metadata": {
    "colab": {
     "base_uri": "https://localhost:8080/"
    },
    "executionInfo": {
     "elapsed": 338,
     "status": "ok",
     "timestamp": 1670837954337,
     "user": {
      "displayName": "Thammakorn SAETHANG",
      "userId": "08182570455347153646"
     },
     "user_tz": -420
    },
    "id": "2e806a22-8972-4972-9f12-767870e6609c",
    "outputId": "143ad992-f3b5-40aa-aa54-72ddf0860a1c"
   },
   "outputs": [
    {
     "data": {
      "text/plain": [
       "array([ 0.42      ,  6.54153846, 12.66307692, 18.78461538, 24.90615385,\n",
       "       31.02769231, 37.14923077, 43.27076923, 49.39230769, 55.51384615,\n",
       "       61.63538462, 67.75692308, 73.87846154, 80.        ])"
      ]
     },
     "execution_count": 12,
     "metadata": {},
     "output_type": "execute_result"
    }
   ],
   "source": [
    "bins"
   ]
  },
  {
   "cell_type": "markdown",
   "id": "8f7179b0-94bb-4402-9a04-16da0a6a5f74",
   "metadata": {
    "id": "8f7179b0-94bb-4402-9a04-16da0a6a5f74"
   },
   "source": [
    "\\\n",
    "ความถี่ของแต่ละชั้น:"
   ]
  },
  {
   "cell_type": "code",
   "execution_count": null,
   "id": "26eaa837-cf58-4400-9878-bbf0f693050b",
   "metadata": {
    "colab": {
     "base_uri": "https://localhost:8080/"
    },
    "executionInfo": {
     "elapsed": 309,
     "status": "ok",
     "timestamp": 1670837978991,
     "user": {
      "displayName": "Thammakorn SAETHANG",
      "userId": "08182570455347153646"
     },
     "user_tz": -420
    },
    "id": "26eaa837-cf58-4400-9878-bbf0f693050b",
    "outputId": "dee02c74-c119-4d47-e6c6-fc7770da5485"
   },
   "outputs": [
    {
     "data": {
      "text/plain": [
       "array([ 47,  22,  70, 139, 150,  98,  64,  50,  35,  20,  12,   5,   2])"
      ]
     },
     "execution_count": 13,
     "metadata": {},
     "output_type": "execute_result"
    }
   ],
   "source": [
    "freq"
   ]
  },
  {
   "cell_type": "markdown",
   "id": "637e2872-8c13-44e3-b746-45282eb3882b",
   "metadata": {
    "id": "637e2872-8c13-44e3-b746-45282eb3882b"
   },
   "source": [
    "\\\n",
    "สร้างตารางแจกแจงความถี่:"
   ]
  },
  {
   "cell_type": "code",
   "execution_count": null,
   "id": "4ae38115-b938-4c30-9aff-88c3ddc338b4",
   "metadata": {
    "colab": {
     "base_uri": "https://localhost:8080/",
     "height": 457
    },
    "executionInfo": {
     "elapsed": 3,
     "status": "ok",
     "timestamp": 1670837994557,
     "user": {
      "displayName": "Thammakorn SAETHANG",
      "userId": "08182570455347153646"
     },
     "user_tz": -420
    },
    "id": "4ae38115-b938-4c30-9aff-88c3ddc338b4",
    "outputId": "4e5e364d-cb06-44f7-c085-4aaac9295c6d"
   },
   "outputs": [
    {
     "data": {
      "text/html": [
       "\n",
       "  <div id=\"df-c9ca2e2a-4cfb-4543-8596-75f0adc384fe\">\n",
       "    <div class=\"colab-df-container\">\n",
       "      <div>\n",
       "<style scoped>\n",
       "    .dataframe tbody tr th:only-of-type {\n",
       "        vertical-align: middle;\n",
       "    }\n",
       "\n",
       "    .dataframe tbody tr th {\n",
       "        vertical-align: top;\n",
       "    }\n",
       "\n",
       "    .dataframe thead th {\n",
       "        text-align: right;\n",
       "    }\n",
       "</style>\n",
       "<table border=\"1\" class=\"dataframe\">\n",
       "  <thead>\n",
       "    <tr style=\"text-align: right;\">\n",
       "      <th></th>\n",
       "      <th>Age</th>\n",
       "      <th>frequency</th>\n",
       "    </tr>\n",
       "  </thead>\n",
       "  <tbody>\n",
       "    <tr>\n",
       "      <th>0</th>\n",
       "      <td>[0.420-6.542)</td>\n",
       "      <td>47</td>\n",
       "    </tr>\n",
       "    <tr>\n",
       "      <th>1</th>\n",
       "      <td>[6.542-12.663)</td>\n",
       "      <td>22</td>\n",
       "    </tr>\n",
       "    <tr>\n",
       "      <th>2</th>\n",
       "      <td>[12.663-18.785)</td>\n",
       "      <td>70</td>\n",
       "    </tr>\n",
       "    <tr>\n",
       "      <th>3</th>\n",
       "      <td>[18.785-24.906)</td>\n",
       "      <td>139</td>\n",
       "    </tr>\n",
       "    <tr>\n",
       "      <th>4</th>\n",
       "      <td>[24.906-31.028)</td>\n",
       "      <td>150</td>\n",
       "    </tr>\n",
       "    <tr>\n",
       "      <th>5</th>\n",
       "      <td>[31.028-37.149)</td>\n",
       "      <td>98</td>\n",
       "    </tr>\n",
       "    <tr>\n",
       "      <th>6</th>\n",
       "      <td>[37.149-43.271)</td>\n",
       "      <td>64</td>\n",
       "    </tr>\n",
       "    <tr>\n",
       "      <th>7</th>\n",
       "      <td>[43.271-49.392)</td>\n",
       "      <td>50</td>\n",
       "    </tr>\n",
       "    <tr>\n",
       "      <th>8</th>\n",
       "      <td>[49.392-55.514)</td>\n",
       "      <td>35</td>\n",
       "    </tr>\n",
       "    <tr>\n",
       "      <th>9</th>\n",
       "      <td>[55.514-61.635)</td>\n",
       "      <td>20</td>\n",
       "    </tr>\n",
       "    <tr>\n",
       "      <th>10</th>\n",
       "      <td>[61.635-67.757)</td>\n",
       "      <td>12</td>\n",
       "    </tr>\n",
       "    <tr>\n",
       "      <th>11</th>\n",
       "      <td>[67.757-73.878)</td>\n",
       "      <td>5</td>\n",
       "    </tr>\n",
       "    <tr>\n",
       "      <th>12</th>\n",
       "      <td>[73.878-80.000)</td>\n",
       "      <td>2</td>\n",
       "    </tr>\n",
       "  </tbody>\n",
       "</table>\n",
       "</div>\n",
       "      <button class=\"colab-df-convert\" onclick=\"convertToInteractive('df-c9ca2e2a-4cfb-4543-8596-75f0adc384fe')\"\n",
       "              title=\"Convert this dataframe to an interactive table.\"\n",
       "              style=\"display:none;\">\n",
       "        \n",
       "  <svg xmlns=\"http://www.w3.org/2000/svg\" height=\"24px\"viewBox=\"0 0 24 24\"\n",
       "       width=\"24px\">\n",
       "    <path d=\"M0 0h24v24H0V0z\" fill=\"none\"/>\n",
       "    <path d=\"M18.56 5.44l.94 2.06.94-2.06 2.06-.94-2.06-.94-.94-2.06-.94 2.06-2.06.94zm-11 1L8.5 8.5l.94-2.06 2.06-.94-2.06-.94L8.5 2.5l-.94 2.06-2.06.94zm10 10l.94 2.06.94-2.06 2.06-.94-2.06-.94-.94-2.06-.94 2.06-2.06.94z\"/><path d=\"M17.41 7.96l-1.37-1.37c-.4-.4-.92-.59-1.43-.59-.52 0-1.04.2-1.43.59L10.3 9.45l-7.72 7.72c-.78.78-.78 2.05 0 2.83L4 21.41c.39.39.9.59 1.41.59.51 0 1.02-.2 1.41-.59l7.78-7.78 2.81-2.81c.8-.78.8-2.07 0-2.86zM5.41 20L4 18.59l7.72-7.72 1.47 1.35L5.41 20z\"/>\n",
       "  </svg>\n",
       "      </button>\n",
       "      \n",
       "  <style>\n",
       "    .colab-df-container {\n",
       "      display:flex;\n",
       "      flex-wrap:wrap;\n",
       "      gap: 12px;\n",
       "    }\n",
       "\n",
       "    .colab-df-convert {\n",
       "      background-color: #E8F0FE;\n",
       "      border: none;\n",
       "      border-radius: 50%;\n",
       "      cursor: pointer;\n",
       "      display: none;\n",
       "      fill: #1967D2;\n",
       "      height: 32px;\n",
       "      padding: 0 0 0 0;\n",
       "      width: 32px;\n",
       "    }\n",
       "\n",
       "    .colab-df-convert:hover {\n",
       "      background-color: #E2EBFA;\n",
       "      box-shadow: 0px 1px 2px rgba(60, 64, 67, 0.3), 0px 1px 3px 1px rgba(60, 64, 67, 0.15);\n",
       "      fill: #174EA6;\n",
       "    }\n",
       "\n",
       "    [theme=dark] .colab-df-convert {\n",
       "      background-color: #3B4455;\n",
       "      fill: #D2E3FC;\n",
       "    }\n",
       "\n",
       "    [theme=dark] .colab-df-convert:hover {\n",
       "      background-color: #434B5C;\n",
       "      box-shadow: 0px 1px 3px 1px rgba(0, 0, 0, 0.15);\n",
       "      filter: drop-shadow(0px 1px 2px rgba(0, 0, 0, 0.3));\n",
       "      fill: #FFFFFF;\n",
       "    }\n",
       "  </style>\n",
       "\n",
       "      <script>\n",
       "        const buttonEl =\n",
       "          document.querySelector('#df-c9ca2e2a-4cfb-4543-8596-75f0adc384fe button.colab-df-convert');\n",
       "        buttonEl.style.display =\n",
       "          google.colab.kernel.accessAllowed ? 'block' : 'none';\n",
       "\n",
       "        async function convertToInteractive(key) {\n",
       "          const element = document.querySelector('#df-c9ca2e2a-4cfb-4543-8596-75f0adc384fe');\n",
       "          const dataTable =\n",
       "            await google.colab.kernel.invokeFunction('convertToInteractive',\n",
       "                                                     [key], {});\n",
       "          if (!dataTable) return;\n",
       "\n",
       "          const docLinkHtml = 'Like what you see? Visit the ' +\n",
       "            '<a target=\"_blank\" href=https://colab.research.google.com/notebooks/data_table.ipynb>data table notebook</a>'\n",
       "            + ' to learn more about interactive tables.';\n",
       "          element.innerHTML = '';\n",
       "          dataTable['output_type'] = 'display_data';\n",
       "          await google.colab.output.renderOutput(dataTable, element);\n",
       "          const docLink = document.createElement('div');\n",
       "          docLink.innerHTML = docLinkHtml;\n",
       "          element.appendChild(docLink);\n",
       "        }\n",
       "      </script>\n",
       "    </div>\n",
       "  </div>\n",
       "  "
      ],
      "text/plain": [
       "                Age  frequency\n",
       "0     [0.420-6.542)         47\n",
       "1    [6.542-12.663)         22\n",
       "2   [12.663-18.785)         70\n",
       "3   [18.785-24.906)        139\n",
       "4   [24.906-31.028)        150\n",
       "5   [31.028-37.149)         98\n",
       "6   [37.149-43.271)         64\n",
       "7   [43.271-49.392)         50\n",
       "8   [49.392-55.514)         35\n",
       "9   [55.514-61.635)         20\n",
       "10  [61.635-67.757)         12\n",
       "11  [67.757-73.878)          5\n",
       "12  [73.878-80.000)          2"
      ]
     },
     "execution_count": 15,
     "metadata": {},
     "output_type": "execute_result"
    }
   ],
   "source": [
    "#ช่วงอายุ\n",
    "age_range=[]\n",
    "for i in range(len(bins)-1):\n",
    "    age_range.append(f\"[{bins[i]:.3f}-{bins[i+1]:.3f})\")\n",
    "\n",
    "#ตารางแจกแจงความถี่\n",
    "freq_tab = pd.DataFrame({\n",
    "    \"Age\":age_range,\n",
    "    \"frequency\":freq\n",
    "})\n",
    "\n",
    "freq_tab"
   ]
  },
  {
   "cell_type": "markdown",
   "id": "3bbb1e10-1454-4c5b-b6c0-37754c5eb94f",
   "metadata": {
    "id": "3bbb1e10-1454-4c5b-b6c0-37754c5eb94f"
   },
   "source": [
    "####   \n",
    "#### **ตัวอย่างการนำเสนอข้อมูล**"
   ]
  },
  {
   "cell_type": "markdown",
   "id": "cf0cc217-abd7-4a3a-8080-91c15611f5f4",
   "metadata": {
    "id": "cf0cc217-abd7-4a3a-8080-91c15611f5f4"
   },
   "source": [
    "\\\n",
    "แบ่งกลุ่มข้อมูลตามเพศ:"
   ]
  },
  {
   "cell_type": "code",
   "execution_count": null,
   "id": "61b6d0ef-2e09-42e5-a9ab-df422cb380ed",
   "metadata": {
    "colab": {
     "base_uri": "https://localhost:8080/"
    },
    "executionInfo": {
     "elapsed": 417,
     "status": "ok",
     "timestamp": 1670838012789,
     "user": {
      "displayName": "Thammakorn SAETHANG",
      "userId": "08182570455347153646"
     },
     "user_tz": -420
    },
    "id": "61b6d0ef-2e09-42e5-a9ab-df422cb380ed",
    "outputId": "7e7a6903-8a74-44d6-a125-d464d9c36de8"
   },
   "outputs": [
    {
     "data": {
      "text/plain": [
       "male      453\n",
       "female    261\n",
       "Name: Sex, dtype: int64"
      ]
     },
     "execution_count": 16,
     "metadata": {},
     "output_type": "execute_result"
    }
   ],
   "source": [
    "df.Sex.value_counts(dropna=False) \n",
    "# dropna=False หมายถึงหากมีข้อมูลที่เป็น null หรือ NaN (เรียกอีกอย่างว่า missing data) ให้แสดงด้วย\n",
    "# ซึ่งในที่นี้ไม่มี missing data"
   ]
  },
  {
   "cell_type": "markdown",
   "id": "c75a43e1-1ecb-4056-9773-9e647163e368",
   "metadata": {
    "id": "c75a43e1-1ecb-4056-9773-9e647163e368"
   },
   "source": [
    "\\\n",
    "แสดงข้อมูลเพศในรูปแบบกราฟแท่ง:"
   ]
  },
  {
   "cell_type": "code",
   "execution_count": null,
   "id": "0efa0947-9d43-442b-844d-69dd2391a787",
   "metadata": {
    "colab": {
     "base_uri": "https://localhost:8080/",
     "height": 296
    },
    "executionInfo": {
     "elapsed": 756,
     "status": "ok",
     "timestamp": 1670838041042,
     "user": {
      "displayName": "Thammakorn SAETHANG",
      "userId": "08182570455347153646"
     },
     "user_tz": -420
    },
    "id": "0efa0947-9d43-442b-844d-69dd2391a787",
    "outputId": "e1559c24-bce6-43b2-8a2a-fc3acc6f5a54"
   },
   "outputs": [
    {
     "data": {
      "text/plain": [
       "<matplotlib.axes._subplots.AxesSubplot at 0x7f700b7b5100>"
      ]
     },
     "execution_count": 17,
     "metadata": {},
     "output_type": "execute_result"
    },
    {
     "data": {
      "image/png": "[encoded data removed]",
      "text/plain": [
       "<Figure size 144x288 with 1 Axes>"
      ]
     },
     "metadata": {
      "needs_background": "light"
     },
     "output_type": "display_data"
    }
   ],
   "source": [
    "fig, axes = plt.subplots(figsize=(2,4))  #1 row, 2 columns\n",
    "sns.countplot(data=df,\n",
    "              x='Sex',\n",
    "            )"
   ]
  },
  {
   "cell_type": "markdown",
   "id": "0d0000ac-c21d-40c6-a856-66a5a3b2f11e",
   "metadata": {
    "id": "0d0000ac-c21d-40c6-a856-66a5a3b2f11e"
   },
   "source": [
    "\\\n",
    "แสดงข้อมูลเพศในรูปแบบแผนภาพวงกลม:"
   ]
  },
  {
   "cell_type": "code",
   "execution_count": null,
   "id": "89548bed-d7b8-4fb2-a199-75dfcbce9f43",
   "metadata": {
    "colab": {
     "base_uri": "https://localhost:8080/",
     "height": 352
    },
    "executionInfo": {
     "elapsed": 375,
     "status": "ok",
     "timestamp": 1670838201361,
     "user": {
      "displayName": "Thammakorn SAETHANG",
      "userId": "08182570455347153646"
     },
     "user_tz": -420
    },
    "id": "89548bed-d7b8-4fb2-a199-75dfcbce9f43",
    "outputId": "08eff9dc-035a-42b4-8d9e-90d9ac6fbcdd"
   },
   "outputs": [
    {
     "data": {
      "text/plain": [
       "([<matplotlib.patches.Wedge at 0x7f700ab10a00>,\n",
       "  <matplotlib.patches.Wedge at 0x7f700ab10eb0>],\n",
       " [Text(-0.4509447427781559, 1.0033189118922972, 'male'),\n",
       "  Text(0.49193971939435155, -1.0945297220643242, 'female')],\n",
       " [Text(-0.2459698596971759, 0.547264861032162, '63%'),\n",
       "  Text(0.2869648363133717, -0.6384756712041891, '37%')])"
      ]
     },
     "execution_count": 22,
     "metadata": {},
     "output_type": "execute_result"
    },
    {
     "data": {
      "image/png": "[encoded data removed]",
      "text/plain": [
       "<Figure size 432x288 with 1 Axes>"
      ]
     },
     "metadata": {},
     "output_type": "display_data"
    }
   ],
   "source": [
    "plt.pie(x=[453, 261],\n",
    "        labels=['male', 'female'],\n",
    "        autopct='%.0f%%',\n",
    "        explode=[0,0.1]\n",
    "        )"
   ]
  },
  {
   "cell_type": "markdown",
   "id": "0eb51c10-a7be-4362-8d83-b8828cf64f9a",
   "metadata": {
    "id": "0eb51c10-a7be-4362-8d83-b8828cf64f9a"
   },
   "source": [
    "\\\n",
    "ข้อมูลยอดขายผลิตภัณฑ์ของบริษัทแห่งหนึ่ง:"
   ]
  },
  {
   "cell_type": "code",
   "execution_count": null,
   "id": "0edc2417-0f9c-4a6b-9c86-45c174ebc89d",
   "metadata": {
    "colab": {
     "base_uri": "https://localhost:8080/",
     "height": 363
    },
    "executionInfo": {
     "elapsed": 315,
     "status": "ok",
     "timestamp": 1670838216771,
     "user": {
      "displayName": "Thammakorn SAETHANG",
      "userId": "08182570455347153646"
     },
     "user_tz": -420
    },
    "id": "0edc2417-0f9c-4a6b-9c86-45c174ebc89d",
    "outputId": "fe598e5c-2c72-4479-d76f-f38a5488f109"
   },
   "outputs": [
    {
     "data": {
      "text/html": [
       "\n",
       "  <div id=\"df-6cdd4229-2f34-4c72-bcd2-b1ba3a72975f\">\n",
       "    <div class=\"colab-df-container\">\n",
       "      <div>\n",
       "<style scoped>\n",
       "    .dataframe tbody tr th:only-of-type {\n",
       "        vertical-align: middle;\n",
       "    }\n",
       "\n",
       "    .dataframe tbody tr th {\n",
       "        vertical-align: top;\n",
       "    }\n",
       "\n",
       "    .dataframe thead th {\n",
       "        text-align: right;\n",
       "    }\n",
       "</style>\n",
       "<table border=\"1\" class=\"dataframe\">\n",
       "  <thead>\n",
       "    <tr style=\"text-align: right;\">\n",
       "      <th></th>\n",
       "      <th>Year</th>\n",
       "      <th>Month</th>\n",
       "      <th>Sales</th>\n",
       "    </tr>\n",
       "  </thead>\n",
       "  <tbody>\n",
       "    <tr>\n",
       "      <th>0</th>\n",
       "      <td>2021</td>\n",
       "      <td>Jan</td>\n",
       "      <td>15</td>\n",
       "    </tr>\n",
       "    <tr>\n",
       "      <th>1</th>\n",
       "      <td>2021</td>\n",
       "      <td>Feb</td>\n",
       "      <td>12</td>\n",
       "    </tr>\n",
       "    <tr>\n",
       "      <th>2</th>\n",
       "      <td>2021</td>\n",
       "      <td>Mar</td>\n",
       "      <td>17</td>\n",
       "    </tr>\n",
       "    <tr>\n",
       "      <th>3</th>\n",
       "      <td>2021</td>\n",
       "      <td>Apr</td>\n",
       "      <td>26</td>\n",
       "    </tr>\n",
       "    <tr>\n",
       "      <th>4</th>\n",
       "      <td>2021</td>\n",
       "      <td>May</td>\n",
       "      <td>35</td>\n",
       "    </tr>\n",
       "    <tr>\n",
       "      <th>5</th>\n",
       "      <td>2022</td>\n",
       "      <td>Jan</td>\n",
       "      <td>57</td>\n",
       "    </tr>\n",
       "    <tr>\n",
       "      <th>6</th>\n",
       "      <td>2022</td>\n",
       "      <td>Feb</td>\n",
       "      <td>45</td>\n",
       "    </tr>\n",
       "    <tr>\n",
       "      <th>7</th>\n",
       "      <td>2022</td>\n",
       "      <td>Mar</td>\n",
       "      <td>32</td>\n",
       "    </tr>\n",
       "    <tr>\n",
       "      <th>8</th>\n",
       "      <td>2022</td>\n",
       "      <td>Apr</td>\n",
       "      <td>24</td>\n",
       "    </tr>\n",
       "    <tr>\n",
       "      <th>9</th>\n",
       "      <td>2022</td>\n",
       "      <td>May</td>\n",
       "      <td>18</td>\n",
       "    </tr>\n",
       "  </tbody>\n",
       "</table>\n",
       "</div>\n",
       "      <button class=\"colab-df-convert\" onclick=\"convertToInteractive('df-6cdd4229-2f34-4c72-bcd2-b1ba3a72975f')\"\n",
       "              title=\"Convert this dataframe to an interactive table.\"\n",
       "              style=\"display:none;\">\n",
       "        \n",
       "  <svg xmlns=\"http://www.w3.org/2000/svg\" height=\"24px\"viewBox=\"0 0 24 24\"\n",
       "       width=\"24px\">\n",
       "    <path d=\"M0 0h24v24H0V0z\" fill=\"none\"/>\n",
       "    <path d=\"M18.56 5.44l.94 2.06.94-2.06 2.06-.94-2.06-.94-.94-2.06-.94 2.06-2.06.94zm-11 1L8.5 8.5l.94-2.06 2.06-.94-2.06-.94L8.5 2.5l-.94 2.06-2.06.94zm10 10l.94 2.06.94-2.06 2.06-.94-2.06-.94-.94-2.06-.94 2.06-2.06.94z\"/><path d=\"M17.41 7.96l-1.37-1.37c-.4-.4-.92-.59-1.43-.59-.52 0-1.04.2-1.43.59L10.3 9.45l-7.72 7.72c-.78.78-.78 2.05 0 2.83L4 21.41c.39.39.9.59 1.41.59.51 0 1.02-.2 1.41-.59l7.78-7.78 2.81-2.81c.8-.78.8-2.07 0-2.86zM5.41 20L4 18.59l7.72-7.72 1.47 1.35L5.41 20z\"/>\n",
       "  </svg>\n",
       "      </button>\n",
       "      \n",
       "  <style>\n",
       "    .colab-df-container {\n",
       "      display:flex;\n",
       "      flex-wrap:wrap;\n",
       "      gap: 12px;\n",
       "    }\n",
       "\n",
       "    .colab-df-convert {\n",
       "      background-color: #E8F0FE;\n",
       "      border: none;\n",
       "      border-radius: 50%;\n",
       "      cursor: pointer;\n",
       "      display: none;\n",
       "      fill: #1967D2;\n",
       "      height: 32px;\n",
       "      padding: 0 0 0 0;\n",
       "      width: 32px;\n",
       "    }\n",
       "\n",
       "    .colab-df-convert:hover {\n",
       "      background-color: #E2EBFA;\n",
       "      box-shadow: 0px 1px 2px rgba(60, 64, 67, 0.3), 0px 1px 3px 1px rgba(60, 64, 67, 0.15);\n",
       "      fill: #174EA6;\n",
       "    }\n",
       "\n",
       "    [theme=dark] .colab-df-convert {\n",
       "      background-color: #3B4455;\n",
       "      fill: #D2E3FC;\n",
       "    }\n",
       "\n",
       "    [theme=dark] .colab-df-convert:hover {\n",
       "      background-color: #434B5C;\n",
       "      box-shadow: 0px 1px 3px 1px rgba(0, 0, 0, 0.15);\n",
       "      filter: drop-shadow(0px 1px 2px rgba(0, 0, 0, 0.3));\n",
       "      fill: #FFFFFF;\n",
       "    }\n",
       "  </style>\n",
       "\n",
       "      <script>\n",
       "        const buttonEl =\n",
       "          document.querySelector('#df-6cdd4229-2f34-4c72-bcd2-b1ba3a72975f button.colab-df-convert');\n",
       "        buttonEl.style.display =\n",
       "          google.colab.kernel.accessAllowed ? 'block' : 'none';\n",
       "\n",
       "        async function convertToInteractive(key) {\n",
       "          const element = document.querySelector('#df-6cdd4229-2f34-4c72-bcd2-b1ba3a72975f');\n",
       "          const dataTable =\n",
       "            await google.colab.kernel.invokeFunction('convertToInteractive',\n",
       "                                                     [key], {});\n",
       "          if (!dataTable) return;\n",
       "\n",
       "          const docLinkHtml = 'Like what you see? Visit the ' +\n",
       "            '<a target=\"_blank\" href=https://colab.research.google.com/notebooks/data_table.ipynb>data table notebook</a>'\n",
       "            + ' to learn more about interactive tables.';\n",
       "          element.innerHTML = '';\n",
       "          dataTable['output_type'] = 'display_data';\n",
       "          await google.colab.output.renderOutput(dataTable, element);\n",
       "          const docLink = document.createElement('div');\n",
       "          docLink.innerHTML = docLinkHtml;\n",
       "          element.appendChild(docLink);\n",
       "        }\n",
       "      </script>\n",
       "    </div>\n",
       "  </div>\n",
       "  "
      ],
      "text/plain": [
       "   Year Month  Sales\n",
       "0  2021   Jan     15\n",
       "1  2021   Feb     12\n",
       "2  2021   Mar     17\n",
       "3  2021   Apr     26\n",
       "4  2021   May     35\n",
       "5  2022   Jan     57\n",
       "6  2022   Feb     45\n",
       "7  2022   Mar     32\n",
       "8  2022   Apr     24\n",
       "9  2022   May     18"
      ]
     },
     "execution_count": 23,
     "metadata": {},
     "output_type": "execute_result"
    }
   ],
   "source": [
    "sale = {}\n",
    "sale['Year'] = [2021, 2021, 2021, 2021, 2021, 2022, 2022, 2022, 2022, 2022]\n",
    "sale['Month'] = ['Jan', 'Feb', 'Mar', 'Apr', 'May', 'Jan', 'Feb', 'Mar', 'Apr', 'May']\n",
    "sale['Sales'] = [15, 12, 17, 26, 35, 57, 45, 32, 24, 18] \n",
    "df_sale = pd.DataFrame(sale)\n",
    "df_sale\n",
    "\n",
    "#สามารถเขียนได้อีกแบบคือ\n",
    "#df_sale = pd.DataFrame({\n",
    "#    'Year':[2021, 2021, 2021, 2021, 2021, 2022, 2022, 2022, 2022, 2022],\n",
    "#    'Month':['Jan', 'Feb', 'Mar', 'Apr', 'May', 'Jan', 'Feb', 'Mar', 'Apr', 'May'],\n",
    "#    'Sales':[15, 12, 17, 26, 35, 57, 45, 32, 24, 18] \n",
    "#})"
   ]
  },
  {
   "cell_type": "markdown",
   "id": "8f8fea01-ae8b-46e4-b1e6-3165875a51d6",
   "metadata": {
    "id": "8f8fea01-ae8b-46e4-b1e6-3165875a51d6"
   },
   "source": [
    "\\\n",
    "แสดงแผนภาพเชิงเส้นเดี่ยวของข้อมูลยอดขาย:"
   ]
  },
  {
   "cell_type": "code",
   "execution_count": null,
   "id": "a718c87f-b542-42cb-9877-b7a549f278b6",
   "metadata": {
    "colab": {
     "base_uri": "https://localhost:8080/",
     "height": 746
    },
    "executionInfo": {
     "elapsed": 1068,
     "status": "ok",
     "timestamp": 1670838290938,
     "user": {
      "displayName": "Thammakorn SAETHANG",
      "userId": "08182570455347153646"
     },
     "user_tz": -420
    },
    "id": "a718c87f-b542-42cb-9877-b7a549f278b6",
    "outputId": "d0532802-e6c7-457b-ec1e-a1053e0eac26"
   },
   "outputs": [
    {
     "data": {
      "text/plain": [
       "<seaborn.axisgrid.FacetGrid at 0x7f700aa4bcd0>"
      ]
     },
     "execution_count": 25,
     "metadata": {},
     "output_type": "execute_result"
    },
    {
     "data": {
      "image/png": "[encoded data removed]",
      "text/plain": [
       "<Figure size 360x720 with 2 Axes>"
      ]
     },
     "metadata": {
      "needs_background": "light"
     },
     "output_type": "display_data"
    }
   ],
   "source": [
    "sns.relplot(data=df_sale,\n",
    "            kind='line',\n",
    "            markers=True,\n",
    "            marker='o',\n",
    "            x='Month',\n",
    "            y='Sales',\n",
    "            row='Year')"
   ]
  },
  {
   "cell_type": "markdown",
   "id": "6d24d73f-4410-4fbb-9c60-abf79518048a",
   "metadata": {
    "id": "6d24d73f-4410-4fbb-9c60-abf79518048a"
   },
   "source": [
    "\\\n",
    "แสดงแผนภาพเชิงเส้นซ้อนของข้อมูลยอดขาย:"
   ]
  },
  {
   "cell_type": "code",
   "execution_count": null,
   "id": "abd1bed7-b789-4614-89e2-5cc764181360",
   "metadata": {
    "colab": {
     "base_uri": "https://localhost:8080/",
     "height": 296
    },
    "executionInfo": {
     "elapsed": 370,
     "status": "ok",
     "timestamp": 1670838380012,
     "user": {
      "displayName": "Thammakorn SAETHANG",
      "userId": "08182570455347153646"
     },
     "user_tz": -420
    },
    "id": "abd1bed7-b789-4614-89e2-5cc764181360",
    "outputId": "a839334a-4b67-4598-eece-cad7757bb747"
   },
   "outputs": [
    {
     "data": {
      "text/plain": [
       "<matplotlib.axes._subplots.AxesSubplot at 0x7f7008200ca0>"
      ]
     },
     "execution_count": 26,
     "metadata": {},
     "output_type": "execute_result"
    },
    {
     "data": {
      "image/png": "[encoded data removed]",
      "text/plain": [
       "<Figure size 432x288 with 1 Axes>"
      ]
     },
     "metadata": {
      "needs_background": "light"
     },
     "output_type": "display_data"
    }
   ],
   "source": [
    "sns.lineplot(data=df_sale,\n",
    "            markers=True,\n",
    "            marker='o',\n",
    "            x='Month',\n",
    "            y='Sales',\n",
    "            palette=['r', 'b'],\n",
    "            hue='Year')"
   ]
  },
  {
   "cell_type": "code",
   "execution_count": null,
   "id": "da7ac54d-ad37-4d80-838a-6820df4a6b86",
   "metadata": {
    "id": "da7ac54d-ad37-4d80-838a-6820df4a6b86"
   },
   "outputs": [],
   "source": []
  }
 ],
 "metadata": {
  "colab": {
   "provenance": []
  },
  "kernelspec": {
   "display_name": "Python 3 (ipykernel)",
   "language": "python",
   "name": "python3"
  },
  "language_info": {
   "codemirror_mode": {
    "name": "ipython",
    "version": 3
   },
   "file_extension": ".py",
   "mimetype": "text/x-python",
   "name": "python",
   "nbconvert_exporter": "python",
   "pygments_lexer": "ipython3",
   "version": "3.9.13"
  }
 },
 "nbformat": 4,
 "nbformat_minor": 5
}
